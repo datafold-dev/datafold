version https://git-lfs.github.com/spec/v1
oid sha256:14d13b62f71d2434e94b412f1adf54977f15106d1f7bf4ea3d4a1e6c82a3c1b8
size 3799296
