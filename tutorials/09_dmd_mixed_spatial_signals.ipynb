{
 "cells": [
  {
   "cell_type": "markdown",
   "metadata": {},
   "source": [
    "# Dynamic mode decomposition on two mixed spatial signals\n",
    "\n",
    "This tutorial was initially published ([source](https://github.com/dynamicslab/pykoopman/blob/master/docs/tutorial_dmd_separating_two_mixed_signals_400d_system.ipynb)) in the the [pykoopman](https://github.com/dynamicslab/pykoopman) project, which is MIT licensed. A copyright notice is available in datafold's [LICENSED_bundled]() file (see file or project for full license details). The notebook is adapted for datafold. \n",
    "\n",
    "We utilize dynamic mode decomposition (DMD) on a linear spatiotemporal system. This system is formed by combining two mixed spatiotemporal signals, as demonstrated in example 1.4 of\n",
    "\n",
    "> Kutz, J. Nathan, et al. Dynamic mode decomposition: data-driven modeling of complex systems. Society for Industrial and Applied Mathematics (SIAM), 2016.\n",
    "\n",
    "The system consists of two additive signals:\n",
    "\n",
    "$$f(x,t) = f_1(x,t) + f_2(x,t)$$\n",
    "\n",
    "with\n",
    "\n",
    "$$\n",
    "\\begin{aligned}\n",
    "    f_1(x,t) &= \\mathrm{sech}(x+3) e^{j2.3t},\\\\\n",
    "    f_2(x,t) &= 2\\,\\mathrm{sech}(x)\\,\\mathrm{tanh}(x) e^{j2.8t}.\n",
    "\\end{aligned}\n",
    "$$\n",
    "\n",
    "The two separate signals exhibit frequencies: $\\omega_1 = 2.3$ and $\\omega_2 = 2.8$, each possessing a unique spatial configuration."
   ]
  },
  {
   "cell_type": "markdown",
   "metadata": {
    "pycharm": {
     "name": "#%% md\n"
    }
   },
   "source": [
    "We import datafold's ``TSCDataFrame`` for a time series data structure and ``DMDStandard`` class for the DMD method. The other packages are required for plotting and matrix manipulation."
   ]
  },
  {
   "cell_type": "code",
   "execution_count": null,
   "metadata": {
    "pycharm": {
     "name": "#%%\n"
    }
   },
   "outputs": [],
   "source": [
    "%matplotlib inline\n",
    "import matplotlib.pyplot as plt\n",
    "import numpy as np\n",
    "from matplotlib import cm\n",
    "from mpl_toolkits.mplot3d import Axes3D  # noqa: F401\n",
    "\n",
    "from datafold import DMDStandard, TSCDataFrame"
   ]
  },
  {
   "cell_type": "markdown",
   "metadata": {
    "pycharm": {
     "name": "#%% md\n"
    }
   },
   "source": [
    "SPecify time and space discretization of the system"
   ]
  },
  {
   "cell_type": "code",
   "execution_count": null,
   "metadata": {
    "pycharm": {
     "name": "#%%\n"
    }
   },
   "outputs": [],
   "source": [
    "time_values = np.linspace(0, 4 * np.pi, 200)  # time array for solution\n",
    "dt = time_values[1] - time_values[0]  # delta time\n",
    "space_values = np.linspace(-10, 10, 400)\n",
    "[Xgrid, Tgrid] = np.meshgrid(space_values, time_values)"
   ]
  },
  {
   "cell_type": "markdown",
   "metadata": {
    "pycharm": {
     "name": "#%% md\n"
    }
   },
   "source": [
    "Define helper function, hyperbolic secant"
   ]
  },
  {
   "cell_type": "code",
   "execution_count": null,
   "metadata": {
    "pycharm": {
     "name": "#%%\n"
    }
   },
   "outputs": [],
   "source": [
    "def sech(x):\n",
    "    return 1.0 / np.cosh(x)"
   ]
  },
  {
   "cell_type": "markdown",
   "metadata": {
    "pycharm": {
     "name": "#%% md\n"
    }
   },
   "source": [
    "Generate the training data from the two spatiotemporal signals"
   ]
  },
  {
   "cell_type": "code",
   "execution_count": null,
   "metadata": {
    "pycharm": {
     "name": "#%%\n"
    }
   },
   "outputs": [],
   "source": [
    "omega1 = 2.3\n",
    "omega2 = 2.8\n",
    "f1 = np.multiply(sech(Xgrid + 3), np.exp(1j * omega1 * Tgrid))\n",
    "f2 = np.multiply(\n",
    "    np.multiply(sech(Xgrid), np.tanh(Xgrid)), 2 * np.exp(1j * omega2 * Tgrid)\n",
    ")\n",
    "f = TSCDataFrame.from_array(\n",
    "    f1 + f2,\n",
    "    time_values=time_values,\n",
    "    feature_names=[f\"x{i}\" for i in range(len(space_values))],\n",
    ")\n",
    "f"
   ]
  },
  {
   "cell_type": "code",
   "execution_count": null,
   "metadata": {},
   "outputs": [],
   "source": [
    "def plot_dynamics(space_grid, time_grid, f, fig=None, title=\"\", subplot=111):\n",
    "    if fig is None:\n",
    "        fig = plt.figure(figsize=(12, 4))\n",
    "\n",
    "    time_ticks = np.array([0, 1 * np.pi, 2 * np.pi, 3 * np.pi, 4 * np.pi])\n",
    "    time_labels = (\"0\", r\"$\\pi$\", r\"$2\\pi$\", r\"$3\\pi$\", r\"$4\\pi$\")\n",
    "\n",
    "    ax = fig.add_subplot(subplot, projection=\"3d\")\n",
    "    ax.plot_surface(space_grid, time_grid, f, rstride=1)\n",
    "    ax.contourf(space_grid, time_grid, f, zdir=\"z\", offset=-1.5, cmap=cm.ocean)\n",
    "    ax.set(\n",
    "        xlabel=r\"$x$\",\n",
    "        ylabel=r\"$t$\",\n",
    "        title=title,\n",
    "        yticks=time_ticks,\n",
    "        yticklabels=time_labels,\n",
    "        xlim=(-10, 10),\n",
    "        zlim=(-1.5, 1),\n",
    "    )\n",
    "    ax.autoscale(enable=True, axis=\"y\", tight=True)"
   ]
  },
  {
   "cell_type": "code",
   "execution_count": null,
   "metadata": {},
   "outputs": [],
   "source": [
    "fig = plt.figure(figsize=(12, 4))\n",
    "fig.suptitle(\"Spatiotemporal dynamics of mixed signal\")\n",
    "\n",
    "plot_dynamics(Xgrid, Tgrid, f1.real, fig=fig, title=r\"$f_1(x,t)$\", subplot=131)\n",
    "plot_dynamics(Xgrid, Tgrid, f2.real, fig=fig, title=r\"$f_2(x,t)$\", subplot=132)\n",
    "plot_dynamics(\n",
    "    Xgrid,\n",
    "    Tgrid,\n",
    "    f.to_numpy().real,\n",
    "    fig=fig,\n",
    "    title=r\"$f(x, t) = f_1(x,t) + f_2(x,t)$\",\n",
    "    subplot=133,\n",
    ")"
   ]
  },
  {
   "cell_type": "markdown",
   "metadata": {
    "pycharm": {
     "name": "#%% md\n"
    }
   },
   "source": [
    "Instantiate and fit DMD model on training data to approximate system from data."
   ]
  },
  {
   "cell_type": "code",
   "execution_count": null,
   "metadata": {
    "pycharm": {
     "name": "#%%\n"
    }
   },
   "outputs": [],
   "source": [
    "dmd = DMDStandard(rank=2)\n",
    "dmd.fit(f, store_system_matrix=True)"
   ]
  },
  {
   "cell_type": "code",
   "execution_count": null,
   "metadata": {
    "pycharm": {
     "name": "#%%\n"
    }
   },
   "outputs": [],
   "source": [
    "K = dmd.system_matrix_  # approximate Koopman operator\n",
    "\n",
    "# Ingestigate eigenvalues of the Koopman matrix\n",
    "evals, evecs = np.linalg.eig(K)\n",
    "# convert the eigenvalues of the discrete system to the continuous counterpart\n",
    "evals_cont = np.log(evals) / dt\n",
    "\n",
    "fig = plt.figure(figsize=(4, 4))\n",
    "ax = fig.add_subplot(111)\n",
    "ax.plot([0, 0], [omega1, omega2], \"rs\", label=\"true\", markersize=10)\n",
    "ax.plot(evals_cont.real, evals_cont.imag, \"bo\", label=\"estimated\", markersize=5)\n",
    "ax.grid()\n",
    "ax.set_xlim([-1, 1])\n",
    "ax.set_ylim([2, 3])\n",
    "plt.legend()\n",
    "plt.xlabel(r\"$Re(\\lambda)$\")\n",
    "plt.ylabel(r\"$Im(\\lambda)$\");"
   ]
  },
  {
   "cell_type": "markdown",
   "metadata": {},
   "source": [
    "Use the DMD model to reconstruct the training data, where the first sample is the initial condition:"
   ]
  },
  {
   "cell_type": "code",
   "execution_count": null,
   "metadata": {
    "pycharm": {
     "name": "#%%\n"
    }
   },
   "outputs": [],
   "source": [
    "f_predicted = dmd.reconstruct(f)\n",
    "\n",
    "fig = plt.figure(figsize=(8, 4))\n",
    "fig.suptitle(\"DMD simulation\")\n",
    "\n",
    "plot_dynamics(Xgrid, Tgrid, f.to_numpy().real, fig=fig, title=r\"$f(x, t)$\", subplot=121)\n",
    "plot_dynamics(\n",
    "    Xgrid, Tgrid, f_predicted.to_numpy().real, fig=fig, title=\"DMD\", subplot=122\n",
    ")"
   ]
  },
  {
   "cell_type": "code",
   "execution_count": null,
   "metadata": {},
   "outputs": [],
   "source": [
    "# mean absolute error\n",
    "mae_error = np.abs((f_predicted - f).to_numpy().real).mean(axis=1)\n",
    "\n",
    "fig, ax = plt.subplots(figsize=[5, 2.5])\n",
    "ax.set_xlabel(\"time\")\n",
    "ax.set_ylabel(\"error\")\n",
    "ax.grid()\n",
    "ax.plot(f_predicted.time_values(), mae_error, c=\"red\");"
   ]
  },
  {
   "cell_type": "markdown",
   "metadata": {},
   "source": [
    "We see that the reconstruction error for is fairly low (still within machine precision)."
   ]
  }
 ],
 "metadata": {
  "kernelspec": {
   "display_name": "Python 3 (ipykernel)",
   "language": "python",
   "name": "python3"
  },
  "language_info": {
   "codemirror_mode": {
    "name": "ipython",
    "version": 3
   },
   "file_extension": ".py",
   "mimetype": "text/x-python",
   "name": "python",
   "nbconvert_exporter": "python",
   "pygments_lexer": "ipython3",
   "version": "3.9.17"
  },
  "toc": {
   "base_numbering": 1,
   "nav_menu": {},
   "number_sections": true,
   "sideBar": true,
   "skip_h1_title": false,
   "title_cell": "Table of Contents",
   "title_sidebar": "Contents",
   "toc_cell": false,
   "toc_position": {},
   "toc_section_display": true,
   "toc_window_display": false
  }
 },
 "nbformat": 4,
 "nbformat_minor": 4
}
