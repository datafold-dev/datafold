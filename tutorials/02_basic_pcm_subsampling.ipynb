{
 "cells": [
  {
   "cell_type": "markdown",
   "metadata": {},
   "source": [
    "(Visit the\n",
    "[documentation](https://datafold-dev.gitlab.io/datafold/tutorial_index.html) page\n",
    "to view the executed notebook.)\n",
    "\n",
    "# Uniform subsampling of point cloud manifold\n",
    "\n",
    "In this tutorial, we use the `PCManifold` class to subsample a massive data set. We want to highlight a *datafold* method that subsamples the dataset such that we have a near-uniform distribution over the manifold. \n",
    "\n",
    "In contrast to randomly selected samples from the dataset, we aim to subsample the data such that it covers the manifold uniformly. That is we want to have similar sampling densities over the manifold (and boundaries) and therefore sample proportionally less in high-density regions and keep more samples in low-density regions. "
   ]
  },
  {
   "cell_type": "code",
   "execution_count": null,
   "metadata": {},
   "outputs": [],
   "source": [
    "import time\n",
    "\n",
    "import matplotlib.pyplot as plt\n",
    "import numpy as np\n",
    "\n",
    "import datafold.pcfold as pfold\n",
    "from datafold.utils.general import random_subsample"
   ]
  },
  {
   "cell_type": "markdown",
   "metadata": {},
   "source": [
    "## Create the dataset\n",
    "\n",
    "We create a dataset with 10 Mio. samples of 2-dim. points for visualization purposes. The generated dataset has regions of higher sampling density, which can be a property of a hidden system but could as well be an artefact of data collection or measurement.\n",
    "\n",
    "\n",
    "**NOTE:**\n",
    "\n",
    "The default value of 10 Mio. samples may be too much depending on the available RAM (we used a Laptop with 16 GiB RAM).\n"
   ]
  },
  {
   "cell_type": "code",
   "execution_count": null,
   "metadata": {},
   "outputs": [],
   "source": [
    "# create large data set with non-uniform sampling\n",
    "np.random.seed(5)\n",
    "n_pts = int(1e7)  # default 1e7\n",
    "\n",
    "data = np.random.rand(n_pts, 2)\n",
    "data[:, 0] = np.sin(4 * data[:, 0]) ** 2 / 5 + data[:, 0]\n",
    "data[:, 1] = np.cos(2 * data[:, 0]) ** 2 / 5 + data[:, 1]\n",
    "\n",
    "# plot\n",
    "plot_idx = np.random.permutation(n_pts)[0:5000]\n",
    "\n",
    "fig = plt.figure(figsize=(6, 6))\n",
    "plt.scatter(*data[plot_idx, :].T, s=1)\n",
    "plt.title(\"Full dataset, only showing %g points\" % (len(plot_idx)));"
   ]
  },
  {
   "cell_type": "markdown",
   "metadata": {},
   "source": [
    "## `PCManifold`: estimate parameters and subsample with `pcm_subsample`\n",
    "\n",
    "A uniform sampling density is a useful property for manifold learning algorithms that cannot \"correct\" the sampling density.  \n",
    "\n",
    "We first compute a cut-off estimate with `PCManifold.optimize_parameters`. Internally of `pcm_subsample`, the cut-off rate is used to compute the `min_distance = cut_off * 2` for the parameter `pcm_subsample`. In the first subsample we take `min_distance = cut_off * 10` because the number of points in the full sample is so large. \n",
    "\n",
    "In the following, we subsample the large dataset three times consecutively (subsample on the previous subsample)."
   ]
  },
  {
   "cell_type": "code",
   "execution_count": null,
   "metadata": {},
   "outputs": [],
   "source": [
    "t0 = time.time()\n",
    "pcm_original = pfold.PCManifold(data)\n",
    "# only use 10 samples to estimate scales, otherwise the memory requirements are too high\n",
    "pcm_original.optimize_parameters(n_subsample=10)\n",
    "min_distance = pcm_original.cut_off * 10\n",
    "print(\n",
    "    f\"optimize took {time.time()-t0:3f}s and is now using min_distance={min_distance:3f}\"\n",
    ")\n",
    "\n",
    "t0 = time.time()\n",
    "pcm_subsample, indices = pfold.pcm_subsample(pcm_original, min_distance=min_distance)\n",
    "print(\n",
    "    f\"first subsample took {time.time()-t0:3f}s and has \"\n",
    "    f\"n_samples={pcm_subsample.shape[0]} using min_distance={min_distance:3f}\"\n",
    ")\n",
    "\n",
    "# subsample on first subsample\n",
    "t0 = time.time()\n",
    "pcm_subsample.optimize_parameters(n_subsample=1000)\n",
    "pcm_sub2sample, indices = pfold.pcm_subsample(pcm_subsample)\n",
    "print(\n",
    "    f\"second subsample took {time.time()-t0:3f}s and has \"\n",
    "    f\"n_samples={pcm_sub2sample.shape[0]} with min_distance={pcm_subsample.cut_off * 2 :3f}\"\n",
    ")\n",
    "\n",
    "# subsample on second subsample\n",
    "t0 = time.time()\n",
    "pcm_sub2sample.optimize_parameters(n_subsample=1000)\n",
    "pcm_sub3sample, indices = pfold.pcm_subsample(pcm_sub2sample)\n",
    "print(\n",
    "    f\"third subsample took {time.time()-t0:3f}s and has\"\n",
    "    f\"n_samples={pcm_sub3sample.shape[0]} with min_distance={pcm_sub2sample.cut_off * 2 :3f}\"\n",
    ")"
   ]
  },
  {
   "cell_type": "markdown",
   "metadata": {},
   "source": [
    "### Plot subsampled point clouds"
   ]
  },
  {
   "cell_type": "code",
   "execution_count": null,
   "metadata": {},
   "outputs": [],
   "source": [
    "fig, ax = plt.subplots(1, 3, sharey=True, figsize=(16, 5))\n",
    "ax[0].scatter(*pcm_subsample.T, s=2)\n",
    "ax[0].set_title(\"#pts: %g\" % pcm_subsample.shape[0])\n",
    "\n",
    "ax[1].scatter(*pcm_sub2sample.T, s=2)\n",
    "ax[1].set_title(\"#pts: %g\" % pcm_sub2sample.shape[0])\n",
    "\n",
    "ax[2].scatter(*pcm_sub3sample.T, s=2)\n",
    "ax[2].set_title(\"#pts: %g\" % pcm_sub3sample.shape[0]);"
   ]
  },
  {
   "cell_type": "markdown",
   "metadata": {},
   "source": [
    "## Compare uniform to random subsampling\n",
    "\n",
    "We visually compare the manifold subsampling to the naive random subsampling. For this, we set the parameter `min_distance` directly which also controls the number of subsamples. \n",
    "\n",
    "From the plots, we can see that the random subsampling removes samples with the same probability, and therefore does not account for the sampling density in the dataset. Regions that are already sparse in the original dataset become even more sparse in the subsample. In contrast, for the uniform subsampling, the method keeps proportionally more samples in sparse regions than in dense sample regions. \n",
    "\n",
    "There is currently no direct control of how many points to subsample. Another disadvantage is that it is computationally costly, compared to the randomized subsampling (not optimizing the `cut_off` greatly improves the computation speed). "
   ]
  },
  {
   "cell_type": "code",
   "execution_count": null,
   "metadata": {
    "pycharm": {
     "name": "#%%\n"
    }
   },
   "outputs": [],
   "source": [
    "# Set \"min_distance\" directly to steer the number of points\n",
    "\n",
    "min_distance1 = 0.02\n",
    "min_distance2 = 0.01\n",
    "\n",
    "print(f\"min_distance={min_distance1}\")\n",
    "print(\"----------------------------\")\n",
    "t0 = time.time()\n",
    "pcm_dist1, indices1 = pfold.pcm_subsample(pcm_original, min_distance=min_distance1)\n",
    "print(f\"manifold subsampling took {time.time() - t0} s\")\n",
    "\n",
    "t0 = time.time()\n",
    "pcm_random1, indices_random1 = random_subsample(pcm_original, n_samples=len(indices1))\n",
    "print(f\"random subsampling took {time.time() - t0} s\")\n",
    "\n",
    "# Decrease \"min_distance\" to obtain a larger subsample set\n",
    "print(\"\")\n",
    "print(f\"min_distance={min_distance2}\")\n",
    "print(\"----------------------------\")\n",
    "\n",
    "t0 = time.time()\n",
    "pcm_dist2, indices2 = pfold.pcm_subsample(pcm_original, min_distance=min_distance2)\n",
    "print(\n",
    "    f\"manifold subsampling with min_distance={min_distance2} took {time.time() - t0} s\"\n",
    ")\n",
    "\n",
    "t0 = time.time()\n",
    "pcm_random2, indices_random2 = random_subsample(pcm_original, n_samples=len(indices2))\n",
    "print(f\"random subsampling took {time.time() - t0} s\")\n",
    "\n",
    "fig, ax = plt.subplots(2, 3, figsize=(16, 10))\n",
    "\n",
    "# first plot row\n",
    "ax[0][0].scatter(*data[plot_idx, :].T, s=1)\n",
    "ax[0][0].set_title(\n",
    "    f\"original dataset (#pts: {data.shape[0]}) (showing {len(plot_idx)} pts)\"\n",
    ")\n",
    "\n",
    "ax[0][1].scatter(*pcm_random1.T, s=1)\n",
    "ax[0][1].set_title(f\"#pts: {pcm_random1.shape[0]}, randomized subsample\")\n",
    "\n",
    "ax[0][2].scatter(*pcm_dist1.T, s=1)\n",
    "ax[0][2].set_title(\n",
    "    f\"#pts: {pcm_dist1.shape[0]}, iterative manifold subsample \\n (min_distance={min_distance1})\"\n",
    ")\n",
    "\n",
    "# second plot row\n",
    "ax[1][0].scatter(*data[plot_idx, :].T, s=1)\n",
    "ax[1][0].set_title(\n",
    "    f\"original dataset (#pts: {data.shape[0]}), (showing {len(plot_idx)})\"\n",
    ")\n",
    "\n",
    "ax[1][1].scatter(*pcm_random2.T, s=1)\n",
    "ax[1][1].set_title(f\"#pts: {pcm_random2.shape[0]}, randomized subsample\")\n",
    "\n",
    "ax[1][2].scatter(*pcm_dist2.T, s=1)\n",
    "ax[1][2].set_title(\n",
    "    f\"#pts: {pcm_dist2.shape[0]}, iterative manifold subsample \\n (min_distance={min_distance2})\"\n",
    ");"
   ]
  },
  {
   "cell_type": "code",
   "execution_count": null,
   "metadata": {},
   "outputs": [],
   "source": []
  }
 ],
 "metadata": {
  "kernelspec": {
   "display_name": "Python 3",
   "language": "python",
   "name": "python3"
  },
  "language_info": {
   "codemirror_mode": {
    "name": "ipython",
    "version": 3
   },
   "file_extension": ".py",
   "mimetype": "text/x-python",
   "name": "python",
   "nbconvert_exporter": "python",
   "pygments_lexer": "ipython3",
   "version": "3.7.9"
  }
 },
 "nbformat": 4,
 "nbformat_minor": 4
}
