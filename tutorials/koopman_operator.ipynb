{
 "cells": [
  {
   "cell_type": "code",
   "execution_count": null,
   "metadata": {},
   "outputs": [],
   "source": [
    "# import all necessary packages\n",
    "import numpy as np\n",
    "\n",
    "import matplotlib.pyplot as plt\n",
    "import mpl_toolkits.mplot3d.axes3d as p3\n",
    "%matplotlib inline\n",
    "\n",
    "import scipy.linalg\n",
    "\n",
    "from paths import add_paths_to_sys\n",
    "add_paths_to_sys()\n",
    "\n",
    "import datafold.pcfold as pfold\n",
    "import datafold.dynfold as dfold\n"
   ]
  },
  {
   "cell_type": "markdown",
   "metadata": {},
   "source": [
    "# PCMKoopman\n",
    "\n",
    "Demonstrates how to use the PCMKoopman class."
   ]
  },
  {
   "cell_type": "code",
   "execution_count": null,
   "metadata": {},
   "outputs": [],
   "source": [
    "# setup the example\n",
    "\n",
    "np.random.seed(2)\n",
    "\n",
    "n_pts = 1000\n",
    "n_centers = 150\n",
    "\n",
    "# create random contraction\n",
    "A = np.random.randn(2, 2)\n",
    "A = A @ A.T\n",
    "u, _, v = np.linalg.svd(A)\n",
    "A = u @ (np.diag([.7, .5])) @ v.T\n",
    "\n",
    "print(np.linalg.eigvals(A))\n",
    "A = scipy.linalg.fractional_matrix_power(A, .25)\n",
    "print(A)\n",
    "\n",
    "base_data = 1.2 * (np.random.rand(n_centers, 2) - .5)\n",
    "x_data = np.random.rand(n_pts, 2) - .5\n",
    "y_data = x_data @ A\n",
    "\n",
    "fig, ax = plt.subplots(1, 1, figsize=(15, 15))\n",
    "ax = [ax]\n",
    "ax[0].scatter(*x_data.T, s=1, c='black')\n",
    "ax[0].scatter(*y_data.T, s=1, c='red')\n",
    "ax[0].scatter(*base_data.T, s=10, c='green')"
   ]
  },
  {
   "cell_type": "code",
   "execution_count": null,
   "metadata": {},
   "outputs": [],
   "source": [
    "# setup the manifold\n",
    "\n",
    "pcm = pfold.PCManifold(base_data, dist_backend=\"scipy.kdtree\")\n",
    "pcm.optimize_parameters(result_scaling=3)\n",
    "\n",
    "# this is to align to previous results which uses another equation for the Gaussian kernel\n",
    "pcm.kernel.epsilon = 0.5 * pcm.kernel.epsilon**2\n",
    "\n",
    "# construct the operator\n",
    "pcm_edmd = dfold.PCMKoopman(pcm)\n",
    "pcm_edmd.build(x_data, y_data, regularizer_strength=1e-6)"
   ]
  },
  {
   "cell_type": "code",
   "execution_count": null,
   "metadata": {},
   "outputs": [],
   "source": [
    "# try prediction\n",
    "np.random.seed(1)\n",
    "x_c = (np.random.rand(n_pts, 2) - .5) / 1.5\n",
    "x_t = []\n",
    "x_t_true = x_c\n",
    "NT = 15\n",
    "\n",
    "fig, ax = plt.subplots(1, NT, figsize=(12, 3), sharex=True, sharey=True)\n",
    "x_t = pcm_edmd.predict(x_c, NT=NT)\n",
    "\n",
    "print(x_t[0].shape)\n",
    "for k in range(NT):\n",
    "    ax[k].scatter(*x_t_true.T, s=3, c='black')\n",
    "    ax[k].scatter(*x_t[(k * 1) % len(x_t)].T, s=.5, c='red')\n",
    "\n",
    "    x_t_true = x_t_true @ A\n",
    "\n",
    "ax[0].scatter(*x_t[0].T, s=1, c='black')"
   ]
  },
  {
   "cell_type": "code",
   "execution_count": null,
   "metadata": {},
   "outputs": [],
   "source": []
  },
  {
   "cell_type": "code",
   "execution_count": null,
   "metadata": {},
   "outputs": [],
   "source": []
  }
 ],
 "metadata": {
  "kernelspec": {
   "display_name": "Python 3",
   "language": "python",
   "name": "python3"
  },
  "language_info": {
   "codemirror_mode": {
    "name": "ipython",
    "version": 3
   },
   "file_extension": ".py",
   "mimetype": "text/x-python",
   "name": "python",
   "nbconvert_exporter": "python",
   "pygments_lexer": "ipython3",
   "version": "3.6.5"
  }
 },
 "nbformat": 4,
 "nbformat_minor": 2
}
