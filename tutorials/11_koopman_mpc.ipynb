{
 "cells": [
  {
   "cell_type": "markdown",
   "id": "0284aad7",
   "metadata": {
    "pycharm": {
     "name": "#%% md\n"
    }
   },
   "source": [
    "(Visit the\n",
    "[documentation](https://datafold-dev.gitlab.io/datafold/tutorial_index.html) page\n",
    "to view the executed notebook.)\n",
    "\n",
    "# Model predictive control: Inverted pendulum\n",
    "In this tutorial we introduce the usage of the Dynamic Mode Decomposition (DMD) method with controlled systems. Furthermore, we demonstrate how the Extended-DMD can be used within model predictive control."
   ]
  },
  {
   "cell_type": "code",
   "execution_count": null,
   "id": "e3f465f6",
   "metadata": {
    "pycharm": {
     "name": "#%%\n"
    }
   },
   "outputs": [],
   "source": [
    "import matplotlib.pyplot as plt\n",
    "import numpy as np\n",
    "import pandas as pd\n",
    "from scipy.interpolate import interp1d"
   ]
  },
  {
   "cell_type": "code",
   "execution_count": null,
   "id": "307120ff",
   "metadata": {
    "pycharm": {
     "name": "#%%\n"
    }
   },
   "outputs": [],
   "source": [
    "from datafold import (\n",
    "    EDMD,\n",
    "    DMDControl,\n",
    "    InverseQuadraticKernel,\n",
    "    TSCDataFrame,\n",
    "    TSCIdentity,\n",
    "    TSCRadialBasis,\n",
    ")\n",
    "from datafold.appfold.kmpc import AffineKgMPC, LinearKMPC\n",
    "from datafold.utils._systems import InvertedPendulum"
   ]
  },
  {
   "cell_type": "markdown",
   "id": "ac5b0931",
   "metadata": {
    "pycharm": {
     "name": "#%% md\n"
    }
   },
   "source": [
    "## Data generation\n",
    "\n",
    "### Inverted pendulum physics\n",
    "A test model implemented in datafold is used to generate example data in this tutorial. A pendulum and a moving cart are connected by a swivel, which allows the pendulum to freely rotate. The cart wheels spin on a rail, and the entire system is powered by a DC motor. The displacement of the cart $x$ and the angular rotation of the pendulum $\\theta$ describe the movement of the pendulum (note that the time derivatives, $\\dot x$ and $\\dot \\theta$, are also needed to describe the full state), and the voltage to the motor $u$ can be controlled.\n",
    "\n",
    "### Creating the training set\n",
    "The training set will consists of 20 different trajectories of 10 seconds each, discretized at 0.01 s time steps. The initial conditions of all trajectories is the same, and the control input is a sinusoidal signal of varying amplitude, frequency and phase. The 20 timeseries are concatenated into datafold's data structure for handling time series collections, `TSCDataFrame`."
   ]
  },
  {
   "cell_type": "code",
   "execution_count": null,
   "id": "b19e42fb",
   "metadata": {
    "pycharm": {
     "name": "#%%\n"
    }
   },
   "outputs": [],
   "source": [
    "# Data generation parameters\n",
    "training_size = 20\n",
    "time_values = np.arange(0, 10 + 1e-15, 0.01)\n",
    "\n",
    "# Sample from a single initial condition (but use randomly sampled control signals below)\n",
    "ic = np.array([0, 0, 0, 0])"
   ]
  },
  {
   "cell_type": "code",
   "execution_count": null,
   "id": "064d2901",
   "metadata": {
    "pycharm": {
     "name": "#%%\n"
    }
   },
   "outputs": [],
   "source": [
    "X_tsc, U_tsc = [], []  # lists to collect sampled time series\n",
    "\n",
    "rng = np.random.default_rng(1)  # seed to repeat evaluation\n",
    "\n",
    "for i in range(training_size):\n",
    "    control_amplitude = 0.1 + 0.9 * rng.uniform(0, 1)\n",
    "    control_frequency = np.pi + 2 * np.pi * rng.uniform(0, 1)\n",
    "    control_phase = 2 * np.pi * rng.uniform(0, 1)\n",
    "    Ufunc = lambda t, y: control_amplitude * np.sin(\n",
    "        control_frequency * t + control_phase\n",
    "    )\n",
    "\n",
    "    invertedPendulum = InvertedPendulum()\n",
    "\n",
    "    # X are the states and U is the control input acting on the state's evolution\n",
    "    X, U = invertedPendulum.predict(\n",
    "        X=ic,\n",
    "        Ufunc=Ufunc,\n",
    "        time_values=time_values,\n",
    "    )\n",
    "\n",
    "    X_tsc.append(X)\n",
    "    U_tsc.append(U)\n",
    "\n",
    "\n",
    "# Turn lists into time series collection data structure\n",
    "X_tsc = TSCDataFrame.from_frame_list(X_tsc)\n",
    "U_tsc = TSCDataFrame.from_frame_list(U_tsc);"
   ]
  },
  {
   "cell_type": "markdown",
   "id": "3e3728b2",
   "metadata": {},
   "source": [
    "We can look at the sampled time series data (`X_tsc`) on the state space and the control (`U_tsc`) that acted on the system evolution."
   ]
  },
  {
   "cell_type": "code",
   "execution_count": null,
   "id": "9a18507f",
   "metadata": {},
   "outputs": [],
   "source": [
    "plt.figure(figsize=(16, 7))\n",
    "\n",
    "plt.subplot(211)\n",
    "plt.title(\n",
    "    r\"Training data - cart position $\\theta$ $\\mathbf{x}$ (each time series is separated by verical lines)\"\n",
    ")\n",
    "plt.plot(X_tsc[\"x\"].to_numpy())\n",
    "[plt.axvline(i, c=\"black\") for i in np.arange(0, X_tsc.shape[0], X_tsc.n_timesteps)]\n",
    "plt.xticks([])\n",
    "\n",
    "\n",
    "plt.subplot(212)\n",
    "plt.title(\n",
    "    r\"Training data - control voltage $\\mathbf{u}$ (each time series is separated by verical lines)\"\n",
    ")\n",
    "plt.plot(U_tsc[\"u\"].to_numpy())\n",
    "[plt.axvline(i, c=\"black\") for i in np.arange(0, U_tsc.shape[0], U_tsc.n_timesteps)]\n",
    "plt.xticks([]);"
   ]
  },
  {
   "cell_type": "markdown",
   "id": "bbe7c506",
   "metadata": {},
   "source": [
    "We store the last time series as a system reference to use throughout the tutorial. We first look at a snapthot of the numeric values in the data frames of `X_tsc` and `U_tsc`."
   ]
  },
  {
   "cell_type": "code",
   "execution_count": null,
   "id": "046e1c1a",
   "metadata": {},
   "outputs": [],
   "source": [
    "X_last = X_tsc.loc[[19], :]\n",
    "U_last = U_tsc.loc[[19], :]\n",
    "\n",
    "X_last"
   ]
  },
  {
   "cell_type": "code",
   "execution_count": null,
   "id": "db255348",
   "metadata": {},
   "outputs": [],
   "source": [
    "U_tsc"
   ]
  },
  {
   "cell_type": "markdown",
   "id": "7fdc6909",
   "metadata": {
    "pycharm": {
     "name": "#%% md\n"
    }
   },
   "source": [
    "## Identifying the pendulum system \n",
    "\n",
    "### Dynamic mode decomposition with contol\n",
    "In this first part we demonstrate how to use the `DMDControl` class to create a predictor based on the dynamic mode decomposition for controlled systems using the generated data from the inverted pendulum.\n",
    "\n",
    "In datafold the `DMDControl` class uses the `TSCPredictMixin` and is therefore provides a `scikit-learn` estimator-style interface (generalized for time series predictions and control input). After the model is initialized, we can use the `.fit` method to train the model, using the time series collection data structure (`TSCDataFrame`). Internally, the `DMDControl` computes two matrices $A$ and $B$, which best satisfy $\\mathbf{x}_{k+1} = A\\mathbf{x}_k + B\\mathbf{u}_k$ ($\\mathbf{x}$ refering to the state vector of the system and $\\mathbf{u}$ to the control input). The model assumes that the system is linear both in the state and control input.  "
   ]
  },
  {
   "cell_type": "code",
   "execution_count": null,
   "id": "d9ebeec4",
   "metadata": {
    "pycharm": {
     "name": "#%%\n"
    }
   },
   "outputs": [],
   "source": [
    "dmdc = DMDControl()\n",
    "dmdc.fit(X_tsc, U=U_tsc);"
   ]
  },
  {
   "cell_type": "code",
   "execution_count": null,
   "id": "f51298f7",
   "metadata": {},
   "outputs": [],
   "source": [
    "plt.figure(figsize=(10, 4))\n",
    "plt.subplot(121)\n",
    "plt.title(\"state matrix $A$\")\n",
    "plt.imshow(dmdc.sys_matrix_)\n",
    "plt.colorbar()\n",
    "\n",
    "plt.subplot(122)\n",
    "plt.title(\"control matrix $B$\")\n",
    "plt.imshow(dmdc.control_matrix_)\n",
    "plt.colorbar();"
   ]
  },
  {
   "cell_type": "markdown",
   "id": "4978ffcf",
   "metadata": {
    "pycharm": {
     "name": "#%% md\n"
    }
   },
   "source": [
    "The `.predict` method can be used to estimate the trajectory of the system state, given an initial condition and the control input over the prediction horizon."
   ]
  },
  {
   "cell_type": "code",
   "execution_count": null,
   "id": "9d79b831",
   "metadata": {
    "pycharm": {
     "name": "#%%\n"
    }
   },
   "outputs": [],
   "source": [
    "prediction = dmdc.predict(ic, U=U_last)"
   ]
  },
  {
   "cell_type": "code",
   "execution_count": null,
   "id": "af130c27",
   "metadata": {
    "pycharm": {
     "name": "#%%\n"
    }
   },
   "outputs": [],
   "source": [
    "plt.figure(figsize=(16, 3))\n",
    "\n",
    "plt.subplot(121)\n",
    "plt.title(r\"Linear DMD prediction - cart position $x$\")\n",
    "plt.plot(time_values, prediction[\"x\"].to_numpy(), label=\"prediction\")\n",
    "plt.plot(time_values, X[\"x\"].to_numpy(), label=\"actual\")\n",
    "plt.legend()\n",
    "\n",
    "plt.subplot(122)\n",
    "plt.title(r\"EDMD(100 random rbf) prediction - pendulum angle $\\theta$\")\n",
    "plt.plot(time_values, prediction[\"theta\"].to_numpy(), label=\"prediction\")\n",
    "plt.plot(time_values, X_last[\"theta\"].to_numpy(), label=\"actual\")\n",
    "plt.legend();"
   ]
  },
  {
   "cell_type": "markdown",
   "id": "a7ad6ba6",
   "metadata": {
    "pycharm": {
     "name": "#%% md\n"
    }
   },
   "source": [
    "### Using DMDControl within the Extended Dynamic Mode Decomposition (EDMD) model framework\n",
    "\n",
    "A `EDMD` class has two main arguments\n",
    "\n",
    "* `dict_steps` (dictionary): corresponding to a set of functions with the goal to approximately linearize the system dynamics\n",
    "* `dmd_model` (final estimator): corresponding to a DMD model to performs a linear system identification in the lifted space\n",
    "\n",
    "(see also the dedicated `EDMD` tutorial)\n",
    "\n",
    "For the `dict_steps` we use a dictionary of 100 randomly selected radial basis functions (RBF) specified with an inverse quadratic kernel. The functions are centered at random positions on the state space. \n",
    "\n",
    "For the `dmd_model` parameter, we can set a DMD variant that supports control input (such as `DMDControl`). Essentially, this makes the `EDMD` model to also support controlled systems.\n",
    "\n",
    "\n",
    "#### Select RBF centers"
   ]
  },
  {
   "cell_type": "code",
   "execution_count": null,
   "id": "a56bb145",
   "metadata": {
    "pycharm": {
     "name": "#%%\n"
    }
   },
   "outputs": [],
   "source": [
    "n_rbf_centers = 100\n",
    "eps = 1\n",
    "\n",
    "rbf = TSCRadialBasis(\n",
    "    kernel=InverseQuadraticKernel(epsilon=eps), center_type=\"fit_params\"\n",
    ")\n",
    "center_ids = sorted(\n",
    "    np.random.choice(range(0, 1000 * training_size), size=n_rbf_centers, replace=False)\n",
    ")\n",
    "centers = X_tsc.iloc[center_ids].to_numpy()"
   ]
  },
  {
   "cell_type": "markdown",
   "id": "a9427767",
   "metadata": {},
   "source": [
    "#### Setting up `EDMD` with radial basis function dictionary and `DMDControl`\n",
    "\n",
    "We can now set up and train the `EDMD` model. \n",
    "\n",
    "Note that using `TSCRadialBasis` transformer with `center_type='fit_params'` requires passing the `centers` parameter to the `.fit` method of transformer using the `fit_params` as detailed in the documentation."
   ]
  },
  {
   "cell_type": "code",
   "execution_count": null,
   "id": "5a17d928",
   "metadata": {
    "pycharm": {
     "name": "#%%\n"
    }
   },
   "outputs": [],
   "source": [
    "edmdrbf = EDMD(dict_steps=[(\"rbf\", rbf)], dmd_model=DMDControl(), include_id_state=True)\n",
    "\n",
    "edmdrbf.fit(\n",
    "    X_tsc,\n",
    "    U=U_tsc,\n",
    "    rbf__centers=centers,\n",
    ")\n",
    "\n",
    "rbfprediction = edmdrbf.predict(ic, U=U_last)"
   ]
  },
  {
   "cell_type": "code",
   "execution_count": null,
   "id": "862d49e3",
   "metadata": {},
   "outputs": [],
   "source": [
    "plt.figure(figsize=(16, 3))\n",
    "plt.subplot(121)\n",
    "plt.title(r\"EDMD(100 random rbf) prediction - cart position $x$\")\n",
    "plt.plot(time_values, rbfprediction[\"x\"].to_numpy(), label=\"prediction\")\n",
    "plt.plot(time_values, X_last[\"x\"].to_numpy(), label=\"actual\")\n",
    "plt.legend()\n",
    "\n",
    "plt.subplot(122)\n",
    "plt.title(r\"EDMD(100 random rbf) prediction - pendulum angle $\\theta$\")\n",
    "plt.plot(time_values, rbfprediction[\"theta\"].to_numpy(), label=\"prediction\")\n",
    "plt.plot(time_values, X_last[\"theta\"].to_numpy(), label=\"actual\")\n",
    "plt.legend();"
   ]
  },
  {
   "cell_type": "markdown",
   "id": "c8b2fd2a",
   "metadata": {
    "pycharm": {
     "name": "#%% md\n"
    }
   },
   "source": [
    "In the figure above we can see the the EDMD using the linear DMD estimator predicts the displacement even better than the DMD, but the prediction for $\\theta$ is good only on a short time scale."
   ]
  },
  {
   "cell_type": "markdown",
   "id": "92e7e73e",
   "metadata": {
    "pycharm": {
     "name": "#%% md\n"
    }
   },
   "source": [
    "## Koopman Model Predictive Control\n",
    "\n",
    "Model Predictive Control (MPC) is a method for estimating a control signal to provide to a system to achieve certain behaviour in the future. \n",
    "\n",
    "An important parameter for MPC is the prediction horizon, which denotes how far in the future is the control signal computed. Here we set it to 100 timesteps (corresponding to one second). The optimality of the signal is computed using a cost function of the referenced states (`qois`) and the control signal itself. Here we provide both $\\mathbf{x}$ and $\\theta$ as referenced states, but set the running cost weight of $\\theta$ to 0 to showcase the functionality of the interface. Additionaly, the cost function enables penalizing control inputs. To match the test data as well as possible, this is set to a small value.\n",
    "\n",
    "#### Linear MPC\n",
    "Here we show an implementation of a Koopman MPC (KMPC) where the model part is based on the Koopman operator. The `LinearKMPC` class implements such a controller based on `EDMD` (as used above with `dmd_model=DMDControl()`). The key benefit is that the model is a linear system in the lifted space and the optimal control can be directly computed using a quadratic programming optimizer."
   ]
  },
  {
   "cell_type": "code",
   "execution_count": null,
   "id": "3ef94baa",
   "metadata": {
    "pycharm": {
     "name": "#%%\n"
    }
   },
   "outputs": [],
   "source": [
    "horizon = 100  # in time steps\n",
    "\n",
    "kmpc = LinearKMPC(\n",
    "    predictor=edmdrbf,\n",
    "    horizon=horizon,\n",
    "    state_bounds=np.array([[1, -1], [6.28, 0]]),\n",
    "    input_bounds=np.array([[5, -5]]),\n",
    "    qois=[\"x\", \"theta\"],\n",
    "    cost_running=np.array([100, 0]),\n",
    "    cost_terminal=1,\n",
    "    cost_input=0.001,\n",
    ")"
   ]
  },
  {
   "cell_type": "markdown",
   "id": "16a39ab8",
   "metadata": {
    "pycharm": {
     "name": "#%% md\n"
    }
   },
   "source": [
    "To generate the control signal, a full initial state is required, in addition to a reference to track. Here we use a reference produced by a known control signal in the training data, to be able to later compare it to the optimal control signal computed by the controller."
   ]
  },
  {
   "cell_type": "code",
   "execution_count": null,
   "id": "a72f99f3",
   "metadata": {
    "pycharm": {
     "name": "#%%\n"
    }
   },
   "outputs": [],
   "source": [
    "reference = X_last[[\"x\", \"theta\"]].iloc[: horizon + 1]\n",
    "ukmpc = kmpc.generate_control_signal(rbfprediction.initial_states(), reference)"
   ]
  },
  {
   "cell_type": "markdown",
   "id": "24684297",
   "metadata": {
    "pycharm": {
     "name": "#%% md\n"
    }
   },
   "source": [
    "Furthermore, we compute what trajectory the model has predicted based on the control signal computed by the controller and what is the real response of the system."
   ]
  },
  {
   "cell_type": "code",
   "execution_count": null,
   "id": "a04bb969",
   "metadata": {
    "pycharm": {
     "name": "#%%\n"
    }
   },
   "outputs": [],
   "source": [
    "kmpcpred = edmdrbf.predict(rbfprediction.initial_states(), U=ukmpc)\n",
    "\n",
    "ukmpc_interp = interp1d(\n",
    "    rbfprediction.time_values()[:horizon],\n",
    "    ukmpc,\n",
    "    axis=0,\n",
    "    fill_value=0,\n",
    "    bounds_error=False,\n",
    ")\n",
    "\n",
    "ukmpc_func = lambda t, y: ukmpc_interp(t).T\n",
    "kmpctraj, _ = invertedPendulum.predict(\n",
    "    X=ic,\n",
    "    Ufunc=ukmpc_func,\n",
    "    time_values=time_values,\n",
    ")\n",
    "\n",
    "kmpctraj"
   ]
  },
  {
   "cell_type": "markdown",
   "id": "7149ef69",
   "metadata": {
    "pycharm": {
     "name": "#%% md\n"
    }
   },
   "source": [
    "We now plot the data that we obtained from the `KoopmanMPC` class and compare the predicted trajectories for both position $x$ and angle $\\theta$. In addition, we also compare the estimated control signal from the `KoopmanMPC` class and compare it with the the reference control signal above."
   ]
  },
  {
   "cell_type": "code",
   "execution_count": null,
   "id": "0d3e5483",
   "metadata": {
    "pycharm": {
     "name": "#%%\n"
    }
   },
   "outputs": [],
   "source": [
    "plt.figure(figsize=(16, 3.5))\n",
    "\n",
    "plt.subplot(131)\n",
    "plt.title(r\"Comparison : Cart Position $x$\")\n",
    "plt.plot(\n",
    "    time_values[: horizon + 1], X_last[\"x\"].to_numpy()[: horizon + 1], label=\"reference\"\n",
    ")\n",
    "plt.plot(\n",
    "    time_values[: horizon + 1],\n",
    "    kmpcpred[\"x\"].to_numpy()[: horizon + 1],\n",
    "    label=\"prediction\",\n",
    ")\n",
    "plt.plot(\n",
    "    time_values[: horizon + 1], kmpctraj[\"x\"].to_numpy()[: horizon + 1], label=\"actual\"\n",
    ")\n",
    "plt.legend()\n",
    "\n",
    "plt.subplot(132)\n",
    "plt.title(r\"Comparison : Pendulum Angle $\\theta$\")\n",
    "plt.plot(\n",
    "    time_values[: horizon + 1],\n",
    "    X_last[\"theta\"].to_numpy()[: horizon + 1],\n",
    "    label=\"reference\",\n",
    ")\n",
    "plt.plot(\n",
    "    time_values[: horizon + 1],\n",
    "    kmpcpred[\"theta\"].to_numpy()[: horizon + 1],\n",
    "    label=\"prediction\",\n",
    ")\n",
    "plt.plot(\n",
    "    time_values[: horizon + 1],\n",
    "    kmpctraj[\"theta\"].to_numpy()[: horizon + 1],\n",
    "    label=\"actual\",\n",
    ")\n",
    "plt.legend()\n",
    "\n",
    "plt.subplot(133)\n",
    "plt.title(r\"Comparison : Control Signal $u$\")\n",
    "plt.plot(time_values[: horizon + 1], U_last.to_numpy()[: horizon + 1], label=\"correct\")\n",
    "plt.plot(time_values[:horizon], ukmpc, label=\"controller\")\n",
    "plt.legend();\n"
   ]
  }
 ],
 "metadata": {
  "interpreter": {
   "hash": "94e805f6b0df480a5d1ec46b8588300e4af651068002a683808c47c033f76f67"
  },
  "kernelspec": {
   "display_name": "Python 3 (ipykernel)",
   "language": "python",
   "name": "python3"
  },
  "language_info": {
   "codemirror_mode": {
    "name": "ipython",
    "version": 3
   },
   "file_extension": ".py",
   "mimetype": "text/x-python",
   "name": "python",
   "nbconvert_exporter": "python",
   "pygments_lexer": "ipython3",
   "version": "3.8.10"
  }
 },
 "nbformat": 4,
 "nbformat_minor": 5
}