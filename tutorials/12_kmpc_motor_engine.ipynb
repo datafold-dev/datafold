{
 "cells": [
  {
   "cell_type": "markdown",
   "id": "e04bc23a",
   "metadata": {},
   "source": [
    "# Model predictive control of a bilinear motor\n",
    "\n",
    "This tutorial reproduces results from the paper \n",
    "> Linear predictors for nonlinear dynamical systems: Koopman operator meets model predictive control, Milan Korda and Igor Mezic https://arxiv.org/pdf/1611.03537.pdf \n",
    "\n",
    "The original source code was used as a template, but this code (implemented in Matlab): https://github.com/MilanKorda/KoopmanMPC/\n",
    "\n",
    "This tutorial will show how to use the Extended Dynamic Mode Decomposition (EDMD) to approximate the Koopman operator for controlled dynamical systems. By converting the nonlinear dynamics of a motor engine model into a higher dimensional space, we will be able to observe an approximately linear evolution, enabling us to use the EDMD model as a linearly controlled dynamical system within the Koopman model predictive control (KMPC) framework.\n",
    "\n",
    "The model to describe the motor engine is as follows: "
   ]
  },
  {
   "cell_type": "markdown",
   "id": "da065634",
   "metadata": {},
   "source": [
    "$$\\begin{align}\\dot{x}_1 &= −(R_a/L_a)x_1 − (k_m/L_a)x_2 u + u_a/ L_a \\\\ \n",
    "\\dot{x}_2 &= −(B/J)x_2 + (k_m/J)x_1 u − \\tau_l / J \\\\\n",
    "y &= x_2\\end{align}$$"
   ]
  },
  {
   "cell_type": "markdown",
   "id": "deadd362",
   "metadata": {},
   "source": [
    "where $x_1$ is the rotor current, $x_2$ the angular velocity (identical to the model's output) and the control input $u$ is the stator current. The parameters are $L_a = 0.314$, $R_a = 12.345$, $k_m = 0.253$, $J = 0.00441$, $B = 0.00732$, $\\tau l = 1.47$, $u_a = 60$.\n",
    "\n",
    "For model details see:\n",
    "> S. Daniel-Berhe and H. Unbehauen. Experimental physical parameter estimation of\n",
    "> a thyristor driven DC-motor using the HMF-method. Control Engineering Practice,\n",
    "> 6(5):615–626, 1998. https://doi.org/10.1016/S0967-0661(98)00036-7"
   ]
  },
  {
   "cell_type": "code",
   "execution_count": null,
   "id": "c0cb4a47",
   "metadata": {},
   "outputs": [],
   "source": [
    "import matplotlib.pyplot as plt\n",
    "import numpy as np\n",
    "import pandas as pd\n",
    "from scipy.interpolate import interp1d\n",
    "from tqdm import tqdm\n",
    "\n",
    "from datafold import (\n",
    "    EDMD,\n",
    "    DMDControl,\n",
    "    InitialCondition,\n",
    "    TSCColumnTransformer,\n",
    "    TSCDataFrame,\n",
    "    TSCIdentity,\n",
    "    TSCRadialBasis,\n",
    "    TSCTakensEmbedding,\n",
    ")\n",
    "from datafold.appfold.mpc import LinearKMPC\n",
    "from datafold.pcfold.kernels import ThinplateKernel\n",
    "from datafold.utils._systems import DCMotor"
   ]
  },
  {
   "cell_type": "markdown",
   "id": "3793d396",
   "metadata": {},
   "source": [
    "### Sampling\n",
    "The objective is to create a Model Predictive Control (MPC) controller using only the input-output data of the original motor model, without any prior knowledge of the model's structure. To achieve this, we will begin by discretizing the dynamic behavior of the motor using the Runge-Kutta four method with a time step of $0.01$ seconds. We will then simulate 200 different scenarios over the course of 1000 sampling periods, using a randomly generated signal as the control input."
   ]
  },
  {
   "cell_type": "code",
   "execution_count": null,
   "id": "999b22a5",
   "metadata": {},
   "outputs": [],
   "source": [
    "sys = DCMotor()\n",
    "output = \"x2\""
   ]
  },
  {
   "cell_type": "markdown",
   "id": "2b972a31",
   "metadata": {},
   "source": [
    "Define the sampling parameters:"
   ]
  },
  {
   "cell_type": "code",
   "execution_count": null,
   "id": "dd66778f",
   "metadata": {},
   "outputs": [],
   "source": [
    "rng = np.random.default_rng(1)\n",
    "\n",
    "dt = 0.01\n",
    "n_timeseries = 200\n",
    "n_timesteps = 1000\n",
    "\n",
    "time_values = np.arange(0, n_timesteps * dt, dt)"
   ]
  },
  {
   "cell_type": "markdown",
   "id": "f0f227d2",
   "metadata": {},
   "source": [
    "Set up initial conditions and control input over the prediction horizon. Note that the control input always requires one state less than the actual time series. This is because for the last model state no further control input is required."
   ]
  },
  {
   "cell_type": "code",
   "execution_count": null,
   "id": "d78b9c74",
   "metadata": {},
   "outputs": [],
   "source": [
    "X_ic = InitialCondition.from_array(\n",
    "    rng.uniform(size=(n_timeseries, sys.n_features_in_), low=-1, high=1),\n",
    "    time_value=0.0,\n",
    "    feature_names=sys.feature_names_in_,\n",
    ")\n",
    "\n",
    "# one timestep less for control\n",
    "U = TSCDataFrame.from_tensor(\n",
    "    rng.uniform(size=(n_timeseries, n_timesteps - 1, 1), low=-1, high=1),\n",
    "    time_values=time_values[:-1],\n",
    "    columns=sys.control_names_in_,\n",
    ")"
   ]
  },
  {
   "cell_type": "markdown",
   "id": "3c07c27c",
   "metadata": {},
   "source": [
    "Define a function to augment the state with control input (by also adapting the time values in the control appropriately)"
   ]
  },
  {
   "cell_type": "code",
   "execution_count": null,
   "id": "478ed738",
   "metadata": {},
   "outputs": [],
   "source": [
    "def shift_time_index_U(_X, _U):\n",
    "    new_index = _X.groupby(\"ID\").tail(_X.n_timesteps - 1).index\n",
    "    return _U.set_index(new_index)"
   ]
  },
  {
   "cell_type": "markdown",
   "id": "a7a677cd",
   "metadata": {},
   "source": [
    "Sample the data from the original model. Afterwards agument the model state with the control input. "
   ]
  },
  {
   "cell_type": "code",
   "execution_count": null,
   "id": "79f4203e",
   "metadata": {},
   "outputs": [],
   "source": [
    "X_tsc, U_tsc = sys.predict_vectorize(X_ic, U=U)\n",
    "\n",
    "X_tsc = pd.concat(\n",
    "    [X_tsc.loc[:, [output]], shift_time_index_U(X_tsc, U_tsc)], axis=1\n",
    ").fillna(0)"
   ]
  },
  {
   "cell_type": "markdown",
   "id": "dd37bc4b",
   "metadata": {},
   "source": [
    "### Fit Koopman operator-based model to data\n",
    "\n",
    "In the first step we set up the dictionary for the Extended Dynamic Mode Decomposition. The following transformations are performed\n",
    "\n",
    "1. Perform time delay embedding with one delay, only on the output variable ($y=x_2$)\n",
    "2. Compute the radial basis functions (RBF) from the data with a thin plate kernel (for computational efficiency, for the kernels' center we use 100 uniformly distributed points)\n",
    "3. Augment the original state ($x_2$ and $u$) to the RBF coordinates. Note that this is set via `include_id_state=True` in the EDMD model. To obtain predictions of the original model output $y$ we only need to project onto the respective coordinate.\n",
    "\n",
    "Altogether this results in a lifted state-space dimension of $N = 102$."
   ]
  },
  {
   "cell_type": "code",
   "execution_count": null,
   "id": "4138da5e",
   "metadata": {},
   "outputs": [],
   "source": [
    "# use the columns transformer to apply the time delay embedding on the output variable (x2) and the identity on the control input\n",
    "delay = (\n",
    "    \"delay\",\n",
    "    TSCColumnTransformer(\n",
    "        transformers=[\n",
    "            (\"delay\", TSCTakensEmbedding(delays=1), [output]),\n",
    "            (\"id\", TSCIdentity(), [\"u\"]),\n",
    "        ],\n",
    "        verbose_feature_names_out=False,\n",
    "    ),\n",
    ")\n",
    "# Define the RBF with kernel and centers. The centers will we included later to the `fit_params`\n",
    "rbf = (\"rbf\", TSCRadialBasis(kernel=ThinplateKernel(), center_type=\"fit_params\"))\n",
    "rbf_centers = rng.uniform(size=(100, 3), low=-1, high=1)\n",
    "edmd = EDMD([delay, rbf], dmd_model=DMDControl(), include_id_state=True)"
   ]
  },
  {
   "cell_type": "markdown",
   "id": "f27e2787",
   "metadata": {},
   "source": [
    "Fit the EDMD model with the sampled time series collection data:"
   ]
  },
  {
   "cell_type": "code",
   "execution_count": null,
   "id": "0a2349d2",
   "metadata": {},
   "outputs": [],
   "source": [
    "edmd = edmd.fit(X_tsc, U=U_tsc, rbf__centers=rbf_centers)"
   ]
  },
  {
   "cell_type": "markdown",
   "id": "c2423247",
   "metadata": {},
   "source": [
    "To evaluate the accuracy of our data-driven model, we will plot results of an out-of-sample initial condition and compare it to the true motor model. With this we can assess the predictive performance of our Koopman operator-based model before integrating it into the Model Predictive Control (MPC) framework below.\n",
    "\n",
    "The original paper also compares the model against a predictor based on local linarization (cf. Table 3). The Koopman operator-based predictor demonstrates superior accuracy, particularly for predictions over a longer time horizon.\n",
    "\n",
    "Specify the configuration for the initial conditions and control input. The evaluate both the original model and EDMD. Note that need two samples to initialize the EDMD model, because of the time delay embedding. "
   ]
  },
  {
   "cell_type": "code",
   "execution_count": null,
   "id": "e8fc2f0e",
   "metadata": {},
   "outputs": [],
   "source": [
    "time_horizon = 1\n",
    "n_timesteps = int(time_horizon / dt)"
   ]
  },
  {
   "cell_type": "code",
   "execution_count": null,
   "id": "90d6fd02",
   "metadata": {},
   "outputs": [],
   "source": [
    "def random_control(duty_cycle):\n",
    "    # generates random control input with values -1 or 1\n",
    "    # duty_cycle influences which value shows up more often\n",
    "    cond = rng.uniform(0, 1, size=(n_timesteps, 1)) > (1 - duty_cycle)\n",
    "    return 2 * cond.astype(float) - 1.0\n",
    "\n",
    "\n",
    "U_test = TSCDataFrame.from_array(\n",
    "    random_control(0.5),\n",
    "    time_values=np.arange(0, n_timesteps * dt, dt),\n",
    "    feature_names=U_tsc.columns,\n",
    ")\n",
    "\n",
    "# initial condition\n",
    "X_ic_oos = TSCDataFrame.from_array(\n",
    "    rng.uniform(0, 1, size=(1, 2)) - 0.5, feature_names=X_tsc.columns[:2]\n",
    ")\n",
    "\n",
    "# evaluate the true model\n",
    "X_model_pred, _ = sys.predict_vectorize(X_ic_oos, U=U_test)\n",
    "\n",
    "# create the initial condition for EDMD -- because of the delay embedding we need a time series of two samples\n",
    "X_edmd = X_model_pred.iloc[: edmd.n_samples_ic_, :].loc[:, [output]]\n",
    "U_edmd = U_test.iloc[[0], :]\n",
    "X_ic_edmd = pd.concat([X_edmd, shift_time_index_U(X_edmd, U_edmd)], axis=1).fillna(0)\n",
    "X_edmd_pred = edmd.predict(X_ic_edmd, U=U_test)"
   ]
  },
  {
   "cell_type": "markdown",
   "id": "b58fe68b",
   "metadata": {},
   "source": [
    "Plot the out-of-sample EDMD prediction against the original model's time series."
   ]
  },
  {
   "cell_type": "code",
   "execution_count": null,
   "id": "d127fd97",
   "metadata": {},
   "outputs": [],
   "source": [
    "f, ax = plt.subplots(ncols=2, figsize=[13, 5])\n",
    "ax[0].set_title(\"motor angular velocity (x2)\")\n",
    "ax[0].set_ylabel(\"x2\")\n",
    "ax[0].set_xlabel(\"time [s]\")\n",
    "ax[0].plot(\n",
    "    X_model_pred.time_values(), X_model_pred.loc[:, output].to_numpy(), label=\"original\"\n",
    ")\n",
    "ax[0].plot(\n",
    "    X_edmd_pred.time_values(), X_edmd_pred.loc[:, output].to_numpy(), label=\"EDMD\"\n",
    ")\n",
    "ax[0].legend()\n",
    "\n",
    "ax[1].set_title(\"control input\")\n",
    "ax[1].set_xlabel(\"time [s]\")\n",
    "ax[1].set_ylabel(\"U\")\n",
    "ax[1].step(U_test.time_values(), U_test.to_numpy())"
   ]
  },
  {
   "cell_type": "markdown",
   "id": "f994e7d0",
   "metadata": {},
   "source": [
    "### Koopman operator model predictive control setting\n",
    "\n",
    "The goal is now to control the angular velocity reference of the original model. $y=x_2$, such that it follows a predefined reference trajectory. For this we set up a linear model predictive control on the intrinsic states of the EDMD model. This is reflected in the objective function minimized:"
   ]
  },
  {
   "cell_type": "markdown",
   "id": "43c5b841",
   "metadata": {},
   "source": [
    "$$J = (Cz_{N_p} - y_r)^T Q_{N_p} (Cz_{N_p} - y_r) + \\sum_{i=0}^{N_p-1} (Cz_{i} - y_r)^T Q (Cz_{i} - y_r) + u_i^T R u_i$$"
   ]
  },
  {
   "cell_type": "markdown",
   "id": "135215e1",
   "metadata": {},
   "source": [
    "Here $z$ are the intrinsic dictionary states of EDMD and $C=[1,0,\\ldots, 0]$ is a projection of state $z$ onto the predicted output coordinate $x_2$. The cost terms within the optimization are  $Q = Q_{N_p} = 1$ and $R = 0.01$. The prediction horizon is set to one seconds, resulting in $N_p = 100$ timesteps ($\\Delta t = 0.01$). "
   ]
  },
  {
   "cell_type": "code",
   "execution_count": null,
   "id": "528ea664",
   "metadata": {},
   "outputs": [],
   "source": [
    "mpc_horizon = 1\n",
    "mpc_n_timesteps = int(np.round(mpc_horizon / dt))\n",
    "Q = 1\n",
    "R = 0.01"
   ]
  },
  {
   "cell_type": "markdown",
   "id": "5f391747",
   "metadata": {},
   "source": [
    "We can evaluate the performance of the  KMPC controller in two different scenarios (not both are computed; please select). In the first scenario, the output is constrained to $y_r(t) \\in [-0.6, 0.6]$ and the objective is to track a piecewise constant function. In the second scenario, we will impose the constraint of $y \\in [−0.4, 0.4]$ and track a time-varying reference of $y_r(t) = 0.5\\cos(2\\pi t/3)$, which may violate the output constraint during some part of the simulation period. The original paper shows that the controller based on local linearization fails for the second case."
   ]
  },
  {
   "cell_type": "code",
   "execution_count": null,
   "id": "67a31aef",
   "metadata": {},
   "outputs": [],
   "source": [
    "MODE = [\"step\", \"cos\"][0]  # select\n",
    "time_horizon = 3  # simulation length of the reference trajectory\n",
    "n_timesteps = time_horizon / dt\n",
    "\n",
    "\n",
    "if MODE == \"step\":\n",
    "    ymin, ymax = -0.6, 0.6\n",
    "    x0 = TSCDataFrame.from_array(np.array([[0, 0.6]]), feature_names=X_tsc.columns)\n",
    "    step_function = interp1d(\n",
    "        [0, 0.5, 1.5, 2, 2.5],\n",
    "        [-0.3, 0.4, -0.6, -0.2, 0.2],\n",
    "        kind=\"previous\",\n",
    "        fill_value=\"extrapolate\",\n",
    "    )\n",
    "    values = step_function(np.linspace(0, time_horizon, int(n_timesteps) - 1))[\n",
    "        :, np.newaxis\n",
    "    ]\n",
    "    # values = (0.3 * (-1 + 2 * (np.arange(1, n_timesteps) > n_timesteps / 2)))[:, np.newaxis]\n",
    "    reference = TSCDataFrame.from_array(\n",
    "        values,\n",
    "        time_values=np.arange(dt * 2, dt * (n_timesteps + 1), dt),\n",
    "        feature_names=[output],\n",
    "    )\n",
    "elif MODE == \"cos\":\n",
    "    ymin, ymax = -0.4, 0.4\n",
    "    x0 = TSCDataFrame.from_array(np.array([[-0.1, 0.1]]), feature_names=X_tsc.columns)\n",
    "    values = (\n",
    "        0.5 * np.cos(2 * np.pi * np.arange(1, n_timesteps) / n_timesteps)[:, np.newaxis]\n",
    "    )\n",
    "    reference = TSCDataFrame.from_array(\n",
    "        values,\n",
    "        time_values=np.arange(dt * 2, dt * (n_timesteps + 1), dt),\n",
    "        feature_names=[output],\n",
    "    )\n",
    "else:\n",
    "    raise RuntimeError(\"Mode not available\")"
   ]
  },
  {
   "cell_type": "markdown",
   "id": "6e188d48",
   "metadata": {},
   "source": [
    "Set up the Koopman-operator-based model predictive control model. Afterwards set up data structures to store the control and controlled model output. The first element is the initial condition as specified above based on the scenario. "
   ]
  },
  {
   "cell_type": "code",
   "execution_count": null,
   "id": "516db810",
   "metadata": {},
   "outputs": [],
   "source": [
    "kmpc = LinearKMPC(\n",
    "    edmd=edmd,\n",
    "    horizon=mpc_n_timesteps,\n",
    "    input_bounds=np.array([[-1, 1]]),\n",
    "    state_bounds=np.array([[ymin, ymax]]),\n",
    "    qois=[output],\n",
    "    cost_running=Q,\n",
    "    cost_terminal=Q,\n",
    "    cost_input=R,\n",
    ")\n",
    "\n",
    "U_ic = TSCDataFrame.from_array(0.0, feature_names=U.columns, time_values=0.0)\n",
    "\n",
    "sys_ic, _ = sys.predict_vectorize(x0, U=U_ic, time_values=[0, dt])\n",
    "X_ic = sys_ic.copy().tsc.augment_control_input(U_ic).fillna(0)\n",
    "X_ic = X_ic.loc[:, edmd.feature_names_in_]"
   ]
  },
  {
   "cell_type": "markdown",
   "id": "1040a69c",
   "metadata": {},
   "source": [
    "Perform the MPC loop:\n",
    "\n",
    "1. extract the current part of the reference time series over the time horizon \n",
    "2. if necessary, fill up the reference with the last state to obtain the required time series length\n",
    "3. obtain optimal control sequence from KMPC\n",
    "4. forward the true model with the next optimal control\n",
    "5. augment the state for the next prediction\n",
    "6. store the control input and state the sequence, which is used later for plotting"
   ]
  },
  {
   "cell_type": "code",
   "execution_count": null,
   "id": "10b2cfc3",
   "metadata": {},
   "outputs": [],
   "source": [
    "X_seq, U_seq = kmpc.control_system(\n",
    "    sys=sys.predict_vectorize,\n",
    "    sys_ic=sys_ic,\n",
    "    X_ic=X_ic,\n",
    "    X_ref=reference,\n",
    "    augment_control=True,\n",
    ")"
   ]
  },
  {
   "cell_type": "code",
   "execution_count": null,
   "id": "17e7ecaa",
   "metadata": {},
   "outputs": [],
   "source": [
    "f, ax = plt.subplots(nrows=2, sharex=True, figsize=[13, 10])\n",
    "ax[0].set_title(\"Controlled model evaluation from MPC loop\")\n",
    "ax[0].set_ylabel(\"x2\")\n",
    "teval = X_seq.time_values()\n",
    "ax[0].plot(teval, np.ones_like(teval) * ymin, c=\"black\")\n",
    "ax[0].plot(teval, np.ones_like(teval) * ymax, c=\"black\", label=\"model constrains\")\n",
    "ax[0].plot(\n",
    "    teval, X_seq.loc[:, \"x2\"].to_numpy(), c=\"blue\", linewidth=3, label=\"controlled\"\n",
    ")\n",
    "ax[0].plot(\n",
    "    reference.time_values(),\n",
    "    reference.to_numpy(),\n",
    "    c=\"red\",\n",
    "    linewidth=2,\n",
    "    label=\"reference\",\n",
    ")\n",
    "ax[0].set_ylim([ymin - 0.15, ymax + 0.15])\n",
    "ax[0].legend()\n",
    "\n",
    "ax[1].set_title(\"Control input\")\n",
    "ax[1].set_xlabel(\"time [s]\")\n",
    "ax[1].set_ylabel(\"u\")\n",
    "ax[1].plot(U_seq.time_values(), U_seq.to_numpy())"
   ]
  },
  {
   "cell_type": "markdown",
   "id": "e2b67121",
   "metadata": {},
   "source": [
    "In both scenarios, we observe that the KMPC effectively considers and adheres to imposed state constraints, remaining within the valid region, even when the reference trajectory does not. Additionally, within the constraints, the controlled system is seen to closely follow the reference trajectory, and adapt early to changes in the reference trajectory. This is a result of *predictive* control.\n"
   ]
  }
 ],
 "metadata": {
  "kernelspec": {
   "display_name": "Python 3 (ipykernel)",
   "language": "python",
   "name": "python3"
  },
  "language_info": {
   "codemirror_mode": {
    "name": "ipython",
    "version": 3
   },
   "file_extension": ".py",
   "mimetype": "text/x-python",
   "name": "python",
   "nbconvert_exporter": "python",
   "pygments_lexer": "ipython3",
   "version": "3.8.10"
  }
 },
 "nbformat": 4,
 "nbformat_minor": 5
}
