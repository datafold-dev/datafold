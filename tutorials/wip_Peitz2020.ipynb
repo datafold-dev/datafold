{
 "cells": [
  {
   "cell_type": "code",
   "execution_count": null,
   "id": "41c5b00b",
   "metadata": {},
   "outputs": [],
   "source": [
    "%load_ext autoreload\n",
    "%autoreload 2"
   ]
  },
  {
   "cell_type": "code",
   "execution_count": null,
   "id": "485948ef",
   "metadata": {},
   "outputs": [],
   "source": [
    "import matplotlib.pyplot as plt\n",
    "import numpy as np\n",
    "import pandas as pd\n",
    "from scipy.integrate import solve_ivp\n",
    "from scipy.interpolate import interp1d\n",
    "\n",
    "from datafold.appfold import EDMDControl\n",
    "from datafold.dynfold.dmd import ControlledAffineDynamicalSystem, gDMDAffine\n",
    "from datafold.dynfold.transform import TSCPolynomialFeatures, TSCRadialBasis\n",
    "from datafold.pcfold import InitialCondition, InverseQuadraticKernel, TSCDataFrame\n",
    "from datafold.utils._systems import InvertedPendulum"
   ]
  },
  {
   "cell_type": "markdown",
   "id": "935c20b5",
   "metadata": {},
   "source": [
    "### Random system of the form `xdot = A @ x + B @ u @ x`"
   ]
  },
  {
   "cell_type": "code",
   "execution_count": null,
   "id": "6dd8aad8",
   "metadata": {},
   "outputs": [],
   "source": [
    "state_size = 4\n",
    "input_size = 2\n",
    "n_timesteps = 50\n",
    "n_ic = 1\n",
    "\n",
    "gen = np.random.default_rng(22)\n",
    "\n",
    "A = gen.uniform(-0.5, 0.5, size=(state_size, state_size))\n",
    "np.fill_diagonal(A, gen.uniform(-1.0, -0.5, size=state_size))\n",
    "x0 = gen.uniform(-1.0, 1.0, size=(state_size, n_ic))\n",
    "x0 = np.hstack([x0, x0, x0, x0])\n",
    "Bi = np.stack(\n",
    "    [gen.uniform(-0.5, 0.5, size=(state_size, state_size)) for i in range(input_size)],\n",
    "    2,\n",
    ")\n",
    "u = np.concatenate(\n",
    "    [\n",
    "        np.ones((n_ic, n_timesteps, input_size)),\n",
    "        -np.ones((n_ic, n_timesteps, input_size)),\n",
    "        np.stack([np.ones((n_ic, n_timesteps)), -np.ones((n_ic, n_timesteps))], 2),\n",
    "        np.stack([-np.ones((n_ic, n_timesteps)), np.ones((n_ic, n_timesteps))], 2),\n",
    "    ],\n",
    "    0,\n",
    ")\n",
    "t = np.linspace(0, n_timesteps - 1, n_timesteps) * 0.1\n",
    "names = [\"x\" + str(i + 1) for i in range(state_size)]\n",
    "\n",
    "tsc_df = (\n",
    "    ControlledAffineDynamicalSystem()\n",
    "    .setup_matrix_system(A, Bi)\n",
    "    .evolve_system(x0, u, time_values=t, time_delta=0.1, feature_names_out=names)\n",
    ")\n",
    "# print(tsc_df)\n",
    "# print(A)\n",
    "# print(Bi)\n",
    "ureshaped = u.reshape((-1, input_size))\n",
    "for i in range(input_size):\n",
    "    tsc_df[\"u\" + str(i + 1)] = ureshaped[:, i]\n",
    "tsc_df.plot()"
   ]
  },
  {
   "cell_type": "code",
   "execution_count": null,
   "id": "1471a5fe",
   "metadata": {},
   "outputs": [],
   "source": [
    "dmd = gDMDAffine().fit(tsc_df, split_by=\"name\", control=[\"u1\", \"u2\"])"
   ]
  },
  {
   "cell_type": "code",
   "execution_count": null,
   "id": "e2e0e8fc",
   "metadata": {},
   "outputs": [],
   "source": [
    "tsc_pred = dmd.fit_predict(tsc_df)\n",
    "tsc_pred.plot()"
   ]
  },
  {
   "cell_type": "code",
   "execution_count": null,
   "id": "0d71ac46",
   "metadata": {},
   "outputs": [],
   "source": [
    "(tsc_df - tsc_pred).plot()"
   ]
  },
  {
   "cell_type": "markdown",
   "id": "0668882c",
   "metadata": {},
   "source": [
    "### Duffing"
   ]
  },
  {
   "cell_type": "code",
   "execution_count": null,
   "id": "f87d27fc",
   "metadata": {},
   "outputs": [],
   "source": [
    "def duffing(t, x, alpha=-1, beta=1, delta=0.6, u=lambda t: 1):\n",
    "    xdot = np.array([x[1], 0])\n",
    "    xdot[1] = -delta * x[1] - alpha * x[0] - beta * x[0] ** 3 + u(t)\n",
    "    return xdot\n",
    "\n",
    "\n",
    "def simulate(x0, u=lambda t: 1, N=201, t0=0, tf=2):\n",
    "    sol = solve_ivp(\n",
    "        lambda t, x: duffing(t, x, u=u), (t0, tf), x0, t_eval=np.linspace(t0, tf, N)\n",
    "    )\n",
    "    if not sol.success:\n",
    "        raise RuntimeError(\"Couldn't not evolve the system.\")\n",
    "    df = pd.DataFrame(data=sol.y.T, index=sol.t, columns=[\"x\", \"xdot\"])\n",
    "    df[\"u\"] = u(sol.t)\n",
    "    return df\n",
    "\n",
    "\n",
    "x0 = np.array([0.1, -0.9])\n",
    "x = simulate(x0, lambda t: -1)\n",
    "plt.plot(x[\"x\"])\n",
    "x = simulate(x0)\n",
    "plt.plot(x[\"x\"])\n",
    "x = simulate(x0, lambda t: np.sin(np.pi * t))\n",
    "plt.plot(x[\"x\"], \"purple\")\n",
    "x = simulate(x0, lambda t: 0)\n",
    "plt.plot(x[\"x\"], \"gold\")"
   ]
  },
  {
   "cell_type": "code",
   "execution_count": null,
   "id": "3d0e6b8f",
   "metadata": {},
   "outputs": [],
   "source": [
    "n_repeats = 100\n",
    "rng = np.random.default_rng(0)\n",
    "dflist = []\n",
    "for i in range(n_repeats):\n",
    "    random_x0 = rng.uniform(-3, 3, 2)\n",
    "    dflist.append(simulate(random_x0, N=21))\n",
    "    dflist.append(simulate(random_x0, lambda t: -1, N=21))\n",
    "duffing_tsc = TSCDataFrame.from_frame_list(dflist)\n",
    "duffing_tsc.plot()"
   ]
  },
  {
   "cell_type": "code",
   "execution_count": null,
   "id": "8e8e36e7",
   "metadata": {},
   "outputs": [],
   "source": [
    "edmd_duffing = EDMDControl(\n",
    "    dict_steps=[\n",
    "        (\"poly\", TSCPolynomialFeatures(5, include_bias=True)),\n",
    "    ],\n",
    "    dmd_model=gDMDAffine(rcond=1e-6),\n",
    ")\n",
    "edmd_duffing.fit(duffing_tsc, split_by=\"name\", control=[\"u\"]);"
   ]
  },
  {
   "cell_type": "code",
   "execution_count": null,
   "id": "addc0fdc",
   "metadata": {},
   "outputs": [],
   "source": [
    "plt.figure(figsize=(8, 3))\n",
    "plt.subplot(121)\n",
    "plt.imshow(edmd_duffing.sys_matrix)\n",
    "plt.colorbar()\n",
    "plt.title(\"System matrix\")\n",
    "print(\"Sys eigenvalues: \", np.linalg.eigvals(edmd_duffing.sys_matrix))\n",
    "plt.subplot(122)\n",
    "plt.imshow(edmd_duffing.control_matrix[:, :, 0])\n",
    "plt.colorbar()\n",
    "plt.title(\"Control matrix\")\n",
    "print(\"Control eigenvalues: \", np.linalg.eigvals(edmd_duffing.control_matrix[:, :, 0]))"
   ]
  },
  {
   "cell_type": "code",
   "execution_count": null,
   "id": "5b649b3c",
   "metadata": {},
   "outputs": [],
   "source": [
    "n_samples = 50\n",
    "pred0 = edmd_duffing.predict(\n",
    "    InitialCondition.from_array(x0, columns=[\"x\", \"xdot\"]),\n",
    "    time_values=np.linspace(0, 2, n_samples),\n",
    "    control_input=-np.ones(n_samples),\n",
    ")\n",
    "plt.plot(pred0[\"x\"].values)\n",
    "pred0 = edmd_duffing.predict(\n",
    "    InitialCondition.from_array(x0, columns=[\"x\", \"xdot\"]),\n",
    "    time_values=np.linspace(0, 2, n_samples),\n",
    "    control_input=np.ones(n_samples),\n",
    ")\n",
    "plt.plot(pred0[\"x\"].values)\n",
    "pred0 = edmd_duffing.predict(\n",
    "    InitialCondition.from_array(x0, columns=[\"x\", \"xdot\"]),\n",
    "    time_values=np.linspace(0, 2, n_samples),\n",
    "    control_input=np.sin(np.pi * np.linspace(0, 1, n_samples)),\n",
    ")\n",
    "plt.plot(pred0[\"x\"].values, \"purple\")\n",
    "pred0 = edmd_duffing.predict(\n",
    "    InitialCondition.from_array(x0, columns=[\"x\", \"xdot\"]),\n",
    "    time_values=np.linspace(0, 2, n_samples),\n",
    "    control_input=0 * np.ones(n_samples),\n",
    ")\n",
    "plt.plot(pred0[\"x\"].values, \"gold\")"
   ]
  },
  {
   "cell_type": "markdown",
   "id": "8169b9a8",
   "metadata": {},
   "source": [
    "### Inverted Pendulum"
   ]
  },
  {
   "cell_type": "code",
   "execution_count": null,
   "id": "7c15de93",
   "metadata": {},
   "outputs": [],
   "source": [
    "state_cols = [\"x\", \"xdot\", \"theta\", \"thetadot\"]\n",
    "control_cols = [\"u\"]\n",
    "\n",
    "# Data generation parameters\n",
    "sim_time_step = 0.01  # s\n",
    "sim_num_steps = 1000  # -\n",
    "training_size = 20  # -\n",
    "ic = InitialCondition.from_array(np.array([0, 0, np.pi, 0]), columns=state_cols)\n",
    "\n",
    "invertedPendulum = InvertedPendulum(initial_condition=ic.values)\n",
    "\n",
    "Xlist, Ulist = [], []\n",
    "np.random.seed(42)\n",
    "for i in range(training_size):\n",
    "    control_amplitude = 0.1 + 0.9 * np.random.random()\n",
    "    control_frequency = np.pi + 2 * np.pi * np.random.random()\n",
    "    control_phase = 2 * np.pi * np.random.random()\n",
    "    control_func = lambda t, y: control_amplitude * np.sin(\n",
    "        control_frequency * t + control_phase\n",
    "    )\n",
    "    invertedPendulum.reset()\n",
    "    traj = invertedPendulum.predict(\n",
    "        time_step=sim_time_step,\n",
    "        num_steps=sim_num_steps,\n",
    "        control_func=control_func,\n",
    "    )\n",
    "    assert (\n",
    "        invertedPendulum.sol.success\n",
    "    ), f\"Divergent solution for amplitude={control_amplitude}, frequency={control_frequency}\"\n",
    "    t = invertedPendulum.sol.t\n",
    "    dfx = pd.DataFrame(data=traj.T, index=t, columns=state_cols)\n",
    "    dfx[control_cols] = 0.0\n",
    "    Xlist.append(dfx)\n",
    "    control_input = control_func(t, traj)\n",
    "    dfu = pd.DataFrame(data=control_input, index=t, columns=control_cols)\n",
    "    for col in state_cols:\n",
    "        dfu[col] = 0.0\n",
    "    dfu = dfu[state_cols + control_cols]\n",
    "    Ulist.append(dfu)\n",
    "\n",
    "X_tsc = TSCDataFrame.from_frame_list(Xlist)[state_cols]\n",
    "X_tsc[control_cols] = TSCDataFrame.from_frame_list(Ulist)[control_cols]"
   ]
  },
  {
   "cell_type": "code",
   "execution_count": null,
   "id": "42a60821",
   "metadata": {},
   "outputs": [],
   "source": [
    "num_rbfs = 20\n",
    "eps = 1\n",
    "\n",
    "rbf = TSCRadialBasis(\n",
    "    kernel=InverseQuadraticKernel(epsilon=eps), center_type=\"fit_params\"\n",
    ")\n",
    "center_ids = sorted(\n",
    "    np.random.choice(\n",
    "        range(0, sim_num_steps * training_size), size=num_rbfs, replace=False\n",
    "    )\n",
    ")\n",
    "centers = X_tsc.iloc[center_ids].values"
   ]
  },
  {
   "cell_type": "code",
   "execution_count": null,
   "id": "858c7282",
   "metadata": {},
   "outputs": [],
   "source": [
    "edmdrbf = EDMDControl(\n",
    "    dict_steps=[\n",
    "        (\"rbf\", rbf),\n",
    "    ],\n",
    "    include_id_state=True,\n",
    "    dmd_model=gDMDAffine(rcond=1e-6),\n",
    ")\n",
    "\n",
    "edmdrbf.fit(\n",
    "    X_tsc,\n",
    "    split_by=\"name\",\n",
    "    state=state_cols,\n",
    "    control=control_cols,\n",
    "    rbf__centers=centers[:, :-1],\n",
    ")\n",
    "rbfprediction = edmdrbf.predict(\n",
    "    ic, control_input=np.atleast_2d(control_input).T, time_values=t\n",
    ")\n",
    "plt.figure(figsize=(16, 3))\n",
    "plt.subplot(121)\n",
    "plt.plot(rbfprediction[\"x\"].values[:100], label=\"prediction\")\n",
    "plt.plot(dfx[\"x\"].values[:100], label=\"actual\")\n",
    "plt.legend()\n",
    "plt.title(r\"EDMD(100 random rbf) prediction - cart position $x$\")\n",
    "plt.subplot(122)\n",
    "plt.plot(rbfprediction[\"theta\"].values[:100], label=\"prediction\")\n",
    "plt.plot(dfx[\"theta\"].values[:100], label=\"actual\")\n",
    "plt.legend()\n",
    "plt.title(r\"EDMD(100 random rbf) prediction - pendulum angle $\\theta$\");"
   ]
  },
  {
   "cell_type": "code",
   "execution_count": null,
   "id": "2cc7d80a",
   "metadata": {},
   "outputs": [],
   "source": [
    "edmdrbf.predict(\n",
    "    ic, control_input=np.atleast_2d(control_input[:10]).T, time_values=t[:10]\n",
    ")"
   ]
  },
  {
   "cell_type": "markdown",
   "id": "6c2f522e",
   "metadata": {},
   "source": [
    "### Einsum test"
   ]
  },
  {
   "cell_type": "code",
   "execution_count": null,
   "id": "b4139220",
   "metadata": {},
   "outputs": [],
   "source": [
    "np.einsum(\n",
    "    \"ij,ik->ijk\",\n",
    "    np.array([[1, -1], [2, -2], [3, -3]]),\n",
    "    np.array([[0.1, 0.2, 0.3, 0.4], [1.1, 1.2, 1.3, 1.4], [10.1, 12.1, 13.1, 14.1]]),\n",
    ").reshape(3, 2 * 4)"
   ]
  },
  {
   "cell_type": "code",
   "execution_count": null,
   "id": "95395456",
   "metadata": {},
   "outputs": [],
   "source": [
    "np.einsum(\n",
    "    \"ij,ik->ijk\",\n",
    "    np.array([[0.1, 0.2, 0.3, 0.4], [1.1, 1.2, 1.3, 1.4], [10.1, 12.1, 13.1, 14.1]]),\n",
    "    np.array([[1, -1], [2, -2], [3, -3]]),\n",
    ").reshape(3, 2 * 4)"
   ]
  },
  {
   "cell_type": "code",
   "execution_count": null,
   "id": "b43baf1c",
   "metadata": {},
   "outputs": [],
   "source": []
  }
 ],
 "metadata": {
  "kernelspec": {
   "display_name": "Python 3 (ipykernel)",
   "language": "python",
   "name": "python3"
  },
  "language_info": {
   "codemirror_mode": {
    "name": "ipython",
    "version": 3
   },
   "file_extension": ".py",
   "mimetype": "text/x-python",
   "name": "python",
   "nbconvert_exporter": "python",
   "pygments_lexer": "ipython3",
   "version": "3.9.7"
  }
 },
 "nbformat": 4,
 "nbformat_minor": 5
}
