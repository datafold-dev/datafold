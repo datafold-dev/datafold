{
 "cells": [
  {
   "cell_type": "code",
   "execution_count": null,
   "id": "41c5b00b",
   "metadata": {},
   "outputs": [],
   "source": [
    "%load_ext autoreload\n",
    "%autoreload 2"
   ]
  },
  {
   "cell_type": "code",
   "execution_count": null,
   "id": "485948ef",
   "metadata": {},
   "outputs": [],
   "source": [
    "import matplotlib.pyplot as plt\n",
    "import numpy as np\n",
    "import pandas as pd\n",
    "from scipy.integrate import solve_ivp\n",
    "from scipy.interpolate import interp1d\n",
    "from scipy.optimize import minimize\n",
    "\n",
    "from datafold.appfold import EDMDControl\n",
    "from datafold.dynfold.dmd import ControlledAffineDynamicalSystem, gDMDAffine\n",
    "from datafold.dynfold.transform import TSCPolynomialFeatures, TSCRadialBasis\n",
    "from datafold.pcfold import InitialCondition, InverseQuadraticKernel, TSCDataFrame\n",
    "from datafold.utils._systems import InvertedPendulum\n",
    "from datafold.utils.general import if1dim_colvec, if1dim_rowvec"
   ]
  },
  {
   "cell_type": "markdown",
   "id": "844c6e42",
   "metadata": {},
   "source": [
    "## Predictor"
   ]
  },
  {
   "cell_type": "markdown",
   "id": "935c20b5",
   "metadata": {},
   "source": [
    "### Random system of the form `xdot = A @ x + B @ u @ x`"
   ]
  },
  {
   "cell_type": "code",
   "execution_count": null,
   "id": "6dd8aad8",
   "metadata": {},
   "outputs": [],
   "source": [
    "state_size = 4\n",
    "input_size = 2\n",
    "n_timesteps = 50\n",
    "n_ic = 1\n",
    "\n",
    "gen = np.random.default_rng(22)\n",
    "\n",
    "A = gen.uniform(-0.5, 0.5, size=(state_size, state_size))\n",
    "np.fill_diagonal(A, gen.uniform(-1.0, -0.5, size=state_size))\n",
    "x0 = gen.uniform(-1.0, 1.0, size=(state_size, n_ic))\n",
    "x0 = np.hstack([x0, x0, x0, x0])\n",
    "Bi = np.stack(\n",
    "    [gen.uniform(-0.5, 0.5, size=(state_size, state_size)) for i in range(input_size)],\n",
    "    2,\n",
    ")\n",
    "u = np.concatenate(\n",
    "    [\n",
    "        np.ones((n_ic, n_timesteps, input_size)),\n",
    "        -np.ones((n_ic, n_timesteps, input_size)),\n",
    "        np.stack([np.ones((n_ic, n_timesteps)), -np.ones((n_ic, n_timesteps))], 2),\n",
    "        np.stack([-np.ones((n_ic, n_timesteps)), np.ones((n_ic, n_timesteps))], 2),\n",
    "    ],\n",
    "    0,\n",
    ")\n",
    "t = np.linspace(0, n_timesteps - 1, n_timesteps) * 0.1\n",
    "names = [\"x\" + str(i + 1) for i in range(state_size)]\n",
    "\n",
    "tsc_df = (\n",
    "    ControlledAffineDynamicalSystem()\n",
    "    .setup_matrix_system(A, Bi)\n",
    "    .evolve_system(x0, u, time_values=t, time_delta=0.1, feature_names_out=names)\n",
    ")\n",
    "# print(tsc_df)\n",
    "# print(A)\n",
    "# print(Bi)\n",
    "ureshaped = u.reshape((-1, input_size))\n",
    "for i in range(input_size):\n",
    "    tsc_df[\"u\" + str(i + 1)] = ureshaped[:, i]\n",
    "tsc_df.plot()"
   ]
  },
  {
   "cell_type": "code",
   "execution_count": null,
   "id": "1471a5fe",
   "metadata": {},
   "outputs": [],
   "source": [
    "dmd = gDMDAffine().fit(tsc_df, split_by=\"name\", control=[\"u1\", \"u2\"])"
   ]
  },
  {
   "cell_type": "code",
   "execution_count": null,
   "id": "e2e0e8fc",
   "metadata": {},
   "outputs": [],
   "source": [
    "tsc_pred = dmd.fit_predict(tsc_df)\n",
    "tsc_pred.plot()"
   ]
  },
  {
   "cell_type": "code",
   "execution_count": null,
   "id": "0d71ac46",
   "metadata": {},
   "outputs": [],
   "source": [
    "(tsc_df - tsc_pred).plot()"
   ]
  },
  {
   "cell_type": "markdown",
   "id": "0668882c",
   "metadata": {},
   "source": [
    "### Duffing"
   ]
  },
  {
   "cell_type": "code",
   "execution_count": null,
   "id": "f87d27fc",
   "metadata": {},
   "outputs": [],
   "source": [
    "def duffing(t, x, alpha=-1, beta=1, delta=0.6, u=lambda t: 1):\n",
    "    xdot = np.array([x[1], 0])\n",
    "    xdot[1] = -delta * x[1] - alpha * x[0] - beta * x[0] ** 3 + u(t)\n",
    "    return xdot\n",
    "\n",
    "\n",
    "def simulate(x0, u=lambda t: 1, N=201, t0=0, tf=2):\n",
    "    sol = solve_ivp(\n",
    "        lambda t, x: duffing(t, x, u=u), (t0, tf), x0, t_eval=np.linspace(t0, tf, N)\n",
    "    )\n",
    "    if not sol.success:\n",
    "        raise RuntimeError(\"Couldn't not evolve the system.\")\n",
    "    df = pd.DataFrame(data=sol.y.T, index=sol.t, columns=[\"x\", \"xdot\"])\n",
    "    df[\"u\"] = u(sol.t)\n",
    "    return df\n",
    "\n",
    "\n",
    "x0 = np.array([0.1, -0.9])\n",
    "x = simulate(x0, lambda t: -1)\n",
    "plt.plot(x[\"x\"])\n",
    "x = simulate(x0)\n",
    "plt.plot(x[\"x\"])\n",
    "x = simulate(x0, lambda t: np.sin(np.pi * t))\n",
    "plt.plot(x[\"x\"], \"purple\")\n",
    "x = simulate(x0, lambda t: 0)\n",
    "plt.plot(x[\"x\"], \"gold\")"
   ]
  },
  {
   "cell_type": "code",
   "execution_count": null,
   "id": "3d0e6b8f",
   "metadata": {},
   "outputs": [],
   "source": [
    "n_repeats = 100\n",
    "rng = np.random.default_rng(0)\n",
    "dflist = []\n",
    "for i in range(n_repeats):\n",
    "    random_x0 = rng.uniform(-3, 3, 2)\n",
    "    dflist.append(simulate(random_x0, N=21))\n",
    "    dflist.append(simulate(random_x0, lambda t: -1, N=21))\n",
    "duffing_tsc = TSCDataFrame.from_frame_list(dflist)\n",
    "duffing_tsc.plot()"
   ]
  },
  {
   "cell_type": "code",
   "execution_count": null,
   "id": "8e8e36e7",
   "metadata": {},
   "outputs": [],
   "source": [
    "edmd_duffing = EDMDControl(\n",
    "    dict_steps=[\n",
    "        (\"poly\", TSCPolynomialFeatures(5, include_bias=True)),\n",
    "    ],\n",
    "    dmd_model=gDMDAffine(rcond=1e-6),\n",
    ")\n",
    "edmd_duffing.fit(duffing_tsc, split_by=\"name\", control=[\"u\"]);"
   ]
  },
  {
   "cell_type": "code",
   "execution_count": null,
   "id": "addc0fdc",
   "metadata": {},
   "outputs": [],
   "source": [
    "plt.figure(figsize=(8, 3))\n",
    "plt.subplot(121)\n",
    "plt.imshow(edmd_duffing.sys_matrix)\n",
    "plt.colorbar()\n",
    "plt.title(\"System matrix\")\n",
    "print(\"Sys eigenvalues: \", np.linalg.eigvals(edmd_duffing.sys_matrix))\n",
    "plt.subplot(122)\n",
    "plt.imshow(edmd_duffing.control_matrix[:, :, 0])\n",
    "plt.colorbar()\n",
    "plt.title(\"Control matrix\")\n",
    "print(\"Control eigenvalues: \", np.linalg.eigvals(edmd_duffing.control_matrix[:, :, 0]))"
   ]
  },
  {
   "cell_type": "code",
   "execution_count": null,
   "id": "5b649b3c",
   "metadata": {},
   "outputs": [],
   "source": [
    "n_samples = 50\n",
    "t = np.linspace(0, 2, n_samples)\n",
    "pred0 = edmd_duffing.predict(\n",
    "    InitialCondition.from_array(x0, columns=[\"x\", \"xdot\"]),\n",
    "    time_values=t,\n",
    "    control_input=-np.ones(n_samples),\n",
    ")\n",
    "plt.plot(t, pred0[\"x\"].values, \"tab:blue\", label=r\"$u=-1$\", linestyle=\"--\")\n",
    "pred0 = edmd_duffing.predict(\n",
    "    InitialCondition.from_array(x0, columns=[\"x\", \"xdot\"]),\n",
    "    time_values=t,\n",
    "    control_input=np.ones(n_samples),\n",
    ")\n",
    "plt.plot(t, pred0[\"x\"].values, \"tab:red\", label=r\"$u=1$\", linestyle=\"--\")\n",
    "pred0 = edmd_duffing.predict(\n",
    "    InitialCondition.from_array(x0, columns=[\"x\", \"xdot\"]),\n",
    "    time_values=t,\n",
    "    control_input=np.sin(np.pi * t),\n",
    ")\n",
    "plt.plot(t, pred0[\"x\"].values, \"purple\", label=r\"$u=sin(\\pi t)$\", linestyle=\"--\")\n",
    "pred0 = edmd_duffing.predict(\n",
    "    InitialCondition.from_array(x0, columns=[\"x\", \"xdot\"]),\n",
    "    time_values=t,\n",
    "    control_input=0 * np.ones(n_samples),\n",
    ")\n",
    "plt.plot(t, pred0[\"x\"].values, \"gold\", label=r\"$u=0$\", linestyle=\"--\")\n",
    "x = simulate(x0, lambda t: -1)\n",
    "plt.plot(x[\"x\"], \"tab:blue\")\n",
    "x = simulate(x0)\n",
    "plt.plot(x[\"x\"], \"tab:red\")\n",
    "x = simulate(x0, lambda t: np.sin(np.pi * t))\n",
    "plt.plot(x[\"x\"], \"purple\")\n",
    "x = simulate(x0, lambda t: 0)\n",
    "plt.plot(x[\"x\"], \"gold\")\n",
    "plt.legend();"
   ]
  },
  {
   "cell_type": "markdown",
   "id": "8169b9a8",
   "metadata": {},
   "source": [
    "### Inverted Pendulum"
   ]
  },
  {
   "cell_type": "code",
   "execution_count": null,
   "id": "7c15de93",
   "metadata": {},
   "outputs": [],
   "source": [
    "state_cols = [\"x\", \"xdot\", \"theta\", \"thetadot\"]\n",
    "control_cols = [\"u\"]\n",
    "\n",
    "# Data generation parameters\n",
    "sim_time_step = 0.01  # s\n",
    "sim_num_steps = 1000  # -\n",
    "training_size = 20  # -\n",
    "ic = InitialCondition.from_array(np.array([0, 0, np.pi, 0]), columns=state_cols)\n",
    "\n",
    "invertedPendulum = InvertedPendulum(initial_condition=ic.values)\n",
    "\n",
    "Xlist, Ulist = [], []\n",
    "np.random.seed(42)\n",
    "for i in range(training_size):\n",
    "    control_amplitude = 0.1 + 0.9 * np.random.random()\n",
    "    control_frequency = np.pi + 2 * np.pi * np.random.random()\n",
    "    control_phase = 2 * np.pi * np.random.random()\n",
    "    control_func = lambda t, y: control_amplitude * np.sin(\n",
    "        control_frequency * t + control_phase\n",
    "    )\n",
    "    invertedPendulum.reset()\n",
    "    traj = invertedPendulum.predict(\n",
    "        time_step=sim_time_step,\n",
    "        num_steps=sim_num_steps,\n",
    "        control_func=control_func,\n",
    "    )\n",
    "    assert (\n",
    "        invertedPendulum.sol.success\n",
    "    ), f\"Divergent solution for amplitude={control_amplitude}, frequency={control_frequency}\"\n",
    "    t = invertedPendulum.sol.t\n",
    "    dfx = pd.DataFrame(data=traj.T, index=t, columns=state_cols)\n",
    "    dfx[control_cols] = 0.0\n",
    "    Xlist.append(dfx)\n",
    "    control_input = control_func(t, traj)\n",
    "    dfu = pd.DataFrame(data=control_input, index=t, columns=control_cols)\n",
    "    for col in state_cols:\n",
    "        dfu[col] = 0.0\n",
    "    dfu = dfu[state_cols + control_cols]\n",
    "    Ulist.append(dfu)\n",
    "\n",
    "X_tsc = TSCDataFrame.from_frame_list(Xlist)[state_cols]\n",
    "X_tsc[control_cols] = TSCDataFrame.from_frame_list(Ulist)[control_cols]"
   ]
  },
  {
   "cell_type": "code",
   "execution_count": null,
   "id": "42a60821",
   "metadata": {},
   "outputs": [],
   "source": [
    "num_rbfs = 20\n",
    "eps = 1\n",
    "\n",
    "rbf = TSCRadialBasis(\n",
    "    kernel=InverseQuadraticKernel(epsilon=eps), center_type=\"fit_params\"\n",
    ")\n",
    "center_ids = sorted(\n",
    "    np.random.choice(\n",
    "        range(0, sim_num_steps * training_size), size=num_rbfs, replace=False\n",
    "    )\n",
    ")\n",
    "centers = X_tsc.iloc[center_ids].values"
   ]
  },
  {
   "cell_type": "code",
   "execution_count": null,
   "id": "858c7282",
   "metadata": {},
   "outputs": [],
   "source": [
    "edmdrbf = EDMDControl(\n",
    "    dict_steps=[\n",
    "        (\"rbf\", rbf),\n",
    "    ],\n",
    "    include_id_state=True,\n",
    "    dmd_model=gDMDAffine(rcond=1e-6),\n",
    ")\n",
    "\n",
    "edmdrbf.fit(\n",
    "    X_tsc,\n",
    "    split_by=\"name\",\n",
    "    state=state_cols,\n",
    "    control=control_cols,\n",
    "    rbf__centers=centers[:, :-1],\n",
    ")\n",
    "rbfprediction = edmdrbf.predict(\n",
    "    ic, control_input=np.atleast_2d(control_input).T, time_values=t\n",
    ")\n",
    "plt.figure(figsize=(16, 3))\n",
    "plt.subplot(121)\n",
    "plt.plot(rbfprediction[\"x\"].values[:100], label=\"prediction\")\n",
    "plt.plot(dfx[\"x\"].values[:100], label=\"actual\")\n",
    "plt.legend()\n",
    "plt.title(r\"EDMD(100 random rbf) prediction - cart position $x$\")\n",
    "plt.subplot(122)\n",
    "plt.plot(rbfprediction[\"theta\"].values[:100], label=\"prediction\")\n",
    "plt.plot(dfx[\"theta\"].values[:100], label=\"actual\")\n",
    "plt.legend()\n",
    "plt.title(r\"EDMD(100 random rbf) prediction - pendulum angle $\\theta$\");"
   ]
  },
  {
   "cell_type": "code",
   "execution_count": null,
   "id": "2cc7d80a",
   "metadata": {},
   "outputs": [],
   "source": [
    "edmdrbf.predict(\n",
    "    ic, control_input=np.atleast_2d(control_input[:10]).T, time_values=t[:10]\n",
    ")"
   ]
  },
  {
   "cell_type": "markdown",
   "id": "900371f3",
   "metadata": {},
   "source": [
    "## KMPC"
   ]
  },
  {
   "cell_type": "markdown",
   "id": "eef856e7",
   "metadata": {},
   "source": [
    "### Implementation"
   ]
  },
  {
   "cell_type": "code",
   "execution_count": null,
   "id": "2d7b30fe",
   "metadata": {},
   "outputs": [],
   "source": [
    "class KMPC_Peitz(object):\n",
    "    def __init__(\n",
    "        self,\n",
    "        predictor: EDMDControl,\n",
    "        horizon: int,\n",
    "        input_bounds: np.array,\n",
    "        cost_state: np.array,\n",
    "        cost_input: np.array,\n",
    "    ):\n",
    "        self.predictor = predictor\n",
    "\n",
    "        self.horizon = horizon\n",
    "\n",
    "        self.L = predictor.sys_matrix\n",
    "        self.B = predictor.control_matrix\n",
    "        self.lifted_state_size, _, self.input_size = self.B.shape\n",
    "        self.state_size = len(predictor.state_columns)\n",
    "\n",
    "        self.input_bounds = np.repeat(input_bounds.T, self.horizon + 1, axis=1).T\n",
    "        self.cost_state = cost_state\n",
    "        self.cost_input = cost_input\n",
    "        self._cached_input = None\n",
    "        self._cached_state = None\n",
    "        self._cached_prediction = None\n",
    "\n",
    "    def _predict(self, x0, u, t):\n",
    "        # -> shape (self.lifted_state_size, self.horizon+1)\n",
    "        if (self._cached_input != u).any() or (self._cached_state != x0).any:\n",
    "            tsc = self.predictor.predict(\n",
    "                InitialCondition.from_array(x0.T, self.predictor.state_columns),\n",
    "                control_input=u.T[np.newaxis],\n",
    "                time_values=t,\n",
    "                lifted_state=True,\n",
    "                check_inputs=False,\n",
    "            )\n",
    "            self._cached_prediction = tsc.values.T\n",
    "            self._cached_input = u\n",
    "            self._cached_state = x0\n",
    "        return self._cached_prediction\n",
    "\n",
    "    def cost(self, u, x0, xref, t):\n",
    "        \"\"\"_summary_\n",
    "\n",
    "        Parameters\n",
    "        ----------\n",
    "        u : np.array\n",
    "            shape = (n*m,)\n",
    "            [u1(t0) u1(t1) ... u1(tn) u2(t1) ... um(tn)]\n",
    "            with `n = self.horizon+1`; `m = self.input_size`\n",
    "        x0 : np.array\n",
    "            shape = `(self.state_size, 1)`\n",
    "        xref : np.array\n",
    "            shape = `(self.state_size, 1)`\n",
    "\n",
    "        Returns\n",
    "        ---------\n",
    "        float\n",
    "        \"\"\"\n",
    "        u = u.reshape(self.input_size, self.horizon + 1)\n",
    "        x = self._predict(x0, u, t)[: self.state_size, :]\n",
    "        Lhat = self.cost_state * np.linalg.norm(\n",
    "            x - xref, axis=0\n",
    "        ) + self.cost_input * np.linalg.norm(u, axis=0)\n",
    "        J = np.sum(Lhat)\n",
    "        # print('J', J)\n",
    "        # print('u', u)\n",
    "        # print('x', x)\n",
    "        return J\n",
    "\n",
    "    def jacobian(self, u, x0, xref, t):\n",
    "        \"\"\"_summary_\n",
    "\n",
    "        Parameters\n",
    "        ----------\n",
    "        u : np.array\n",
    "            shape = (n*m,)\n",
    "            [u1(t0) u1(t1) ... u1(tn) u2(t1) ... um(tn)]\n",
    "            with `n = self.horizon+1`; `m = self.input_size`\n",
    "        x0 : np.array\n",
    "            shape = `(self.state_size, 1)`\n",
    "        xref : np.array\n",
    "            shape = `(self.state_size, 1)`\n",
    "\n",
    "        Returns\n",
    "        ---------\n",
    "        array_like, shape (n*m,)\n",
    "        [dJ/du1(t0) dJ/du1(t1) ... dJ/du1(tn) dJ/du2(t1) ... dJ/dum(tn)]\n",
    "        \"\"\"\n",
    "        u = u.reshape(self.input_size, self.horizon + 1)\n",
    "        x = self._predict(x0, u, t)  # shape = (lifted_state_size, horizon+1)\n",
    "        interp_gamma = interp1d(t, self._dcost_dx(x, xref), axis=1)\n",
    "        interp_u = interp1d(t, u, axis=1)\n",
    "\n",
    "        lambda_adjoint = self._compute_lambda_adjoint(\n",
    "            interp_u, interp_gamma, t\n",
    "        )  # shape = (lifted_state_size,horizon+1)\n",
    "        rho = self._dcost_du(u)  # shape = (input_size, horizon+1)\n",
    "\n",
    "        # self.B.shape = (lifted_state_size, lifted_state_size, input_size)\n",
    "        # (x.T @ self.B.T).shape = (input_size, horizon+1, lifted_state_size)\n",
    "        # einsum(...).shape = rho.shape = (input_size, horizon+1)\n",
    "        jac = np.einsum(\"ijk,kj->ij\", x.T @ self.B.T, lambda_adjoint) + rho\n",
    "        # print('jac', jac)\n",
    "        # print(lambda_adjoint)\n",
    "        return jac.ravel()\n",
    "\n",
    "    def _lambda_ajoint_ODE(self, t, y, interp_u, interp_gamma):\n",
    "        return (\n",
    "            -interp_gamma(t)\n",
    "            - self.L.T @ y\n",
    "            - np.einsum(\"ijk,i->jk\", self.B.T, interp_u(t)) @ y\n",
    "        )\n",
    "\n",
    "    def _compute_lambda_adjoint(self, interp_u, interp_gamma, t):\n",
    "        sol = solve_ivp(\n",
    "            self._lambda_ajoint_ODE,\n",
    "            y0=np.zeros(self.lifted_state_size),\n",
    "            t_span=[t[-1], t[0]],\n",
    "            t_eval=t[::-1],\n",
    "            args=(interp_u, interp_gamma),\n",
    "        )\n",
    "        if not sol.success:\n",
    "            raise RuntimeError(\n",
    "                \"Could not integrate the adjoint dynamics. Solver says '{sol.message}'\"\n",
    "            )\n",
    "        return np.fliplr(sol.y)\n",
    "\n",
    "    def _dcost_dx(self, x, xref):\n",
    "        # gamma(t0:te)\n",
    "        gamma = np.zeros((self.lifted_state_size, self.horizon + 1))\n",
    "        gamma[: self.state_size, :] = (\n",
    "            self.cost_state * 2 * (x[: self.state_size, :] - xref)\n",
    "        )\n",
    "        return gamma\n",
    "\n",
    "    def _dcost_du(self, u):\n",
    "        # rho(t0:te)\n",
    "        return self.cost_input * 2 * (u)\n",
    "\n",
    "    def generate_control_signal(self, x0, xref, t, **minimization_kwargs):\n",
    "        # x0.shape = (nc,1)\n",
    "        # xref.shape = (nc,n)\n",
    "        # t.shape = (n,)\n",
    "        if t.shape != (self.horizon + 1,):\n",
    "            raise ValueError(f\"t is of shape {t.shape}, should be ({self.horizon+1},)\")\n",
    "        u_init = np.zeros(\n",
    "            (self.input_size, self.horizon + 1)\n",
    "        ).ravel()  # [u1(t1) u1(t2) ... u1(tn) u2(t1) ... um(tn)]\n",
    "        res = minimize(\n",
    "            fun=self.cost,\n",
    "            x0=u_init,\n",
    "            args=(if1dim_colvec(x0), if1dim_colvec(xref), t),\n",
    "            method=\"L-BFGS-B\",\n",
    "            jac=self.jacobian,\n",
    "            bounds=self.input_bounds,\n",
    "            **minimization_kwargs,\n",
    "        )\n",
    "\n",
    "        if not res.success:\n",
    "            raise RuntimeError(\n",
    "                f\"Could not find a minimum solution. Solver says '{res.message}'\"\n",
    "            )\n",
    "\n",
    "        return res.x.reshape(self.input_size, self.horizon + 1)"
   ]
  },
  {
   "cell_type": "markdown",
   "id": "458b9482",
   "metadata": {},
   "source": [
    "### Duffing"
   ]
  },
  {
   "cell_type": "code",
   "execution_count": null,
   "id": "9a649e57",
   "metadata": {},
   "outputs": [],
   "source": [
    "horizon_size = 5\n",
    "horizon_time = 1\n",
    "kmpc_duffing = KMPC_Peitz(\n",
    "    edmd_duffing,\n",
    "    horizon=horizon_size,\n",
    "    input_bounds=np.array([[-1, 1]]),\n",
    "    cost_state=1,\n",
    "    cost_input=0,\n",
    ")\n",
    "x0 = np.array([0.15, -0.9])\n",
    "t = np.linspace(0, horizon_time, horizon_size + 1)\n",
    "xref = np.zeros((2, horizon_size + 1))\n",
    "# xref[0,100:200] = 1.0\n",
    "# xref[0,200:300] = -1.0\n",
    "%prun -s \"cumulative\" u = kmpc_duffing.generate_control_signal(x0,xref,t,tol=1e-3)"
   ]
  },
  {
   "cell_type": "markdown",
   "id": "9683ed12",
   "metadata": {},
   "source": [
    "#### Long horizon"
   ]
  },
  {
   "cell_type": "code",
   "execution_count": null,
   "id": "7bf04d44",
   "metadata": {},
   "outputs": [],
   "source": [
    "horizon_size = 20\n",
    "horizon_time = 5\n",
    "kmpc_duffing = KMPC_Peitz(\n",
    "    edmd_duffing,\n",
    "    horizon=horizon_size,\n",
    "    input_bounds=np.array([[-1, 1]]),\n",
    "    cost_state=1,\n",
    "    cost_input=0,\n",
    ")\n",
    "x0 = np.array([0.15, -0.9])\n",
    "t = np.linspace(0, horizon_time, horizon_size + 1)\n",
    "xref = np.zeros((2, horizon_size + 1))\n",
    "# xref[0,100:200] = 1.0\n",
    "# xref[0,200:300] = -1.0\n",
    "u = kmpc_duffing.generate_control_signal(x0, xref, t, tol=1e-3)"
   ]
  },
  {
   "cell_type": "code",
   "execution_count": null,
   "id": "19bfd918",
   "metadata": {},
   "outputs": [],
   "source": [
    "edmd_duffing.predict(x0, time_values=t, control_input=u.T).plot()\n",
    "plt.plot(t, u.T, color=\"g\")"
   ]
  },
  {
   "cell_type": "code",
   "execution_count": null,
   "id": "9c153c7d",
   "metadata": {},
   "outputs": [],
   "source": [
    "u_interp = interp1d(t, u)\n",
    "x = simulate(x0, lambda t: u_interp(t).T, tf=5)\n",
    "x.plot()"
   ]
  },
  {
   "cell_type": "markdown",
   "id": "3b7e7c11",
   "metadata": {},
   "source": [
    "#### Sliding window"
   ]
  },
  {
   "cell_type": "code",
   "execution_count": null,
   "id": "2cf9304b",
   "metadata": {},
   "outputs": [],
   "source": [
    "horizon_size = 5\n",
    "dt = 0.4\n",
    "horizon_time = horizon_size * dt\n",
    "total_time = 20\n",
    "timesteps = int(total_time / dt)\n",
    "t = np.arange(timesteps + 1) * dt\n",
    "ulist = []\n",
    "xlist = []\n",
    "xref = np.zeros((2, timesteps + 1))\n",
    "xref[0, 25:50] = 1.0\n",
    "# xref[0,200:300] = -1.0\n",
    "x0 = np.array([0.1, -0.9])\n",
    "kmpc_duffing = KMPC_Peitz(\n",
    "    edmd_duffing,\n",
    "    horizon=horizon_size,\n",
    "    input_bounds=1.1 * np.array([[-1, 1]]),\n",
    "    cost_state=1,\n",
    "    cost_input=0,\n",
    ")\n",
    "xx0 = x0\n",
    "for i in range(int(total_time / horizon_time)):\n",
    "    xxref = xref[:, i * horizon_size : (i + 1) * horizon_size + 1]\n",
    "    tt = t[i * horizon_size : (i + 1) * horizon_size + 1]\n",
    "    u = kmpc_duffing.generate_control_signal(\n",
    "        xx0, xxref, tt, tol=1e-3, options={\"ftol\": 1e-3}\n",
    "    )\n",
    "    u_interp = interp1d(tt, u)\n",
    "    xx = simulate(xx0, lambda t: u_interp(t).T, N=horizon_size + 1, t0=tt[0], tf=tt[-1])\n",
    "    xx0 = xx[[\"x\", \"xdot\"]].values[-1]\n",
    "    print(f\"{i}/{int(total_time/horizon_time)}\")\n",
    "    xlist.append(xx.iloc[:-1])"
   ]
  },
  {
   "cell_type": "code",
   "execution_count": null,
   "id": "bed57d6b",
   "metadata": {},
   "outputs": [],
   "source": [
    "TSCDataFrame.from_frame_list(xlist).plot()"
   ]
  },
  {
   "cell_type": "markdown",
   "id": "6c2f522e",
   "metadata": {},
   "source": [
    "## Appendix \n",
    "### Einsum test"
   ]
  },
  {
   "cell_type": "code",
   "execution_count": null,
   "id": "b4139220",
   "metadata": {},
   "outputs": [],
   "source": [
    "np.einsum(\n",
    "    \"ij,ik->ijk\",\n",
    "    np.array([[1, -1], [2, -2], [3, -3]]),\n",
    "    np.array([[0.1, 0.2, 0.3, 0.4], [1.1, 1.2, 1.3, 1.4], [10.1, 12.1, 13.1, 14.1]]),\n",
    ").reshape(3, 2 * 4)"
   ]
  },
  {
   "cell_type": "code",
   "execution_count": null,
   "id": "95395456",
   "metadata": {},
   "outputs": [],
   "source": [
    "np.einsum(\n",
    "    \"ij,ik->ijk\",\n",
    "    np.array([[0.1, 0.2, 0.3, 0.4], [1.1, 1.2, 1.3, 1.4], [10.1, 12.1, 13.1, 14.1]]),\n",
    "    np.array([[1, -1], [2, -2], [3, -3]]),\n",
    ").reshape(3, 2 * 4)"
   ]
  },
  {
   "cell_type": "markdown",
   "id": "9797a68a",
   "metadata": {},
   "source": [
    "### IVP backwards test"
   ]
  },
  {
   "cell_type": "code",
   "execution_count": null,
   "id": "dfadb8e9",
   "metadata": {},
   "outputs": [],
   "source": [
    "sol = solve_ivp(\n",
    "    lambda t, y: np.cos(t),\n",
    "    y0=np.array([0]),\n",
    "    t_span=[5, 0.0],\n",
    "    t_eval=np.linspace(5, 0.0),\n",
    ")\n",
    "plt.plot(sol.t, sol.y.T)\n",
    "plt.plot(np.linspace(0, 5), sol.y.T)\n",
    "np.fliplr(sol.y)"
   ]
  },
  {
   "cell_type": "markdown",
   "id": "e4c76dc4",
   "metadata": {},
   "source": [
    "### Einsum test 2"
   ]
  },
  {
   "cell_type": "code",
   "execution_count": null,
   "id": "b43baf1c",
   "metadata": {},
   "outputs": [],
   "source": [
    "no = 4\n",
    "m = 2\n",
    "n = 3\n",
    "Bt = np.random.rand(no, no, m)\n",
    "Bt"
   ]
  },
  {
   "cell_type": "code",
   "execution_count": null,
   "id": "3177c352",
   "metadata": {},
   "outputs": [],
   "source": [
    "z = 10 * np.arange(no).reshape(no, 1)\n",
    "\n",
    "(z.T @ Bt.T).squeeze().T"
   ]
  },
  {
   "cell_type": "code",
   "execution_count": null,
   "id": "ad8a2387",
   "metadata": {},
   "outputs": [],
   "source": [
    "np.vstack([z.T @ Bt[:, :, 0].T, z.T @ Bt[:, :, 1].T])"
   ]
  },
  {
   "cell_type": "code",
   "execution_count": null,
   "id": "871ac42d",
   "metadata": {},
   "outputs": [],
   "source": [
    "zt = np.hstack([z + i for i in range(n)])\n",
    "print(zt)\n",
    "zt.T @ Bt.T"
   ]
  },
  {
   "cell_type": "code",
   "execution_count": null,
   "id": "78545338",
   "metadata": {},
   "outputs": [],
   "source": [
    "lt = np.arange(n * no).reshape(no, n)\n",
    "lt"
   ]
  },
  {
   "cell_type": "code",
   "execution_count": null,
   "id": "4761ca9c",
   "metadata": {},
   "outputs": [],
   "source": [
    "for i in range(n):\n",
    "    print(\n",
    "        np.vstack([zt[:, i].T @ Bt[:, :, 0].T, zt[:, i].T @ Bt[:, :, 1].T]) @ lt[:, i]\n",
    "    )"
   ]
  },
  {
   "cell_type": "code",
   "execution_count": null,
   "id": "562a254e",
   "metadata": {},
   "outputs": [],
   "source": [
    "np.einsum(\"ijk,kj->ij\", zt.T @ Bt.T, lt)"
   ]
  },
  {
   "cell_type": "markdown",
   "id": "c3356819",
   "metadata": {},
   "source": [
    "### Misc"
   ]
  },
  {
   "cell_type": "code",
   "execution_count": null,
   "id": "68588348",
   "metadata": {},
   "outputs": [],
   "source": [
    "np.repeat(np.array([[-1, 1], [-2, 2]]).T, 3, axis=1).T"
   ]
  },
  {
   "cell_type": "code",
   "execution_count": null,
   "id": "5c3e26eb",
   "metadata": {},
   "outputs": [],
   "source": [
    "L = np.random.rand(4, 4)\n",
    "y = np.random.rand(4, 1)\n",
    "ut = np.random.rand(2)\n",
    "\n",
    "Bt.T @ ut @ y"
   ]
  },
  {
   "cell_type": "code",
   "execution_count": null,
   "id": "c40aa1cb",
   "metadata": {},
   "outputs": [],
   "source": [
    "np.einsum(\"ijk,i->jk\", Bt.T, ut)"
   ]
  },
  {
   "cell_type": "code",
   "execution_count": null,
   "id": "4f37cc68",
   "metadata": {},
   "outputs": [],
   "source": [
    "Bt[:, :, 0].T * ut[0] + Bt[:, :, 1].T * ut[1]"
   ]
  },
  {
   "cell_type": "code",
   "execution_count": null,
   "id": "4bb47682",
   "metadata": {},
   "outputs": [],
   "source": []
  }
 ],
 "metadata": {
  "kernelspec": {
   "display_name": "Python 3 (ipykernel)",
   "language": "python",
   "name": "python3"
  },
  "language_info": {
   "codemirror_mode": {
    "name": "ipython",
    "version": 3
   },
   "file_extension": ".py",
   "mimetype": "text/x-python",
   "name": "python",
   "nbconvert_exporter": "python",
   "pygments_lexer": "ipython3",
   "version": "3.7.5"
  }
 },
 "nbformat": 4,
 "nbformat_minor": 5
}
