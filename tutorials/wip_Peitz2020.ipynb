{
 "cells": [
  {
   "cell_type": "code",
   "execution_count": 1,
   "id": "41c5b00b",
   "metadata": {},
   "outputs": [],
   "source": [
    "%load_ext autoreload\n",
    "%autoreload 2"
   ]
  },
  {
   "cell_type": "code",
   "execution_count": 2,
   "id": "485948ef",
   "metadata": {},
   "outputs": [],
   "source": [
    "from datafold.dynfold.dmd import ControlledLinearDynamicalSystem, DynamicalSystemBase, DMDBase, DMDControl, LinearDynamicalSystem\n",
    "from datafold.pcfold import TSCDataFrame\n",
    "import numpy as np\n",
    "import numpy.testing as nptest\n",
    "import pandas.testing as pdtest\n",
    "\n",
    "from scipy.integrate import solve_ivp\n",
    "from scipy.interpolate import interp1d\n",
    "from typing import Optional, List\n",
    "import unittest\n",
    "import warnings"
   ]
  },
  {
   "cell_type": "markdown",
   "id": "108466fa",
   "metadata": {},
   "source": [
    "### Implementatiom"
   ]
  },
  {
   "cell_type": "code",
   "execution_count": 3,
   "id": "be56e998",
   "metadata": {},
   "outputs": [],
   "source": [
    "class ControlledAffineDynamicalSystem(ControlledLinearDynamicalSystem):\n",
    "    def __init__(self, time_invariant=True):\n",
    "        super(ControlledAffineDynamicalSystem, self).__init__(time_invariant=time_invariant)\n",
    "        self.sys_type = \"differential\"\n",
    "        self._evolve_system_states_integer = self._evolve_system_states\n",
    "\n",
    "    def _check_control_matrix(self, control_matrix):\n",
    "        if control_matrix is None:\n",
    "            control_matrix = self.control_matrix_\n",
    "        else:\n",
    "            if not isinstance(control_matrix, np.ndarray) or control_matrix.ndim != 3:\n",
    "                raise ValueError(\"The control matrix tensor must be 3-dim. and of type np.ndarray\")\n",
    "\n",
    "            if control_matrix.shape[:2] != self.system_matrix_.shape:\n",
    "                raise ValueError(\n",
    "                    \"control_matrix and system_matrix must have the same number of rows and columns\"\n",
    "                )\n",
    "            self.control_matrix_ = control_matrix\n",
    "        return control_matrix\n",
    "\n",
    "    def setup_matrix_system(\n",
    "        self,\n",
    "        system_matrix: np.ndarray,\n",
    "        control_matrix: np.ndarray,\n",
    "    ):\n",
    "        r\"\"\"Set up control affine system with system matrix and control matrix.\n",
    "\n",
    "        Parameters\n",
    "        ----------\n",
    "        system_matrix\n",
    "            The system matrix :math:`A` in differential representation\n",
    "\n",
    "        control_matrix\n",
    "            The control tensor :math:`B`\n",
    "\n",
    "        Returns\n",
    "        -------\n",
    "        ControlledLinearDynamicalSystem\n",
    "            self\n",
    "        \"\"\"\n",
    "        self._check_matrix(system_matrix)\n",
    "        if not isinstance(control_matrix, np.ndarray) or control_matrix.ndim != 3:\n",
    "            raise ValueError(\"The control matrix tensor must be 3-dim. and of type np.ndarray\")\n",
    "\n",
    "        if control_matrix.shape[:2] != system_matrix.shape:\n",
    "            raise ValueError(\n",
    "                \"control_matrix and system_matrix must have the same number of rows and columns\"\n",
    "            )\n",
    "        self.sys_matrix_ = system_matrix\n",
    "        self.control_matrix_ = control_matrix\n",
    "        return self\n",
    "\n",
    "    def _evolve_system_states(\n",
    "        self,\n",
    "        time_series_tensor: np.ndarray,\n",
    "        sys_matrix: np.ndarray,\n",
    "        control_matrix: np.ndarray,\n",
    "        initial_conditions: np.ndarray,\n",
    "        control_input: np.ndarray,\n",
    "        time_values: np.ndarray,\n",
    "        time_delta: Optional[float] = None,\n",
    "    ) -> np.ndarray:\n",
    "        \n",
    "        interp_control = interp1d(time_values, control_input[0], axis=0)\n",
    "        \n",
    "        affine_system_func = lambda t, state: (\n",
    "            sys_matrix @ state + control_matrix @ interp_control(t) @ state\n",
    "        )\n",
    "        \n",
    "        ivp_solution = solve_ivp(\n",
    "            affine_system_func,\n",
    "            t_span=(time_values[0], time_values[-1]),\n",
    "            y0=initial_conditions.flatten(),\n",
    "            t_eval = time_values)\n",
    "        \n",
    "        if not ivp_solution.success:\n",
    "            raise RuntimeError(\"The system could not be envolved for the requested timespan.\")\n",
    "\n",
    "        time_series_tensor[:] = ivp_solution.y.T\n",
    "\n",
    "        return time_series_tensor"
   ]
  },
  {
   "cell_type": "code",
   "execution_count": 147,
   "id": "ca0e82d0",
   "metadata": {},
   "outputs": [],
   "source": [
    "class DMDAffine(ControlledAffineDynamicalSystem, DMDControl):\n",
    "    def __init__(\n",
    "        self,\n",
    "        *,  # keyword-only\n",
    "        rcond: Optional[float] = None,\n",
    "        state_columns: Optional[List[str]] = None,\n",
    "        control_columns: Optional[List[str]] = None,\n",
    "    ):\n",
    "        self.rcond = rcond\n",
    "        if state_columns is not None and control_columns is not None:\n",
    "            self.state_columns = state_columns\n",
    "            self.control_columns = control_columns\n",
    "        super(DMDAffine, self).__init__(time_invariant=True)\n",
    "        \n",
    "    def _compute_koompan_matrices(\n",
    "        self,\n",
    "        state: TSCDataFrame,\n",
    "        control_inp: TSCDataFrame,\n",
    "    ):\n",
    "        # TODO: add options to configure derivative\n",
    "        Xdot_tsc = state.tsc.time_derivative()\n",
    "        # trim samples where derivative is unknown\n",
    "        X = state.select_time_values(Xdot_tsc.time_values()).values\n",
    "        U = control_inp.select_time_values(Xdot_tsc.time_values()).values\n",
    "        Xdot = Xdot_tsc.values\n",
    "\n",
    "        n_snapshots = X.shape[0]\n",
    "        state_cols = X.shape[1]\n",
    "        control_cols = U.shape[1]\n",
    "        if state_cols > n_snapshots:\n",
    "            warnings.warn(\n",
    "                \"There are more observables than snapshots. The current implementation \"\n",
    "                \"favors more snapshots than obserables. This may result in a bad \"\n",
    "                \"computational performance.\"\n",
    "            )\n",
    "        \n",
    "        # columnwise kronecker product\n",
    "        u_x_cwise_kron = np.einsum('ij,ik->ijk',U,X).reshape(n_snapshots,control_cols*state_cols)\n",
    "\n",
    "        # match naming convention from Peitz 2020\n",
    "        Psi_XU = np.vstack([X.T, u_x_cwise_kron.T])\n",
    "        Psidot_XU = Xdot.T\n",
    "        #print(\"PsiXU\")\n",
    "        #print(Psi_XU)\n",
    "        #print(np.linalg.cond(Psi_XU))\n",
    "        #print(\"PsidotXU\")\n",
    "        #print(Psidot_XU)\n",
    "        #print(np.linalg.cond(Psidot_XU))\n",
    "        Mu = Psidot_XU @ np.linalg.pinv(Psi_XU)\n",
    "        MuT = Mu.T\n",
    "        #print(MuT)\n",
    "        # Solve via normal equations\n",
    "        G = Psi_XU @ Psi_XU.T\n",
    "        np.multiply(1 / n_snapshots, G, out=G)  # improve condition?\n",
    "        V = Psidot_XU @ Psi_XU.T\n",
    "        np.multiply(1 / n_snapshots, V, out=V)  # improve condition?\n",
    "\n",
    "        #V = Mu @ G => V.T = G.T @ Mu.T\n",
    "        MuT, residual, rank, _ = np.linalg.lstsq(G.T, V.T, rcond=self.rcond)\n",
    "        #print('next')\n",
    "        #print(MuT)\n",
    "        if rank != G.shape[1]:\n",
    "            warnings.warn(\n",
    "                f\"Shift matrix (shape={G.shape}) has not full rank (={rank}), falling \"\n",
    "                f\"back to least squares solution. The sum of residuals is: \"\n",
    "                f\"{np.sum(residual)}\"\n",
    "            )\n",
    "        \n",
    "        sys_matrix = MuT.conj().T[:, :state_cols]\n",
    "        control_matrix = MuT.conj().T[:, state_cols:]\n",
    "\n",
    "        # reshape the matrix to a tensor\n",
    "        control_tensor = control_matrix.reshape(state_cols,control_cols,state_cols).swapaxes(1,2).swapaxes(0,1)\n",
    "        #print(sys_matrix.shape, control_tensor.shape)\n",
    "        return sys_matrix, control_tensor"
   ]
  },
  {
   "cell_type": "markdown",
   "id": "faecbddc",
   "metadata": {},
   "source": [
    "### Unit tests"
   ]
  },
  {
   "cell_type": "code",
   "execution_count": 5,
   "id": "ab782a07",
   "metadata": {},
   "outputs": [],
   "source": [
    "class ControlledAffineDynamicalSystemTest(unittest.TestCase):\n",
    "    def setUp(self) -> None:\n",
    "        gen = np.random.default_rng(42)\n",
    "        self.state_size = 4\n",
    "        self.input_size = 2\n",
    "        self.n_timesteps = 6\n",
    "        self.A = gen.uniform(-1.0, 1.0, size=(self.state_size, self.state_size))\n",
    "        self.x0 = gen.uniform(-1.0, 1.0, size=self.state_size)\n",
    "        Bi = [gen.uniform(-1.0, 1.0, size=(self.state_size, self.state_size)) for i in range(self.input_size)]\n",
    "        self.u = gen.uniform(-1.0, 1.0, size=(self.n_timesteps, self.input_size))\n",
    "        self.t = np.linspace(0, self.n_timesteps - 1, self.n_timesteps)\n",
    "        self.names = [\"x\" + str(i + 1) for i in range(self.state_size)]\n",
    "        u_interp = interp1d(self.t, self.u, axis=0)\n",
    "        \n",
    "        def affine_sys_func(t, x):\n",
    "            u = u_interp(t)\n",
    "            B = np.zeros((self.state_size, self.state_size))\n",
    "            for i in range(self.input_size):\n",
    "                B += Bi[i] * u[i]\n",
    "            x = self.A @ x + B @ x\n",
    "            return x\n",
    "\n",
    "        ivp_solution = solve_ivp(\n",
    "            affine_sys_func,\n",
    "            t_span=(self.t[0], self.t[-1]),\n",
    "            y0=self.x0,\n",
    "            t_eval = self.t)\n",
    "        self.expected = ivp_solution.y.T\n",
    "        self.Bi = np.stack(Bi, 2)\n",
    "\n",
    "\n",
    "    def test_affine_system(self):\n",
    "        actual = (\n",
    "            ControlledAffineDynamicalSystem()\n",
    "            .setup_matrix_system(self.A, self.Bi)\n",
    "            .evolve_system(self.x0, self.u)\n",
    "        )\n",
    "\n",
    "        nptest.assert_allclose(actual.to_numpy(), self.expected, atol=1e-8, rtol=1e-13)\n",
    "\n",
    "    def test_affine_vs_linear(self):\n",
    "        \n",
    "        controlled = (\n",
    "            ControlledAffineDynamicalSystem()\n",
    "            .setup_matrix_system(self.A, self.Bi)\n",
    "            .evolve_system(self.x0, np.zeros(self.u.shape))\n",
    "        )\n",
    "        linear = (\n",
    "            LinearDynamicalSystem(sys_type=\"differential\", sys_mode=\"matrix\")\n",
    "            .setup_matrix_system(self.A)\n",
    "            .evolve_system(self.x0, self.t, time_delta=self.t[1])\n",
    "        )\n",
    "\n",
    "        # use high tolerance since RK numerical integration compared to matrix exponent\n",
    "        nptest.assert_allclose(\n",
    "            controlled.to_numpy(), linear.to_numpy(), rtol=0.01\n",
    "        )"
   ]
  },
  {
   "cell_type": "code",
   "execution_count": 9,
   "id": "8650a491",
   "metadata": {},
   "outputs": [
    {
     "name": "stderr",
     "output_type": "stream",
     "text": [
      "test_affine_system (__main__.ControlledAffineDynamicalSystemTest) ... ok\n",
      "test_affine_vs_linear (__main__.ControlledAffineDynamicalSystemTest) ... ok\n",
      "test_dmda_control (__main__.DMDAffineTest) ... FAIL\n",
      "test_dmda_free (__main__.DMDAffineTest) ... C:\\Users\\etodorov\\AppData\\Local\\Temp/ipykernel_14608/1999665609.py:59: UserWarning: Shift matrix (shape=(12, 12)) has not full rank (=4), falling back to least squares solution. The sum of residuals is: 0.0\n",
      "  warnings.warn(\n",
      "ok\n",
      "\n",
      "======================================================================\n",
      "FAIL: test_dmda_control (__main__.DMDAffineTest)\n",
      "----------------------------------------------------------------------\n",
      "Traceback (most recent call last):\n",
      "  File \"C:\\Users\\etodorov\\AppData\\Local\\Temp/ipykernel_14608/3005077945.py\", line 90, in test_dmda_control\n",
      "    pdtest.assert_frame_equal(actual, expected)\n",
      "  File \"C:\\Users\\etodorov\\anaconda3\\envs\\.venv\\lib\\site-packages\\pandas\\_testing.py\", line 1704, in assert_frame_equal\n",
      "    assert_series_equal(\n",
      "  File \"C:\\Users\\etodorov\\anaconda3\\envs\\.venv\\lib\\site-packages\\pandas\\_testing.py\", line 1477, in assert_series_equal\n",
      "    _testing.assert_almost_equal(\n",
      "  File \"pandas\\_libs\\testing.pyx\", line 46, in pandas._libs.testing.assert_almost_equal\n",
      "  File \"pandas\\_libs\\testing.pyx\", line 161, in pandas._libs.testing.assert_almost_equal\n",
      "  File \"C:\\Users\\etodorov\\anaconda3\\envs\\.venv\\lib\\site-packages\\pandas\\_testing.py\", line 1073, in raise_assert_detail\n",
      "    raise AssertionError(msg)\n",
      "AssertionError: DataFrame.iloc[:, 0] (column name=\"x1\") are different\n",
      "\n",
      "DataFrame.iloc[:, 0] (column name=\"x1\") values are different (80.0 %)\n",
      "[index]: [(0, 4.5), (0, 4.6000000000000005), (0, 4.7), (0, 4.800000000000001), (0, 4.9)]\n",
      "[left]:  [-0.48187472025037864, 0.05411754706783614, -0.3071343427763117, -0.7287412504367881, -0.20827472049385895]\n",
      "[right]: [-0.48187472025037864, -0.6488794655720398, -0.7405927064655238, -0.8465190313860852, -0.973080997475243]\n",
      "\n",
      "----------------------------------------------------------------------\n",
      "Ran 4 tests in 1.085s\n",
      "\n",
      "FAILED (failures=1)\n"
     ]
    },
    {
     "data": {
      "text/plain": [
       "<unittest.main.TestProgram at 0x24a091a6460>"
      ]
     },
     "execution_count": 9,
     "metadata": {},
     "output_type": "execute_result"
    }
   ],
   "source": [
    "class DMDAffineTest(unittest.TestCase):\n",
    "    def  _create_control_tsc(self, state_size, input_size, n_timesteps):\n",
    "        gen = np.random.default_rng(42)\n",
    "\n",
    "        A = gen.uniform(-1.0, 1.0, size=(state_size, state_size))-np.diag(np.ones(state_size))\n",
    "        x0 = gen.uniform(-1.0, 1.0, size=state_size)\n",
    "        Bi = np.stack([gen.uniform(-1.0, 1.0, size=(state_size, state_size))-np.diag(np.ones(state_size)) for i in range(input_size)],2)\n",
    "        u = gen.uniform(-1.0, 1.0, size=(n_timesteps, input_size))\n",
    "        #u = np.repeat(gen.uniform(-1.0, 1.0, size=(1,input_size)),n_timesteps,axis=0) \n",
    "        #u = np.zeros((n_timesteps, input_size))\n",
    "        t = np.linspace(0, n_timesteps - 1, n_timesteps)*0.1\n",
    "        names = [\"x\" + str(i + 1) for i in range(state_size)]\n",
    "\n",
    "        tsc_df = (\n",
    "            ControlledAffineDynamicalSystem()\n",
    "            .setup_matrix_system(A, Bi)\n",
    "            .evolve_system(x0, u, time_values = t, time_delta = 0.1, feature_names_out=names)\n",
    "        )\n",
    "        #print(tsc_df)\n",
    "        #print(A)\n",
    "        #print(Bi)\n",
    "        for i in range(input_size):\n",
    "            tsc_df[\"u\" + str(i + 1)] = u[:, i]\n",
    "\n",
    "        return tsc_df\n",
    "    \n",
    "    def  _create_control_free_tsc(self, state_size, input_size, n_timesteps):\n",
    "        gen = np.random.default_rng(42)\n",
    "\n",
    "        A = gen.uniform(-1.0, 1.0, size=(state_size, state_size))-np.diag(np.ones(state_size))\n",
    "        x0 = gen.uniform(-1.0, 1.0, size=state_size)\n",
    "        Bi = np.stack([gen.uniform(-1.0, 1.0, size=(state_size, state_size))-np.diag(np.ones(state_size)) for i in range(input_size)],2)\n",
    "        u = np.zeros((n_timesteps, input_size))\n",
    "        t = np.linspace(0, n_timesteps - 1, n_timesteps)*0.1\n",
    "        names = [\"x\" + str(i + 1) for i in range(state_size)]\n",
    "\n",
    "        tsc_df = (\n",
    "            ControlledAffineDynamicalSystem()\n",
    "            .setup_matrix_system(A, Bi)\n",
    "            .evolve_system(x0, u, time_values = t, time_delta = 0.1, feature_names_out=names)\n",
    "        )\n",
    "        #print(tsc_df)\n",
    "        #print(A)\n",
    "        #print(Bi)\n",
    "        for i in range(input_size):\n",
    "            tsc_df[\"u\" + str(i + 1)] = u[:, i]\n",
    "\n",
    "        return tsc_df\n",
    "\n",
    "    def test_dmda_free(self):\n",
    "        state_size = 4\n",
    "        input_size = 2\n",
    "        n_timesteps = 50\n",
    "        n_predict = 5\n",
    "\n",
    "        tsc_df = self._create_control_free_tsc(state_size, input_size, n_timesteps)\n",
    "\n",
    "        state_cols = [f\"x{i+1}\" for i in range(state_size)]\n",
    "        input_cols = [f\"u{i+1}\" for i in range(input_size)]\n",
    "        dmd = DMDAffine(state_columns=state_cols, control_columns=input_cols).fit(\n",
    "            tsc_df.iloc[:-n_predict]\n",
    "        )\n",
    "\n",
    "        u = tsc_df[input_cols].iloc[-n_predict:]\n",
    "        t = tsc_df.index.get_level_values(1)[-n_predict:]\n",
    "        expected = tsc_df[state_cols].iloc[-n_predict:]\n",
    "        actual = dmd.predict(expected.initial_states(), control_input=u, time_values=t)\n",
    "\n",
    "        pdtest.assert_frame_equal(actual, expected, rtol=1e-3)\n",
    "\n",
    "    def test_dmda_control(self):\n",
    "        state_size = 4\n",
    "        input_size = 2\n",
    "        n_timesteps = 50\n",
    "        n_predict = 5\n",
    "\n",
    "        tsc_df = self._create_control_tsc(state_size, input_size, n_timesteps)\n",
    "\n",
    "        state_cols = [f\"x{i+1}\" for i in range(state_size)]\n",
    "        input_cols = [f\"u{i+1}\" for i in range(input_size)]\n",
    "        dmd = DMDAffine(state_columns=state_cols, control_columns=input_cols).fit(\n",
    "            tsc_df.iloc[:-n_predict]\n",
    "        )\n",
    "\n",
    "        u = tsc_df[input_cols].iloc[-n_predict:]\n",
    "        t = tsc_df.index.get_level_values(1)[-n_predict:]\n",
    "        expected = tsc_df[state_cols].iloc[-n_predict:]\n",
    "        actual = dmd.predict(expected.initial_states(), control_input=u, time_values=t)\n",
    "\n",
    "        pdtest.assert_frame_equal(actual, expected)\n",
    "\n",
    "\n",
    "unittest.main(argv=[''], verbosity=2, exit=False)"
   ]
  },
  {
   "cell_type": "code",
   "execution_count": 45,
   "id": "6092af7f",
   "metadata": {},
   "outputs": [],
   "source": [
    "from datafold.appfold import EDMDControl\n",
    "from datafold.dynfold.transform import TSCIdentity, TSCRadialBasis, TSCPolynomialFeatures\n",
    "from datafold.utils._systems import InvertedPendulum\n",
    "from datafold.pcfold import InitialCondition, InverseQuadraticKernel\n",
    "import pandas as pd\n",
    "import matplotlib.pyplot as plt"
   ]
  },
  {
   "cell_type": "markdown",
   "id": "0668882c",
   "metadata": {},
   "source": [
    "### Duffing"
   ]
  },
  {
   "cell_type": "code",
   "execution_count": 57,
   "id": "f87d27fc",
   "metadata": {},
   "outputs": [
    {
     "data": {
      "text/plain": [
       "[<matplotlib.lines.Line2D at 0x24a0c4caf40>]"
      ]
     },
     "execution_count": 57,
     "metadata": {},
     "output_type": "execute_result"
    },
    {
     "data": {
      "image/png": "[encoded data removed]",
      "text/plain": [
       "<Figure size 432x288 with 1 Axes>"
      ]
     },
     "metadata": {
      "needs_background": "light"
     },
     "output_type": "display_data"
    }
   ],
   "source": [
    "def duffing(t, x, alpha=-1, beta=1, delta=0.6, u=lambda t: 1):\n",
    "    xdot = np.array([x[1],0])\n",
    "    xdot[1] = -delta*x[1] - alpha*x[0] - beta*x[0]**3+u(t)\n",
    "    return xdot\n",
    "\n",
    "def simulate(x0, u=lambda t: 1, N=201, t0=0, tf = 2):\n",
    "    sol = solve_ivp(lambda t,x: duffing(t,x,u=u),(t0,tf),x0,t_eval=np.linspace(t0,tf,N))\n",
    "    if not sol.success:\n",
    "        raise RuntimeError(\"Couldn't not evolve the system.\")\n",
    "    df = pd.DataFrame(data=sol.y.T, index=sol.t, columns=['x','xdot'])\n",
    "    df['u'] = u(sol.t)\n",
    "    return df\n",
    "\n",
    "x0 = np.array([0.1,-0.9])\n",
    "x = simulate(x0, lambda t: -1)\n",
    "plt.plot(x['x'])\n",
    "x = simulate(x0)\n",
    "plt.plot(x['x'])\n",
    "x = simulate(x0, lambda t: np.sin(np.pi*t))\n",
    "plt.plot(x['x'],'purple')\n",
    "x = simulate(x0, lambda t: 0)\n",
    "plt.plot(x['x'],'gold')"
   ]
  },
  {
   "cell_type": "code",
   "execution_count": 154,
   "id": "3d0e6b8f",
   "metadata": {},
   "outputs": [
    {
     "data": {
      "text/plain": [
       "<AxesSubplot:xlabel='time'>"
      ]
     },
     "execution_count": 154,
     "metadata": {},
     "output_type": "execute_result"
    },
    {
     "data": {
      "image/png": "[encoded data removed]",
      "text/plain": [
       "<Figure size 432x288 with 1 Axes>"
      ]
     },
     "metadata": {
      "needs_background": "light"
     },
     "output_type": "display_data"
    }
   ],
   "source": [
    "n_repeats = 100\n",
    "rng = np.random.default_rng(0)\n",
    "dflist = []\n",
    "for i in range(n_repeats):\n",
    "    random_x0 = rng.uniform(-3,3,2)\n",
    "    dflist.append(simulate(random_x0,N=21))\n",
    "    dflist.append(simulate(random_x0, lambda t: -1, N=21))\n",
    "duffing_tsc = TSCDataFrame.from_frame_list(dflist)\n",
    "duffing_tsc.plot()"
   ]
  },
  {
   "cell_type": "code",
   "execution_count": 155,
   "id": "8e8e36e7",
   "metadata": {},
   "outputs": [
    {
     "data": {
      "text/plain": [
       "EDMDControl(dict_steps=[('poly', TSCPolynomialFeatures(degree=5))],\n",
       "            include_id_state=None)"
      ]
     },
     "execution_count": 155,
     "metadata": {},
     "output_type": "execute_result"
    }
   ],
   "source": [
    "edmd_duffing = EDMDControl(dict_steps=[(\"poly\", TSCPolynomialFeatures(5)),])\n",
    "edmd_duffing._dmd_model = DMDAffine(rcond=1e-6)\n",
    "edmd_duffing.include_id_state = None\n",
    "edmd_duffing.fit(duffing_tsc, split_by='name', control=['u'])\n"
   ]
  },
  {
   "cell_type": "code",
   "execution_count": 149,
   "id": "addc0fdc",
   "metadata": {},
   "outputs": [
    {
     "name": "stdout",
     "output_type": "stream",
     "text": [
      "Sys eigenvalues:  [-0.54099977+5.28915495j -0.54099977-5.28915495j -0.50262799+3.13829289j\n",
      " -0.50262799-3.13829289j -0.92836891+2.05021312j -0.92836891-2.05021312j\n",
      " -0.09976322+0.86079649j -0.09976322-0.86079649j -0.60660412+0.j        ]\n",
      "Control eigenvalues:  [ 6.82255020e-01+0.j         -4.14747536e-01+0.13327751j\n",
      " -4.14747536e-01-0.13327751j  1.28239807e-01+0.26607991j\n",
      "  1.28239807e-01-0.26607991j  1.44445041e-02+0.05190783j\n",
      "  1.44445041e-02-0.05190783j  5.64428862e-05+0.j\n",
      " -1.26530873e-02+0.j        ]\n"
     ]
    },
    {
     "data": {
      "image/png": "[encoded data removed]",
      "text/plain": [
       "<Figure size 576x216 with 4 Axes>"
      ]
     },
     "metadata": {
      "needs_background": "light"
     },
     "output_type": "display_data"
    }
   ],
   "source": [
    "plt.figure(figsize=(8,3))\n",
    "plt.subplot(121)\n",
    "plt.imshow(edmd_duffing.sys_matrix)\n",
    "plt.colorbar()\n",
    "plt.title(\"System matrix\")\n",
    "print(\"Sys eigenvalues: \", np.linalg.eigvals(edmd_duffing.sys_matrix))\n",
    "plt.subplot(122)\n",
    "plt.imshow(edmd_duffing.control_matrix[:,:,0])\n",
    "plt.colorbar()\n",
    "plt.title(\"Control matrix\")\n",
    "print(\"Control eigenvalues: \", np.linalg.eigvals(edmd_duffing.control_matrix[:,:,0]))\n",
    "\n"
   ]
  },
  {
   "cell_type": "code",
   "execution_count": 156,
   "id": "38c90644",
   "metadata": {},
   "outputs": [
    {
     "ename": "ValueError",
     "evalue": "could not broadcast input array from shape (20,) into shape (9,)",
     "output_type": "error",
     "traceback": [
      "\u001b[1;31m---------------------------------------------------------------------------\u001b[0m",
      "\u001b[1;31mValueError\u001b[0m                                Traceback (most recent call last)",
      "\u001b[1;32m~\\AppData\\Local\\Temp/ipykernel_14608/3012172113.py\u001b[0m in \u001b[0;36m<module>\u001b[1;34m\u001b[0m\n\u001b[0;32m      1\u001b[0m \u001b[0mout\u001b[0m \u001b[1;33m=\u001b[0m \u001b[0mnp\u001b[0m\u001b[1;33m.\u001b[0m\u001b[0mzeros\u001b[0m\u001b[1;33m(\u001b[0m\u001b[1;33m(\u001b[0m\u001b[1;36m9\u001b[0m\u001b[1;33m,\u001b[0m\u001b[1;36m101\u001b[0m\u001b[1;33m)\u001b[0m\u001b[1;33m)\u001b[0m\u001b[1;33m\u001b[0m\u001b[1;33m\u001b[0m\u001b[0m\n\u001b[1;32m----> 2\u001b[1;33m \u001b[0mout\u001b[0m\u001b[1;33m[\u001b[0m\u001b[1;33m:\u001b[0m\u001b[1;33m,\u001b[0m\u001b[1;36m0\u001b[0m\u001b[1;33m]\u001b[0m \u001b[1;33m=\u001b[0m \u001b[0medmd_duffing\u001b[0m\u001b[1;33m.\u001b[0m\u001b[0mtransform\u001b[0m\u001b[1;33m(\u001b[0m\u001b[0mInitialCondition\u001b[0m\u001b[1;33m.\u001b[0m\u001b[0mfrom_array\u001b[0m\u001b[1;33m(\u001b[0m\u001b[0mx0\u001b[0m\u001b[1;33m,\u001b[0m\u001b[0mcolumns\u001b[0m\u001b[1;33m=\u001b[0m\u001b[1;33m[\u001b[0m\u001b[1;34m'x'\u001b[0m\u001b[1;33m,\u001b[0m\u001b[1;34m'xdot'\u001b[0m\u001b[1;33m]\u001b[0m\u001b[1;33m)\u001b[0m\u001b[1;33m)\u001b[0m\u001b[1;33m.\u001b[0m\u001b[0mvalues\u001b[0m\u001b[1;33m.\u001b[0m\u001b[0mravel\u001b[0m\u001b[1;33m(\u001b[0m\u001b[1;33m)\u001b[0m\u001b[1;33m\u001b[0m\u001b[1;33m\u001b[0m\u001b[0m\n\u001b[0m\u001b[0;32m      3\u001b[0m \u001b[1;32mfor\u001b[0m \u001b[0mi\u001b[0m \u001b[1;32min\u001b[0m \u001b[0mrange\u001b[0m\u001b[1;33m(\u001b[0m\u001b[1;36m100\u001b[0m\u001b[1;33m)\u001b[0m\u001b[1;33m:\u001b[0m\u001b[1;33m\u001b[0m\u001b[1;33m\u001b[0m\u001b[0m\n\u001b[0;32m      4\u001b[0m     \u001b[0mxdot\u001b[0m \u001b[1;33m=\u001b[0m \u001b[1;33m(\u001b[0m\u001b[0medmd_duffing\u001b[0m\u001b[1;33m.\u001b[0m\u001b[0msys_matrix\u001b[0m \u001b[1;33m@\u001b[0m \u001b[0mout\u001b[0m\u001b[1;33m[\u001b[0m\u001b[1;33m:\u001b[0m\u001b[1;33m,\u001b[0m\u001b[0mi\u001b[0m\u001b[1;33m]\u001b[0m \u001b[1;33m+\u001b[0m \u001b[0medmd_duffing\u001b[0m\u001b[1;33m.\u001b[0m\u001b[0mcontrol_matrix\u001b[0m\u001b[1;33m[\u001b[0m\u001b[1;33m:\u001b[0m\u001b[1;33m,\u001b[0m\u001b[1;33m:\u001b[0m\u001b[1;33m,\u001b[0m\u001b[1;36m0\u001b[0m\u001b[1;33m]\u001b[0m \u001b[1;33m@\u001b[0m \u001b[0mout\u001b[0m\u001b[1;33m[\u001b[0m\u001b[1;33m:\u001b[0m\u001b[1;33m,\u001b[0m\u001b[0mi\u001b[0m\u001b[1;33m]\u001b[0m\u001b[1;33m)\u001b[0m\u001b[1;33m.\u001b[0m\u001b[0mravel\u001b[0m\u001b[1;33m(\u001b[0m\u001b[1;33m)\u001b[0m\u001b[1;33m\u001b[0m\u001b[1;33m\u001b[0m\u001b[0m\n\u001b[0;32m      5\u001b[0m     \u001b[0mout\u001b[0m\u001b[1;33m[\u001b[0m\u001b[1;33m:\u001b[0m\u001b[1;33m,\u001b[0m\u001b[0mi\u001b[0m\u001b[1;33m+\u001b[0m\u001b[1;36m1\u001b[0m\u001b[1;33m]\u001b[0m \u001b[1;33m=\u001b[0m \u001b[0mout\u001b[0m\u001b[1;33m[\u001b[0m\u001b[1;33m:\u001b[0m\u001b[1;33m,\u001b[0m\u001b[0mi\u001b[0m\u001b[1;33m]\u001b[0m \u001b[1;33m+\u001b[0m \u001b[1;36m0.01\u001b[0m\u001b[1;33m*\u001b[0m\u001b[0mxdot\u001b[0m\u001b[1;33m\u001b[0m\u001b[1;33m\u001b[0m\u001b[0m\n",
      "\u001b[1;31mValueError\u001b[0m: could not broadcast input array from shape (20,) into shape (9,)"
     ]
    }
   ],
   "source": [
    "out = np.zeros((9,101))\n",
    "out[:,0] = edmd_duffing.transform(InitialCondition.from_array(x0,columns=['x','xdot'])).values.ravel()\n",
    "for i in range(100):\n",
    "    xdot = (edmd_duffing.sys_matrix @ out[:,i] + edmd_duffing.control_matrix[:,:,0] @ out[:,i]).ravel()\n",
    "    out[:,i+1] = out[:,i] + 0.01*xdot\n",
    "plt.plot(out[0])"
   ]
  },
  {
   "cell_type": "code",
   "execution_count": 164,
   "id": "5b649b3c",
   "metadata": {},
   "outputs": [
    {
     "data": {
      "text/plain": [
       "[<matplotlib.lines.Line2D at 0x24a0e117cd0>]"
      ]
     },
     "execution_count": 164,
     "metadata": {},
     "output_type": "execute_result"
    },
    {
     "data": {
      "image/png": "[encoded data removed]",
      "text/plain": [
       "<Figure size 432x288 with 1 Axes>"
      ]
     },
     "metadata": {
      "needs_background": "light"
     },
     "output_type": "display_data"
    }
   ],
   "source": [
    "pred0 = edmd_duffing.predict(InitialCondition.from_array(x0,columns=['x','xdot']),time_values=np.linspace(0,1,101),control_input=np.ones(101))\n",
    "plt.plot(pred0['x'].values[:20])\n",
    "pred0 = edmd_duffing.predict(InitialCondition.from_array(x0,columns=['x','xdot']),time_values=np.linspace(0,1,101),control_input=-np.ones(101))\n",
    "#plt.plot(pred0['x'].values[:20])\n",
    "pred0 = edmd_duffing.predict(InitialCondition.from_array(x0,columns=['x','xdot']),time_values=np.linspace(0,1,101),control_input=np.sin(np.pi*np.linspace(0,1,101)))\n",
    "plt.plot(pred0['x'].values[:20])\n",
    "pred0 = edmd_duffing.predict(InitialCondition.from_array(x0,columns=['x','xdot']),time_values=np.linspace(0,1,101),control_input=0*np.ones(101))\n",
    "plt.plot(pred0['x'].values[:20])"
   ]
  },
  {
   "cell_type": "code",
   "execution_count": 144,
   "id": "6a1d35b7",
   "metadata": {},
   "outputs": [
    {
     "data": {
      "text/html": [
       "<div>\n",
       "<style scoped>\n",
       "    .dataframe tbody tr th:only-of-type {\n",
       "        vertical-align: middle;\n",
       "    }\n",
       "\n",
       "    .dataframe tbody tr th {\n",
       "        vertical-align: top;\n",
       "    }\n",
       "\n",
       "    .dataframe thead th {\n",
       "        text-align: right;\n",
       "    }\n",
       "</style>\n",
       "<table border=\"1\" class=\"dataframe\">\n",
       "  <thead>\n",
       "    <tr style=\"text-align: right;\">\n",
       "      <th></th>\n",
       "      <th>x</th>\n",
       "      <th>xdot</th>\n",
       "      <th>u</th>\n",
       "    </tr>\n",
       "  </thead>\n",
       "  <tbody>\n",
       "    <tr>\n",
       "      <th>0.00</th>\n",
       "      <td>0.100000</td>\n",
       "      <td>-0.900000</td>\n",
       "      <td>1</td>\n",
       "    </tr>\n",
       "    <tr>\n",
       "      <th>0.01</th>\n",
       "      <td>0.091082</td>\n",
       "      <td>-0.883702</td>\n",
       "      <td>1</td>\n",
       "    </tr>\n",
       "    <tr>\n",
       "      <th>0.02</th>\n",
       "      <td>0.082325</td>\n",
       "      <td>-0.867588</td>\n",
       "      <td>1</td>\n",
       "    </tr>\n",
       "    <tr>\n",
       "      <th>0.03</th>\n",
       "      <td>0.073729</td>\n",
       "      <td>-0.851655</td>\n",
       "      <td>1</td>\n",
       "    </tr>\n",
       "    <tr>\n",
       "      <th>0.04</th>\n",
       "      <td>0.065292</td>\n",
       "      <td>-0.835901</td>\n",
       "      <td>1</td>\n",
       "    </tr>\n",
       "    <tr>\n",
       "      <th>...</th>\n",
       "      <td>...</td>\n",
       "      <td>...</td>\n",
       "      <td>...</td>\n",
       "    </tr>\n",
       "    <tr>\n",
       "      <th>1.96</th>\n",
       "      <td>0.256435</td>\n",
       "      <td>0.811656</td>\n",
       "      <td>1</td>\n",
       "    </tr>\n",
       "    <tr>\n",
       "      <th>1.97</th>\n",
       "      <td>0.264589</td>\n",
       "      <td>0.819191</td>\n",
       "      <td>1</td>\n",
       "    </tr>\n",
       "    <tr>\n",
       "      <th>1.98</th>\n",
       "      <td>0.272818</td>\n",
       "      <td>0.826746</td>\n",
       "      <td>1</td>\n",
       "    </tr>\n",
       "    <tr>\n",
       "      <th>1.99</th>\n",
       "      <td>0.281124</td>\n",
       "      <td>0.834319</td>\n",
       "      <td>1</td>\n",
       "    </tr>\n",
       "    <tr>\n",
       "      <th>2.00</th>\n",
       "      <td>0.289505</td>\n",
       "      <td>0.841911</td>\n",
       "      <td>1</td>\n",
       "    </tr>\n",
       "  </tbody>\n",
       "</table>\n",
       "<p>201 rows × 3 columns</p>\n",
       "</div>"
      ],
      "text/plain": [
       "             x      xdot  u\n",
       "0.00  0.100000 -0.900000  1\n",
       "0.01  0.091082 -0.883702  1\n",
       "0.02  0.082325 -0.867588  1\n",
       "0.03  0.073729 -0.851655  1\n",
       "0.04  0.065292 -0.835901  1\n",
       "...        ...       ... ..\n",
       "1.96  0.256435  0.811656  1\n",
       "1.97  0.264589  0.819191  1\n",
       "1.98  0.272818  0.826746  1\n",
       "1.99  0.281124  0.834319  1\n",
       "2.00  0.289505  0.841911  1\n",
       "\n",
       "[201 rows x 3 columns]"
      ]
     },
     "execution_count": 144,
     "metadata": {},
     "output_type": "execute_result"
    }
   ],
   "source": [
    "simulate(x0)"
   ]
  },
  {
   "cell_type": "markdown",
   "id": "8169b9a8",
   "metadata": {},
   "source": [
    "### Inverted Pendulum"
   ]
  },
  {
   "cell_type": "code",
   "execution_count": 14,
   "id": "7c15de93",
   "metadata": {},
   "outputs": [],
   "source": [
    "state_cols = [\"x\", \"xdot\", \"theta\", \"thetadot\"]\n",
    "control_cols = [\"u\"]\n",
    "\n",
    "# Data generation parameters\n",
    "sim_time_step = 0.01  # s\n",
    "sim_num_steps = 1000  # -\n",
    "training_size = 20  # -\n",
    "ic = InitialCondition.from_array(np.array([0, 0, np.pi, 0]), columns=state_cols)\n",
    "\n",
    "invertedPendulum = InvertedPendulum(initial_condition=ic.values)\n",
    "\n",
    "Xlist, Ulist = [], []\n",
    "np.random.seed(42)\n",
    "for i in range(training_size):\n",
    "    control_amplitude = 0.1 + 0.9 * np.random.random()\n",
    "    control_frequency = np.pi + 2 * np.pi * np.random.random()\n",
    "    control_phase = 2 * np.pi * np.random.random()\n",
    "    control_func = lambda t, y: control_amplitude * np.sin(\n",
    "        control_frequency * t + control_phase\n",
    "    )\n",
    "    invertedPendulum.reset()\n",
    "    traj = invertedPendulum.predict(\n",
    "        time_step=sim_time_step,\n",
    "        num_steps=sim_num_steps,\n",
    "        control_func=control_func,\n",
    "    )\n",
    "    assert (\n",
    "        invertedPendulum.sol.success\n",
    "    ), f\"Divergent solution for amplitude={control_amplitude}, frequency={control_frequency}\"\n",
    "    t = invertedPendulum.sol.t\n",
    "    dfx = pd.DataFrame(data=traj.T, index=t, columns=state_cols)\n",
    "    dfx[control_cols] = 0.0\n",
    "    Xlist.append(dfx)\n",
    "    control_input = control_func(t, traj)\n",
    "    dfu = pd.DataFrame(data=control_input, index=t, columns=control_cols)\n",
    "    for col in state_cols:\n",
    "        dfu[col] = 0.0\n",
    "    dfu = dfu[state_cols + control_cols]\n",
    "    Ulist.append(dfu)\n",
    "\n",
    "X_tsc = TSCDataFrame.from_frame_list(Xlist)[state_cols]\n",
    "X_tsc[control_cols] = TSCDataFrame.from_frame_list(Ulist)[control_cols]"
   ]
  },
  {
   "cell_type": "code",
   "execution_count": 30,
   "id": "42a60821",
   "metadata": {},
   "outputs": [],
   "source": [
    "num_rbfs = 20\n",
    "eps = 1\n",
    "\n",
    "rbf = TSCRadialBasis(\n",
    "    kernel=InverseQuadraticKernel(epsilon=eps), center_type=\"fit_params\"\n",
    ")\n",
    "center_ids = sorted(\n",
    "    np.random.choice(\n",
    "        range(0, sim_num_steps * training_size), size=num_rbfs, replace=False\n",
    "    )\n",
    ")\n",
    "centers = X_tsc.iloc[center_ids].values"
   ]
  },
  {
   "cell_type": "code",
   "execution_count": 67,
   "id": "858c7282",
   "metadata": {},
   "outputs": [
    {
     "name": "stderr",
     "output_type": "stream",
     "text": [
      "C:\\Users\\etodorov\\AppData\\Local\\Temp/ipykernel_9960/134538018.py:67: RuntimeWarning: invalid value encountered in matmul\n",
      "  sys_matrix @ state + control_matrix @ interp_control(t) @ state\n",
      "C:\\Users\\etodorov\\AppData\\Local\\Temp/ipykernel_9960/134538018.py:67: RuntimeWarning: invalid value encountered in add\n",
      "  sys_matrix @ state + control_matrix @ interp_control(t) @ state\n"
     ]
    },
    {
     "ename": "RuntimeError",
     "evalue": "The system could not be envolved for the requested timespan.",
     "output_type": "error",
     "traceback": [
      "\u001b[1;31m---------------------------------------------------------------------------\u001b[0m",
      "\u001b[1;31mRuntimeError\u001b[0m                              Traceback (most recent call last)",
      "\u001b[1;32m~\\AppData\\Local\\Temp/ipykernel_9960/3247292347.py\u001b[0m in \u001b[0;36m<module>\u001b[1;34m\u001b[0m\n\u001b[0;32m     10\u001b[0m     \u001b[0mrbf__centers\u001b[0m\u001b[1;33m=\u001b[0m\u001b[0mcenters\u001b[0m\u001b[1;33m[\u001b[0m\u001b[1;33m:\u001b[0m\u001b[1;33m,\u001b[0m \u001b[1;33m:\u001b[0m\u001b[1;33m-\u001b[0m\u001b[1;36m1\u001b[0m\u001b[1;33m]\u001b[0m\u001b[1;33m,\u001b[0m\u001b[1;33m\u001b[0m\u001b[1;33m\u001b[0m\u001b[0m\n\u001b[0;32m     11\u001b[0m )\n\u001b[1;32m---> 12\u001b[1;33m rbfprediction = edmdrbf.predict(\n\u001b[0m\u001b[0;32m     13\u001b[0m     \u001b[0mic\u001b[0m\u001b[1;33m,\u001b[0m \u001b[0mcontrol_input\u001b[0m\u001b[1;33m=\u001b[0m\u001b[0mnp\u001b[0m\u001b[1;33m.\u001b[0m\u001b[0matleast_2d\u001b[0m\u001b[1;33m(\u001b[0m\u001b[0mcontrol_input\u001b[0m\u001b[1;33m)\u001b[0m\u001b[1;33m.\u001b[0m\u001b[0mT\u001b[0m\u001b[1;33m,\u001b[0m \u001b[0mtime_values\u001b[0m\u001b[1;33m=\u001b[0m\u001b[0mt\u001b[0m\u001b[1;33m\u001b[0m\u001b[1;33m\u001b[0m\u001b[0m\n\u001b[0;32m     14\u001b[0m )\n",
      "\u001b[1;32md:\\documents\\tum\\hiwi\\kmpc\\datafold\\datafold\\appfold\\edmd.py\u001b[0m in \u001b[0;36mpredict\u001b[1;34m(self, X, time_values, control_input, check_inputs, **predict_params)\u001b[0m\n\u001b[0;32m   2190\u001b[0m         \u001b[0mX\u001b[0m \u001b[1;33m=\u001b[0m \u001b[0mif1dim_rowvec\u001b[0m\u001b[1;33m(\u001b[0m\u001b[0mX\u001b[0m\u001b[1;33m)\u001b[0m\u001b[1;33m\u001b[0m\u001b[1;33m\u001b[0m\u001b[0m\n\u001b[0;32m   2191\u001b[0m         \u001b[0mX0lift\u001b[0m \u001b[1;33m=\u001b[0m \u001b[0mself\u001b[0m\u001b[1;33m.\u001b[0m\u001b[0m_edmd\u001b[0m\u001b[1;33m.\u001b[0m\u001b[0mtransform\u001b[0m\u001b[1;33m(\u001b[0m\u001b[0mX\u001b[0m\u001b[1;33m)\u001b[0m\u001b[1;33m\u001b[0m\u001b[1;33m\u001b[0m\u001b[0m\n\u001b[1;32m-> 2192\u001b[1;33m         Xlift_tsc = self._dmd_model.predict(\n\u001b[0m\u001b[0;32m   2193\u001b[0m             \u001b[0mX0lift\u001b[0m\u001b[1;33m,\u001b[0m\u001b[1;33m\u001b[0m\u001b[1;33m\u001b[0m\u001b[0m\n\u001b[0;32m   2194\u001b[0m             \u001b[0mtime_values\u001b[0m\u001b[1;33m=\u001b[0m\u001b[0mtime_values\u001b[0m\u001b[1;33m,\u001b[0m\u001b[1;33m\u001b[0m\u001b[1;33m\u001b[0m\u001b[0m\n",
      "\u001b[1;32md:\\documents\\tum\\hiwi\\kmpc\\datafold\\datafold\\dynfold\\dmd.py\u001b[0m in \u001b[0;36mpredict\u001b[1;34m(self, X, time_values, control_input, check_inputs, **predict_params)\u001b[0m\n\u001b[0;32m   2258\u001b[0m             \u001b[0mself\u001b[0m\u001b[1;33m.\u001b[0m\u001b[0m_validate_feature_names\u001b[0m\u001b[1;33m(\u001b[0m\u001b[0mX\u001b[0m\u001b[1;33m,\u001b[0m \u001b[0mrequire_all\u001b[0m\u001b[1;33m=\u001b[0m\u001b[1;32mFalse\u001b[0m\u001b[1;33m)\u001b[0m\u001b[1;33m\u001b[0m\u001b[1;33m\u001b[0m\u001b[0m\n\u001b[0;32m   2259\u001b[0m \u001b[1;33m\u001b[0m\u001b[0m\n\u001b[1;32m-> 2260\u001b[1;33m         state_tsc = self.evolve_system(\n\u001b[0m\u001b[0;32m   2261\u001b[0m             \u001b[0mX\u001b[0m\u001b[1;33m.\u001b[0m\u001b[0mto_numpy\u001b[0m\u001b[1;33m(\u001b[0m\u001b[1;33m)\u001b[0m\u001b[1;33m.\u001b[0m\u001b[0mT\u001b[0m\u001b[1;33m,\u001b[0m\u001b[1;33m\u001b[0m\u001b[1;33m\u001b[0m\u001b[0m\n\u001b[0;32m   2262\u001b[0m             \u001b[0mcontrol_input\u001b[0m\u001b[1;33m,\u001b[0m\u001b[1;33m\u001b[0m\u001b[1;33m\u001b[0m\u001b[0m\n",
      "\u001b[1;32md:\\documents\\tum\\hiwi\\kmpc\\datafold\\datafold\\dynfold\\dmd.py\u001b[0m in \u001b[0;36mevolve_system\u001b[1;34m(self, initial_conditions, control_input, time_values, overwrite_sys_matrix, overwrite_control_matrix, time_delta, time_series_ids, feature_names_out, check_inputs)\u001b[0m\n\u001b[0;32m   1994\u001b[0m \u001b[1;33m\u001b[0m\u001b[0m\n\u001b[0;32m   1995\u001b[0m         \u001b[1;32mif\u001b[0m \u001b[0mtime_is_integer\u001b[0m\u001b[1;33m:\u001b[0m\u001b[1;33m\u001b[0m\u001b[1;33m\u001b[0m\u001b[0m\n\u001b[1;32m-> 1996\u001b[1;33m             time_series_tensor = self._evolve_system_states_integer(\n\u001b[0m\u001b[0;32m   1997\u001b[0m                 \u001b[0mtime_series_tensor\u001b[0m\u001b[1;33m=\u001b[0m\u001b[0mtime_series_tensor\u001b[0m\u001b[1;33m,\u001b[0m\u001b[1;33m\u001b[0m\u001b[1;33m\u001b[0m\u001b[0m\n\u001b[0;32m   1998\u001b[0m                 \u001b[0msys_matrix\u001b[0m\u001b[1;33m=\u001b[0m\u001b[0msys_matrix\u001b[0m\u001b[1;33m,\u001b[0m\u001b[1;33m\u001b[0m\u001b[1;33m\u001b[0m\u001b[0m\n",
      "\u001b[1;32m~\\AppData\\Local\\Temp/ipykernel_9960/134538018.py\u001b[0m in \u001b[0;36m_evolve_system_states\u001b[1;34m(self, time_series_tensor, sys_matrix, control_matrix, initial_conditions, control_input, time_values, time_delta)\u001b[0m\n\u001b[0;32m     75\u001b[0m \u001b[1;33m\u001b[0m\u001b[0m\n\u001b[0;32m     76\u001b[0m         \u001b[1;32mif\u001b[0m \u001b[1;32mnot\u001b[0m \u001b[0mivp_solution\u001b[0m\u001b[1;33m.\u001b[0m\u001b[0msuccess\u001b[0m\u001b[1;33m:\u001b[0m\u001b[1;33m\u001b[0m\u001b[1;33m\u001b[0m\u001b[0m\n\u001b[1;32m---> 77\u001b[1;33m             \u001b[1;32mraise\u001b[0m \u001b[0mRuntimeError\u001b[0m\u001b[1;33m(\u001b[0m\u001b[1;34m\"The system could not be envolved for the requested timespan.\"\u001b[0m\u001b[1;33m)\u001b[0m\u001b[1;33m\u001b[0m\u001b[1;33m\u001b[0m\u001b[0m\n\u001b[0m\u001b[0;32m     78\u001b[0m \u001b[1;33m\u001b[0m\u001b[0m\n\u001b[0;32m     79\u001b[0m         \u001b[0mtime_series_tensor\u001b[0m\u001b[1;33m[\u001b[0m\u001b[1;33m:\u001b[0m\u001b[1;33m]\u001b[0m \u001b[1;33m=\u001b[0m \u001b[0mivp_solution\u001b[0m\u001b[1;33m.\u001b[0m\u001b[0my\u001b[0m\u001b[1;33m.\u001b[0m\u001b[0mT\u001b[0m\u001b[1;33m\u001b[0m\u001b[1;33m\u001b[0m\u001b[0m\n",
      "\u001b[1;31mRuntimeError\u001b[0m: The system could not be envolved for the requested timespan."
     ]
    }
   ],
   "source": [
    "edmdrbf = EDMDControl(dict_steps=[(\"rbf\", rbf),], include_id_state=True)\n",
    "\n",
    "edmdrbf._dmd_model = DMDAffine(rcond=1e-6)\n",
    "\n",
    "edmdrbf.fit(\n",
    "    X_tsc,\n",
    "    split_by=\"name\",\n",
    "    state=state_cols,\n",
    "    control=control_cols,\n",
    "    rbf__centers=centers[:, :-1],\n",
    ")\n",
    "rbfprediction = edmdrbf.predict(\n",
    "    ic, control_input=np.atleast_2d(control_input).T, time_values=t\n",
    ")\n",
    "plt.figure(figsize=(16, 3))\n",
    "plt.subplot(121)\n",
    "plt.plot(rbfprediction[\"x\"].values, label=\"prediction\")\n",
    "plt.plot(dfx[\"x\"].values, label=\"actual\")\n",
    "plt.legend()\n",
    "plt.title(r\"EDMD(100 random rbf) prediction - cart position $x$\")\n",
    "plt.subplot(122)\n",
    "plt.plot(rbfprediction[\"theta\"].values, label=\"prediction\")\n",
    "plt.plot(dfx[\"theta\"].values, label=\"actual\")\n",
    "plt.legend()\n",
    "plt.title(r\"EDMD(100 random rbf) prediction - pendulum angle $\\theta$\");\n"
   ]
  },
  {
   "cell_type": "code",
   "execution_count": 58,
   "id": "2cc7d80a",
   "metadata": {},
   "outputs": [
    {
     "data": {
      "text/html": [
       "<div>\n",
       "<style scoped>\n",
       "    .dataframe tbody tr th:only-of-type {\n",
       "        vertical-align: middle;\n",
       "    }\n",
       "\n",
       "    .dataframe tbody tr th {\n",
       "        vertical-align: top;\n",
       "    }\n",
       "\n",
       "    .dataframe thead th {\n",
       "        text-align: right;\n",
       "    }\n",
       "</style>\n",
       "<table border=\"1\" class=\"dataframe\">\n",
       "  <thead>\n",
       "    <tr style=\"text-align: right;\">\n",
       "      <th></th>\n",
       "      <th>feature</th>\n",
       "      <th>x</th>\n",
       "      <th>xdot</th>\n",
       "      <th>theta</th>\n",
       "      <th>thetadot</th>\n",
       "    </tr>\n",
       "    <tr>\n",
       "      <th>ID</th>\n",
       "      <th>time</th>\n",
       "      <th></th>\n",
       "      <th></th>\n",
       "      <th></th>\n",
       "      <th></th>\n",
       "    </tr>\n",
       "  </thead>\n",
       "  <tbody>\n",
       "    <tr>\n",
       "      <th rowspan=\"10\" valign=\"top\">0</th>\n",
       "      <th>0.00</th>\n",
       "      <td>0.000000</td>\n",
       "      <td>0.000000</td>\n",
       "      <td>3.141593</td>\n",
       "      <td>0.000000</td>\n",
       "    </tr>\n",
       "    <tr>\n",
       "      <th>0.01</th>\n",
       "      <td>-0.008822</td>\n",
       "      <td>0.062232</td>\n",
       "      <td>3.142834</td>\n",
       "      <td>0.374772</td>\n",
       "    </tr>\n",
       "    <tr>\n",
       "      <th>0.02</th>\n",
       "      <td>-0.031936</td>\n",
       "      <td>0.277852</td>\n",
       "      <td>3.153393</td>\n",
       "      <td>1.691552</td>\n",
       "    </tr>\n",
       "    <tr>\n",
       "      <th>0.03</th>\n",
       "      <td>-0.086075</td>\n",
       "      <td>0.749968</td>\n",
       "      <td>3.188454</td>\n",
       "      <td>4.980371</td>\n",
       "    </tr>\n",
       "    <tr>\n",
       "      <th>0.04</th>\n",
       "      <td>-0.207312</td>\n",
       "      <td>1.847492</td>\n",
       "      <td>3.287846</td>\n",
       "      <td>14.047354</td>\n",
       "    </tr>\n",
       "    <tr>\n",
       "      <th>0.05</th>\n",
       "      <td>-0.503320</td>\n",
       "      <td>4.646489</td>\n",
       "      <td>3.570967</td>\n",
       "      <td>40.337293</td>\n",
       "    </tr>\n",
       "    <tr>\n",
       "      <th>0.06</th>\n",
       "      <td>-1.279709</td>\n",
       "      <td>12.091678</td>\n",
       "      <td>4.382546</td>\n",
       "      <td>115.605498</td>\n",
       "    </tr>\n",
       "    <tr>\n",
       "      <th>0.07</th>\n",
       "      <td>-3.356321</td>\n",
       "      <td>32.150751</td>\n",
       "      <td>6.683669</td>\n",
       "      <td>326.410447</td>\n",
       "    </tr>\n",
       "    <tr>\n",
       "      <th>0.08</th>\n",
       "      <td>-8.875820</td>\n",
       "      <td>86.175170</td>\n",
       "      <td>13.096786</td>\n",
       "      <td>906.001577</td>\n",
       "    </tr>\n",
       "    <tr>\n",
       "      <th>0.09</th>\n",
       "      <td>-23.344145</td>\n",
       "      <td>230.529850</td>\n",
       "      <td>30.652417</td>\n",
       "      <td>2473.132575</td>\n",
       "    </tr>\n",
       "  </tbody>\n",
       "</table>\n",
       "</div>"
      ],
      "text/plain": [
       "feature          x        xdot      theta     thetadot\n",
       "ID time                                               \n",
       "0  0.00   0.000000    0.000000   3.141593     0.000000\n",
       "   0.01  -0.008822    0.062232   3.142834     0.374772\n",
       "   0.02  -0.031936    0.277852   3.153393     1.691552\n",
       "   0.03  -0.086075    0.749968   3.188454     4.980371\n",
       "   0.04  -0.207312    1.847492   3.287846    14.047354\n",
       "   0.05  -0.503320    4.646489   3.570967    40.337293\n",
       "   0.06  -1.279709   12.091678   4.382546   115.605498\n",
       "   0.07  -3.356321   32.150751   6.683669   326.410447\n",
       "   0.08  -8.875820   86.175170  13.096786   906.001577\n",
       "   0.09 -23.344145  230.529850  30.652417  2473.132575"
      ]
     },
     "execution_count": 58,
     "metadata": {},
     "output_type": "execute_result"
    }
   ],
   "source": [
    "edmdrbf.predict(ic, control_input=np.atleast_2d(control_input[:10]).T, time_values=t[:10])"
   ]
  },
  {
   "cell_type": "code",
   "execution_count": 68,
   "id": "feda25c7",
   "metadata": {},
   "outputs": [
    {
     "data": {
      "text/plain": [
       "(array([13.86943087 +0.j        ,  0.11624173+18.2616053j ,\n",
       "         0.11624173-18.2616053j , -0.76560449+16.67115706j,\n",
       "        -0.76560449-16.67115706j, -0.26597487+12.27095743j,\n",
       "        -0.26597487-12.27095743j,  0.09235092+10.95108097j,\n",
       "         0.09235092-10.95108097j, -0.16169686 +6.86567671j,\n",
       "        -0.16169686 -6.86567671j, -1.03860128 +4.19903431j,\n",
       "        -1.03860128 -4.19903431j, -4.30923405 +2.75053239j,\n",
       "        -4.30923405 -2.75053239j, -4.87100305 +0.j        ,\n",
       "        -4.28388089 +0.j        , -0.80077549 +1.67048143j,\n",
       "        -0.80077549 -1.67048143j,  0.04892849 +0.33494963j,\n",
       "         0.04892849 -0.33494963j,  0.1206007  +0.j        ,\n",
       "        -0.89921996 +0.j        , -1.49113064 +0.j        ]),\n",
       " array([ 3.03150897e+00+30.34907652j,  3.03150897e+00-30.34907652j,\n",
       "         2.15732574e+00+25.5076632j ,  2.15732574e+00-25.5076632j ,\n",
       "         2.27322198e+01 +0.j        , -3.11704659e+00+19.70502968j,\n",
       "        -3.11704659e+00-19.70502968j,  1.73148829e+00+13.43652094j,\n",
       "         1.73148829e+00-13.43652094j, -7.00149171e+00 +0.j        ,\n",
       "         5.80196826e+00 +0.j        , -4.88510655e-02 +6.99964325j,\n",
       "        -4.88510655e-02 -6.99964325j,  3.06262697e-01 +7.12081297j,\n",
       "         3.06262697e-01 -7.12081297j, -3.18075245e+00 +3.51346345j,\n",
       "        -3.18075245e+00 -3.51346345j,  1.45379057e+00 +2.71223566j,\n",
       "         1.45379057e+00 -2.71223566j, -2.73174220e+00 +0.j        ,\n",
       "         2.13559076e+00 +0.j        ,  3.87639700e-01 +0.j        ,\n",
       "         3.16696026e-04 +0.j        , -1.16500203e-04 +0.j        ]))"
      ]
     },
     "execution_count": 68,
     "metadata": {},
     "output_type": "execute_result"
    }
   ],
   "source": [
    "np.linalg.eigvals(edmdrbf.sys_matrix), np.linalg.eigvals(edmdrbf.control_matrix.squeeze())"
   ]
  },
  {
   "cell_type": "markdown",
   "id": "6c2f522e",
   "metadata": {},
   "source": [
    "### Einsum test"
   ]
  },
  {
   "cell_type": "code",
   "execution_count": 60,
   "id": "b4139220",
   "metadata": {},
   "outputs": [
    {
     "data": {
      "text/plain": [
       "array([[  0.1,   0.2,   0.3,   0.4,  -0.1,  -0.2,  -0.3,  -0.4],\n",
       "       [  2.2,   2.4,   2.6,   2.8,  -2.2,  -2.4,  -2.6,  -2.8],\n",
       "       [ 30.3,  36.3,  39.3,  42.3, -30.3, -36.3, -39.3, -42.3]])"
      ]
     },
     "execution_count": 60,
     "metadata": {},
     "output_type": "execute_result"
    }
   ],
   "source": [
    "np.einsum('ij,ik->ijk',np.array([[1,-1],\n",
    "                                 [2,-2],\n",
    "                                 [3,-3]]),\n",
    "                       np.array([[0.1,0.2,0.3,0.4],\n",
    "                                 [1.1,1.2,1.3,1.4],\n",
    "                                 [10.1,12.1,13.1,14.1]])).reshape(3,2*4)"
   ]
  },
  {
   "cell_type": "code",
   "execution_count": 61,
   "id": "95395456",
   "metadata": {},
   "outputs": [
    {
     "data": {
      "text/plain": [
       "array([[  0.1,  -0.1,   0.2,  -0.2,   0.3,  -0.3,   0.4,  -0.4],\n",
       "       [  2.2,  -2.2,   2.4,  -2.4,   2.6,  -2.6,   2.8,  -2.8],\n",
       "       [ 30.3, -30.3,  36.3, -36.3,  39.3, -39.3,  42.3, -42.3]])"
      ]
     },
     "execution_count": 61,
     "metadata": {},
     "output_type": "execute_result"
    }
   ],
   "source": [
    "np.einsum('ij,ik->ijk',np.array([[0.1,0.2,0.3,0.4],\n",
    "                                 [1.1,1.2,1.3,1.4],\n",
    "                                 [10.1,12.1,13.1,14.1]]),\n",
    "                       np.array([[1,-1],\n",
    "                                 [2,-2],\n",
    "                                 [3,-3]])\n",
    "                       ).reshape(3,2*4)"
   ]
  },
  {
   "cell_type": "code",
   "execution_count": null,
   "id": "345dfda7",
   "metadata": {},
   "outputs": [],
   "source": [
    "X_tsc"
   ]
  },
  {
   "cell_type": "code",
   "execution_count": null,
   "id": "57c437d1",
   "metadata": {},
   "outputs": [],
   "source": []
  }
 ],
 "metadata": {
  "kernelspec": {
   "display_name": "Python 3 (ipykernel)",
   "language": "python",
   "name": "python3"
  },
  "language_info": {
   "codemirror_mode": {
    "name": "ipython",
    "version": 3
   },
   "file_extension": ".py",
   "mimetype": "text/x-python",
   "name": "python",
   "nbconvert_exporter": "python",
   "pygments_lexer": "ipython3",
   "version": "3.9.7"
  }
 },
 "nbformat": 4,
 "nbformat_minor": 5
}
