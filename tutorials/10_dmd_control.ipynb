{
 "cells": [
  {
   "cell_type": "markdown",
   "id": "8740706e",
   "metadata": {},
   "source": [
    "# Dynamic mode decomposition with control\n",
    "\n",
    "In this tutorial we show how extend the dynamic mode decomposition to incorporate the effect of control (this technique has been introduced in\n",
    "\n",
    "> Proctor, Joshua L., Steven L. Brunton, and J. Nathan Kutz. \"Dynamic mode decomposition with control.\" SIAM Journal on Applied Dynamical Systems 15.1 (2016): 142-161. https://doi.org/10.1137/15M1013857\n",
    "\n",
    "This tutorial originates from the PyDMD package and was adapted for *datafold*\n",
    "\n",
    "https://github.com/mathLab/PyDMD/blob/master/tutorials/tutorial7/tutorial-7-dmdc.ipynb\n",
    "\n",
    "We compare and highlight the interface with PyDMD. \n",
    "\n",
    "We first import the ``DMDControl`` and ``DMDc`` from the two packages. "
   ]
  },
  {
   "cell_type": "code",
   "execution_count": null,
   "id": "1dbf92c8",
   "metadata": {
    "pycharm": {
     "name": "#%%\n"
    }
   },
   "outputs": [],
   "source": [
    "%matplotlib inline\n",
    "import matplotlib.pyplot as plt\n",
    "import numpy as np\n",
    "import scipy\n",
    "from pydmd import DMDc\n",
    "\n",
    "from datafold import DMDControl, TSCDataFrame"
   ]
  },
  {
   "cell_type": "markdown",
   "id": "ad3a3259",
   "metadata": {},
   "source": [
    "We now create a dataset on which we will apply DMD. Since we want add control inputs, the evolution of the complex system can be mathematically described as: \n",
    "\n",
    "$$\n",
    "x_{k+1} = A x_k + B u_k\n",
    "$$\n",
    "\n",
    "where the operators $A$ and $B$ are the ones we will approximate using DMD. So, for a illustrative purpose, we create the original snapshots by using two random operators."
   ]
  },
  {
   "cell_type": "code",
   "execution_count": null,
   "id": "a731045a",
   "metadata": {
    "pycharm": {
     "name": "#%%\n"
    }
   },
   "outputs": [],
   "source": [
    "def create_system(n, m):\n",
    "    A = scipy.linalg.helmert(n, True)\n",
    "    B = np.random.rand(n, n) - 0.5\n",
    "    x0 = np.array([0.25] * n)\n",
    "    u = np.random.rand(n, m - 1) - 0.5\n",
    "    snapshots = [x0]\n",
    "    for i in range(m - 1):\n",
    "        snapshots.append(A.dot(snapshots[i]) + B.dot(u[:, i]))\n",
    "    snapshots = np.array(snapshots).T\n",
    "    return {\"snapshots\": snapshots, \"u\": u, \"B\": B, \"A\": A}"
   ]
  },
  {
   "cell_type": "markdown",
   "id": "72afc735",
   "metadata": {},
   "source": [
    "We sample 25 snapshots of the random linear system. For datafold we store the snapshots in the time series collection data structure `TSCDataFrame`."
   ]
  },
  {
   "cell_type": "code",
   "execution_count": null,
   "id": "86e2912d",
   "metadata": {
    "pycharm": {
     "name": "#%%\n"
    }
   },
   "outputs": [],
   "source": [
    "s = create_system(25, 10)\n",
    "print(s[\"snapshots\"].shape)"
   ]
  },
  {
   "cell_type": "code",
   "execution_count": null,
   "id": "ef07f009",
   "metadata": {
    "pycharm": {
     "name": "#%%\n"
    }
   },
   "outputs": [],
   "source": [
    "X = TSCDataFrame.from_array(s[\"snapshots\"].T)\n",
    "U = TSCDataFrame.from_array(s[\"u\"].T)"
   ]
  },
  {
   "cell_type": "code",
   "execution_count": null,
   "id": "6868436e",
   "metadata": {
    "pycharm": {
     "name": "#%%\n"
    }
   },
   "outputs": [],
   "source": [
    "X.shape"
   ]
  },
  {
   "cell_type": "markdown",
   "id": "b8d758cd",
   "metadata": {},
   "source": [
    "We can now fit the DMD models with the sampled data (both for the PyDMD and datafold version). Note that the control input is a second input. "
   ]
  },
  {
   "cell_type": "code",
   "execution_count": null,
   "id": "d434da94",
   "metadata": {
    "pycharm": {
     "name": "#%%\n"
    }
   },
   "outputs": [],
   "source": [
    "dmdc = DMDc(svd_rank=-1)\n",
    "dmdc.fit(s[\"snapshots\"], s[\"u\"]);"
   ]
  },
  {
   "cell_type": "code",
   "execution_count": null,
   "id": "252fd8af",
   "metadata": {
    "pycharm": {
     "name": "#%%\n"
    }
   },
   "outputs": [],
   "source": [
    "dmdcdf = DMDControl()\n",
    "dmdcdf.fit(X=X, U=U);"
   ]
  },
  {
   "cell_type": "markdown",
   "id": "76658913",
   "metadata": {},
   "source": [
    "Let's compare the original system and the reconstructed system through visualization. We see that the plots from the original system and the two packages are visually identical."
   ]
  },
  {
   "cell_type": "code",
   "execution_count": null,
   "id": "49aebe02",
   "metadata": {
    "pycharm": {
     "name": "#%%\n"
    }
   },
   "outputs": [],
   "source": [
    "plt.figure(figsize=(16, 6))\n",
    "\n",
    "plt.subplot(131)\n",
    "plt.title(\"Original system\")\n",
    "plt.pcolor(s[\"snapshots\"].real)\n",
    "plt.colorbar()\n",
    "\n",
    "plt.subplot(132)\n",
    "plt.title(\"Reconstructed system PyDMD\")\n",
    "plt.pcolor(dmdc.reconstructed_data().real)\n",
    "plt.colorbar()\n",
    "\n",
    "plt.subplot(133)\n",
    "plt.title(\"Reconstructed system datafold\")\n",
    "plt.pcolor(dmdcdf.reconstruct(X, U=U).to_numpy().T)\n",
    "plt.colorbar()"
   ]
  },
  {
   "cell_type": "markdown",
   "id": "a2d10136",
   "metadata": {},
   "source": [
    "We have successfully developed approximations for $A$ and $B$. Finally, the system can now be tested using a new control input. In contrast to previous versions, the desired control input can be provided to the reconstruct methods."
   ]
  },
  {
   "cell_type": "code",
   "execution_count": null,
   "id": "a86037ff",
   "metadata": {
    "pycharm": {
     "name": "#%%\n"
    }
   },
   "outputs": [],
   "source": [
    "new_u = np.exp(s[\"u\"])\n",
    "U_new = TSCDataFrame.from_array(new_u.T)\n",
    "\n",
    "plt.figure(figsize=(8, 6))\n",
    "\n",
    "plt.subplot(121)\n",
    "plt.title(\"PyDMD\")\n",
    "plt.pcolor(dmdc.reconstructed_data(new_u).real)\n",
    "plt.colorbar()\n",
    "\n",
    "\n",
    "plt.subplot(122)\n",
    "plt.title(\"datafold\")\n",
    "plt.pcolor(dmdcdf.reconstruct(X=X, U=U_new).T)\n",
    "plt.colorbar();\n"
   ]
  }
 ],
 "metadata": {
  "kernelspec": {
   "display_name": "Python 3 (ipykernel)",
   "language": "python",
   "name": "python3"
  },
  "language_info": {
   "codemirror_mode": {
    "name": "ipython",
    "version": 3
   },
   "file_extension": ".py",
   "mimetype": "text/x-python",
   "name": "python",
   "nbconvert_exporter": "python",
   "pygments_lexer": "ipython3",
   "version": "3.8.10"
  }
 },
 "nbformat": 4,
 "nbformat_minor": 5
}