{
 "cells": [
  {
   "cell_type": "code",
   "execution_count": null,
   "metadata": {},
   "outputs": [],
   "source": [
    "from sklearn.datasets import make_classification\n",
    "from sklearn.model_selection import cross_val_score\n",
    "from sklearn.svm import SVC\n",
    "\n",
    "from tutorial_progress import TutorialBar\n",
    "\n",
    "from skopt import BayesSearchCV\n",
    "from skopt.space import Real, Categorical, Integer\n",
    "\n",
    "n_samples = 500\n",
    "n_iter = 32\n",
    "\n",
    "# construct a random classification problem\n",
    "data, target = make_classification(n_samples=n_samples,\n",
    "                                   n_features=45,\n",
    "                                   n_informative=15,\n",
    "                                   n_redundant=5)\n",
    "\n",
    "# Bayesian optimization of  hyperparameters of support vector classification\n",
    "# using Gaussian processes and skopt\n",
    "opt = BayesSearchCV(\n",
    "    SVC(),\n",
    "    {\n",
    "        'C': Real(1e-6, 1e+6, prior='log-uniform'),\n",
    "        'gamma': Real(1e-6, 1e+1, prior='log-uniform'),\n",
    "    },\n",
    "    n_iter=n_iter,\n",
    "    random_state=0,\n",
    "    cv=3\n",
    ")\n",
    "\n",
    "# illustrates how to display a progress bar and use a callback\n",
    "bar = TutorialBar(n_iter)\n",
    "\n",
    "# run the optimization\n",
    "opt.fit(data, target, callback=lambda info: bar.update())\n",
    "\n",
    "# report the best parameters (the model SVD is automatically fit to them)\n",
    "print(opt.best_params_)"
   ]
  },
  {
   "cell_type": "code",
   "execution_count": null,
   "metadata": {},
   "outputs": [],
   "source": []
  }
 ],
 "metadata": {
  "kernelspec": {
   "display_name": "Python 3",
   "language": "python",
   "name": "python3"
  },
  "language_info": {
   "codemirror_mode": {
    "name": "ipython",
    "version": 3
   },
   "file_extension": ".py",
   "mimetype": "text/x-python",
   "name": "python",
   "nbconvert_exporter": "python",
   "pygments_lexer": "ipython3",
   "version": "3.6.5"
  }
 },
 "nbformat": 4,
 "nbformat_minor": 4
}
