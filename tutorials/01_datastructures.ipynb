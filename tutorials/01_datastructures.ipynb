{
 "cells": [
  {
   "cell_type": "markdown",
   "metadata": {},
   "source": [
    "# Data structure for time series collections `TSCDataFrame` \n",
    "\n",
    "In this tutorial, we will introduce the `TSCDataFrame` data structure, which is designed to handle time series collection data. This is particularly useful when dealing with datasets that contain multiple time series. For instance, a system might have been sampled multiple times with different initial conditions, or there could be missing samples.\n",
    "\n",
    "The `TSCDataFrame` is primarily used for input/output specification of data-driven methods in the *datafold* package, and its implementation can be found in the sub-package pcfold.\n",
    "\n",
    "`TSCDataFrame` is a subclass of the popular DataFrame data structure from the pandas project. This means that it inherits all the rich functionality of `pandas`, making it easy for users familiar with `pandas` to specify their collected data. However, `TSCDataFrame` restricts the more generic `DataFrame` to a structure with certain guarantees to organize the time series collection.\n",
    "\n",
    "The key advantage of using `TSCDataFrame` is that it makes it easy to work with collections of time series data. Users can easily manipulate and analyze their data using the powerful tools provided by *pandas*. For those who are new to working with `DataFrame`s, we refer to the main *pandas* [documentation](https://pandas.pydata.org/) for a broader introduction. In this tutorial, we will focus on the specific context in which `TSCDataFrame` is useful."
   ]
  },
  {
   "cell_type": "code",
   "execution_count": null,
   "metadata": {},
   "outputs": [],
   "source": [
    "import matplotlib.pyplot as plt\n",
    "import mpl_toolkits.mplot3d.axes3d as p3\n",
    "import numpy as np\n",
    "import pandas as pd\n",
    "import scipy\n",
    "from scipy.sparse.linalg import lsqr\n",
    "from sklearn.datasets import make_swiss_roll\n",
    "\n",
    "from datafold import TSCDataFrame"
   ]
  },
  {
   "cell_type": "markdown",
   "metadata": {},
   "source": [
    "To showcase the `TSCDataFrame` we first define a simple two-dimensional linear system and generate two separate time series, which at this point treat the two time series separately in a pandas `DataFrame` first. Like `TSCDataFrame` (see below), the data is oriented such thcolumns contain spatial information (states) -- `x1` and `x2` -- and the row index contains time information."
   ]
  },
  {
   "cell_type": "code",
   "execution_count": null,
   "metadata": {},
   "outputs": [],
   "source": [
    "def generate_data(t, x0) -> pd.DataFrame:\n",
    "    r\"\"\"Evaluate time series of randomly created linear system.\n",
    "\n",
    "    Solves:\n",
    "\n",
    "    .. code-block::\n",
    "\n",
    "        dx/dt = A x\n",
    "\n",
    "    where `A` is a random matrix.\n",
    "\n",
    "    Parameters\n",
    "    ----------\n",
    "    t\n",
    "        time values to evaluate\n",
    "\n",
    "    x0\n",
    "        initial state (2-dimensional)\n",
    "\n",
    "    Returns\n",
    "    -------\n",
    "    pandas.DataFrame\n",
    "        time series with shape `(n_time_values, 2)`\n",
    "    \"\"\"\n",
    "\n",
    "    A = np.random.default_rng(1).standard_normal(size=(2, 2))\n",
    "\n",
    "    expA = scipy.linalg.expm(A)\n",
    "    states = np.row_stack(\n",
    "        [scipy.linalg.fractional_matrix_power(expA, ti) @ x0 for ti in t]\n",
    "    )\n",
    "\n",
    "    return pd.DataFrame(data=np.real(states), index=t, columns=[\"x1\", \"x2\"])\n",
    "\n",
    "\n",
    "# create a single time series as pandas data frame with time as index\n",
    "x0 = np.random.randn(2)\n",
    "x1 = np.random.randn(2)\n",
    "time_series1 = generate_data(np.arange(0, 5), x0)\n",
    "time_series2 = generate_data(np.arange(0, 5), x1)"
   ]
  },
  {
   "cell_type": "markdown",
   "metadata": {},
   "source": [
    "### Create a `TSCDataFrame`\n",
    "\n",
    "#### Specification\n",
    "\n",
    "Now that we have a way to generate one-or-many time series, let us generate and then collect two of them into a `TSCDataFrame` object. In general, we can create a new instance of `TSCDataFrame` in the same way as we would instantiate the superclass\n",
    "\n",
    "```\n",
    "TSCDataFrame(data, index, columns, **kwargs)` \n",
    "```\n",
    "\n",
    "However, when initializing a `TSCDataFrame`, there are specific requirements which may need to be fulfilled on the `data`, `index` and `columns` arguments to successfully create the new object. Otherwise, there will be an `AttributeError`. The special requirements of `TSCDataFrame` are:\n",
    "\n",
    "\n",
    "Requirements on `data`:\n",
    "\n",
    "* Only numeric data is allowed (e.g. no strings or other objects). \n",
    "\n",
    "Requirements on `index`:\n",
    "\n",
    "* The row-index must have two levels (i.e. be a `MultiIndex`). The first index level is for the time series ID and the second level for the time values within each time series.\n",
    "* The time values must be sorted per time series\n",
    "* The time series IDs must be positive integers, and the time values must be non-negative numerical values. \n",
    "* No duplicate names are allowed.\n",
    "\n",
    "Requirements on `column`:\n",
    "\n",
    "* The index only suppors a single level.\n",
    "* The column names must be unique.\n",
    "* No duplicate names are allowed.\n",
    "\n",
    "Note that for practical reasons a time series can only consist of a single sample and be a valid `TSCDataFrame`. \n",
    "\n",
    "\n",
    "#### Data orientation\n",
    "\n",
    "The data orientation aligns to the format in scikit-learn. This means each row contains a single instance of the system and the columns describe the descriptive features. \n",
    "\n",
    "\n",
    "To ease the construction of `TSCDataFrame`, there exist class methods `TSCDataFrame.from_X` (e.g. `from_tensor`, `from_single_timeseries`, `from_array`, `from_csv`, ...).\n",
    "\n",
    "Here, we use `TSCDataFrame.from_frame_list`, where we can insert the two generated `DataFrame`s from above.\n",
    "\n",
    "After this we print some specific attributes of `TSCDataFrame` to describe the time series collection. `"
   ]
  },
  {
   "cell_type": "code",
   "execution_count": null,
   "metadata": {},
   "outputs": [],
   "source": [
    "# convert both time series to a single \"time series collection\" (TSCDataFrame)\n",
    "tsc_regular = TSCDataFrame.from_frame_list([time_series1, time_series2])\n",
    "\n",
    "print(\"delta_time:\", tscdf.delta_time)\n",
    "print(\"n_timesteps:\", tscdf.n_timesteps)\n",
    "print(\"is_const_delta_time:\", tscdf.is_const_delta_time())\n",
    "print(\"is_equal_length:\", tscdf.is_equal_length())\n",
    "print(\"is_same_time_values:\", tscdf.is_same_time_values())\n",
    "\n",
    "tsc_regular"
   ]
  },
  {
   "cell_type": "markdown",
   "metadata": {},
   "source": [
    "We now create a second `TSCDataFrame`, in which the time series are not sharing the same time values. We see that `delta_time` and `n_timesteps` cannot give a single value that is true for the entire time series collection anymore. Instead, the attributes list the value for each time series separately (the list is of type `pandas.Series`)."
   ]
  },
  {
   "cell_type": "code",
   "execution_count": null,
   "metadata": {},
   "outputs": [],
   "source": [
    "df1 = generate_data(\n",
    "    np.arange(0, 5),  # sampling 2\n",
    "    np.random.randn(\n",
    "        2,\n",
    "    ),\n",
    ")\n",
    "df2 = generate_data(\n",
    "    np.arange(5, 10, 2),  # sampling 2\n",
    "    np.random.randn(\n",
    "        2,\n",
    "    ),\n",
    ")\n",
    "\n",
    "tsc_irregular = TSCDataFrame.from_frame_list([df1, df2])\n",
    "\n",
    "print(\"delta_time: \\n\", tsc_irregular.delta_time)\n",
    "print(\"\")\n",
    "print(\"n_timesteps: \\n\", tsc_irregular.n_timesteps)\n",
    "print(\"\")\n",
    "print(\"is_const_delta_time:\", tsc_irregular.is_const_delta_time())\n",
    "print(\"is_equal_length:\", tsc_irregular.is_equal_length())\n",
    "print(\"is_same_time_values:\", tsc_irregular.is_same_time_values())\n",
    "\n",
    "# print the time series. It now has two series in it, with IDs 0 and 1.\n",
    "tsc_irregular"
   ]
  },
  {
   "cell_type": "markdown",
   "metadata": {},
   "source": [
    "### Accessing data\n",
    "\n",
    "Because `TSCDataFrame` *is a* `pandas.DataFrame` most of the data indexing and functionality is inherited. However, there are a few things to consider if slicing data (extract only partial data from the table):\n",
    "\n",
    "* The `TSCDataFrame` type is maintained if a slice of the object is still a valid `TSCDataFrame`. This is also true if the sliced data would actually be a `Series` (but also note the last point in this list).\n",
    "* If a slice leads to an invalid `TSCDataFrame`  then the general fallback type is `pandas.DataFrame` or `pandas.Series`.\n",
    "* Currently, there are inconsistencies with `pandas.DataFrame`, because there is no \"`TSCSeries`\" yet. This is most noticeable for `.iloc` slicing which returns `pandas.Series` even if the slice is a valid `TSCDataFrame` (with one column). A simple type conversion `TSCDataFrame(slice_result)` is a current workaround.\n",
    "\n",
    "We now look at some examples to slice data from the constructed `tsc_regular` and `tsc_irregular` from above."
   ]
  },
  {
   "cell_type": "markdown",
   "metadata": {},
   "source": [
    "#### Access an individual feature from the collection"
   ]
  },
  {
   "cell_type": "code",
   "execution_count": null,
   "metadata": {},
   "outputs": [],
   "source": [
    "slice_result = tsc_regular[\"x1\"]\n",
    "\n",
    "print(type(slice_result))\n",
    "slice_result"
   ]
  },
  {
   "cell_type": "markdown",
   "metadata": {},
   "source": [
    "Note that the type is now a `TSCDataFrame` and not a `pandas.Series`.\n",
    "\n",
    "It is also possible to turn the object to a `DataFrame` beforehand. The returned value is now a `Series` and not a `TSCDataFrame`."
   ]
  },
  {
   "cell_type": "code",
   "execution_count": null,
   "metadata": {},
   "outputs": [],
   "source": [
    "slice_result = pd.DataFrame(tsc_regular)[\"x1\"]\n",
    "\n",
    "print(type(slice_result))\n",
    "slice_result"
   ]
  },
  {
   "cell_type": "markdown",
   "metadata": {},
   "source": [
    "The inconsistency with `.iloc` slicing manifests as follows:"
   ]
  },
  {
   "cell_type": "code",
   "execution_count": null,
   "metadata": {},
   "outputs": [],
   "source": [
    "slice_result = tsc_regular.iloc[:, 0]  # access the 0-th column\n",
    "\n",
    "print(type(slice_result))\n",
    "slice_result"
   ]
  },
  {
   "cell_type": "markdown",
   "metadata": {},
   "source": [
    "Instead of having a `TSCDataFrame` as expected, we got a `Series`. In order to obtain a `TSCDataFrame` type we can simply insert brackets around the index `[0]`."
   ]
  },
  {
   "cell_type": "code",
   "execution_count": null,
   "metadata": {},
   "outputs": [],
   "source": [
    "slice_result = tsc_regular.iloc[:, [0]]\n",
    "\n",
    "print(type(slice_result))\n",
    "slice_result"
   ]
  },
  {
   "cell_type": "markdown",
   "metadata": {},
   "source": [
    "#### Access a single time series\n",
    "\n",
    "A `TSCDataFrame` has a two-level index (ID and time values). When we now access a single time series with its ID, the ID index is dropped. Because the returned frame has not two levels anymore, it is not a legal `TSCDataFrame` specification anymore. The fallback type is then a `pandas.DataFrame`."
   ]
  },
  {
   "cell_type": "code",
   "execution_count": null,
   "metadata": {},
   "outputs": [],
   "source": [
    "slice_result = tsc_regular.loc[0]\n",
    "\n",
    "print(type(slice_result))\n",
    "slice_result"
   ]
  },
  {
   "cell_type": "markdown",
   "metadata": {},
   "source": [
    "#### Select specific time values\n",
    "\n",
    "The minimum length of a time series is two. However, `TSCDataFrame` also supports single sampled time series and describes them as \"degenerated time series\". The advantage is a better interoperatibility with the superclass.\n",
    "\n",
    "In the next step, we select certain time values and get the samples from each time series with a match. Note that the inherited rules of accessing data from a `pandas.DataFrame` hold. This means, in the example, not all requested time values have to exist in a time series (the time value 99 does not have a match with any time series). Only if *no* time value matches, a `KeyError` exception is raised."
   ]
  },
  {
   "cell_type": "code",
   "execution_count": null,
   "metadata": {},
   "outputs": [],
   "source": [
    "slice_result = tsc_irregular.select_time_values([3, 4, 5, 7, 99])\n",
    "print(type(slice_result))\n",
    "slice_result"
   ]
  },
  {
   "cell_type": "markdown",
   "metadata": {},
   "source": [
    "Now, we only select a single time value, which has only one match. This is of course not a legal time series anymore, but the `TSCDataFrame` is still maintained. We can access all \"degenerated\" time series IDs with a `TSCDataFrame` method. "
   ]
  },
  {
   "cell_type": "code",
   "execution_count": null,
   "metadata": {},
   "outputs": [],
   "source": [
    "slice_result = tsc_irregular.select_time_values(1)\n",
    "print(type(slice_result), \"\\n\")\n",
    "print(\"Degenerated IDs:\", slice_result.degenerate_ids())\n",
    "slice_result"
   ]
  },
  {
   "cell_type": "markdown",
   "metadata": {},
   "source": [
    "#### Extract initial states\n",
    "\n",
    "Initial states are required for a dynamical model to make predictions and evolve the system forward in time. An initial condition can be either of a single state, but can also be a time series itself. The latter case occurs if the initial condition also consists of the current and the past samples. Extracting initial states can be achieved with the usual slicing of a `DataFrame`. Here we take the first sample by using the `groupby` function and take the first sample of each series:"
   ]
  },
  {
   "cell_type": "code",
   "execution_count": null,
   "metadata": {},
   "outputs": [],
   "source": [
    "slice_result = tsc_regular.groupby(\"ID\").head(1)\n",
    "print(type(slice_result))\n",
    "slice_result"
   ]
  },
  {
   "cell_type": "markdown",
   "metadata": {},
   "source": [
    "The `TSCDataFrame` data structure also provides convenience methods:"
   ]
  },
  {
   "cell_type": "code",
   "execution_count": null,
   "metadata": {},
   "outputs": [],
   "source": [
    "slice_result = tsc_regular.initial_states()\n",
    "print(type(slice_result))\n",
    "slice_result"
   ]
  },
  {
   "cell_type": "markdown",
   "metadata": {},
   "source": [
    "The method also allows us to conveniently extract the first two samples of each time series. Note, however, that the time values mismatch:"
   ]
  },
  {
   "cell_type": "code",
   "execution_count": null,
   "metadata": {},
   "outputs": [],
   "source": [
    "slice_result = tsc_irregular.initial_states(2)\n",
    "print(type(slice_result))\n",
    "slice_result"
   ]
  },
  {
   "cell_type": "markdown",
   "metadata": {},
   "source": [
    "There is an extra class `InitialCodition` that provides methods and validation for initial conditions. \n",
    "\n",
    "For example, we want to address different situations:\n",
    "\n",
    "* In the case where time series in a collection share the same time values, we can group them and evaluate these initial conditions together.\n",
    "\n",
    "* If time series have different time values, we want to treat them separately and make separate predictions with the model.\n",
    "\n",
    "This grouping functionality is very useful when we want to reconstruct time series data with a model. We use the iterator `InitialCondition.iter_reconstruct_ic` method:\n",
    "\n",
    "(In the cell we also use `InitialCondition.validate(ic)` to check that the initial condition is valid.)"
   ]
  },
  {
   "cell_type": "code",
   "execution_count": null,
   "metadata": {},
   "outputs": [],
   "source": [
    "from datafold.pcfold import InitialCondition\n",
    "\n",
    "print(\"REGULAR CASE (groups time series together)\")\n",
    "print(\"------------------------------------------\\n\")\n",
    "\n",
    "for ic, time_values in InitialCondition.iter_reconstruct_ic(tsc_regular):\n",
    "    print(f\"Initial condition \\n\")\n",
    "    print(ic)\n",
    "    assert InitialCondition.validate(ic)\n",
    "    print(f\"with corresponding time values {time_values}\")\n",
    "\n",
    "\n",
    "print(\n",
    "    \"\\n\\n==========================================================================\\n\\n\"\n",
    ")\n",
    "print(\"IRREGULAR CASE (separates initial conditions):\")\n",
    "print(\"----------------------------------------------\")\n",
    "\n",
    "for ic, time_values in InitialCondition.iter_reconstruct_ic(tsc_irregular):\n",
    "    print(f\"Initial condition \\n\")\n",
    "    print(ic)\n",
    "    assert InitialCondition.validate(ic)\n",
    "    print(f\"with corresponding time values {time_values}\\n\\n\")"
   ]
  },
  {
   "cell_type": "markdown",
   "metadata": {},
   "source": [
    "### Plot time series data\n",
    "\n",
    "`TSCDataFrame` provides basic plotting facility: "
   ]
  },
  {
   "cell_type": "code",
   "execution_count": null,
   "metadata": {},
   "outputs": [],
   "source": [
    "tsc_regular.plot(figsize=(7, 7))"
   ]
  },
  {
   "cell_type": "markdown",
   "metadata": {},
   "source": [
    "We can also use the iterator `TSCDataFrmae.itertimeseries` which allows us access the time series separately and create plots for each time series. "
   ]
  },
  {
   "cell_type": "code",
   "execution_count": null,
   "metadata": {},
   "outputs": [],
   "source": [
    "f, ax = plt.subplots(1, len(tsc_regular.ids), figsize=(15, 7), sharey=True)\n",
    "\n",
    "for _id, time_series in tsc_regular.itertimeseries():\n",
    "    ts_axis = time_series.plot(ax=ax[_id])\n",
    "    ts_axis.set_title(f\"time series ID={_id}\")\n",
    "    if _id == 0:\n",
    "        ts_axis.set_ylabel(\"quantity of interest\")\n"
   ]
  }
 ],
 "metadata": {
  "kernelspec": {
   "display_name": "Python 3 (ipykernel)",
   "language": "python",
   "name": "python3"
  },
  "language_info": {
   "codemirror_mode": {
    "name": "ipython",
    "version": 3
   },
   "file_extension": ".py",
   "mimetype": "text/x-python",
   "name": "python",
   "nbconvert_exporter": "python",
   "pygments_lexer": "ipython3",
   "version": "3.8.10"
  }
 },
 "nbformat": 4,
 "nbformat_minor": 4
}