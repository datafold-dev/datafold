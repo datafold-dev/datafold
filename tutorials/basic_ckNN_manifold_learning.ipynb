{
 "cells": [
  {
   "cell_type": "markdown",
   "metadata": {},
   "source": [
    "# Manifold learning with continuous-nearest-neighbor distances"
   ]
  },
  {
   "cell_type": "code",
   "execution_count": null,
   "metadata": {},
   "outputs": [],
   "source": [
    "import numpy as np\n",
    "import copy\n",
    "\n",
    "import matplotlib.pyplot as plt\n",
    "import mpl_toolkits.mplot3d.axes3d as p3\n",
    "\n",
    "from sklearn.datasets import make_swiss_roll, make_s_curve\n",
    "from sklearn.decomposition import PCA\n",
    "import sklearn.manifold as manifold\n",
    "\n",
    "# NOTE: make sure \"path/to/datafold\" is in sys.path or PYTHONPATH if not installed\n",
    "import datafold.dynfold as dfold\n",
    "import datafold.pcfold as pfold\n",
    "from datafold.utils.plot import plot_pairwise_eigenvector\n",
    "\n",
    "random_state = 1"
   ]
  },
  {
   "cell_type": "markdown",
   "metadata": {},
   "source": [
    "## Generate a Gaussian distribution on the line\n",
    "\n",
    "This creates problems for kernels using the standard distance, because the density at the edges vanishes."
   ]
  },
  {
   "cell_type": "code",
   "execution_count": null,
   "metadata": {},
   "outputs": [],
   "source": [
    "nr_samples = 15000\n",
    "rng = np.random.default_rng(random_state)\n",
    "\n",
    "# reduce number of points for plotting \n",
    "nr_samples_plot = 1000\n",
    "idx_plot= rng.permutation(nr_samples)[0:nr_samples_plot]\n",
    "\n",
    "# generate point cloud \n",
    "X = rng.uniform(-1,1,size=(nr_samples,))#.reshape((-1,))\n",
    "X = rng.standard_normal(nr_samples).reshape((-1,))\n",
    "X_color = X.copy()\n",
    "\n",
    "# plot\n",
    "fig = plt.figure(figsize=(4, 4))\n",
    "ax = fig.add_subplot(111)\n",
    "ax.hist(X, 50, density=True) \n",
    "ax.set_xlabel(\"x\"); ax.set_ylabel(\"density\");\n",
    "ax.set_title(\"points distributed according to a standard normal on the real line\");"
   ]
  },
  {
   "cell_type": "markdown",
   "metadata": {},
   "source": [
    "## Test standard DMAPs\n",
    "With a normal Euclidean distance, the squared exponential kernel does not produce the correct eigenfunctions."
   ]
  },
  {
   "cell_type": "code",
   "execution_count": null,
   "metadata": {},
   "outputs": [],
   "source": [
    "X_pcm = pfold.PCManifold(X.reshape(-1,1))\n",
    "X_pcm.optimize_parameters()\n"
   ]
  },
  {
   "cell_type": "code",
   "execution_count": null,
   "metadata": {},
   "outputs": [],
   "source": [
    "print(f'epsilon={X_pcm.kernel.epsilon}, cut-off={X_pcm.cut_off}')\n",
    "\n",
    "dmap = dfold.DiffusionMaps(epsilon=X_pcm.kernel.epsilon, cut_off=X_pcm.cut_off, n_eigenpairs=7)\n",
    "dmap = dmap.fit(X_pcm)\n",
    "evecs, evals = dmap.eigenvectors_, dmap.eigenvalues_\n",
    "\n",
    "plot_pairwise_eigenvector(eigenvectors=dmap.eigenvectors_[idx_plot, :], n=1, \n",
    "                          fig_params=dict(figsize=[6,6]), \n",
    "                          scatter_params=dict(cmap=plt.cm.Spectral, c=X_color[idx_plot]))"
   ]
  },
  {
   "cell_type": "markdown",
   "metadata": {},
   "source": [
    "# ckNN distances\n",
    "\n",
    "With the ckNN kernel, the eigenfunctions should be consistent."
   ]
  },
  {
   "cell_type": "code",
   "execution_count": null,
   "metadata": {},
   "outputs": [],
   "source": [
    "from datafold.pcfold.kernels import ContinuousNNKernel\n",
    "\n",
    "X_pcm = pfold.PCManifold(X.reshape(-1,1))\n",
    "\n",
    "\n",
    "def cknn_dmaps(X, n_eigenpairs=10, k_neighbor=10, delta=1/4., kern_tol=1e-12):\n",
    "    X_ = pfold.PCManifold(X)\n",
    "    X_.optimize_parameters()\n",
    "    \n",
    "    cknn_kernel = ContinuousNNKernel(k_neighbor=k_neighbor, delta=delta)\n",
    "    dist_factors,_ = cknn_kernel(X_, dist_cut_off=X_.cut_off,\n",
    "                                 dist_backend='rdist', dist_backend_kwargs={\"kmin\":1+k_neighbor})\n",
    "\n",
    "    dist = scipy.sparse.csr_matrix(dist_factors, dtype=np.float)\n",
    "    \n",
    "    print(f'sparsity distance: {int(dist.nnz/dist.shape[0])} elements per row on average')\n",
    "    \n",
    "    kern = dist.copy()\n",
    "    #  kern.data = np.exp(-kern.data**2)  # we do NOT need this kernel here!\n",
    "    #  The sparsity structure of the graph is already encoded in \"dist\".\n",
    "    kern = kern - scipy.sparse.diags(np.array(kern.diagonal()).ravel()) + scipy.sparse.identity(kern.shape[0])\n",
    "    \n",
    "    kn_ = 1/np.array(np.sqrt(kern.sum(axis=0))).ravel()\n",
    "    kern = scipy.sparse.diags(kn_) @ kern @ scipy.sparse.diags(kn_)\n",
    "    \n",
    "    kn_ = 1/np.array(np.sqrt(kern.sum(axis=0))).ravel()\n",
    "    kern = scipy.sparse.diags(kn_) @ kern @ scipy.sparse.diags(kn_)\n",
    "    \n",
    "    kern = scipy.sparse.csr_matrix(kern)\n",
    "    kern.data[kern.data < kern_tol] = 0\n",
    "    kern.eliminate_zeros()\n",
    "    print(f'sparsity kernel:   {int(kern.nnz/kern.shape[0])} elements per row on average')\n",
    "    \n",
    "    eigenvalues_, eigenvectors_ = scipy.sparse.linalg.eigsh(kern, k=n_eigenpairs)\n",
    "    idx = np.argsort(np.abs(eigenvalues_))[::-1]\n",
    "    eigenvalues_ = eigenvalues_[idx]\n",
    "    eigenvectors_ = eigenvectors_[:, idx]\n",
    "    \n",
    "    return scipy.sparse.diags(kn_) @ eigenvectors_, eigenvalues_\n",
    "\n",
    "\n",
    "evecs_cknn, evals_cknn = cknn_dmaps(X_pcm, n_eigenpairs=7, k_neighbor=25, delta=1/2.)"
   ]
  },
  {
   "cell_type": "code",
   "execution_count": null,
   "metadata": {},
   "outputs": [],
   "source": [
    "plot_pairwise_eigenvector(eigenvectors=evecs_cknn[idx_plot, :], n=1, \n",
    "                          fig_params=dict(figsize=[6,6]), \n",
    "                          scatter_params=dict(cmap=plt.cm.Spectral, c=X_color[idx_plot]))\n",
    "\n",
    "fig,ax=plt.subplots(1,4,figsize=(12,3),sharey=True)\n",
    "for k in range(len(ax)):\n",
    "    ax[k].scatter(X_pcm[idx_plot,0], evecs_cknn[idx_plot,k])"
   ]
  },
  {
   "cell_type": "code",
   "execution_count": null,
   "metadata": {},
   "outputs": [],
   "source": []
  }
 ],
 "metadata": {
  "kernelspec": {
   "display_name": "Python 3",
   "language": "python",
   "name": "python3"
  },
  "language_info": {
   "codemirror_mode": {
    "name": "ipython",
    "version": 3
   },
   "file_extension": ".py",
   "mimetype": "text/x-python",
   "name": "python",
   "nbconvert_exporter": "python",
   "pygments_lexer": "ipython3",
   "version": "3.7.2"
  }
 },
 "nbformat": 4,
 "nbformat_minor": 4
}
