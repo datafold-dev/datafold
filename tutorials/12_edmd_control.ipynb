{
 "cells": [
  {
   "cell_type": "markdown",
   "id": "cfb1eb42",
   "metadata": {},
   "source": [
    "# Model-based control using Extended Dynamic Mode Decomposition\n",
    "\n",
    "\n",
    "In this tutorial we will be exploring the Extended Dynamic Mode Decomposition (EDMD) with control on the Van der Pol oscillator. The goal is to provide an understanding of how EDMD can be used to model and control dynamic systems. The Van der Pol oscillator, a classic example of non-linear oscillation, serves as a simple system. The control feedback will be implemented using the classical Linear Quadratic Regulator (LQR) method. LQR finds the optimal control input that drives the system from an initial state to a desired target state while minimizing the cost function. \n",
    "\n",
    "You can learn how EDMD and LQR can be used together to model and control a non-linear system. In this way EDMD can be an effective alternative to traditional methods for controlling dynamic systems."
   ]
  },
  {
   "cell_type": "code",
   "execution_count": null,
   "id": "77e642c3",
   "metadata": {},
   "outputs": [],
   "source": [
    "import matplotlib.pyplot as plt\n",
    "import numpy as np\n",
    "import pandas as pd\n",
    "from sklearn.base import BaseEstimator\n",
    "from tqdm import tqdm\n",
    "\n",
    "from datafold import EDMD, InitialCondition, TSCDataFrame, TSCTransformerMixin\n",
    "from datafold.appfold.mpc import LQR\n",
    "from datafold.dynfold.dmd import DMDControl\n",
    "from datafold.utils._systems import VanDerPol"
   ]
  },
  {
   "cell_type": "code",
   "execution_count": null,
   "id": "b21f60ee",
   "metadata": {},
   "outputs": [],
   "source": [
    "# Note that it may not converge when choosing another seed (defaults to 55)\n",
    "rng = np.random.default_rng(55)"
   ]
  },
  {
   "cell_type": "markdown",
   "id": "5d9290d1",
   "metadata": {},
   "source": [
    "Set up the Van der Pol system and specify parameters for the sampling procedure. In the system we only control the $y$-direction."
   ]
  },
  {
   "cell_type": "code",
   "execution_count": null,
   "id": "230640a1",
   "metadata": {},
   "outputs": [],
   "source": [
    "vdp = VanDerPol(control_coord=\"y\")\n",
    "\n",
    "n_timeseries = 20  # number of timeseries in training set\n",
    "n_timesteps = 200  # how many timesteps for every time series\n",
    "dt = 0.01  # delta time\n",
    "time_values = np.arange(0, n_timesteps * dt, dt)"
   ]
  },
  {
   "cell_type": "markdown",
   "id": "72f7822d",
   "metadata": {},
   "source": [
    "Set up the initial conditions, which are uniformly sampled $x_{ic}\\in[-3,3]^2$ and the control input, which is uniformly sampled $u_{ic}\\in[-3,3]$ and kept constant for the over the prediction horizon.\n",
    "\n",
    "The perform the prediction with the original Van der Pol model."
   ]
  },
  {
   "cell_type": "code",
   "execution_count": null,
   "id": "c2fe9dc3",
   "metadata": {},
   "outputs": [],
   "source": [
    "X_ic = rng.uniform(-3.0, 3.0, size=(n_timeseries, 2))\n",
    "idx = pd.MultiIndex.from_arrays([np.arange(n_timeseries), np.zeros(n_timeseries)])\n",
    "X_ic = TSCDataFrame(X_ic, index=idx, columns=vdp.feature_names_in_)\n",
    "\n",
    "U_tsc = rng.uniform(-3.0, 3.0, size=(n_timeseries, 1, 1))\n",
    "U_tsc = np.tile(U_tsc, (1, n_timesteps - 1, 1))\n",
    "U_tsc = TSCDataFrame.from_tensor(\n",
    "    U_tsc,\n",
    "    time_series_ids=X_ic.ids,\n",
    "    feature_names=vdp.control_names_in_,\n",
    "    time_values=time_values[:-1],\n",
    ")"
   ]
  },
  {
   "cell_type": "code",
   "execution_count": null,
   "id": "d9a6f323",
   "metadata": {},
   "outputs": [],
   "source": [
    "X_tsc, U_tsc = vdp.predict(X_ic, U=U_tsc)"
   ]
  },
  {
   "cell_type": "markdown",
   "id": "cfac3539",
   "metadata": {},
   "source": [
    "View the time series collecion data (state and control) from the original model and also plot it afterwards. \n",
    "This data is the basis to construct the Extended Dynamic Mode Decomposition model below."
   ]
  },
  {
   "cell_type": "code",
   "execution_count": null,
   "id": "76acfdf6",
   "metadata": {},
   "outputs": [],
   "source": [
    "X_tsc"
   ]
  },
  {
   "cell_type": "code",
   "execution_count": null,
   "id": "394108b7",
   "metadata": {},
   "outputs": [],
   "source": [
    "U_tsc"
   ]
  },
  {
   "cell_type": "code",
   "execution_count": null,
   "id": "7a23cda2",
   "metadata": {},
   "outputs": [],
   "source": [
    "plt.figure(figsize=(10, 7))\n",
    "\n",
    "for i in X_tsc.ids:\n",
    "    idx = pd.IndexSlice[i, :]\n",
    "    plt.plot(X_tsc.loc[idx, \"x1\"].to_numpy(), X_tsc.loc[idx, \"x2\"].to_numpy())\n",
    "plt.title(\"Time series collection (training data)\");"
   ]
  },
  {
   "cell_type": "markdown",
   "id": "11bd923a",
   "metadata": {},
   "source": [
    "### Set up and fit the EDMD model to training data\n",
    "\n",
    "For this we first specify the dictionary, which here is an own datafold transformer class. Afterwards we specify the EDMD model with the dictionary as well es a DMD method that handles control. Finally, to constrct the model, we fit the data to the sampled training data."
   ]
  },
  {
   "cell_type": "code",
   "execution_count": null,
   "id": "88abeb3d",
   "metadata": {},
   "outputs": [],
   "source": [
    "class VdPDictionary(BaseEstimator, TSCTransformerMixin):\n",
    "    def _more_tags(self):\n",
    "        return dict(tsc_contains_orig_states=True)\n",
    "\n",
    "    def get_feature_names_out(self, input_features=None):\n",
    "        return [\"x1^2\", \"x1^2 * x2\"]\n",
    "\n",
    "    def fit(self, X, y=None):\n",
    "        self._setup_feature_attrs_fit(X)\n",
    "        return self\n",
    "\n",
    "    def transform(self, X: TSCDataFrame):\n",
    "        X = X.copy()\n",
    "        X[\"x1^2\"] = np.square(X.loc[:, \"x1\"].to_numpy())\n",
    "        X[\"x1^2 * x2\"] = X[\"x1^2\"].to_numpy() * X[\"x2\"].to_numpy()\n",
    "        return X"
   ]
  },
  {
   "cell_type": "code",
   "execution_count": null,
   "id": "6d216e8d",
   "metadata": {},
   "outputs": [],
   "source": [
    "edmd = EDMD(\n",
    "    dict_steps=[(\"vdpdict\", VdPDictionary())],\n",
    "    dmd_model=DMDControl(),\n",
    "    include_id_state=False,\n",
    ")\n",
    "edmd.fit(X_tsc, U=U_tsc)"
   ]
  },
  {
   "cell_type": "markdown",
   "id": "17c3a015",
   "metadata": {},
   "source": [
    "We can now continue to perform out-of-sample predictions in which we use the EDMD model and generate control input from a linear quadratic regulator. "
   ]
  },
  {
   "cell_type": "code",
   "execution_count": null,
   "id": "99c0d6f0",
   "metadata": {},
   "outputs": [],
   "source": [
    "# number of time steps and time values for controlled time series\n",
    "n_timesteps_oos = 500\n",
    "time_values_oos = np.linspace(0, n_timesteps_oos * X_tsc.delta_time, n_timesteps_oos)\n",
    "\n",
    "# random initial state\n",
    "X_ic_oos = rng.uniform(-3, 3, size=(1, 2))\n",
    "X_ic_oos = InitialCondition.from_array(\n",
    "    X_ic_oos, feature_names=edmd.feature_names_in_, time_value=0\n",
    ")\n",
    "\n",
    "target_state = InitialCondition.from_array(\n",
    "    np.array([0, 0]), feature_names=edmd.feature_names_in_, time_value=0\n",
    ")"
   ]
  },
  {
   "cell_type": "markdown",
   "id": "ef31ae0f",
   "metadata": {},
   "source": [
    "The target state is the origin of the Van der Pol phase space. We also provide a cost of input as well as the discrepancy of state. "
   ]
  },
  {
   "cell_type": "code",
   "execution_count": null,
   "id": "167772cf",
   "metadata": {},
   "outputs": [],
   "source": [
    "lqr = LQR(edmd=edmd, cost_running=np.array([1, 1, 0, 0]), cost_input=1e-2)\n",
    "lqr.preset_target_state(target_state);"
   ]
  },
  {
   "cell_type": "markdown",
   "id": "cc046fc8",
   "metadata": {},
   "source": [
    "Now we can perform a closed-loop simulation, where the control input is adjusted based on the system's output in the current time step. Therefore, the model's state is continuously monitored and used to update the control input, allowing the system to adjust its behavior based on the current state of the system."
   ]
  },
  {
   "cell_type": "code",
   "execution_count": null,
   "id": "9bf3649b",
   "metadata": {},
   "outputs": [],
   "source": [
    "# allocate data structures and fill in the following system loop\n",
    "X_oos = TSCDataFrame.from_array(\n",
    "    np.zeros((n_timesteps_oos, 2)),\n",
    "    feature_names=vdp.feature_names_in_,\n",
    "    time_values=time_values_oos,\n",
    ")\n",
    "U_oos = TSCDataFrame.from_array(\n",
    "    np.zeros((n_timesteps_oos - 1, 1)),\n",
    "    feature_names=vdp.control_names_in_,\n",
    "    time_values=time_values_oos[:-1],\n",
    ")\n",
    "\n",
    "X_oos.iloc[0, :] = X_ic_oos.to_numpy()\n",
    "\n",
    "for i in tqdm(range(1, n_timesteps_oos)):\n",
    "    state = X_oos.iloc[[i - 1], :]\n",
    "    U_oos.iloc[i - 1, :] = lqr.control_sequence(X=state)\n",
    "    new_state, _ = vdp.predict(\n",
    "        state, U=U_oos.iloc[[i - 1], :], time_values=time_values_oos[i - 1 : i + 1]\n",
    "    )\n",
    "    X_oos.iloc[i, :] = new_state.iloc[[1], :].to_numpy()"
   ]
  },
  {
   "cell_type": "markdown",
   "id": "99a68a6f",
   "metadata": {},
   "source": [
    "For comparison we simulate the system without any control input. "
   ]
  },
  {
   "cell_type": "code",
   "execution_count": null,
   "id": "410f81c7",
   "metadata": {},
   "outputs": [],
   "source": [
    "trajectory_uncontrolled, _ = vdp.predict(\n",
    "    X_ic_oos, U=np.zeros((n_timesteps_oos - 1)), time_values=time_values_oos\n",
    ")"
   ]
  },
  {
   "cell_type": "markdown",
   "id": "ca655d6c",
   "metadata": {},
   "source": [
    "Finally, we plot the controlled trajectory and compare it to the uncontrolled system. The blue arrows highlight the control input along the vertical direction at the respective state. We see that that the system is able to reach the origin as the specified target state. "
   ]
  },
  {
   "cell_type": "code",
   "execution_count": null,
   "id": "79ec5a6d",
   "metadata": {},
   "outputs": [],
   "source": [
    "plt.figure(figsize=(10, 7))\n",
    "plt.plot(\n",
    "    X_oos.loc[:, \"x1\"].to_numpy(),\n",
    "    X_oos.loc[:, \"x2\"].to_numpy(),\n",
    "    c=\"red\",\n",
    "    label=\"controlled traj.\",\n",
    ")\n",
    "plt.quiver(\n",
    "    *X_oos.to_numpy()[:-1, :].T,\n",
    "    *np.column_stack(\n",
    "        [np.zeros_like(U_oos.to_numpy()), U_oos.to_numpy() / X_oos.delta_time]\n",
    "    ).T,\n",
    "    color=\"blue\",\n",
    "    label=\"control\"\n",
    ")\n",
    "plt.plot(X_oos.iloc[0, 0], X_oos.iloc[0, 1], \"o\", c=\"red\")\n",
    "plt.plot(\n",
    "    trajectory_uncontrolled.loc[:, \"x1\"].to_numpy(),\n",
    "    trajectory_uncontrolled.loc[:, \"x2\"].to_numpy(),\n",
    "    c=\"black\",\n",
    "    label=\"uncontrolled traj.\",\n",
    ")\n",
    "plt.plot(\n",
    "    trajectory_uncontrolled.iloc[0, 0],\n",
    "    trajectory_uncontrolled.iloc[0, 1],\n",
    "    \"o\",\n",
    "    c=\"black\",\n",
    "    label=\"initial state\",\n",
    ")\n",
    "plt.plot(\n",
    "    target_state.iloc[0, 0],\n",
    "    target_state.iloc[0, 1],\n",
    "    \"*\",\n",
    "    c=\"black\",\n",
    "    label=\"target state\",\n",
    ")\n",
    "plt.xlabel(\"x1\")\n",
    "plt.ylabel(\"x2\")\n",
    "plt.legend()\n",
    "plt.grid()"
   ]
  },
  {
   "cell_type": "markdown",
   "id": "2cbe437a",
   "metadata": {},
   "source": [
    "Here we plot the trajectory and its norm over time on its path to the target state."
   ]
  },
  {
   "cell_type": "code",
   "execution_count": null,
   "id": "de571013",
   "metadata": {},
   "outputs": [],
   "source": [
    "plt.figure(figsize=(10, 7))\n",
    "plt.plot(X_oos.time_values(), X_oos.loc[:, \"x1\"].to_numpy(), c=\"black\", label=\"x1\")\n",
    "plt.plot(\n",
    "    X_oos.time_values(),\n",
    "    X_oos.loc[:, \"x2\"].to_numpy(),\n",
    "    c=\"blue\",\n",
    "    label=\"x2 (controlled)\",\n",
    ")\n",
    "plt.xlabel(\"t\")\n",
    "plt.legend()\n",
    "plt.ylabel(\"x1, x2\")\n",
    "plt.grid()"
   ]
  },
  {
   "cell_type": "code",
   "execution_count": null,
   "id": "d18bc9b1",
   "metadata": {},
   "outputs": [],
   "source": [
    "plt.figure(figsize=(10, 7))\n",
    "plt.plot(np.linalg.norm(X_oos.to_numpy(), axis=1), c=\"blue\", label=\"state\")\n",
    "plt.axhline(np.linalg.norm(target_state), c=\"red\", label=\"target\")\n",
    "plt.xlabel(\"t\")\n",
    "plt.ylabel(\"norm\")\n",
    "plt.grid()\n",
    "plt.legend();"
   ]
  }
 ],
 "metadata": {
  "kernelspec": {
   "display_name": "Python 3 (ipykernel)",
   "language": "python",
   "name": "python3"
  },
  "language_info": {
   "codemirror_mode": {
    "name": "ipython",
    "version": 3
   },
   "file_extension": ".py",
   "mimetype": "text/x-python",
   "name": "python",
   "nbconvert_exporter": "python",
   "pygments_lexer": "ipython3",
   "version": "3.9.17"
  }
 },
 "nbformat": 4,
 "nbformat_minor": 5
}
