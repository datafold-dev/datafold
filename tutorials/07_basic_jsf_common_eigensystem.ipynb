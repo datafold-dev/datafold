{
 "cells": [
  {
   "cell_type": "markdown",
   "metadata": {},
   "source": [
    "(Visit the\n",
    "[documentation](https://datafold-dev.gitlab.io/datafold/tutorial_index.html) page\n",
    "to view the executed notebook.)\n",
    "\n",
    "# Jointly Smooth Functions: An Example\n",
    "\n",
    "For a detailed introduction see paper\n",
    "\n",
    "Or Yair, Felix Dietrich, Rotem Mulayoff, Ronen Talmon, Ioannis G. Kerekidis, Spectral Discovery of Jointly Smooth Features for Multimodal Data, ArXiv, 2020, Available at: https://arxiv.org/abs/2004.04386\n",
    "\n",
    "Jointly Smooth Functions learn common smooth functions from multimodal data."
   ]
  },
  {
   "cell_type": "code",
   "execution_count": null,
   "metadata": {},
   "outputs": [],
   "source": [
    "import warnings\n",
    "\n",
    "import matplotlib.pyplot as plt\n",
    "import numpy as np\n",
    "from scipy.sparse import SparseEfficiencyWarning, csr_matrix\n",
    "\n",
    "# NOTE: make sure \"path/to/datafold\" is in sys.path or PYTHONPATH if datafold is not installed\n",
    "import datafold.pcfold as pfold\n",
    "from datafold.dynfold.jsf import JointlySmoothFunctions, JsfDataset\n",
    "\n",
    "warnings.simplefilter(\"ignore\", SparseEfficiencyWarning)"
   ]
  },
  {
   "cell_type": "markdown",
   "metadata": {},
   "source": [
    "## Generate Parameters and Observations\n",
    "\n",
    "We generate data for the parameters, the observations, and the effective parameters with the three functions below."
   ]
  },
  {
   "cell_type": "code",
   "execution_count": null,
   "metadata": {
    "pycharm": {
     "name": "#%%\n"
    }
   },
   "outputs": [],
   "source": [
    "def generate_parameters(_x, _y):\n",
    "    return np.column_stack(\n",
    "        [\n",
    "            _x,\n",
    "            _y,\n",
    "        ]\n",
    "    )\n",
    "\n",
    "\n",
    "def generate_observations(_x, _z, div=5, mult=6):\n",
    "    return np.column_stack(\n",
    "        [\n",
    "            (div / 2 * _z + _x / 2 + 2 / 3) * np.cos(mult * np.pi * _z) / 2,\n",
    "            (div / 2 * _z + _x / 2 + 2 / 3) * np.sin(mult * np.pi * _z) / 2,\n",
    "        ]\n",
    "    )\n",
    "\n",
    "\n",
    "def generate_points(n_samples):\n",
    "    rng = np.random.default_rng(42)\n",
    "    xyz = rng.uniform(low=-0.5, high=0.5, size=(n_samples, 3))\n",
    "    x, y, z = (\n",
    "        xyz[:, 0].reshape(-1, 1),\n",
    "        xyz[:, 1].reshape(-1, 1),\n",
    "        xyz[:, 2].reshape(-1, 1),\n",
    "    )\n",
    "\n",
    "    parameters = generate_parameters(x, y)\n",
    "    effective_parameter = parameters[:, 0] + parameters[:, 1] ** 2\n",
    "    observations = generate_observations(effective_parameter, z[:, 0], 2, 2)\n",
    "\n",
    "    return parameters, observations, effective_parameter"
   ]
  },
  {
   "cell_type": "markdown",
   "metadata": {},
   "source": [
    "## Plotting the parameters and observations colored by the effective parameter\n",
    "\n",
    "The plots below illustrate the parameters and observations colored by the effective parameter, which we want to learn with the jointly smooth functions."
   ]
  },
  {
   "cell_type": "code",
   "execution_count": null,
   "metadata": {},
   "outputs": [],
   "source": [
    "def plot_parameters_and_observations(\n",
    "    parameters: np.ndarray,\n",
    "    observations: np.ndarray,\n",
    "    effective_parameter: np.ndarray,\n",
    "    n_samples_plot: int = 3000,\n",
    "):\n",
    "    n_samples = parameters.shape[0]\n",
    "    idx_plot = np.random.permutation(n_samples)[:n_samples_plot]\n",
    "    scatter_size = 10\n",
    "\n",
    "    fig, ax = plt.subplots(nrows=1, ncols=2, figsize=(8, 3.5))\n",
    "\n",
    "    ax[0].scatter(\n",
    "        x=parameters[idx_plot, 0],\n",
    "        y=parameters[idx_plot, 1],\n",
    "        s=scatter_size,\n",
    "        c=effective_parameter[idx_plot],\n",
    "        cmap=plt.cm.Spectral,\n",
    "    )\n",
    "    ax[0].set_title(\"Parameters\")\n",
    "    ax[0].set_xlabel(r\"$p_A$\")\n",
    "    ax[0].set_ylabel(r\"$p_B$\")\n",
    "\n",
    "    ax[1].scatter(\n",
    "        x=observations[idx_plot, 0],\n",
    "        y=observations[idx_plot, 1],\n",
    "        s=scatter_size,\n",
    "        c=effective_parameter[idx_plot],\n",
    "        cmap=plt.cm.Spectral,\n",
    "    )\n",
    "    ax[1].set_title(\"Observations\")\n",
    "    ax[1].set_xlabel(r\"$z_A$\")\n",
    "    ax[1].set_ylabel(r\"$z_B$\")\n",
    "\n",
    "    plt.show()"
   ]
  },
  {
   "cell_type": "code",
   "execution_count": null,
   "metadata": {
    "pycharm": {
     "name": "#%%\n"
    }
   },
   "outputs": [],
   "source": [
    "n_samples = 6000\n",
    "parameters, observations, effective_parameter = generate_points(n_samples)\n",
    "\n",
    "plot_parameters_and_observations(parameters, observations, effective_parameter)"
   ]
  },
  {
   "cell_type": "markdown",
   "metadata": {},
   "source": [
    "## The JsfDataset Class\n",
    "\n",
    "`JsfDataset` does the slicing of the data. This is needed, as `.fit`, `.transform`, and `.fit_transform` accept a single data array `X`. Thus, the multimodal data is passed in as a single array and is then separated inside the methods. `JsfDataset.fit_transform` provides this splitting functionality. The constructor of `JsfDataset` expects: \n",
    "- a name\n",
    "- a slice or list (the columns of `X` corresponding to this dataset)\n",
    "- an optional kernel (default: `GaussianKernel`)\n",
    "- optional dist_kwargs for the `PCManifold` created in `.fit_transform`"
   ]
  },
  {
   "cell_type": "code",
   "execution_count": null,
   "metadata": {},
   "outputs": [],
   "source": [
    "cknn_delta = 1\n",
    "cknn_k_neighbor = 50\n",
    "kernel1 = pfold.kernels.ContinuousNNKernel(k_neighbor=cknn_k_neighbor, delta=cknn_delta)\n",
    "kernel2 = pfold.kernels.ContinuousNNKernel(k_neighbor=cknn_k_neighbor, delta=cknn_delta)\n",
    "\n",
    "X = np.column_stack([parameters, observations])\n",
    "\n",
    "\n",
    "datasets = [\n",
    "    JsfDataset(\n",
    "        \"parameters\", slice(0, 2), kernel1, backend=\"scipy.kdtree\", cut_off=1e-8\n",
    "    ),\n",
    "    JsfDataset(\n",
    "        \"observations\", slice(2, 4), kernel2, backend=\"scipy.kdtree\", cut_off=1e-8\n",
    "    ),\n",
    "]"
   ]
  },
  {
   "cell_type": "markdown",
   "metadata": {},
   "source": [
    "## Fit JointlySmoothFunctions model\n",
    "\n",
    "We create a `JointlySmoothFunctions` model and fit it to the data. Internally, `JointlySmoothFunctions` uses the datasets to split up the single input array `X` into the separate datasets."
   ]
  },
  {
   "cell_type": "code",
   "execution_count": null,
   "metadata": {
    "pycharm": {
     "name": "#%%\n"
    }
   },
   "outputs": [],
   "source": [
    "jsf = JointlySmoothFunctions(\n",
    "    n_kernel_eigenvectors=100,\n",
    "    n_jointly_smooth_functions=10,\n",
    "    datasets=datasets,\n",
    "    kernel_eigenvalue_cut_off=1e-8,\n",
    "    eigenvector_tolerance=1e-10,\n",
    ")\n",
    "\n",
    "jsf.fit(X)"
   ]
  },
  {
   "cell_type": "markdown",
   "metadata": {
    "pycharm": {
     "name": "#%%\n"
    }
   },
   "source": [
    "## The E0 Threshold\n",
    "\n",
    "The `JointlySmoothFunctions` class also provides a method to calculate a threshold for the functions. The eigenvalues are depicted in blue and the threshold in red. "
   ]
  },
  {
   "cell_type": "code",
   "execution_count": null,
   "metadata": {
    "pycharm": {
     "name": "#%%\n"
    }
   },
   "outputs": [],
   "source": [
    "E0 = jsf.calculate_E0()\n",
    "\n",
    "plt.plot(jsf.eigenvalues, \".-\")\n",
    "plt.axhline(y=E0, c=\"r\")\n",
    "plt.show()"
   ]
  },
  {
   "cell_type": "markdown",
   "metadata": {},
   "source": [
    "## The Jointly Smooth Functions\n",
    "\n",
    "Here, you can see that the last two functions (having eigenvalues below E0) are quite noisy."
   ]
  },
  {
   "cell_type": "code",
   "execution_count": null,
   "metadata": {},
   "outputs": [],
   "source": [
    "idx_plot = np.random.permutation(n_samples)\n",
    "\n",
    "n_plots = 6\n",
    "fig, ax = plt.subplots(1, n_plots, figsize=(n_plots * 3, 3), sharey=True)\n",
    "for k in range(len(ax)):\n",
    "    ax[k].scatter(\n",
    "        effective_parameter[idx_plot],\n",
    "        jsf.jointly_smooth_functions[idx_plot, k],\n",
    "        c=jsf.jointly_smooth_functions[idx_plot, k],\n",
    "        s=5,\n",
    "        cmap=plt.cm.Spectral,\n",
    "    )"
   ]
  },
  {
   "cell_type": "markdown",
   "metadata": {},
   "source": [
    "## Plotting the parameters and observations colored by a jointly smooth function\n",
    "\n",
    "The plots below illustrate the parameters and observations colored by a jointly smooth function."
   ]
  },
  {
   "cell_type": "code",
   "execution_count": null,
   "metadata": {
    "pycharm": {
     "name": "#%%\n"
    }
   },
   "outputs": [],
   "source": [
    "plot_parameters_and_observations(\n",
    "    parameters=parameters,\n",
    "    observations=observations,\n",
    "    effective_parameter=jsf.jointly_smooth_functions[:, 1],\n",
    ")"
   ]
  },
  {
   "cell_type": "markdown",
   "metadata": {},
   "source": [
    "## Out-of-sample extension\n",
    "\n",
    "Finally, `JointlySmoothFuctions` offers an out-of-sample extension via the `.transform` function. We create a new test set, transform the test set, and create the same plot as for the train set above."
   ]
  },
  {
   "cell_type": "code",
   "execution_count": null,
   "metadata": {
    "pycharm": {
     "name": "#%%\n"
    }
   },
   "outputs": [],
   "source": [
    "n_new_samples = 3000\n",
    "new_parameters, new_observations, new_effective_parameter = generate_points(\n",
    "    n_new_samples\n",
    ")\n",
    "new_X = np.column_stack([new_parameters, new_observations])\n",
    "\n",
    "oos_jsfs = jsf.transform(new_X)\n",
    "\n",
    "plot_parameters_and_observations(\n",
    "    parameters=new_parameters,\n",
    "    observations=new_observations,\n",
    "    effective_parameter=oos_jsfs[:, 1],\n",
    ")"
   ]
  },
  {
   "cell_type": "code",
   "execution_count": null,
   "metadata": {},
   "outputs": [],
   "source": []
  }
 ],
 "metadata": {
  "kernelspec": {
   "display_name": "Python 3",
   "language": "python",
   "name": "python3"
  },
  "language_info": {
   "codemirror_mode": {
    "name": "ipython",
    "version": 3
   },
   "file_extension": ".py",
   "mimetype": "text/x-python",
   "name": "python",
   "nbconvert_exporter": "python",
   "pygments_lexer": "ipython3",
   "version": "3.8.5"
  }
 },
 "nbformat": 4,
 "nbformat_minor": 1
}
