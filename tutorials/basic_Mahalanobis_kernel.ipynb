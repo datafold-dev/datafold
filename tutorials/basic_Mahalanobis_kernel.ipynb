{
 "cells": [
  {
   "cell_type": "code",
   "execution_count": null,
   "metadata": {},
   "outputs": [],
   "source": [
    "import numpy as np\n",
    "import scipy\n",
    "import matplotlib.pyplot as plt\n",
    "\n",
    "import datafold.pcfold as pfold\n",
    "import datafold.dynfold as dfold\n",
    "\n",
    "from datafold.pcfold.kernels import MahalanobisKernel\n",
    "\n",
    "def dmap(data, cov_matrices, n_evecs=10, verbosity=2, k=25, random_state=1):\n",
    "    pcm = pfold.PCManifold(data)\n",
    "    pcm.optimize_parameters(random_state=random_state, k=k, result_scaling=1)\n",
    "    \n",
    "    _k = MahalanobisKernel(verbosity_level=verbosity,\n",
    "                           epsilon=None,\n",
    "                           cov_matrices=cov_matrices)\n",
    "    _dmap = dfold.DiffusionMaps(n_eigenpairs=n_evecs,\n",
    "                                kernel=_k,\n",
    "                                dist_kwargs={\"cut_off\": pcm.cut_off, \"kmin\": k})\n",
    "    _dmap.fit(pcm)\n",
    "    return _dmap.eigenvectors_, _dmap.eigenvalues_"
   ]
  },
  {
   "cell_type": "markdown",
   "metadata": {},
   "source": [
    "# Create example data"
   ]
  },
  {
   "cell_type": "code",
   "execution_count": null,
   "metadata": {},
   "outputs": [],
   "source": [
    "random_state=1\n",
    "n_pts = 1000\n",
    "n_neighbors = 100\n",
    "eps_covariance = 1e-2\n",
    "pinv_rcond = 1e-4\n",
    "\n",
    "rng=np.random.default_rng(random_state)\n",
    "\n",
    "def transformation(x):\n",
    "    return np.column_stack([\n",
    "        x[:,0]+x[:,1]**3,\n",
    "        x[:,1]-x[:,0]**3\n",
    "    ])\n",
    "\n",
    "data_x = rng.uniform(low=0, high=1, size=(n_pts,2))\n",
    "data_y = transformation(data_x)\n",
    "\n",
    "# sample covariance data from neighborhoods\n",
    "covariances = np.zeros((n_pts, 2, 2))\n",
    "for k in range(n_pts):\n",
    "    neighbors = rng.normal(loc=data_x[k, :], scale=eps_covariance, size=(n_neighbors, 2))\n",
    "    covariances[k,:,:] = np.cov(neighbors.T)"
   ]
  },
  {
   "cell_type": "code",
   "execution_count": null,
   "metadata": {},
   "outputs": [],
   "source": [
    "# compute the pseudo inverses of the covariances and pass them to the metric\n",
    "\n",
    "covariances_inv = np.zeros_like(covariances)\n",
    "\n",
    "pinv_tol = np.exp(-10)\n",
    "\n",
    "some_evals1 = []\n",
    "some_ranks1 = []\n",
    "\n",
    "from time import time\n",
    "t0 = time()\n",
    "print(\"Computing %g inverse matrices...\" % (n_pts), end=\"\")\n",
    "for k in range(n_pts):\n",
    "    covariances_inv[k,:,:] = np.linalg.pinv(covariances_inv[k,:,:], rcond=pinv_rcond)\n",
    "    if k < 1000:\n",
    "        evals = np.linalg.eigvals(covariances[k,:,:])\n",
    "        some_evals1.append(evals)\n",
    "        some_ranks1.append(np.sum(evals > pinv_tol))\n",
    "print(f\"done in {time()-t0} seconds.\")\n",
    "\n",
    "some_evals1 = np.row_stack(some_evals1)\n",
    "some_ranks1 = np.row_stack(some_ranks1)"
   ]
  },
  {
   "cell_type": "code",
   "execution_count": null,
   "metadata": {},
   "outputs": [],
   "source": [
    "fig,ax=plt.subplots(1,2,figsize=(8,4))\n",
    "ax[0].hist(np.log(np.abs(some_evals1.ravel())), 150)\n",
    "ax[0].plot([np.log(pinv_tol), np.log(pinv_tol)], [0,300], 'r-')\n",
    "ax[0].set_title('covariance eigenvalue distribution')\n",
    "ax[0].set_xlabel(r'log $\\lambda$')\n",
    "\n",
    "rank_bins = np.arange(0,10)-.5\n",
    "ax[1].hist(some_ranks1, rank_bins-.05, alpha=.5)\n",
    "ax[1].set_xlim([0,5])\n",
    "ax[1].set_title('covariance rank distribution')\n",
    "ax[1].set_xlabel('rank')"
   ]
  },
  {
   "cell_type": "code",
   "execution_count": null,
   "metadata": {},
   "outputs": [],
   "source": [
    "# compute DMAPS with the given mahalanobis metric\n",
    "n_evecs = 10\n",
    "\n",
    "t0=time()\n",
    "\n",
    "evecs1,evals1 = dmap(data_y, cov_matrices=covariances_inv, n_evecs=n_evecs)\n",
    "\n",
    "print(f\"First dmap done in {time()-t0} seconds\")"
   ]
  },
  {
   "cell_type": "code",
   "execution_count": null,
   "metadata": {},
   "outputs": [],
   "source": [
    "rng = np.random.default_rng(random_state)\n",
    "\n",
    "lrs = dfold.LocalRegressionSelection(intrinsic_dim=2, n_subsample=500, strategy=\"dim\")\n",
    "selection1 = lrs.fit(evecs1)\n",
    "\n",
    "idx_ev = rng.permutation(evecs1.shape[0])[0:2000]\n",
    "\n",
    "fig,ax = plt.subplots(1,2,figsize=(6,3))\n",
    "ax[0].plot(selection1.residuals_,'.-')\n",
    "\n",
    "ax[1].scatter(evecs1[idx_ev, selection1.evec_indices_[0]],\n",
    "              evecs1[idx_ev, selection1.evec_indices_[1]],s=.5,c=data_x[idx_ev,0])\n",
    "ax[1].set_title('embedding network 1');\n",
    "ax[1].set_xlabel(r'$\\phi_1$')\n",
    "ax[1].set_ylabel(r'$\\phi_2$')\n",
    "\n",
    "fig.tight_layout()"
   ]
  },
  {
   "cell_type": "code",
   "execution_count": null,
   "metadata": {},
   "outputs": [],
   "source": []
  }
 ],
 "metadata": {
  "kernelspec": {
   "display_name": "Python 3",
   "language": "python",
   "name": "python3"
  },
  "language_info": {
   "codemirror_mode": {
    "name": "ipython",
    "version": 3
   },
   "file_extension": ".py",
   "mimetype": "text/x-python",
   "name": "python",
   "nbconvert_exporter": "python",
   "pygments_lexer": "ipython3",
   "version": "3.7.2"
  }
 },
 "nbformat": 4,
 "nbformat_minor": 4
}
