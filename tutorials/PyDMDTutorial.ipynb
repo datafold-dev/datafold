{
 "cells": [
  {
   "cell_type": "code",
   "execution_count": 1,
   "id": "3d6e4ae5",
   "metadata": {
    "pycharm": {
     "name": "#%%\n"
    }
   },
   "outputs": [],
   "source": [
    "%matplotlib inline\n",
    "import matplotlib.pyplot as plt\n",
    "import numpy as np\n",
    "import scipy\n",
    "\n",
    "from datafold import DMDControl, TSCDataFrame\n",
    "\n",
    "from pydmd import DMDc"
   ]
  },
  {
   "cell_type": "code",
   "execution_count": 40,
   "id": "223a59da",
   "metadata": {
    "pycharm": {
     "name": "#%%\n"
    }
   },
   "outputs": [],
   "source": [
    "def create_system(n, m):\n",
    "    A = scipy.linalg.helmert(n, True)\n",
    "    B = np.random.rand(n, n)-.5\n",
    "    x0 = np.array([0.25]*n)\n",
    "    u = np.random.rand(n, m-1)-.5\n",
    "    snapshots = [x0]\n",
    "    for i in range(m-1):\n",
    "        snapshots.append(A.dot(snapshots[i])+B.dot(u[:, i]))\n",
    "    snapshots = np.array(snapshots).T\n",
    "    return {'snapshots': snapshots, 'u': u, 'B': B, 'A': A}"
   ]
  },
  {
   "cell_type": "code",
   "execution_count": 41,
   "id": "f8b81f12",
   "metadata": {
    "pycharm": {
     "name": "#%%\n"
    }
   },
   "outputs": [
    {
     "name": "stdout",
     "output_type": "stream",
     "text": [
      "(25, 10)\n"
     ]
    }
   ],
   "source": [
    "s = create_system(25, 10)\n",
    "print(s['snapshots'].shape)"
   ]
  },
  {
   "cell_type": "code",
   "execution_count": 42,
   "id": "1bf23735",
   "metadata": {
    "pycharm": {
     "name": "#%%\n"
    }
   },
   "outputs": [],
   "source": [
    "X = TSCDataFrame.from_array(s['snapshots'].T)\n",
    "U = TSCDataFrame.from_array(s['u'].T)"
   ]
  },
  {
   "cell_type": "code",
   "execution_count": 44,
   "id": "4efe33f4",
   "metadata": {
    "pycharm": {
     "name": "#%%\n"
    }
   },
   "outputs": [
    {
     "data": {
      "text/plain": [
       "(10, 25)"
      ]
     },
     "execution_count": 44,
     "metadata": {},
     "output_type": "execute_result"
    }
   ],
   "source": [
    "X.shape"
   ]
  },
  {
   "cell_type": "code",
   "execution_count": 19,
   "id": "027514f4",
   "metadata": {
    "pycharm": {
     "name": "#%%\n"
    }
   },
   "outputs": [
    {
     "data": {
      "text/plain": [
       "<pydmd.dmdc.DMDc at 0x7f28be518f10>"
      ]
     },
     "execution_count": 19,
     "metadata": {},
     "output_type": "execute_result"
    }
   ],
   "source": [
    "dmdc = DMDc(svd_rank=-1)\n",
    "dmdc.fit(s['snapshots'], s['u'])"
   ]
  },
  {
   "cell_type": "code",
   "execution_count": null,
   "id": "81e8d981",
   "metadata": {
    "pycharm": {
     "name": "#%%\n"
    }
   },
   "outputs": [],
   "source": []
  },
  {
   "cell_type": "code",
   "execution_count": 22,
   "id": "46c5bf85",
   "metadata": {
    "pycharm": {
     "name": "#%%\n"
    }
   },
   "outputs": [
    {
     "ename": "ValueError",
     "evalue": "System time series ('X') and control time series ('U') must have identical indices.",
     "output_type": "error",
     "traceback": [
      "\u001B[0;31m---------------------------------------------------------------------------\u001B[0m",
      "\u001B[0;31mValueError\u001B[0m                                Traceback (most recent call last)",
      "Input \u001B[0;32mIn [22]\u001B[0m, in \u001B[0;36m<cell line: 2>\u001B[0;34m()\u001B[0m\n\u001B[1;32m      1\u001B[0m dmdcdf \u001B[38;5;241m=\u001B[39m DMDControl()\n\u001B[0;32m----> 2\u001B[0m \u001B[43mdmdcdf\u001B[49m\u001B[38;5;241;43m.\u001B[39;49m\u001B[43mfit\u001B[49m\u001B[43m(\u001B[49m\u001B[43mX\u001B[49m\u001B[38;5;241;43m=\u001B[39;49m\u001B[43mX\u001B[49m\u001B[43m,\u001B[49m\u001B[43m \u001B[49m\u001B[43mU\u001B[49m\u001B[38;5;241;43m=\u001B[39;49m\u001B[43mU\u001B[49m\u001B[43m)\u001B[49m\n",
      "File \u001B[0;32m/import/home/ga63wip/Code/datafold-dev/datafold/dynfold/dmd.py:1273\u001B[0m, in \u001B[0;36mDMDControl.fit\u001B[0;34m(self, X, U, y, **fit_params)\u001B[0m\n\u001B[1;32m   1263\u001B[0m \u001B[38;5;28mself\u001B[39m\u001B[38;5;241m.\u001B[39m_validate_datafold_data(\n\u001B[1;32m   1264\u001B[0m     X\u001B[38;5;241m=\u001B[39mX,\n\u001B[1;32m   1265\u001B[0m     ensure_tsc\u001B[38;5;241m=\u001B[39m\u001B[38;5;28;01mTrue\u001B[39;00m,\n\u001B[1;32m   1266\u001B[0m     tsc_kwargs\u001B[38;5;241m=\u001B[39m{\u001B[38;5;124m\"\u001B[39m\u001B[38;5;124mensure_const_delta_time\u001B[39m\u001B[38;5;124m\"\u001B[39m: \u001B[38;5;28;01mTrue\u001B[39;00m},\n\u001B[1;32m   1267\u001B[0m )\n\u001B[1;32m   1269\u001B[0m \u001B[38;5;28mself\u001B[39m\u001B[38;5;241m.\u001B[39m_validate_datafold_data(\n\u001B[1;32m   1270\u001B[0m     X\u001B[38;5;241m=\u001B[39mU,\n\u001B[1;32m   1271\u001B[0m     ensure_tsc\u001B[38;5;241m=\u001B[39m\u001B[38;5;28;01mTrue\u001B[39;00m,\n\u001B[1;32m   1272\u001B[0m )\n\u001B[0;32m-> 1273\u001B[0m \u001B[38;5;28;43mself\u001B[39;49m\u001B[38;5;241;43m.\u001B[39;49m\u001B[43m_setup_features_and_time_attrs_fit\u001B[49m\u001B[43m(\u001B[49m\u001B[43mX\u001B[49m\u001B[38;5;241;43m=\u001B[39;49m\u001B[43mX\u001B[49m\u001B[43m,\u001B[49m\u001B[43m \u001B[49m\u001B[43mU\u001B[49m\u001B[38;5;241;43m=\u001B[39;49m\u001B[43mU\u001B[49m\u001B[43m)\u001B[49m\n\u001B[1;32m   1274\u001B[0m \u001B[38;5;28mself\u001B[39m\u001B[38;5;241m.\u001B[39m_read_fit_params(\u001B[38;5;28;01mNone\u001B[39;00m, fit_params\u001B[38;5;241m=\u001B[39mfit_params)\n\u001B[1;32m   1276\u001B[0m sys_matrix, control_matrix \u001B[38;5;241m=\u001B[39m \u001B[38;5;28mself\u001B[39m\u001B[38;5;241m.\u001B[39m_compute_koopman_and_control_matrix(X, U)\n",
      "File \u001B[0;32m/import/home/ga63wip/Code/datafold-dev/datafold/dynfold/base.py:472\u001B[0m, in \u001B[0;36mTSCPredictMixin._setup_features_and_time_attrs_fit\u001B[0;34m(self, X, U)\u001B[0m\n\u001B[1;32m    467\u001B[0m time_values \u001B[38;5;241m=\u001B[39m \u001B[38;5;28mself\u001B[39m\u001B[38;5;241m.\u001B[39m_validate_time_values_format(time_values\u001B[38;5;241m=\u001B[39mtime_values)\n\u001B[1;32m    469\u001B[0m \u001B[38;5;28;01mif\u001B[39;00m is_controlled \u001B[38;5;129;01mand\u001B[39;00m \u001B[38;5;129;01mnot\u001B[39;00m is_df_same_index(\n\u001B[1;32m    470\u001B[0m     X, U, check_column\u001B[38;5;241m=\u001B[39m\u001B[38;5;28;01mFalse\u001B[39;00m, check_names\u001B[38;5;241m=\u001B[39m\u001B[38;5;28;01mFalse\u001B[39;00m, handle\u001B[38;5;241m=\u001B[39m\u001B[38;5;28;01mNone\u001B[39;00m\n\u001B[1;32m    471\u001B[0m ):\n\u001B[0;32m--> 472\u001B[0m     \u001B[38;5;28;01mraise\u001B[39;00m \u001B[38;5;167;01mValueError\u001B[39;00m(\n\u001B[1;32m    473\u001B[0m         \u001B[38;5;124m\"\u001B[39m\u001B[38;5;124mSystem time series (\u001B[39m\u001B[38;5;124m'\u001B[39m\u001B[38;5;124mX\u001B[39m\u001B[38;5;124m'\u001B[39m\u001B[38;5;124m) and control time series (\u001B[39m\u001B[38;5;124m'\u001B[39m\u001B[38;5;124mU\u001B[39m\u001B[38;5;124m'\u001B[39m\u001B[38;5;124m) must have identical \u001B[39m\u001B[38;5;124m\"\u001B[39m\n\u001B[1;32m    474\u001B[0m         \u001B[38;5;124m\"\u001B[39m\u001B[38;5;124mindices.\u001B[39m\u001B[38;5;124m\"\u001B[39m\n\u001B[1;32m    475\u001B[0m     )\n\u001B[1;32m    477\u001B[0m \u001B[38;5;28mself\u001B[39m\u001B[38;5;241m.\u001B[39mdt_ \u001B[38;5;241m=\u001B[39m X\u001B[38;5;241m.\u001B[39mdelta_time\n\u001B[1;32m    479\u001B[0m \u001B[38;5;28;01mif\u001B[39;00m \u001B[38;5;28misinstance\u001B[39m(\u001B[38;5;28mself\u001B[39m\u001B[38;5;241m.\u001B[39mdt_, pd\u001B[38;5;241m.\u001B[39mSeries) \u001B[38;5;129;01mor\u001B[39;00m np\u001B[38;5;241m.\u001B[39misnan(\u001B[38;5;28mself\u001B[39m\u001B[38;5;241m.\u001B[39mdt_):\n\u001B[1;32m    480\u001B[0m     \u001B[38;5;66;03m# Series if dt_ is not the same for all time series in the data.\u001B[39;00m\n",
      "\u001B[0;31mValueError\u001B[0m: System time series ('X') and control time series ('U') must have identical indices."
     ]
    }
   ],
   "source": [
    "dmdcdf = DMDControl()\n",
    "dmdcdf.fit(X=X, U=U);"
   ]
  },
  {
   "cell_type": "code",
   "execution_count": 9,
   "id": "810f4a77",
   "metadata": {
    "pycharm": {
     "name": "#%%\n"
    }
   },
   "outputs": [
    {
     "data": {
      "image/png": "[encoded data removed]",
      "text/plain": [
       "<Figure size 1152x432 with 5 Axes>"
      ]
     },
     "metadata": {
      "needs_background": "light"
     },
     "output_type": "display_data"
    }
   ],
   "source": [
    "plt.figure(figsize=(16,6))\n",
    "\n",
    "plt.subplot(131)\n",
    "plt.title('Original system')\n",
    "plt.pcolor(s['snapshots'].real)\n",
    "plt.colorbar()\n",
    "\n",
    "plt.subplot(132)\n",
    "plt.title('Reconstructed system PyDMD')\n",
    "plt.pcolor(dmdc.reconstructed_data().real)\n",
    "plt.colorbar()\n",
    "\n",
    "plt.subplot(133)\n",
    "plt.title('Reconstructed system datafold')\n",
    "plt.pcolor(dmdcdf.reconstruct(X, U=U).to_numpy())\n",
    "plt.show()"
   ]
  },
  {
   "cell_type": "code",
   "execution_count": 15,
   "id": "4c2aa8ab",
   "metadata": {
    "pycharm": {
     "name": "#%%\n"
    }
   },
   "outputs": [
    {
     "data": {
      "image/png": "[encoded data removed]",
      "text/plain": [
       "<Figure size 576x432 with 4 Axes>"
      ]
     },
     "metadata": {
      "needs_background": "light"
     },
     "output_type": "display_data"
    }
   ],
   "source": [
    "new_u = np.exp(s['u'])\n",
    "\n",
    "plt.figure(figsize=(8,6))\n",
    "\n",
    "plt.subplot(121)\n",
    "plt.pcolor(dmdc.reconstructed_data(new_u).real)\n",
    "plt.colorbar()\n",
    "\n",
    "\n",
    "plt.subplot(122)\n",
    "plt.pcolor(dmdcdf.reconstruct(X=X, U=TSCDataFrame.from_array(new_u)))\n",
    "plt.colorbar()\n",
    "\n",
    "plt.show()"
   ]
  },
  {
   "cell_type": "code",
   "execution_count": 16,
   "id": "38e2d2d0",
   "metadata": {
    "pycharm": {
     "name": "#%%\n"
    }
   },
   "outputs": [
    {
     "data": {
      "image/png": "[encoded data removed]",
      "text/plain": [
       "<Figure size 576x432 with 2 Axes>"
      ]
     },
     "metadata": {
      "needs_background": "light"
     },
     "output_type": "display_data"
    }
   ],
   "source": [
    "dmdc.dmd_time['dt'] = .5\n",
    "new_u = np.random.rand(s['u'].shape[0], dmdc.dynamics.shape[1]-1)\n",
    "\n",
    "plt.figure(figsize=(8,6))\n",
    "plt.pcolor(dmdc.reconstructed_data(new_u).real)\n",
    "plt.colorbar()\n",
    "plt.show()"
   ]
  },
  {
   "cell_type": "code",
   "execution_count": null,
   "id": "fe2fa398",
   "metadata": {
    "pycharm": {
     "name": "#%%\n"
    }
   },
   "outputs": [],
   "source": []
  }
 ],
 "metadata": {
  "kernelspec": {
   "display_name": "Python 3 (ipykernel)",
   "language": "python",
   "name": "python3"
  },
  "language_info": {
   "codemirror_mode": {
    "name": "ipython",
    "version": 3
   },
   "file_extension": ".py",
   "mimetype": "text/x-python",
   "name": "python",
   "nbconvert_exporter": "python",
   "pygments_lexer": "ipython3",
   "version": "3.8.10"
  }
 },
 "nbformat": 4,
 "nbformat_minor": 5
}