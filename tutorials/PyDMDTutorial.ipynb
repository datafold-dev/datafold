{
 "cells": [
  {
   "cell_type": "code",
   "execution_count": null,
   "outputs": [],
   "source": [
    "%matplotlib inline\n",
    "import matplotlib.pyplot as plt\n",
    "import numpy as np\n",
    "import scipy\n",
    "from pydmd import DMDc\n",
    "\n",
    "from datafold import DMDControl, TSCDataFrame"
   ],
   "metadata": {
    "collapsed": false,
    "pycharm": {
     "name": "#%%\n"
    }
   }
  },
  {
   "cell_type": "code",
   "execution_count": null,
   "outputs": [],
   "source": [
    "def create_system(n, m):\n",
    "    A = scipy.linalg.helmert(n, True)\n",
    "    B = np.random.rand(n, n) - 0.5\n",
    "    x0 = np.array([0.25] * n)\n",
    "    u = np.random.rand(n, m - 1) - 0.5\n",
    "    snapshots = [x0]\n",
    "    for i in range(m - 1):\n",
    "        snapshots.append(A.dot(snapshots[i]) + B.dot(u[:, i]))\n",
    "    snapshots = np.array(snapshots).T\n",
    "    return {\"snapshots\": snapshots, \"u\": u, \"B\": B, \"A\": A}"
   ],
   "metadata": {
    "collapsed": false,
    "pycharm": {
     "name": "#%%\n"
    }
   }
  },
  {
   "cell_type": "code",
   "execution_count": null,
   "outputs": [],
   "source": [
    "s = create_system(25, 10)\n",
    "print(s[\"snapshots\"].shape)"
   ],
   "metadata": {
    "collapsed": false,
    "pycharm": {
     "name": "#%%\n"
    }
   }
  },
  {
   "cell_type": "code",
   "execution_count": null,
   "outputs": [],
   "source": [
    "X = TSCDataFrame.from_array(s[\"snapshots\"].T)\n",
    "U = TSCDataFrame.from_array(s[\"u\"].T)"
   ],
   "metadata": {
    "collapsed": false,
    "pycharm": {
     "name": "#%%\n"
    }
   }
  },
  {
   "cell_type": "code",
   "execution_count": null,
   "outputs": [],
   "source": [
    "X.shape"
   ],
   "metadata": {
    "collapsed": false,
    "pycharm": {
     "name": "#%%\n"
    }
   }
  },
  {
   "cell_type": "code",
   "execution_count": null,
   "outputs": [],
   "source": [
    "dmdc = DMDc(svd_rank=-1)\n",
    "dmdc.fit(s[\"snapshots\"], s[\"u\"])"
   ],
   "metadata": {
    "collapsed": false,
    "pycharm": {
     "name": "#%%\n"
    }
   }
  },
  {
   "cell_type": "code",
   "execution_count": null,
   "outputs": [],
   "source": [
    "dmdcdf = DMDControl()\n",
    "dmdcdf.fit(X=X, U=U);"
   ],
   "metadata": {
    "collapsed": false,
    "pycharm": {
     "name": "#%%\n"
    }
   }
  },
  {
   "cell_type": "code",
   "execution_count": null,
   "outputs": [],
   "source": [
    "plt.figure(figsize=(16, 6))\n",
    "\n",
    "plt.subplot(131)\n",
    "plt.title(\"Original system\")\n",
    "plt.pcolor(s[\"snapshots\"].real)\n",
    "plt.colorbar()\n",
    "\n",
    "plt.subplot(132)\n",
    "plt.title(\"Reconstructed system PyDMD\")\n",
    "plt.pcolor(dmdc.reconstructed_data().real)\n",
    "plt.colorbar()\n",
    "\n",
    "plt.subplot(133)\n",
    "plt.title(\"Reconstructed system datafold\")\n",
    "plt.pcolor(dmdcdf.reconstruct(X, U=U).to_numpy().T)\n",
    "plt.colorbar()"
   ],
   "metadata": {
    "collapsed": false,
    "pycharm": {
     "name": "#%%\n"
    }
   }
  },
  {
   "cell_type": "code",
   "execution_count": null,
   "outputs": [],
   "source": [
    "new_u = np.exp(s[\"u\"])\n",
    "U_new = TSCDataFrame.from_array(new_u.T)\n",
    "\n",
    "plt.figure(figsize=(8, 6))\n",
    "\n",
    "plt.subplot(121)\n",
    "plt.pcolor(dmdc.reconstructed_data(new_u).real)\n",
    "plt.colorbar()\n",
    "\n",
    "\n",
    "plt.subplot(122)\n",
    "plt.pcolor(dmdcdf.reconstruct(X=X, U=U_new).T)\n",
    "plt.colorbar()\n",
    "\n",
    "plt.show()"
   ],
   "metadata": {
    "collapsed": false,
    "pycharm": {
     "name": "#%%\n"
    }
   }
  },
  {
   "cell_type": "code",
   "execution_count": null,
   "outputs": [],
   "source": [
    "dmdc.dmd_time[\"dt\"] = 0.5\n",
    "new_u = np.random.rand(s[\"u\"].shape[0], dmdc.dynamics.shape[1] - 1)\n",
    "U_new = TSCDataFrame.from_array(new_u.T)\n",
    "\n",
    "plt.figure(figsize=(8, 6))\n",
    "plt.subplot(121)\n",
    "plt.pcolor(dmdc.reconstructed_data(new_u).real)\n",
    "plt.colorbar()\n",
    "\n",
    "plt.subplot(122)\n",
    "plt.pcolor(dmdcdf.reconstruct(X=X, U=U_new).T)\n",
    "plt.colorbar()\n",
    "plt.show()"
   ],
   "metadata": {
    "collapsed": false,
    "pycharm": {
     "name": "#%%\n"
    }
   }
  }
 ],
 "metadata": {
  "kernelspec": {
   "display_name": "Python 3 (ipykernel)",
   "language": "python",
   "name": "python3"
  },
  "language_info": {
   "codemirror_mode": {
    "name": "ipython",
    "version": 3
   },
   "file_extension": ".py",
   "mimetype": "text/x-python",
   "name": "python",
   "nbconvert_exporter": "python",
   "pygments_lexer": "ipython3",
   "version": "3.8.10"
  }
 },
 "nbformat": 4,
 "nbformat_minor": 5
}