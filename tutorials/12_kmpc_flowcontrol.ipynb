{
 "cells": [
  {
   "cell_type": "markdown",
   "id": "4937b9d5",
   "metadata": {},
   "source": [
    "# Koopman operator model predictive control for flow control\n",
    "\n",
    "In this tutorial we use model predictive control to steer a flow simulation. For this we repeat the results in a similar setting of the paper (Section 5.1) and attached repository.\n",
    "\n",
    "* Paper: \"A data-driven Koopman model predictive control framework for nonlinear flows\" https://arxiv.org/pdf/1804.05291.pdf\n",
    "* Supplementary code: https://github.com/arbabiha/KoopmanMPC_for_flowcontrol\n",
    "\n",
    "Note that there are discrepancies between the code and the description in the paper. We mostly align to the setting to the code and highlight its discrepancies to the paper.\n",
    "\n",
    "The model to be controlled is a one-dimensional Burger equation\n",
    "\n",
    "$$\n",
    "\\frac{\\partial v}{\\partial t} + v \\frac{\\partial v}{\\partial x} = \\nu \\frac{\\partial v^2}{\\partial^2 x} + f(x,t)\n",
    "$$\n",
    "\n",
    "with space and time domains\n",
    "\n",
    "$$\n",
    "x \\in [0, 2\\pi] \\\\\n",
    "t \\in [0, \\infty]\n",
    "$$\n",
    "\n",
    "and periodic boundary conditions $v(0, t) = v(2\\pi, t)$.\n",
    "\n",
    "In the paper the domain is $x \\in [0, 1]$, while our choice matches the setting in the code of the repository.\n",
    "\n",
    "There are two control parameters $u=(u_1, u_2)$ with constrains $-0.1 \\leq u_{1,2} \\leq 0.1$. With these we can steer the system state to a reference time series. The control parameters affect the state with:\n",
    "\n",
    "$\n",
    "\\begin{align}\n",
    "f(x,t) &= u_1(t) f_1(x) + u_2(t)f_2(x)\\\\\n",
    "&= u_1(t) \\exp(-((15/(2\\pi) (x - \\pi/2))^2)) + u_2(t) \\exp(-((15/(2\\pi) (x - 3/2\\pi))^2)))\n",
    "\\end{align}\n",
    "$\n",
    "\n",
    "The function parameters are adapted to the larger domain $x \\in [0, 2\\pi]$, which diverges to the description in the paper.\n",
    "\n",
    "We specify an initial condition of the system with a functional relation\n",
    "\n",
    "$$\n",
    "v(x, 0) = a \\exp(-(((x - \\pi) 5/(2\\pi))^2)) + (1 - a) \\sin(2x)^2\n",
    "$$\n",
    "\n",
    "where we uniformly sample $a \\in (0,1)$.\n",
    "\n",
    "The control objective is to follow the reference state, which changes over time in a piecewise function\n",
    "\n",
    "$\n",
    "\\begin{align}\n",
    "v_{ref} (x, 0 \\leq t \\leq 20) &= 0.5\\\\\n",
    "v_{ref} (x, 20 \\leq t \\leq 40) &= 1\\\\\n",
    "v_{ref} (x, 40 \\leq t \\leq 60) &= 0.5\n",
    "\\end{align}\n",
    "$\n",
    "\n",
    "In the paper the time frequency is stated as 0.01 to integrate the system. However, in the final data collection in the code every 19th state is actually taken. This leads to an effective time interval of $\\Delta t = 0.19$. Therefore, the time intervals in the reference $v_{ref}$ are adapted such that they roughly match the setting in the paper.\n",
    "\n",
    "To obtain a suitable control sequence $u$ to steer an initial condition towards $v_{ref}$, we use Koopman-based Model Predictive Control (KMPC). After we sample example data, we identify the system dynamics with the Extended Dynamic Mode Decomposition (EDMD)."
   ]
  },
  {
   "cell_type": "code",
   "execution_count": null,
   "id": "a260391b",
   "metadata": {},
   "outputs": [],
   "source": [
    "import matplotlib.pyplot as plt\n",
    "import numpy as np\n",
    "import pandas as pd\n",
    "from IPython.display import HTML\n",
    "from matplotlib.animation import FuncAnimation\n",
    "from scipy.interpolate import interp1d\n",
    "from sklearn.base import BaseEstimator\n",
    "from tqdm import tqdm\n",
    "\n",
    "from datafold import (\n",
    "    EDMD,\n",
    "    DMDControl,\n",
    "    TSCColumnTransformer,\n",
    "    TSCDataFrame,\n",
    "    TSCIdentity,\n",
    "    TSCTakensEmbedding,\n",
    "    TSCTransformerMixin,\n",
    ")\n",
    "from datafold.appfold.mpc import LinearKMPC\n",
    "from datafold.utils._systems import Burger1DPeriodicBoundary"
   ]
  },
  {
   "cell_type": "code",
   "execution_count": null,
   "id": "cfa2a2e1",
   "metadata": {},
   "outputs": [],
   "source": [
    "rng = np.random.default_rng(2)"
   ]
  },
  {
   "cell_type": "markdown",
   "id": "448074da",
   "metadata": {},
   "source": [
    "## Data collection from the original system\n",
    "\n",
    "Set up Burger system, control functions (f1 and f2) and the initial condition function. We sample the full Burger system, but for EDMD we only use every 10th spatial point in the domain."
   ]
  },
  {
   "cell_type": "code",
   "execution_count": null,
   "id": "ac185bf6",
   "metadata": {},
   "outputs": [],
   "source": [
    "sys = Burger1DPeriodicBoundary(n_spatial_points=100, nu=0.01)\n",
    "\n",
    "# control function\n",
    "f1 = np.atleast_2d(np.exp(-((15 / (2 * np.pi) * (sys.x_nodes - 0.5 * np.pi)) ** 2)))\n",
    "f2 = np.atleast_2d(np.exp(-((15 / (2 * np.pi) * (sys.x_nodes - 1.5 * np.pi)) ** 2)))\n",
    "\n",
    "# initial condition function\n",
    "ic1 = np.exp(-(((sys.x_nodes - 2 * np.pi * 0.5) * 5 / (2 * np.pi)) ** 2))\n",
    "ic2 = np.sin(2 * sys.x_nodes) ** 2\n",
    "icfunc = lambda a: a * ic1 + (1 - a) * ic2"
   ]
  },
  {
   "cell_type": "code",
   "execution_count": null,
   "id": "0ba2a728",
   "metadata": {},
   "outputs": [],
   "source": [
    "# sampling options\n",
    "dt = 0.19  # time frequency\n",
    "sim_length = 200  # time series length\n",
    "training_size = 100  # number of initial conditions to sample\n",
    "\n",
    "\n",
    "# function to subselect states to every 10th spatial point\n",
    "def subselect_measurements(tscdf):\n",
    "    return tscdf.iloc[:, 9::10]\n",
    "\n",
    "\n",
    "# contains on the effective control parameters\n",
    "umin, umax = (-0.1, 0.1)\n",
    "\n",
    "# time values of a single time series\n",
    "time_values = np.arange(0, dt * sim_length + 1e-12, dt)"
   ]
  },
  {
   "cell_type": "markdown",
   "id": "b7c0038a",
   "metadata": {},
   "source": [
    "### Exectue system sampling\n",
    "\n",
    "Fill lists of time series by resetting the the initial condition with $a \\sim \\operatorname{Uniform(0,1)}$. The final data is then captured in a single `TSCDataFrame` as *datafold*'s main data structure."
   ]
  },
  {
   "cell_type": "code",
   "execution_count": null,
   "id": "ab6751b1",
   "metadata": {},
   "outputs": [],
   "source": [
    "# lists to collect both time series and control\n",
    "X_tsc = []\n",
    "U_tsc = []\n",
    "\n",
    "for i in tqdm(range(training_size)):\n",
    "    # sample a new initial condition\n",
    "    ic = icfunc(rng.uniform(0, 1))\n",
    "\n",
    "    # sample random control parameters (for each timestep) over the simulation horizon\n",
    "    # describe the control input as a function f(t, x)\n",
    "    rand_vals = rng.uniform(umin, umax, size=(len(time_values), 2))\n",
    "    U1rand = lambda t: np.atleast_2d(\n",
    "        interp1d(time_values, rand_vals[:, 0], kind=\"previous\")(t)\n",
    "    ).T\n",
    "    U2rand = lambda t: np.atleast_2d(\n",
    "        interp1d(time_values, rand_vals[:, 1], kind=\"previous\")(t)\n",
    "    ).T\n",
    "\n",
    "    def f(t, x):\n",
    "        # while we have 2 effective control inputs they affect each state coordinate according to this function\n",
    "        return U1rand(t) * f1 + U2rand(t) * f2\n",
    "\n",
    "    # perform system prediction\n",
    "    X_predict, Ufull = sys.predict(\n",
    "        ic, U=f, time_values=time_values, require_last_control_state=False\n",
    "    )\n",
    "\n",
    "    # drop last control input, because for the last state no prediction is performed\n",
    "    U = TSCDataFrame.from_array(\n",
    "        rand_vals[:-1, :],\n",
    "        time_values=Ufull.time_values(),\n",
    "        feature_names=[\"u1\", \"u2\"],\n",
    "    )\n",
    "\n",
    "    X_tsc.append(X_predict)\n",
    "    U_tsc.append(U)\n",
    "\n",
    "# finalize the time series collection data to be used for system identification with control input\n",
    "X_tsc = TSCDataFrame.from_frame_list(X_tsc)\n",
    "U_tsc = TSCDataFrame.from_frame_list(U_tsc)"
   ]
  },
  {
   "cell_type": "markdown",
   "id": "9938cd1f",
   "metadata": {},
   "source": [
    "Snapshot of sampled system states and control input."
   ]
  },
  {
   "cell_type": "code",
   "execution_count": null,
   "id": "4e98b7ad",
   "metadata": {},
   "outputs": [],
   "source": [
    "print(X_tsc.n_timeseries)\n",
    "X_tsc"
   ]
  },
  {
   "cell_type": "code",
   "execution_count": null,
   "id": "52e18ff6",
   "metadata": {},
   "outputs": [],
   "source": [
    "U_tsc"
   ]
  },
  {
   "cell_type": "markdown",
   "id": "6e91c7d7",
   "metadata": {},
   "source": [
    "Animate sampled time series data with control input. "
   ]
  },
  {
   "cell_type": "code",
   "execution_count": null,
   "id": "fbd25bee",
   "metadata": {},
   "outputs": [],
   "source": [
    "tsid = 0  # select time series ID to plot\n",
    "\n",
    "f, ax = plt.subplots(figsize=(8, 7), nrows=2)\n",
    "plt.close()  # close to perform video animation, the figure still exists\n",
    "\n",
    "(ref_line,) = ax[0].plot(\n",
    "    sys.x_nodes, X_tsc.loc[pd.IndexSlice[tsid, :], :].iloc[0].to_numpy(), label=\"model\"\n",
    ")\n",
    "ax[0].legend(loc=\"upper left\")\n",
    "\n",
    "\n",
    "def Ufunc(u):\n",
    "    return u[0] * f1 + u[1] * f2\n",
    "\n",
    "\n",
    "(control_line,) = ax[1].plot(\n",
    "    sys.x_nodes,\n",
    "    Ufunc(U_tsc.loc[pd.IndexSlice[tsid, :], :].iloc[0].to_numpy()).ravel(),\n",
    "    label=\"randomly sampled control input\",\n",
    ")\n",
    "ax[1].set_ylim(-0.1, 0.1)\n",
    "ax[1].legend(loc=\"upper left\")\n",
    "\n",
    "\n",
    "def func(i):\n",
    "    ref_line.set_ydata(X_tsc.loc[pd.IndexSlice[tsid, :], :].iloc[i, :].to_numpy())\n",
    "    vals = U_tsc.loc[pd.IndexSlice[tsid, :], :].iloc[i, :].to_numpy()\n",
    "    control_line.set_ydata(Ufunc(vals))\n",
    "    return (\n",
    "        ref_line,\n",
    "        control_line,\n",
    "    )\n",
    "\n",
    "\n",
    "anim = FuncAnimation(f, func=func, frames=U_tsc.n_timesteps)\n",
    "HTML(anim.to_html5_video())"
   ]
  },
  {
   "cell_type": "markdown",
   "id": "e2f609e9",
   "metadata": {},
   "source": [
    "## Set up system identification and control input using Extended Dynamic Mode Decomposition \n",
    "\n",
    "For the system identification we adapt the sampled data as follows:\n",
    "\n",
    "* We only use a reduced number of spatial points (every 10th grid point), which reduces the dimensionality of the system.\n",
    "* We attach the control input in $U$ to the system states in $X$. For this, we also shift the time index in $U$ by one such that the (past) control input is attached to the actual resulting system state. Because of this time shift the initial system state has no matching control input. We fill this with zeros, however, these values are ignored later when performing a time delay embedding in the EDMD dictionary.\n",
    "\n",
    "**Note:**\n",
    "\n",
    "In EDMD the system states and control input are treated separately. This means attaching the control input to the system states is only done to enrich the system state and not a mandatory step when using EDMD with control.  "
   ]
  },
  {
   "cell_type": "code",
   "execution_count": null,
   "id": "e1640c42",
   "metadata": {},
   "outputs": [],
   "source": [
    "def shift_time_index_U(_X, _U):\n",
    "    new_index = _X.groupby(\"ID\").tail(_X.n_timesteps - 1).index\n",
    "    return _U.set_index(new_index)"
   ]
  },
  {
   "cell_type": "code",
   "execution_count": null,
   "id": "a56a083f",
   "metadata": {},
   "outputs": [],
   "source": [
    "# use only selected spatial points\n",
    "X_tsc_reduced = subselect_measurements(X_tsc)\n",
    "\n",
    "# attach control input to system state\n",
    "X_tsc_reduced = pd.concat(\n",
    "    [X_tsc_reduced, shift_time_index_U(X_tsc_reduced, U_tsc)], axis=1\n",
    ")\n",
    "\n",
    "# fill nan values with 0 where no corresponding control input was available\n",
    "X_tsc_reduced = X_tsc_reduced.fillna(0)"
   ]
  },
  {
   "cell_type": "markdown",
   "id": "36193b2c",
   "metadata": {},
   "source": [
    "Display effective system states used within EDMD"
   ]
  },
  {
   "cell_type": "code",
   "execution_count": null,
   "id": "6ade5906",
   "metadata": {},
   "outputs": [],
   "source": [
    "X_tsc_reduced"
   ]
  },
  {
   "cell_type": "markdown",
   "id": "fd4b0eb9",
   "metadata": {},
   "source": [
    "## Setting up EDMD with dictionary and underlying DMD model\n",
    "\n",
    "We now set up the EDMD dictionary (as a pipeline). First we specify a custom data transformation to compute the L2 norm from the sates (as described in paper)."
   ]
  },
  {
   "cell_type": "code",
   "execution_count": null,
   "id": "f5ba6d75",
   "metadata": {},
   "outputs": [],
   "source": [
    "class L2Norm(BaseEstimator, TSCTransformerMixin):\n",
    "    def fit(self, X):\n",
    "        return self\n",
    "\n",
    "    def get_feature_names_out(self, input_features=None):\n",
    "        return [\"L2norm\"]\n",
    "\n",
    "    def transform(self, X: TSCDataFrame, y=None):\n",
    "        return TSCDataFrame.from_same_indices_as(\n",
    "            X,\n",
    "            np.sum(np.square(np.abs(X.to_numpy())), axis=1) / X.shape[1],\n",
    "            except_columns=self.get_feature_names_out(),\n",
    "        )"
   ]
  },
  {
   "cell_type": "markdown",
   "id": "a8250646",
   "metadata": {},
   "source": [
    "Now we describe the dictionary, where we compute the L2-norm on the system states, time delay embedding and also add a constant vector.  "
   ]
  },
  {
   "cell_type": "code",
   "execution_count": null,
   "id": "e93381be",
   "metadata": {},
   "outputs": [],
   "source": [
    "l2norm = (\"l2_x\", L2Norm(), lambda df: df.columns.str.startswith(\"x\"))\n",
    "\n",
    "delay1 = (\n",
    "    \"delay_x\",\n",
    "    TSCTakensEmbedding(delays=4),\n",
    "    lambda df: df.columns.str.startswith(\"x\"),\n",
    ")\n",
    "delay2 = (\n",
    "    \"delay_u\",\n",
    "    TSCTakensEmbedding(delays=3),\n",
    "    lambda df: df.columns.str.startswith(\"u\"),\n",
    ")\n",
    "\n",
    "_dict = (\n",
    "    \"tde\",\n",
    "    TSCColumnTransformer([l2norm, delay1, delay2], verbose_feature_names_out=False),\n",
    ")\n",
    "\n",
    "_id = (\"_id\", TSCIdentity(include_const=True))\n",
    "\n",
    "dict_steps = [_dict, _id]\n",
    "\n",
    "# It is essential to use DMD with control in EDMD.\n",
    "# The flag `dict_preserves_id_states=True` indicates that the original states are contained in the dictionary,\n",
    "# which makes the inverse mapping from dictionary states to full states easier as it is only a projection.\n",
    "edmd = EDMD(\n",
    "    dict_steps,\n",
    "    dmd_model=DMDControl(),\n",
    "    include_id_state=False,\n",
    "    dict_preserves_id_state=True,\n",
    ")\n",
    "\n",
    "# display html representation of object\n",
    "edmd"
   ]
  },
  {
   "cell_type": "markdown",
   "id": "caf9f05c",
   "metadata": {},
   "source": [
    "With the specified EDMD model, we can now fit the model with the sampled data comprising states `X` and control input `U`."
   ]
  },
  {
   "cell_type": "code",
   "execution_count": null,
   "id": "93a2ae92",
   "metadata": {},
   "outputs": [],
   "source": [
    "edmd.fit(X_tsc_reduced, U=U_tsc);"
   ]
  },
  {
   "cell_type": "markdown",
   "id": "64d090ff",
   "metadata": {},
   "source": [
    "We can now look at the time series data in the dictionary space. Note that the first samples of the time series are dropped due to the time delay embedding. The number of samples in `X` necessary to map from full-state to dictionary state is available in the attribute `edmd.n_samples_ic_`. "
   ]
  },
  {
   "cell_type": "code",
   "execution_count": null,
   "id": "9dcbee0b",
   "metadata": {},
   "outputs": [],
   "source": [
    "print(f\"{edmd.n_samples_ic_=}\")\n",
    "edmd.transform(X_tsc_reduced)"
   ]
  },
  {
   "cell_type": "markdown",
   "id": "be968e04",
   "metadata": {},
   "source": [
    "## Set up control optimization with model predictive control"
   ]
  },
  {
   "cell_type": "markdown",
   "id": "c322f071",
   "metadata": {},
   "source": [
    "Prediction parameters:"
   ]
  },
  {
   "cell_type": "code",
   "execution_count": null,
   "id": "0a2b59e4",
   "metadata": {},
   "outputs": [],
   "source": [
    "horizon = 20  # the horizon is the number of steps\n",
    "Tpred = dt * horizon  # prediction horizon in MPC\n",
    "Tend = 70  # end time to predict time series\n",
    "Nsim = int(Tend // dt) + 1  # number of simulation steps in MPC loop"
   ]
  },
  {
   "cell_type": "markdown",
   "id": "394f1c32",
   "metadata": {},
   "source": [
    "Because we need 5 states to map to a dictionary space, we first perform a warm-up phase where we evaluate the system with no control applied."
   ]
  },
  {
   "cell_type": "code",
   "execution_count": null,
   "id": "1164ec1e",
   "metadata": {},
   "outputs": [],
   "source": [
    "ic = icfunc(0.2)  # can also be adapted to control another time series\n",
    "\n",
    "X_init, _ = sys.predict(\n",
    "    ic,\n",
    "    # Why edmd.n_samples_ic_-1 in U:\n",
    "    # -> typically no control input is needed for the final system state\n",
    "    U=np.zeros((edmd.n_samples_ic_ - 1, sys.n_control_in_)),\n",
    "    time_values=np.arange(0, edmd.n_samples_ic_ * dt, dt),\n",
    ")"
   ]
  },
  {
   "cell_type": "markdown",
   "id": "93e226e4",
   "metadata": {},
   "source": [
    "Set up `LinearKMPC` model which will optimize for control sequence.  "
   ]
  },
  {
   "cell_type": "code",
   "execution_count": null,
   "id": "8a806a71",
   "metadata": {},
   "outputs": [],
   "source": [
    "kmpc = LinearKMPC(\n",
    "    edmd=edmd,\n",
    "    horizon=horizon,\n",
    "    input_bounds=np.array([[-0.1, 0.1], [-0.1, 0.1]]),\n",
    "    state_bounds=None,\n",
    "    qois=X_tsc_reduced.columns[X_tsc_reduced.columns.str.startswith(\"x\")],\n",
    "    cost_running=1,\n",
    "    cost_terminal=1,\n",
    "    cost_input=1,\n",
    ")"
   ]
  },
  {
   "cell_type": "markdown",
   "id": "52ef038b",
   "metadata": {},
   "source": [
    "Generate the reference time series (both in full and reduced coordinates)."
   ]
  },
  {
   "cell_type": "code",
   "execution_count": null,
   "id": "9dc41414",
   "metadata": {},
   "outputs": [],
   "source": [
    "start_time = X_init.time_values()[-1]\n",
    "time_values_ref = np.arange(0, start_time + Tend, dt)\n",
    "\n",
    "X_ref = np.zeros(len(time_values_ref))\n",
    "X_ref[time_values_ref <= 20] = 0.5\n",
    "X_ref[np.logical_and(time_values_ref > 20, time_values_ref < 40)] = 1\n",
    "X_ref[time_values_ref > 40] = 0.5\n",
    "X_ref = np.outer(X_ref, np.ones(X_tsc.shape[1]))\n",
    "X_ref = TSCDataFrame.from_array(\n",
    "    X_ref, time_values=time_values_ref, feature_names=X_tsc.columns\n",
    ")\n",
    "\n",
    "X_ref_reduced = subselect_measurements(X_ref)\n",
    "\n",
    "U_ic = TSCDataFrame.from_array(\n",
    "    np.zeros((edmd.n_samples_ic_ - 1, 2)),\n",
    "    time_values=X_init.time_values()[:-1],\n",
    "    feature_names=edmd.control_names_in_,\n",
    ")\n",
    "\n",
    "X_ref_reduced"
   ]
  },
  {
   "cell_type": "code",
   "execution_count": null,
   "id": "41b56ba2",
   "metadata": {},
   "outputs": [],
   "source": [
    "# keep track of current system and EDMD state\n",
    "model_state = X_init.iloc[[-1], :]\n",
    "edmd_state = pd.concat(\n",
    "    [subselect_measurements(X_init), shift_time_index_U(X_init, U_ic)], axis=1\n",
    ").fillna(0)\n",
    "\n",
    "# recotrd the model evolution and optimized control input\n",
    "X_model_evolution = X_init\n",
    "U_evolution = U_ic\n",
    "\n",
    "# record the uncontrolled time series for comparison\n",
    "X_model_unctr_evolution = X_init.copy()\n",
    "\n",
    "# record system error between state and reference time series\n",
    "X_error_evolution = X_init - X_ref.iloc[[0], :].to_numpy()\n",
    "\n",
    "for i in tqdm(range(X_init.shape[0], Nsim)):\n",
    "    # reference time series over horizon\n",
    "    reference = X_ref_reduced.iloc[i : i + horizon, :]\n",
    "\n",
    "    if reference.shape[0] != kmpc.horizon:\n",
    "        # stop loop if the rest of reference signal is smaller than horizon\n",
    "        break\n",
    "\n",
    "    t = X_model_evolution.time_values()[-1]\n",
    "    t_new = X_model_evolution.time_values()[-1] + dt\n",
    "\n",
    "    # optimize the control input on EDMD\n",
    "    U = kmpc.control_sequence(edmd_state, reference=reference)\n",
    "\n",
    "    # use only the first control input for the next step\n",
    "    Ufull = U.iloc[0, 0] * f1 + U.iloc[0, 1] * f2\n",
    "    U_evolution = pd.concat([U_evolution, U.iloc[[0], :]], axis=0)\n",
    "\n",
    "    # apply the obtained control input from EDMD to the actual system\n",
    "    X_model, _ = sys.predict(\n",
    "        X_model_evolution.iloc[[-1], :], U=Ufull, time_values=np.array([t, t_new])\n",
    "    )\n",
    "    X_model_evolution = pd.concat([X_model_evolution, X_model.iloc[[1], :]], axis=0)\n",
    "\n",
    "    # record difference between model and reference\n",
    "    diff = X_model.iloc[[1], :] - X_ref.iloc[[i], :].to_numpy()\n",
    "    X_error_evolution = pd.concat([X_error_evolution, diff])\n",
    "\n",
    "    # perform separate uncontrolled system\n",
    "    X_model_unctr, _ = sys.predict(\n",
    "        X_model_unctr_evolution.iloc[[-1], :],\n",
    "        U=np.zeros_like(sys.x_nodes)[np.newaxis, :],\n",
    "        time_values=np.array([t, t_new]),\n",
    "    )\n",
    "    X_model_unctr_evolution = pd.concat(\n",
    "        [X_model_unctr_evolution, X_model_unctr.iloc[[1], :]], axis=0\n",
    "    )\n",
    "\n",
    "    # prepare new edmd_state for next iteration (attach the shifted control input)\n",
    "    X_model_last = subselect_measurements(\n",
    "        X_model_evolution.iloc[-edmd.n_samples_ic_ :, :]\n",
    "    )\n",
    "    U_last = U_evolution.iloc[-edmd.n_samples_ic_ : -1, :]\n",
    "    U_last_shifted = shift_time_index_U(\n",
    "        X_model_last, shift_time_index_U(X_model_last, U_last)\n",
    "    )\n",
    "    edmd_state = pd.concat([X_model_last, U_last_shifted], axis=1).fillna(0)"
   ]
  },
  {
   "cell_type": "markdown",
   "id": "662fca62",
   "metadata": {},
   "source": [
    "Animate the controlled and uncontrolled system. Note that because of the state prediction, the control input already changes before `t=20`, where the reference state is changed from $v_{ref}=0.5$ to $v_{ref}=1$. "
   ]
  },
  {
   "cell_type": "code",
   "execution_count": null,
   "id": "7e3ab98b",
   "metadata": {},
   "outputs": [],
   "source": [
    "f, ax = plt.subplots(figsize=(8, 8), nrows=3, sharex=True)\n",
    "plt.close()  # see https://stackoverflow.com/a/47138474 (first comment)\n",
    "(model_line,) = ax[0].plot(\n",
    "    sys.x_nodes, X_model_evolution.iloc[0], label=\"system controlled\"\n",
    ")\n",
    "(model_uctr_line,) = ax[0].plot(\n",
    "    sys.x_nodes, X_model_unctr_evolution.iloc[0], label=\"system uncontrolled\"\n",
    ")\n",
    "(ref_line,) = ax[0].plot(sys.x_nodes, X_ref.iloc[0], label=\"reference\")\n",
    "ax[0].legend(loc=\"upper left\")\n",
    "ax[0].set_ylim(0, 1.3)\n",
    "\n",
    "Ufunc = lambda u, x: (u[0] * f1 + u[1] * f2).ravel()\n",
    "(control_line,) = ax[1].plot(\n",
    "    sys.x_nodes,\n",
    "    Ufunc(U_evolution.iloc[0, :].to_numpy(), None),\n",
    "    label=\"control\",\n",
    ")\n",
    "ax[1].set_ylim(umin, umax)\n",
    "ax[1].legend(loc=\"upper left\")\n",
    "\n",
    "(error_line,) = ax[2].plot(\n",
    "    sys.x_nodes, X_error_evolution.iloc[0, :].to_numpy(), c=\"red\", label=\"difference\"\n",
    ")\n",
    "ax[2].legend(loc=\"upper left\")\n",
    "\n",
    "\n",
    "def func(i):\n",
    "    model_line.set_ydata(X_model_evolution.iloc[i, :].to_numpy())\n",
    "    model_uctr_line.set_ydata(X_model_unctr_evolution.iloc[i, :].to_numpy())\n",
    "    ref_line.set_ydata(X_ref.iloc[i, :].to_numpy())\n",
    "    control_line.set_ydata(Ufunc(U_evolution.iloc[i].to_numpy(), None))\n",
    "    error_line.set_ydata(X_error_evolution.iloc[i, :].to_numpy())\n",
    "\n",
    "    return (model_line, model_uctr_line, ref_line, error_line)\n",
    "\n",
    "\n",
    "anim = FuncAnimation(f, func=func, frames=U_evolution.shape[0])\n",
    "HTML(anim.to_html5_video())\n"
   ]
  }
 ],
 "metadata": {
  "kernelspec": {
   "display_name": "Python 3 (ipykernel)",
   "language": "python",
   "name": "python3"
  },
  "language_info": {
   "codemirror_mode": {
    "name": "ipython",
    "version": 3
   },
   "file_extension": ".py",
   "mimetype": "text/x-python",
   "name": "python",
   "nbconvert_exporter": "python",
   "pygments_lexer": "ipython3",
   "version": "3.8.10"
  }
 },
 "nbformat": 4,
 "nbformat_minor": 5
}