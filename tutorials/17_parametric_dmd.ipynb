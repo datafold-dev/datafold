{
 "cells": [
  {
   "cell_type": "markdown",
   "id": "23369667-8b2c-4ea9-be54-fda749a091b2",
   "metadata": {},
   "source": [
    "# Parametric Dynamic Mode Decomposition\n",
    "\n",
    "In this tutorial, we will investigate the usage of the `PartitionedDMD` class in *datafold*. The `PartitionedDMD` is described in the paper \"A Dynamic Mode Decomposition Extension for the Forecasting of Parametric Dynamical Systems\" by Andreuzzi et al. (DOI: https://doi.org/10.1137/22M1481658) and serves as an extension of the standard dynamic mode decomposition for parametric problems. \n",
    "\n",
    "This tutorial aligns with [pydmd tutorial on ParamDMD](https://github.com/PyDMD/PyDMD/blob/master/tutorials/tutorial10/tutorial-10-paramdmd.ipynb)."
   ]
  },
  {
   "cell_type": "code",
   "execution_count": null,
   "id": "5aa4a69e-8984-4036-bee0-f55dbb2bbae5",
   "metadata": {},
   "outputs": [],
   "source": [
    "import matplotlib.pyplot as plt\n",
    "import numpy as np\n",
    "import pandas as pd\n",
    "from matplotlib import colors\n",
    "\n",
    "from datafold import EDMD, TSCDataFrame, TSCIdentity\n",
    "from datafold.dynfold.dmd import PartitionedDMD"
   ]
  },
  {
   "cell_type": "markdown",
   "id": "3c760566-b800-405b-bc0f-08ac844b0fba",
   "metadata": {},
   "source": [
    "We set up a simple parametric ( $\\mu$ ) time-dependent problem, specifically the summation of two complex periodic functions:\n",
    "\n",
    "\\begin{cases}\n",
    "f_1(x,t) &:= e^{2.3i \\cdot t} \\cosh(x+3)^{-1}\\\\\n",
    "f_2(x,t) &:= 2 e^{2.8j \\cdot t} \\tanh(x) \\cosh(x)^{-1}\\\\\n",
    "f^{\\mu}(x,t) &:= \\mu f_1(x,t) + (1-\\mu) f_2(x,t), \\qquad \\mu \\in [0,1]\n",
    "\\end{cases}"
   ]
  },
  {
   "cell_type": "code",
   "execution_count": null,
   "id": "d2d0baea-b311-4c28-8183-8a136fee6edd",
   "metadata": {},
   "outputs": [],
   "source": [
    "def f1(x, t):\n",
    "    return 1.0 / np.cosh(x + 3) * np.exp(2.3j * t)\n",
    "\n",
    "\n",
    "def f2(x, t):\n",
    "    return 2.0 / np.cosh(x) * np.tanh(x) * np.exp(2.8j * t)\n",
    "\n",
    "\n",
    "def f(mu, x, t):\n",
    "    return mu * f1(x, t) + (1 - mu) * f2(x, t)"
   ]
  },
  {
   "cell_type": "markdown",
   "id": "7a7550d2-e10f-4052-a2c0-9040dd25c73c",
   "metadata": {},
   "source": [
    "The following cell includes helper functions which are later used for visualization."
   ]
  },
  {
   "cell_type": "code",
   "execution_count": null,
   "id": "48e81efd-ab48-4055-b72d-9e20d3bc0220",
   "metadata": {},
   "outputs": [],
   "source": [
    "def title(param):\n",
    "    return rf\"$\\mu$={param}\"\n",
    "\n",
    "\n",
    "# this is needed to visualize the time/space in the appropriate way\n",
    "\n",
    "\n",
    "def labels_func(ax):\n",
    "    n_space = 500\n",
    "\n",
    "    ax.set_yticks([0, n_space // 2, n_space])\n",
    "    ax.set_yticklabels([r\"3\\pi\", r\"4$\\pi$\", r\"5$\\pi$\"])\n",
    "\n",
    "    ax.set_xticks([0, n_space // 2, n_space])\n",
    "    ax.set_xticklabels([\"-5\", \"0\", \"5\"])\n",
    "\n",
    "\n",
    "def visualize(X, param, ax, log=False, labels_func=None, cmap=\"viridis\"):\n",
    "    ax.set_title(title(param))\n",
    "    if labels_func is not None:\n",
    "        labels_func(ax)\n",
    "    if log:\n",
    "        return ax.pcolormesh(\n",
    "            X.real.T, norm=colors.LogNorm(vmin=X.min(), vmax=X.max()), cmap=cmap\n",
    "        )\n",
    "    else:\n",
    "        return ax.pcolormesh(X.real.T, cmap=cmap)\n",
    "\n",
    "\n",
    "def visualize_multiple(\n",
    "    Xs, params, log=False, figsize=(20, 6), labels_func=None, title=None, cmap=\"viridis\"\n",
    "):\n",
    "    if log:\n",
    "        Xs[Xs == 0] = np.min(Xs[Xs != 0])\n",
    "\n",
    "    fig = plt.figure(figsize=figsize)\n",
    "    axes = fig.subplots(nrows=1, ncols=5, sharey=True)\n",
    "\n",
    "    if labels_func is None:\n",
    "\n",
    "        def labels_func_default(ax):\n",
    "            ax.set_yticks([0, n_time // 2, n_time])\n",
    "            ax.set_yticklabels([\"0\", r\"$\\pi$\", r\"2$\\pi$\"])\n",
    "\n",
    "            ax.set_xticks([0, n_space // 2, n_space])\n",
    "            ax.set_xticklabels([\"-5\", \"0\", \"5\"])\n",
    "\n",
    "        labels_func = labels_func_default\n",
    "\n",
    "    im = [\n",
    "        visualize(X.T, param=param, ax=ax, log=log, labels_func=labels_func, cmap=cmap)\n",
    "        for X, param, ax in zip(Xs, params, axes)\n",
    "    ][-1]\n",
    "\n",
    "    fig.colorbar(im, ax=axes)\n",
    "\n",
    "    if fig is not None:\n",
    "        fig.suptitle(title)"
   ]
  },
  {
   "cell_type": "markdown",
   "id": "c0bce223-33f7-4f1f-906a-102db4010934",
   "metadata": {},
   "source": [
    "## Training dataset\n",
    "\n",
    "We set up the model training data and specify a space-time grid which contains a sufficient number of sample points in each dimension. We also choose 10 equally spaced parameters ($\\mu$ in the equations above) within the range `[0, 1]`, which we also visualize in a plot."
   ]
  },
  {
   "cell_type": "code",
   "execution_count": null,
   "id": "f385ed30-5de7-4192-a2a1-af34022d2e0a",
   "metadata": {},
   "outputs": [],
   "source": [
    "n_space = 500\n",
    "n_time = 160\n",
    "\n",
    "x = np.linspace(-5, 5, n_space)\n",
    "t = np.linspace(0, 4 * np.pi, n_time)\n",
    "\n",
    "xgrid, tgrid = np.meshgrid(x, t)\n",
    "\n",
    "training_params = np.round(np.linspace(0, 1, 10), 1)"
   ]
  },
  {
   "cell_type": "code",
   "execution_count": null,
   "id": "eb690e04-7bd9-484f-914f-521c9b1b28bc",
   "metadata": {},
   "outputs": [],
   "source": [
    "plt.figure(figsize=(8, 2))\n",
    "plt.scatter(training_params, np.zeros(len(training_params)), label=\"training\")\n",
    "plt.title(\"Training parameters\")\n",
    "plt.grid()\n",
    "plt.xlabel(r\"$\\mu$\")\n",
    "plt.yticks([], []);"
   ]
  },
  {
   "cell_type": "markdown",
   "id": "84bb2f37-44b6-4a99-a480-9278858d50e3",
   "metadata": {},
   "source": [
    "Ensuring an adequate number of training parameters is crucial, as insufficient parameters can hinder the algorithm's ability to explore the solution manifold effectively.\n",
    "\n",
    "The training dataset is derived from applying the function `f` to the combination of `xgrid`, `tgrid`, and the parameters in `training_params`. For the time series data we use *datafold*'s `TSCDataFrame` and for the parameters we use pandas `DataFrame`.\n",
    "\n",
    "In the visualization of some selected parameters, we see that the dynamics are changing with the parameter. "
   ]
  },
  {
   "cell_type": "code",
   "execution_count": null,
   "id": "a0e53cb2-ab7a-48c9-b689-4b5e701bea34",
   "metadata": {},
   "outputs": [],
   "source": [
    "training_snapshots = np.stack([f(x=xgrid, t=tgrid, mu=p) for p in training_params])\n",
    "X_train_d = TSCDataFrame.from_tensor(training_snapshots, time_values=t)\n",
    "P_train_d = pd.DataFrame(training_params, index=X_train_d.ids)"
   ]
  },
  {
   "cell_type": "code",
   "execution_count": null,
   "id": "f44d3008-9635-4dfc-8534-63b47f043fb0",
   "metadata": {},
   "outputs": [],
   "source": [
    "idxes = [0, 2, 4, 6, 8]\n",
    "visualize_multiple(training_snapshots[idxes], training_params[idxes])"
   ]
  },
  {
   "cell_type": "markdown",
   "id": "2a9374e7-c901-4a0b-9ef4-ba98c7130a92",
   "metadata": {},
   "source": [
    "## Training EDMD model\n",
    "\n",
    "We now train the model with `EDMD`, where we specify a `dmd_model` that can handle the additional parameter input `P`. Note that here we do not perform a transform and instead use the identity (the `PartitionedDMD` could also be directly). This is mainly to highlight that it is possible to use parametric models in the more generic framework of `EDMD`, where data can also be transformed.\n",
    "\n",
    "We then visualize and compare the training data with the reconstructed training data of the parametric `EDMD` model."
   ]
  },
  {
   "cell_type": "code",
   "execution_count": null,
   "id": "96b4855a-f31f-44c5-bc41-25e93f37caca",
   "metadata": {},
   "outputs": [],
   "source": [
    "pdmd = EDMD(\n",
    "    dict_steps=[(\"_id\", TSCIdentity())],\n",
    "    dmd_model=PartitionedDMD(n_components=20, dmd_kwargs=dict(rank=20)),\n",
    ")\n",
    "pdmd = pdmd.fit(X_train_d, P=P_train_d)"
   ]
  },
  {
   "cell_type": "code",
   "execution_count": null,
   "id": "157d3a57-864c-4fad-9258-56d7d5c84f06",
   "metadata": {},
   "outputs": [],
   "source": [
    "X_reconstruct = pdmd.reconstruct(X_train_d, P=P_train_d)"
   ]
  },
  {
   "cell_type": "code",
   "execution_count": null,
   "id": "fe5e8c77-f402-4bf9-ad8b-e96cd1cf6b6f",
   "metadata": {},
   "outputs": [],
   "source": [
    "visualize_multiple(\n",
    "    training_snapshots,\n",
    "    training_params,\n",
    "    figsize=(20, 2.5),\n",
    "    title=\"training\",\n",
    ")\n",
    "visualize_multiple(\n",
    "    X_reconstruct.to_tensor(\"row\"),\n",
    "    training_params,\n",
    "    figsize=(20, 2.5),\n",
    "    title=\"EDMD (datafold)\",\n",
    ")\n",
    "\n",
    "visualize_multiple(\n",
    "    np.abs(X_reconstruct.to_tensor(\"row\") - training_snapshots),\n",
    "    training_params,\n",
    "    figsize=(20, 2.5),\n",
    "    labels_func=labels_func,\n",
    "    title=\"abs difference\",\n",
    "    cmap=\"OrRd\",\n",
    ")"
   ]
  },
  {
   "cell_type": "markdown",
   "id": "cc7e8d93-36ae-4863-8e7b-84616f69a214",
   "metadata": {},
   "source": [
    "## Testing data \n",
    "\n",
    "To perform predictions it is also essential that the model can handle initial conditions for parameters choices that are not contained in the training data (but within the sampling regime). To showcase this we set up testing data.    "
   ]
  },
  {
   "cell_type": "code",
   "execution_count": null,
   "id": "b5613a97-3c79-4b34-b71d-1a16ee1272ae",
   "metadata": {},
   "outputs": [],
   "source": [
    "similar_testing_params = [1, 3, 5, 7, 9]\n",
    "testing_params = training_params[similar_testing_params] + np.array(\n",
    "    [5 * pow(10, -i) for i in range(2, 7)]\n",
    ")\n",
    "testing_params_labels = [\n",
    "    str(training_params[similar_testing_params][i - 2]) + f\"+$5*10^{{-{i}}}$\"\n",
    "    for i in range(2, 7)\n",
    "]\n",
    "\n",
    "time_step = t[1] - t[0]\n",
    "N_predict = 40\n",
    "N_nonpredict = 40\n",
    "\n",
    "t2 = np.array(\n",
    "    [4 * np.pi + i * time_step for i in range(-N_nonpredict + 1, N_predict + 1)]\n",
    ")\n",
    "xgrid2, tgrid2 = np.meshgrid(x, t2)\n",
    "\n",
    "testing_snapshots = np.array([f(mu=p, x=xgrid2, t=tgrid2) for p in testing_params])\n",
    "\n",
    "X_test_d = TSCDataFrame.from_tensor(testing_snapshots, time_values=t2)\n",
    "P_test_d = pd.DataFrame(testing_params, index=X_test_d.ids)"
   ]
  },
  {
   "cell_type": "code",
   "execution_count": null,
   "id": "dce78d7d-5f3f-4d4a-beac-adbec2b4f908",
   "metadata": {},
   "outputs": [],
   "source": [
    "plt.figure(figsize=(8, 2))\n",
    "plt.scatter(training_params, np.zeros(len(training_params)), label=\"Training\")\n",
    "plt.scatter(testing_params, np.zeros(len(testing_params)), label=\"Testing\")\n",
    "plt.legend()\n",
    "plt.grid()\n",
    "plt.title(\"Training vs testing parameters\")\n",
    "plt.xlabel(r\"$\\mu$\")\n",
    "plt.yticks([], []);"
   ]
  },
  {
   "cell_type": "markdown",
   "id": "3d62de79-d71b-4add-8ee7-a2c00e5c4429",
   "metadata": {},
   "source": [
    "Reconstruct the testing data and compare the data with the the ground truth in a plot. "
   ]
  },
  {
   "cell_type": "code",
   "execution_count": null,
   "id": "dd5bc9f1-53c0-42f8-bd3c-add8878fd6e2",
   "metadata": {},
   "outputs": [],
   "source": [
    "X_reconstruct_test = pdmd.reconstruct(X_test_d, P=P_test_d)"
   ]
  },
  {
   "cell_type": "code",
   "execution_count": null,
   "id": "cdabf0b1-903f-4a5f-85b4-7384531c6cc8",
   "metadata": {},
   "outputs": [],
   "source": [
    "visualize_multiple(\n",
    "    testing_snapshots,\n",
    "    testing_params_labels,\n",
    "    figsize=(20, 2.5),\n",
    "    labels_func=labels_func,\n",
    "    title=\"ground truth\",\n",
    ")\n",
    "\n",
    "visualize_multiple(\n",
    "    X_reconstruct_test.to_tensor(\"row\"),\n",
    "    testing_params_labels,\n",
    "    figsize=(20, 2.5),\n",
    "    labels_func=labels_func,\n",
    "    title=\"EDMD (datafold)\",\n",
    ")\n",
    "\n",
    "visualize_multiple(\n",
    "    np.abs(X_reconstruct_test.to_tensor(\"row\") - testing_snapshots),\n",
    "    testing_params_labels,\n",
    "    figsize=(20, 2.5),\n",
    "    labels_func=labels_func,\n",
    "    title=\"abs difference\",\n",
    "    cmap=\"OrRd\",\n",
    ")"
   ]
  }
 ],
 "metadata": {
  "kernelspec": {
   "display_name": "Python 3 (ipykernel)",
   "language": "python",
   "name": "python3"
  },
  "language_info": {
   "codemirror_mode": {
    "name": "ipython",
    "version": 3
   },
   "file_extension": ".py",
   "mimetype": "text/x-python",
   "name": "python",
   "nbconvert_exporter": "python",
   "pygments_lexer": "ipython3",
   "version": "3.9.18"
  }
 },
 "nbformat": 4,
 "nbformat_minor": 5
}
