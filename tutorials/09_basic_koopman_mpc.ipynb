{
 "cells": [
  {
   "cell_type": "code",
   "execution_count": null,
   "id": "0284aad7",
   "metadata": {},
   "outputs": [],
   "source": [
    "%load_ext autoreload\n",
    "%autoreload 2"
   ]
  },
  {
   "cell_type": "code",
   "execution_count": null,
   "id": "e3f465f6",
   "metadata": {},
   "outputs": [],
   "source": [
    "import matplotlib.pyplot as plt\n",
    "import numpy as np\n",
    "import pandas as pd\n",
    "import scipy as sp"
   ]
  },
  {
   "cell_type": "code",
   "execution_count": null,
   "id": "307120ff",
   "metadata": {},
   "outputs": [],
   "source": [
    "from datafold.appfold import EDMDControl, KoopmanMPC\n",
    "from datafold.dynfold import DMDControl\n",
    "from datafold.dynfold.transform import TSCIdentity, TSCRadialBasis\n",
    "from datafold.pcfold import InitialCondition, InverseQuadraticKernel, TSCDataFrame"
   ]
  },
  {
   "cell_type": "markdown",
   "id": "ac5b0931",
   "metadata": {},
   "source": [
    "## Data generation"
   ]
  },
  {
   "cell_type": "markdown",
   "id": "8a9678e4",
   "metadata": {},
   "source": [
    "### Inverted pendulum Physics\n",
    "A test model implemented in datafold is used to generate example data in this tutorial. A pendulum and a moving cart are connected by a swivel, which allows the pendulum to freely rotate. The cart wheels spin on a rail, and the entire system is powered by a DC motor. The displacement of the cart $x$ and the angular rotation of the pendulum $\\theta$ describe the movement of the pendulum (note that the time derivatives, $\\dot x$ and $\\dot \\theta$, are also needed to describe the full state), and the voltage to the motor $u$ can be controlled."
   ]
  },
  {
   "cell_type": "code",
   "execution_count": null,
   "id": "1a500174",
   "metadata": {},
   "outputs": [],
   "source": [
    "from datafold.utils._systems import InvertedPendulum\n",
    "\n",
    "state_cols = [\"x\", \"xdot\", \"theta\", \"thetadot\"]\n",
    "control_cols = [\"u\"]"
   ]
  },
  {
   "cell_type": "markdown",
   "id": "c5dbbba2",
   "metadata": {},
   "source": [
    "### Creating the training set\n",
    "The training set will consists of 20 different trajectories of 10 seconds each, discretized at 0.01 s time steps. The initial conditions of all trajectories is the same, and the control input is a sinusoidal signal of varying amplitude, frequency and phase. The 20 timeseries are concatenated into a `TSCDataFrame`."
   ]
  },
  {
   "cell_type": "code",
   "execution_count": null,
   "id": "b19e42fb",
   "metadata": {},
   "outputs": [],
   "source": [
    "# Data generation parameters\n",
    "sim_time_step = 0.01  # s\n",
    "sim_num_steps = 1000  # -\n",
    "training_size = 20  # -\n",
    "ic = InitialCondition.from_array(np.array([0, 0, np.pi, 0]), columns=state_cols)"
   ]
  },
  {
   "cell_type": "code",
   "execution_count": null,
   "id": "064d2901",
   "metadata": {},
   "outputs": [],
   "source": [
    "invertedPendulum = InvertedPendulum(initial_condition=ic.values)\n",
    "\n",
    "Xlist, Ulist = [], []\n",
    "np.random.seed(42)\n",
    "for i in range(training_size):\n",
    "    control_amplitude = 0.1 + 0.9 * np.random.random()\n",
    "    control_frequency = np.pi + 2 * np.pi * np.random.random()\n",
    "    control_phase = 2 * np.pi * np.random.random()\n",
    "    control_func = lambda t, y: control_amplitude * np.sin(\n",
    "        control_frequency * t + control_phase\n",
    "    )\n",
    "    invertedPendulum.reset()\n",
    "    traj = invertedPendulum.predict(\n",
    "        time_step=sim_time_step,\n",
    "        num_steps=sim_num_steps,\n",
    "        control_func=control_func,\n",
    "    )\n",
    "    assert (\n",
    "        invertedPendulum.sol.success\n",
    "    ), f\"Divergent solution for amplitude={control_amplitude}, frequency={control_frequency}\"\n",
    "    t = invertedPendulum.sol.t\n",
    "    dfx = pd.DataFrame(data=traj.T, index=t, columns=state_cols)\n",
    "    dfx[control_cols] = 0.0\n",
    "    Xlist.append(dfx)\n",
    "    control_input = control_func(t, traj)\n",
    "    dfu = pd.DataFrame(data=control_input, index=t, columns=control_cols)\n",
    "    for col in state_cols:\n",
    "        dfu[col] = 0.0\n",
    "    dfu = dfu[state_cols + control_cols]\n",
    "    Ulist.append(dfu)\n",
    "\n",
    "X_tsc = TSCDataFrame.from_frame_list(Xlist)[state_cols]\n",
    "X_tsc[control_cols] = TSCDataFrame.from_frame_list(Ulist)[control_cols]\n",
    "X_tsc"
   ]
  },
  {
   "cell_type": "code",
   "execution_count": null,
   "id": "f974b268",
   "metadata": {},
   "outputs": [],
   "source": [
    "plt.figure(figsize=(16, 3))\n",
    "plt.plot(X_tsc[\"x\"].values)\n",
    "plt.title(r\"Training data - cart position $x$\");"
   ]
  },
  {
   "cell_type": "code",
   "execution_count": null,
   "id": "106414b4",
   "metadata": {},
   "outputs": [],
   "source": [
    "plt.figure(figsize=(16, 3))\n",
    "plt.plot(X_tsc[\"u\"].values)\n",
    "plt.title(r\"Training data - control voltage $u$\");"
   ]
  },
  {
   "cell_type": "markdown",
   "id": "7fdc6909",
   "metadata": {},
   "source": [
    "## Estimators used to model the system "
   ]
  },
  {
   "cell_type": "markdown",
   "id": "cf40d9c3",
   "metadata": {},
   "source": [
    "### DMD predictor\n",
    "In this section we demonstrate how to use the `DMDControl` class to create a Dynamic mode decomposition predictor for controlled systems using the data above.\n",
    "\n",
    "The `DMDControl` class implements the `TSCPredictMixin` which is based on `scikit-learn` estimator-style interface. First we need to initialize the class and indicate which features will describe the state and which features the control input. Then we can use the `.fit` method to train the model, which in practice means finding $A$ and $B$ matrices which best satisfy $z^+ = Az + Bu$ ($z$ here refering to the state vector of the system).  "
   ]
  },
  {
   "cell_type": "code",
   "execution_count": null,
   "id": "d9ebeec4",
   "metadata": {},
   "outputs": [],
   "source": [
    "dmdc = DMDControl(state_columns=state_cols, control_columns=control_cols)\n",
    "dmdc.fit(X_tsc)\n",
    "\n",
    "plt.subplot(121)\n",
    "plt.imshow(dmdc.sys_matrix_)\n",
    "plt.colorbar()\n",
    "plt.title(\"DMD state matrix\")\n",
    "plt.subplot(122)\n",
    "plt.imshow(dmdc.control_matrix_)\n",
    "plt.colorbar()\n",
    "plt.title(\"DMD control matrix\");"
   ]
  },
  {
   "cell_type": "markdown",
   "id": "4978ffcf",
   "metadata": {},
   "source": [
    "The `.predict` method can be used to estimate the trajectory of the system from a given initial condition and for a given control input."
   ]
  },
  {
   "cell_type": "code",
   "execution_count": null,
   "id": "9d79b831",
   "metadata": {},
   "outputs": [],
   "source": [
    "prediction = dmdc.predict(\n",
    "    ic,\n",
    "    control_input=control_input,\n",
    "    time_values=t,\n",
    ")"
   ]
  },
  {
   "cell_type": "code",
   "execution_count": null,
   "id": "af130c27",
   "metadata": {},
   "outputs": [],
   "source": [
    "plt.plot(prediction[\"x\"].values, label=\"prediction\")\n",
    "plt.plot(dfx[\"x\"].values, label=\"actual\")\n",
    "plt.legend()\n",
    "plt.title(r\"DMD prediction - cart position $x$\");"
   ]
  },
  {
   "cell_type": "markdown",
   "id": "a7ad6ba6",
   "metadata": {},
   "source": [
    "### EDMD Predictor\n",
    "The EDMD approach uses a dictionary of lifting function to compute a finite-dimensional estimate for the Koopman operator of the underlying system using the available data. \n",
    "\n",
    "The `EDMDControl` class works similarly to the `DMDControl` class, but requires additionally that a lifting dictionary `dict_steps` is provided (see Tutorial 6 on EDMD for more further details). It is also important to provide the correct value of the `include_id_state` parameter depending on whether the dictionary natrually includes or not the original state - if the original state is included (e.g. when using transformers `TSCIdentity` or `TSCTakensEmbedding`, then `inculde_id_state=False`, but when using `TSCRadialBasis` -- `include_id_state=True`.)\n",
    "The `EDMDControl` class also provides a `.transform` method to directly access the lifting function of the dictionary."
   ]
  },
  {
   "cell_type": "markdown",
   "id": "baecc37b",
   "metadata": {},
   "source": [
    "#### Using Identity dictionary\n",
    "This is equivalent to using the DMD method, since the dictionary consists only of the original features. Here it is used to introduce the interface to the method. Here it can be seen that the split between state and control can also be provided to the `.fit` method (which is also the case for the `DMDControl` class)."
   ]
  },
  {
   "cell_type": "code",
   "execution_count": null,
   "id": "242ac8d3",
   "metadata": {},
   "outputs": [],
   "source": [
    "edmdid = EDMDControl(dict_steps=[(\"id\", TSCIdentity()),], include_id_state=False).fit(\n",
    "    X_tsc,\n",
    "    split_by=\"name\",\n",
    "    state=state_cols,\n",
    "    control=control_cols,\n",
    ")\n",
    "idprediction = edmdid.predict(ic, control_input=control_input, time_values=t)\n",
    "plt.plot(idprediction[\"x\"].values, label=\"prediction\")\n",
    "plt.plot(dfx[\"x\"].values, label=\"actual\")\n",
    "plt.legend()\n",
    "plt.title(r\"EDMD(id) prediction - cart position $x$\");"
   ]
  },
  {
   "cell_type": "markdown",
   "id": "cd0097b9",
   "metadata": {},
   "source": [
    "#### Using a realistic dictionary\n",
    "Here we use a realistic dictionary of 100 randomly selected RBF centers from a inverse quadratic kernel. \n",
    "\n",
    "Please note that using `TSCRadialBasis` transofrmer with `center_type='fit_params'` requires passing the `centers` parameters to the `.fit` method of transformer using the `fit_params` as detailed in the documentation."
   ]
  },
  {
   "cell_type": "code",
   "execution_count": null,
   "id": "a56bb145",
   "metadata": {},
   "outputs": [],
   "source": [
    "num_rbfs = 100\n",
    "eps = 1\n",
    "\n",
    "rbf = TSCRadialBasis(\n",
    "    kernel=InverseQuadraticKernel(epsilon=eps), center_type=\"fit_params\"\n",
    ")\n",
    "center_ids = sorted(\n",
    "    np.random.choice(\n",
    "        range(0, sim_num_steps * training_size), size=num_rbfs, replace=False\n",
    "    )\n",
    ")\n",
    "centers = X_tsc.iloc[center_ids].values"
   ]
  },
  {
   "cell_type": "code",
   "execution_count": null,
   "id": "5a17d928",
   "metadata": {},
   "outputs": [],
   "source": [
    "edmdrbf = EDMDControl(dict_steps=[(\"rbf\", rbf),], include_id_state=True).fit(\n",
    "    X_tsc,\n",
    "    split_by=\"name\",\n",
    "    state=state_cols,\n",
    "    control=control_cols,\n",
    "    rbf__centers=centers[:, :-1],\n",
    ")\n",
    "rbfprediction = edmdrbf.predict(\n",
    "    ic, control_input=np.atleast_2d(control_input).T, time_values=t\n",
    ")\n",
    "plt.figure(figsize=(16, 3))\n",
    "plt.subplot(121)\n",
    "plt.plot(rbfprediction[\"x\"].values, label=\"prediction\")\n",
    "plt.plot(dfx[\"x\"].values, label=\"actual\")\n",
    "plt.legend()\n",
    "plt.title(r\"EDMD(100 random rbf) prediction - cart position $x$\")\n",
    "plt.subplot(122)\n",
    "plt.plot(rbfprediction[\"theta\"].values, label=\"prediction\")\n",
    "plt.plot(dfx[\"theta\"].values, label=\"actual\")\n",
    "plt.legend()\n",
    "plt.title(r\"EDMD(100 random rbf) prediction - pendulum angle $\\theta$\");"
   ]
  },
  {
   "cell_type": "markdown",
   "id": "c8b2fd2a",
   "metadata": {},
   "source": [
    "In the figure above we can see the the EDMD predicts the displacement even better than the DMD, but the prediction for $\\theta$ is good only on a short time scale."
   ]
  },
  {
   "cell_type": "markdown",
   "id": "92e7e73e",
   "metadata": {},
   "source": [
    "## Koopman Model Predictive Control"
   ]
  },
  {
   "cell_type": "markdown",
   "id": "4690837b",
   "metadata": {},
   "source": [
    "Model Predictive Control (MPC) is a method for estimating a control signal to provide to a system to achieve certain behaviour in the future. Here we show an implementation of a Koopman MPC (KMPC) where the model part is based on the Koopman operator. The `KoopmanMPC` class implements such a controller based on the `EDMDControl` class illustrated above. The key benefit is that the model is a linear system in the lifted space and the optimal control can be directly computed using quadratic programming optimizer.\n",
    "\n",
    "An important parameter for MPCs is the prediction horizon, which denotes how far in the future is the control signal computed. Here we set it to 100 timesteps (1 second). The optimality of the signal is computed using a cost function of the referenced states (`qois`) and the control signal itself. Here we provide both $x$ and $\\theta$ as referenced states, but set the running cost weight of $\\theta$ to 0 to showcase the functionality of the interface."
   ]
  },
  {
   "cell_type": "code",
   "execution_count": null,
   "id": "3ef94baa",
   "metadata": {},
   "outputs": [],
   "source": [
    "horizon = 100\n",
    "\n",
    "kmpc = KoopmanMPC(\n",
    "    predictor=edmdrbf,\n",
    "    horizon=horizon,\n",
    "    state_bounds=np.array([[1, -1], [6.28, 0]]),\n",
    "    input_bounds=np.array([[5, -5]]),\n",
    "    qois=[\"x\", \"theta\"],\n",
    "    cost_running=np.array([100, 0]),\n",
    "    cost_terminal=1,\n",
    "    cost_input=1,\n",
    ")"
   ]
  },
  {
   "cell_type": "markdown",
   "id": "16a39ab8",
   "metadata": {},
   "source": [
    "To generate the control signal, a full initial state is required, in addition to a reference to track. Here we use a reference  produced by a known control signal in the training data, so as to be able to later compare it to the optimal control signal computed by the controller."
   ]
  },
  {
   "cell_type": "code",
   "execution_count": null,
   "id": "a72f99f3",
   "metadata": {},
   "outputs": [],
   "source": [
    "reference = dfx[[\"x\", \"theta\"]].iloc[: horizon + 1]\n",
    "ukmpc = kmpc.generate_control_signal(rbfprediction.initial_states(), reference)"
   ]
  },
  {
   "cell_type": "markdown",
   "id": "24684297",
   "metadata": {},
   "source": [
    "Further more, we compute what trajectory the model has predicted based on the control signal computed by the controller and what is the real response of the system."
   ]
  },
  {
   "cell_type": "code",
   "execution_count": null,
   "id": "a04bb969",
   "metadata": {},
   "outputs": [],
   "source": [
    "kmpcpred = edmdrbf.predict(rbfprediction.initial_states(), control_input=ukmpc)\n",
    "invertedPendulum.reset()\n",
    "kmpcfunc = lambda t, y: np.interp(t, rbfprediction.time_values()[:horizon], ukmpc)\n",
    "kmpctraj = invertedPendulum.predict(\n",
    "    time_step=sim_time_step,\n",
    "    num_steps=horizon,\n",
    "    control_func=kmpcfunc,\n",
    ")\n",
    "kmpctraj = pd.DataFrame(data=kmpctraj.T, columns=state_cols)"
   ]
  },
  {
   "cell_type": "markdown",
   "id": "7149ef69",
   "metadata": {},
   "source": [
    "We now plot the data that we obtained from the `KoopmanMPC` class and compare the predicted trajectories for both position $x$ and angle $\\theta$. In addition, we also compare the estimated control signal from the `KoopmanMPC` class and compare it with the the reference control signal above."
   ]
  },
  {
   "cell_type": "code",
   "execution_count": null,
   "id": "0d3e5483",
   "metadata": {},
   "outputs": [],
   "source": [
    "plt.figure(figsize=(16, 3.5))\n",
    "plt.subplot(131)\n",
    "plt.plot(dfx[\"x\"].values[: horizon + 1], label=\"reference\")\n",
    "plt.plot(kmpcpred[\"x\"].values, label=\"prediction\")\n",
    "plt.plot(kmpctraj[\"x\"].values, label=\"actual\")\n",
    "plt.legend()\n",
    "plt.title(r\"Comparison : Cart Position $x$\")\n",
    "plt.subplot(132)\n",
    "plt.plot(dfx[\"theta\"].values[: horizon + 1], label=\"reference\")\n",
    "plt.plot(kmpcpred[\"theta\"].values, label=\"prediction\")\n",
    "plt.plot(kmpctraj[\"theta\"].values, label=\"actual\")\n",
    "plt.legend()\n",
    "plt.title(r\"Comparison : Pendulum Angle $\\theta$\")\n",
    "plt.subplot(133)\n",
    "plt.plot(dfu[\"u\"].values[: horizon + 1], label=\"correct\")\n",
    "plt.plot(ukmpc, label=\"controller\")\n",
    "plt.legend()\n",
    "plt.title(r\"Comparison : Control Signal $u$\");"
   ]
  },
  {
   "cell_type": "code",
   "execution_count": null,
   "id": "035bc3e4",
   "metadata": {},
   "outputs": [],
   "source": []
  }
 ],
 "metadata": {
  "kernelspec": {
   "display_name": "Python 3 (ipykernel)",
   "language": "python",
   "name": "python3"
  },
  "language_info": {
   "codemirror_mode": {
    "name": "ipython",
    "version": 3
   },
   "file_extension": ".py",
   "mimetype": "text/x-python",
   "name": "python",
   "nbconvert_exporter": "python",
   "pygments_lexer": "ipython3",
   "version": "3.9.7"
  }
 },
 "nbformat": 4,
 "nbformat_minor": 5
}
