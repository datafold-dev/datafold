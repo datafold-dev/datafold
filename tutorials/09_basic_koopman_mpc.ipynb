{
 "cells": [
  {
   "cell_type": "markdown",
   "id": "0284aad7",
   "metadata": {},
   "source": [
    "(Visit the\n",
    "[documentation](https://datafold-dev.gitlab.io/datafold/tutorial_index.html) page\n",
    "to view the executed notebook.)\n",
    "\n",
    "# Koopman Operator for Model Predictive Control\n",
    "**In this tutorial** we introduce the usage of Koopman operators and the Dynamic Mode Decomposition method with controlled systems, as well as demonstrate how Koopman-based models cn be applied to model predictive control."
   ]
  },
  {
   "cell_type": "code",
   "execution_count": null,
   "id": "e3f465f6",
   "metadata": {},
   "outputs": [],
   "source": [
    "import matplotlib.pyplot as plt\n",
    "import numpy as np\n",
    "import pandas as pd\n",
    "from scipy.interpolate import interp1d"
   ]
  },
  {
   "cell_type": "code",
   "execution_count": null,
   "id": "307120ff",
   "metadata": {},
   "outputs": [],
   "source": [
    "from datafold.appfold import EDMDControl\n",
    "from datafold.appfold.kmpc import AffineKgMPC, LinearKMPC\n",
    "from datafold.dynfold import DMDControl, gDMDAffine\n",
    "from datafold.dynfold.transform import TSCIdentity, TSCRadialBasis\n",
    "from datafold.pcfold import InitialCondition, InverseQuadraticKernel, TSCDataFrame"
   ]
  },
  {
   "cell_type": "markdown",
   "id": "ac5b0931",
   "metadata": {},
   "source": [
    "## Data generation"
   ]
  },
  {
   "cell_type": "markdown",
   "id": "8a9678e4",
   "metadata": {},
   "source": [
    "### Inverted pendulum Physics\n",
    "A test model implemented in datafold is used to generate example data in this tutorial. A pendulum and a moving cart are connected by a swivel, which allows the pendulum to freely rotate. The cart wheels spin on a rail, and the entire system is powered by a DC motor. The displacement of the cart $x$ and the angular rotation of the pendulum $\\theta$ describe the movement of the pendulum (note that the time derivatives, $\\dot x$ and $\\dot \\theta$, are also needed to describe the full state), and the voltage to the motor $u$ can be controlled."
   ]
  },
  {
   "cell_type": "code",
   "execution_count": null,
   "id": "1a500174",
   "metadata": {},
   "outputs": [],
   "source": [
    "from datafold.utils._systems import InvertedPendulum\n",
    "\n",
    "state_cols = [\"x\", \"xdot\", \"theta\", \"thetadot\"]\n",
    "control_cols = [\"u\"]"
   ]
  },
  {
   "cell_type": "markdown",
   "id": "c5dbbba2",
   "metadata": {},
   "source": [
    "### Creating the training set\n",
    "The training set will consists of 20 different trajectories of 10 seconds each, discretized at 0.01 s time steps. The initial conditions of all trajectories is the same, and the control input is a sinusoidal signal of varying amplitude, frequency and phase. The 20 timeseries are concatenated into a `TSCDataFrame`."
   ]
  },
  {
   "cell_type": "code",
   "execution_count": null,
   "id": "b19e42fb",
   "metadata": {},
   "outputs": [],
   "source": [
    "# Data generation parameters\n",
    "sim_time_step = 0.01  # s\n",
    "sim_num_steps = 1000  # -\n",
    "training_size = 20  # -\n",
    "ic = InitialCondition.from_array(np.array([0, 0, 0, 0]), columns=state_cols)"
   ]
  },
  {
   "cell_type": "code",
   "execution_count": null,
   "id": "064d2901",
   "metadata": {},
   "outputs": [],
   "source": [
    "invertedPendulum = InvertedPendulum(initial_condition=ic.values)\n",
    "\n",
    "Xlist, Ulist = [], []\n",
    "np.random.seed(42)\n",
    "for i in range(training_size):\n",
    "    control_amplitude = 0.1 + 0.9 * np.random.random()\n",
    "    control_frequency = np.pi + 2 * np.pi * np.random.random()\n",
    "    control_phase = 2 * np.pi * np.random.random()\n",
    "    control_func = lambda t, y: control_amplitude * np.sin(\n",
    "        control_frequency * t + control_phase\n",
    "    )\n",
    "    invertedPendulum.reset()\n",
    "    traj = invertedPendulum.predict(\n",
    "        time_step=sim_time_step,\n",
    "        num_steps=sim_num_steps,\n",
    "        control_func=control_func,\n",
    "    )\n",
    "    assert (\n",
    "        invertedPendulum.sol.success\n",
    "    ), f\"Divergent solution for amplitude={control_amplitude}, frequency={control_frequency}\"\n",
    "    t = invertedPendulum.sol.t\n",
    "    dfx = pd.DataFrame(data=traj.T, index=t, columns=state_cols)\n",
    "    dfx[control_cols] = 0.0\n",
    "    Xlist.append(dfx)\n",
    "    control_input = control_func(t, traj)\n",
    "    dfu = pd.DataFrame(data=control_input, index=t, columns=control_cols)\n",
    "    for col in state_cols:\n",
    "        dfu[col] = 0.0\n",
    "    dfu = dfu[state_cols + control_cols]\n",
    "    Ulist.append(dfu)\n",
    "\n",
    "X_tsc = TSCDataFrame.from_frame_list(Xlist)[state_cols]\n",
    "X_tsc[control_cols] = TSCDataFrame.from_frame_list(Ulist)[control_cols]\n",
    "X_tsc"
   ]
  },
  {
   "cell_type": "code",
   "execution_count": null,
   "id": "f974b268",
   "metadata": {},
   "outputs": [],
   "source": [
    "plt.figure(figsize=(16, 3))\n",
    "plt.plot(X_tsc[\"theta\"].values)\n",
    "plt.title(r\"Training data - cart position $x$\");"
   ]
  },
  {
   "cell_type": "code",
   "execution_count": null,
   "id": "106414b4",
   "metadata": {},
   "outputs": [],
   "source": [
    "plt.figure(figsize=(16, 3))\n",
    "plt.plot(X_tsc[\"u\"].values)\n",
    "plt.title(r\"Training data - control voltage $u$\");"
   ]
  },
  {
   "cell_type": "markdown",
   "id": "7fdc6909",
   "metadata": {},
   "source": [
    "## Estimators used to model the system "
   ]
  },
  {
   "cell_type": "markdown",
   "id": "cf40d9c3",
   "metadata": {},
   "source": [
    "### Linear Control DMD predictor\n",
    "In this section we demonstrate how to use the `DMDControl` class to create a Dynamic mode decomposition predictor for controlled systems using the data above.\n",
    "\n",
    "The `DMDControl` class implements the `TSCPredictMixin` which is based on `scikit-learn` estimator-style interface. First we need to initialize the class and indicate which features will describe the state and which features the control input. Then we can use the `.fit` method to train the model, which in practice means finding $A$ and $B$ matrices which best satisfy $z^+ = Az + Bu$ ($z$ here refering to the state vector of the system). This estimator assumes that the system is linear in both the state and the control input.  "
   ]
  },
  {
   "cell_type": "code",
   "execution_count": null,
   "id": "d9ebeec4",
   "metadata": {},
   "outputs": [],
   "source": [
    "dmdc = DMDControl()\n",
    "dmdc.fit(X_tsc[state_cols], X_tsc[control_cols])\n",
    "\n",
    "plt.subplot(121)\n",
    "plt.imshow(dmdc.sys_matrix_)\n",
    "plt.colorbar()\n",
    "plt.title(\"DMD state matrix\")\n",
    "plt.subplot(122)\n",
    "plt.imshow(dmdc.control_matrix_)\n",
    "plt.colorbar()\n",
    "plt.title(\"DMD control matrix\");"
   ]
  },
  {
   "cell_type": "markdown",
   "id": "4978ffcf",
   "metadata": {},
   "source": [
    "The `.predict` method can be used to estimate the trajectory of the system from a given initial condition and for a given control input."
   ]
  },
  {
   "cell_type": "code",
   "execution_count": null,
   "id": "9d79b831",
   "metadata": {},
   "outputs": [],
   "source": [
    "prediction = dmdc.predict(\n",
    "    ic,\n",
    "    U=control_input,\n",
    "    time_values=t,\n",
    ")"
   ]
  },
  {
   "cell_type": "code",
   "execution_count": null,
   "id": "af130c27",
   "metadata": {},
   "outputs": [],
   "source": [
    "plt.plot(prediction[\"x\"].values, label=\"prediction\")\n",
    "plt.plot(dfx[\"x\"].values, label=\"actual\")\n",
    "plt.legend()\n",
    "plt.title(r\"Linear DMD prediction - cart position $x$\");"
   ]
  },
  {
   "cell_type": "markdown",
   "id": "b71cac88",
   "metadata": {},
   "source": [
    "### Control-affine DMD predictor\n",
    "\n",
    "Similarly to the `DMDControl` defined above, here we demonstrate the use the `gDMDAffine` class. Two main difference exist between the two:\n",
    "\n",
    "1. The `gDMDAffine` class uses a Koopman generator definition, which in practice means that it supports irregular time samples and time steps in the training data different from the test.\n",
    "\n",
    "1. Additionally, the `gDMDAffine` estimator finds the matrix $A$ and the tensor $B$ such that $\\dot{z} = Az + \\sum_{i=1}^{m}B_iu_iz$, i.e. it assumes the system is control input affine.\n",
    "\n",
    "it should also be noted that, as a result of the implementation using adaptive time-step integration to find the generators, the `gDMDAffine` and classes using it can be significantly slower that the corresponding fixed-step methods."
   ]
  },
  {
   "cell_type": "code",
   "execution_count": null,
   "id": "fe7cc233",
   "metadata": {},
   "outputs": [],
   "source": [
    "gdmda = gDMDAffine()\n",
    "gdmda.fit(X_tsc[state_cols], U=X_tsc[control_cols])\n",
    "\n",
    "m = gdmda.control_matrix_.shape[-1]\n",
    "plt.subplot(1, 1 + m, 1)\n",
    "plt.imshow(gdmda.sys_matrix_)\n",
    "plt.colorbar()\n",
    "plt.title(\"DMD state matrix\")\n",
    "for i in range(m):\n",
    "    plt.subplot(1, 1 + m, 2 + i)\n",
    "    plt.imshow(gdmda.control_matrix_[:, :, i])\n",
    "    plt.colorbar()\n",
    "    plt.title(\"DMD control matrix\");"
   ]
  },
  {
   "cell_type": "code",
   "execution_count": null,
   "id": "596c8c09",
   "metadata": {},
   "outputs": [],
   "source": [
    "prediction = gdmda.predict(\n",
    "    ic,\n",
    "    U=control_input,\n",
    "    time_values=t,\n",
    ")\n",
    "plt.plot(prediction[\"x\"].values, label=\"prediction\")\n",
    "plt.plot(dfx[\"x\"].values, label=\"actual\")\n",
    "plt.legend()\n",
    "plt.title(r\"Affine generator DMD prediction - cart position $x$\");"
   ]
  },
  {
   "cell_type": "markdown",
   "id": "a7ad6ba6",
   "metadata": {},
   "source": [
    "### EDMD Predictor\n",
    "The EDMD approach uses a dictionary of lifting function to compute a finite-dimensional estimate for the Koopman operator of the underlying system using the available data. \n",
    "\n",
    "The `EDMDControl` class works similarly to the `DMDControl` class, but requires additionally that a lifting dictionary `dict_steps` is provided (see Tutorial 6 on EDMD for more further details). It is also important to provide the correct value of the `include_id_state` parameter depending on whether the dictionary natrually includes or not the original state - if the original state is included (e.g. when using transformers `TSCIdentity` or `TSCTakensEmbedding`, then `inculde_id_state=False`, but when using `TSCRadialBasis` -- `include_id_state=True`.)\n",
    "The `EDMDControl` class also provides a `.transform` method to directly access the lifting function of the dictionary."
   ]
  },
  {
   "cell_type": "markdown",
   "id": "baecc37b",
   "metadata": {},
   "source": [
    "#### Using Identity dictionary\n",
    "This is equivalent to using the DMD method, since the dictionary consists only of the original features. Here it is used to introduce the interface to the method. Here it can be seen that the split between state and control can also be provided to the `.fit` method (which is also the case for the `DMDControl` class)."
   ]
  },
  {
   "cell_type": "code",
   "execution_count": null,
   "id": "242ac8d3",
   "metadata": {},
   "outputs": [],
   "source": [
    "edmdid = EDMDControl(\n",
    "    dict_steps=[\n",
    "        (\"id\", TSCIdentity()),\n",
    "    ],\n",
    "    include_id_state=False,\n",
    ").fit(X_tsc[state_cols], X_tsc[control_cols])\n",
    "idprediction = edmdid.predict(ic, U=control_input, time_values=t)\n",
    "plt.plot(idprediction[\"x\"].values, label=\"prediction\")\n",
    "plt.plot(dfx[\"x\"].values, label=\"actual\")\n",
    "plt.legend()\n",
    "plt.title(r\"EDMD(id) prediction - cart position $x$\");"
   ]
  },
  {
   "cell_type": "markdown",
   "id": "cd0097b9",
   "metadata": {},
   "source": [
    "#### Using a realistic dictionary\n",
    "Here we use a realistic dictionary of 100 randomly selected RBF centers from a inverse quadratic kernel. \n",
    "\n",
    "Please note that using `TSCRadialBasis` transofrmer with `center_type='fit_params'` requires passing the `centers` parameters to the `.fit` method of transformer using the `fit_params` as detailed in the documentation."
   ]
  },
  {
   "cell_type": "code",
   "execution_count": null,
   "id": "a56bb145",
   "metadata": {},
   "outputs": [],
   "source": [
    "num_rbfs = 100\n",
    "eps = 1\n",
    "\n",
    "rbf = TSCRadialBasis(\n",
    "    kernel=InverseQuadraticKernel(epsilon=eps), center_type=\"fit_params\"\n",
    ")\n",
    "center_ids = sorted(\n",
    "    np.random.choice(\n",
    "        range(0, sim_num_steps * training_size), size=num_rbfs, replace=False\n",
    "    )\n",
    ")\n",
    "centers = X_tsc.iloc[center_ids].values"
   ]
  },
  {
   "cell_type": "markdown",
   "id": "8131a3b2",
   "metadata": {},
   "source": [
    "##### Linear control"
   ]
  },
  {
   "cell_type": "code",
   "execution_count": null,
   "id": "5a17d928",
   "metadata": {},
   "outputs": [],
   "source": [
    "edmdrbf = EDMDControl(dict_steps=[(\"rbf\", rbf),], include_id_state=True).fit(\n",
    "    X_tsc[state_cols],\n",
    "    X_tsc[control_cols],\n",
    "    rbf__centers=centers[:, :-1],\n",
    ")\n",
    "rbfprediction = edmdrbf.predict(ic, U=np.atleast_2d(control_input).T, time_values=t)\n",
    "plt.figure(figsize=(16, 3))\n",
    "plt.subplot(121)\n",
    "plt.plot(rbfprediction[\"x\"].values, label=\"prediction\")\n",
    "plt.plot(dfx[\"x\"].values, label=\"actual\")\n",
    "plt.legend()\n",
    "plt.title(r\"EDMD(100 random rbf) prediction - cart position $x$\")\n",
    "plt.subplot(122)\n",
    "plt.plot(rbfprediction[\"theta\"].values, label=\"prediction\")\n",
    "plt.plot(dfx[\"theta\"].values, label=\"actual\")\n",
    "plt.legend()\n",
    "plt.title(r\"EDMD(100 random rbf) prediction - pendulum angle $\\theta$\");"
   ]
  },
  {
   "cell_type": "markdown",
   "id": "c8b2fd2a",
   "metadata": {},
   "source": [
    "In the figure above we can see the the EDMD using the linear DMD estimator predicts the displacement even better than the DMD, but the prediction for $\\theta$ is good only on a short time scale."
   ]
  },
  {
   "cell_type": "markdown",
   "id": "0572ad2a",
   "metadata": {},
   "source": [
    "##### Control-affine"
   ]
  },
  {
   "cell_type": "code",
   "execution_count": null,
   "id": "c89661b5",
   "metadata": {},
   "outputs": [],
   "source": [
    "egdmdarbf = EDMDControl(\n",
    "    dmd_model=gDMDAffine(),\n",
    "    dict_steps=[\n",
    "        (\"rbf\", rbf),\n",
    "    ],\n",
    "    include_id_state=True,\n",
    ").fit(\n",
    "    X_tsc[state_cols],\n",
    "    X_tsc[control_cols],\n",
    "    rbf__centers=centers[:, :-1],\n",
    ")\n",
    "rbfprediction = egdmdarbf.predict(ic, U=np.atleast_2d(control_input).T, time_values=t)\n",
    "plt.figure(figsize=(16, 3))\n",
    "plt.subplot(121)\n",
    "plt.plot(rbfprediction[\"x\"].values, label=\"prediction\")\n",
    "plt.plot(dfx[\"x\"].values, label=\"actual\")\n",
    "plt.legend()\n",
    "plt.title(r\"EDMD(100 random rbf) prediction - cart position $x$\")\n",
    "plt.subplot(122)\n",
    "plt.plot(rbfprediction[\"theta\"].values, label=\"prediction\")\n",
    "plt.plot(dfx[\"theta\"].values, label=\"actual\")\n",
    "plt.legend()\n",
    "plt.title(r\"EDMD(100 random rbf) prediction - pendulum angle $\\theta$\");"
   ]
  },
  {
   "cell_type": "markdown",
   "id": "dbd7b69b",
   "metadata": {},
   "source": [
    "As we can see, the control-affine model becomes unstable, which suggests that its assumptions fit poorly the training data, or perhaps more training data is needed to learn the behaviour. Below we plot a shorter prediction period over which the estimator remains closer to the reference."
   ]
  },
  {
   "cell_type": "code",
   "execution_count": null,
   "id": "d5adc421",
   "metadata": {},
   "outputs": [],
   "source": [
    "limit = 300\n",
    "plt.figure(figsize=(16, 3))\n",
    "plt.subplot(121)\n",
    "plt.plot(rbfprediction[\"x\"].values[:limit], label=\"prediction\")\n",
    "plt.plot(dfx[\"x\"].values[:limit], label=\"actual\")\n",
    "plt.legend()\n",
    "plt.title(r\"EDMD(100 random rbf) prediction - cart position $x$\")\n",
    "plt.subplot(122)\n",
    "plt.plot(rbfprediction[\"theta\"].values[:limit], label=\"prediction\")\n",
    "plt.plot(dfx[\"theta\"].values[:limit], label=\"actual\")\n",
    "plt.legend()\n",
    "plt.title(r\"EDMD(100 random rbf) prediction - pendulum angle $\\theta$\");"
   ]
  },
  {
   "cell_type": "markdown",
   "id": "92e7e73e",
   "metadata": {},
   "source": [
    "## Koopman Model Predictive Control"
   ]
  },
  {
   "cell_type": "markdown",
   "id": "4690837b",
   "metadata": {},
   "source": [
    "Model Predictive Control (MPC) is a method for estimating a control signal to provide to a system to achieve certain behaviour in the future. \n",
    "\n",
    "An important parameter for MPCs is the prediction horizon, which denotes how far in the future is the control signal computed. Here we set it to 100 timesteps (1 second). The optimality of the signal is computed using a cost function of the referenced states (`qois`) and the control signal itself. Here we provide both $x$ and $\\theta$ as referenced states, but set the running cost weight of $\\theta$ to 0 to showcase the functionality of the interface. Additionaly, the cost function enables penalizing control inputs. To match as well as possible the test data, this is set to a small value."
   ]
  },
  {
   "cell_type": "markdown",
   "id": "0a81dd92",
   "metadata": {},
   "source": [
    "#### Linear KMPC\n",
    "Here we show an implementation of a Koopman MPC (KMPC) where the model part is based on the Koopman operator. The `LinearKMPC` class implements such a controller based on the `EDMDControl` class illustrated above with `dmd_model=DMDControl()` (by default). The key benefit is that the model is a linear system in the lifted space and the optimal control can be directly computed using quadratic programming optimizer."
   ]
  },
  {
   "cell_type": "code",
   "execution_count": null,
   "id": "3ef94baa",
   "metadata": {},
   "outputs": [],
   "source": [
    "horizon = 100\n",
    "\n",
    "kmpc = LinearKMPC(\n",
    "    predictor=edmdrbf,\n",
    "    horizon=horizon,\n",
    "    state_bounds=np.array([[1, -1], [6.28, 0]]),\n",
    "    input_bounds=np.array([[5, -5]]),\n",
    "    qois=[\"x\", \"theta\"],\n",
    "    cost_running=np.array([100, 0]),\n",
    "    cost_terminal=1,\n",
    "    cost_input=0.001,\n",
    ")"
   ]
  },
  {
   "cell_type": "markdown",
   "id": "16a39ab8",
   "metadata": {},
   "source": [
    "To generate the control signal, a full initial state is required, in addition to a reference to track. Here we use a reference  produced by a known control signal in the training data, so as to be able to later compare it to the optimal control signal computed by the controller."
   ]
  },
  {
   "cell_type": "code",
   "execution_count": null,
   "id": "a72f99f3",
   "metadata": {},
   "outputs": [],
   "source": [
    "reference = dfx[[\"x\", \"theta\"]].iloc[: horizon + 1]\n",
    "ukmpc = kmpc.generate_control_signal(rbfprediction.initial_states(), reference)"
   ]
  },
  {
   "cell_type": "markdown",
   "id": "24684297",
   "metadata": {},
   "source": [
    "Further more, we compute what trajectory the model has predicted based on the control signal computed by the controller and what is the real response of the system."
   ]
  },
  {
   "cell_type": "code",
   "execution_count": null,
   "id": "a04bb969",
   "metadata": {},
   "outputs": [],
   "source": [
    "kmpcpred = edmdrbf.predict(rbfprediction.initial_states(), U=ukmpc)\n",
    "invertedPendulum.reset()\n",
    "ukmpc_interp = interp1d(\n",
    "    rbfprediction.time_values()[:horizon],\n",
    "    ukmpc,\n",
    "    axis=0,\n",
    "    fill_value=0,\n",
    "    bounds_error=False,\n",
    ")\n",
    "ukmpc_func = lambda t, y: ukmpc_interp(t)\n",
    "kmpctraj = invertedPendulum.predict(\n",
    "    time_step=sim_time_step,\n",
    "    num_steps=horizon,\n",
    "    control_func=ukmpc_func,\n",
    ")\n",
    "kmpctraj = pd.DataFrame(data=kmpctraj.T, columns=state_cols)"
   ]
  },
  {
   "cell_type": "markdown",
   "id": "7149ef69",
   "metadata": {},
   "source": [
    "We now plot the data that we obtained from the `KoopmanMPC` class and compare the predicted trajectories for both position $x$ and angle $\\theta$. In addition, we also compare the estimated control signal from the `KoopmanMPC` class and compare it with the the reference control signal above."
   ]
  },
  {
   "cell_type": "code",
   "execution_count": null,
   "id": "0d3e5483",
   "metadata": {},
   "outputs": [],
   "source": [
    "plt.figure(figsize=(16, 3.5))\n",
    "plt.subplot(131)\n",
    "plt.plot(dfx[\"x\"].values[: horizon + 1], label=\"reference\")\n",
    "plt.plot(kmpcpred[\"x\"].values, label=\"prediction\")\n",
    "plt.plot(kmpctraj[\"x\"].values, label=\"actual\")\n",
    "plt.legend()\n",
    "plt.title(r\"Comparison : Cart Position $x$\")\n",
    "plt.subplot(132)\n",
    "plt.plot(dfx[\"theta\"].values[: horizon + 1], label=\"reference\")\n",
    "plt.plot(kmpcpred[\"theta\"].values, label=\"prediction\")\n",
    "plt.plot(kmpctraj[\"theta\"].values, label=\"actual\")\n",
    "plt.legend()\n",
    "plt.title(r\"Comparison : Pendulum Angle $\\theta$\")\n",
    "plt.subplot(133)\n",
    "plt.plot(dfu[\"u\"].values[: horizon + 1], label=\"correct\")\n",
    "plt.plot(ukmpc, label=\"controller\")\n",
    "plt.legend()\n",
    "plt.title(r\"Comparison : Control Signal $u$\");"
   ]
  },
  {
   "cell_type": "markdown",
   "id": "035bc3e4",
   "metadata": {},
   "source": [
    "#### Affine KMPC\n",
    "\n",
    "Similarly to above, the `AffineKgMPC` class models the system based on `EDMDControl` class used with `dmd_model=gDMDAffine()`. This class however is much less efficient, since not only is the prediction slower, but the structure of the affine systems requires a slower quasi-Newton optimizer. Some differences in the interface are also present:\n",
    "\n",
    "1. The `AffineKgMPC` class does not support applying bounds on the state, only on the input\n",
    "\n",
    "1. Due to the above, the `qoi` parameter is not implemented independently. The effect of tracking only a subset of the state can be achieved by setting `cost_state` of the untracked parameters to 0.\n",
    "\n",
    "1. Unlike in the `LinearKMPC` implementation, the cost of the state is the same over the whole horizon, and is not split between `cost_running` and `cost_terminal`\n",
    "\n",
    "1. Time steps at which to generate the control signal are required, either as index if `reference` is a `TSCDataFrame`, or as a separte array as shown. Those can be again non-uniform."
   ]
  },
  {
   "cell_type": "code",
   "execution_count": null,
   "id": "b0c7a3cf",
   "metadata": {},
   "outputs": [],
   "source": [
    "horizon = 100\n",
    "\n",
    "akgmpc = AffineKgMPC(\n",
    "    predictor=egdmdarbf,\n",
    "    horizon=horizon,\n",
    "    input_bounds=np.array([[5, -5]]),\n",
    "    cost_state=np.array([1, 0, 0, 0]),\n",
    "    cost_input=0.001,\n",
    ")"
   ]
  },
  {
   "cell_type": "code",
   "execution_count": null,
   "id": "4d660398",
   "metadata": {},
   "outputs": [],
   "source": [
    "reference = dfx.values[: horizon + 1, :4].T\n",
    "ukmpc = akgmpc.generate_control_signal(\n",
    "    rbfprediction.initial_states(),\n",
    "    reference,\n",
    "    time_values=dfx.iloc[: horizon + 1].index.get_level_values(1),\n",
    ")"
   ]
  },
  {
   "cell_type": "code",
   "execution_count": null,
   "id": "f3538a98",
   "metadata": {},
   "outputs": [],
   "source": [
    "kmpcpred = egdmdarbf.predict(rbfprediction.initial_states(), U=ukmpc)\n",
    "invertedPendulum.reset()\n",
    "ukmpc_interp = interp1d(\n",
    "    rbfprediction.time_values()[:horizon],\n",
    "    ukmpc,\n",
    "    axis=0,\n",
    "    fill_value=0,\n",
    "    bounds_error=False,\n",
    ")\n",
    "ukmpc_func = lambda t, y: ukmpc_interp(t)\n",
    "kmpctraj = invertedPendulum.predict(\n",
    "    time_step=sim_time_step,\n",
    "    num_steps=horizon,\n",
    "    control_func=ukmpc_func,\n",
    ")\n",
    "kmpctraj = pd.DataFrame(data=kmpctraj.T, columns=state_cols)"
   ]
  },
  {
   "cell_type": "code",
   "execution_count": null,
   "id": "7ebfb82e",
   "metadata": {},
   "outputs": [],
   "source": [
    "plt.figure(figsize=(16, 3.5))\n",
    "plt.subplot(131)\n",
    "plt.plot(dfx[\"x\"].values[: horizon + 1], label=\"reference\")\n",
    "plt.plot(kmpcpred[\"x\"].values, label=\"prediction\")\n",
    "plt.plot(kmpctraj[\"x\"].values, label=\"actual\")\n",
    "plt.legend()\n",
    "plt.title(r\"Comparison : Cart Position $x$\")\n",
    "plt.subplot(132)\n",
    "plt.plot(dfx[\"theta\"].values[: horizon + 1], label=\"reference\")\n",
    "plt.plot(kmpcpred[\"theta\"].values, label=\"prediction\")\n",
    "plt.plot(kmpctraj[\"theta\"].values, label=\"actual\")\n",
    "plt.legend()\n",
    "plt.title(r\"Comparison : Pendulum Angle $\\theta$\")\n",
    "plt.subplot(133)\n",
    "plt.plot(dfu[\"u\"].values[: horizon + 1], label=\"correct\")\n",
    "plt.plot(ukmpc, label=\"controller\")\n",
    "plt.legend()\n",
    "plt.title(r\"Comparison : Control Signal $u$\");"
   ]
  },
  {
   "cell_type": "code",
   "execution_count": null,
   "id": "11d7bb00",
   "metadata": {},
   "outputs": [],
   "source": []
  }
 ],
 "metadata": {
  "interpreter": {
   "hash": "94e805f6b0df480a5d1ec46b8588300e4af651068002a683808c47c033f76f67"
  },
  "kernelspec": {
   "display_name": "Python 3.9.7 ('.venv')",
   "language": "python",
   "name": "python3"
  },
  "language_info": {
   "codemirror_mode": {
    "name": "ipython",
    "version": 3
   },
   "file_extension": ".py",
   "mimetype": "text/x-python",
   "name": "python",
   "nbconvert_exporter": "python",
   "pygments_lexer": "ipython3",
   "version": "3.9.7"
  }
 },
 "nbformat": 4,
 "nbformat_minor": 5
}
