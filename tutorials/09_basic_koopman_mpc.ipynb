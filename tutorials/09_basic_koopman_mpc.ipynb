{
 "cells": [
  {
   "cell_type": "code",
   "execution_count": null,
   "id": "0284aad7",
   "metadata": {},
   "outputs": [],
   "source": [
    "%load_ext autoreload\n",
    "%autoreload 2"
   ]
  },
  {
   "cell_type": "code",
   "execution_count": null,
   "id": "e3f465f6",
   "metadata": {},
   "outputs": [],
   "source": [
    "import matplotlib.pyplot as plt\n",
    "import numpy as np\n",
    "import pandas as pd\n",
    "import scipy as sp"
   ]
  },
  {
   "cell_type": "code",
   "execution_count": null,
   "id": "307120ff",
   "metadata": {},
   "outputs": [],
   "source": [
    "from datafold.appfold import EDMD\n",
    "from datafold.dynfold import DMDFull\n",
    "from datafold.dynfold.transform import TSCRadialBasis\n",
    "from datafold.pcfold import InverseMultiquadricKernel, PCManifold, TSCDataFrame"
   ]
  },
  {
   "cell_type": "markdown",
   "id": "8a9678e4",
   "metadata": {},
   "source": [
    "## Inverted pendulum Physics"
   ]
  },
  {
   "cell_type": "code",
   "execution_count": null,
   "id": "1a500174",
   "metadata": {},
   "outputs": [],
   "source": [
    "from datafold.utils.kmpc import InvertedPendulum"
   ]
  },
  {
   "cell_type": "markdown",
   "id": "ac5b0931",
   "metadata": {},
   "source": [
    "## Data generation"
   ]
  },
  {
   "cell_type": "code",
   "execution_count": null,
   "id": "b19e42fb",
   "metadata": {},
   "outputs": [],
   "source": [
    "# Data generation parameters\n",
    "sim_time_step = 0.01  # s\n",
    "sim_num_steps = 1000  # -\n",
    "training_size = 20  # -"
   ]
  },
  {
   "cell_type": "markdown",
   "id": "1589f81d",
   "metadata": {},
   "source": [
    "Different options exist about stacking the trajectories. We start with stacking them into one very long trajectory. (Also to consider reusing the final states, currently resetting to 0)."
   ]
  },
  {
   "cell_type": "code",
   "execution_count": null,
   "id": "064d2901",
   "metadata": {},
   "outputs": [],
   "source": [
    "invertedPendulum = InvertedPendulum()\n",
    "\n",
    "X = np.zeros((4, training_size * sim_num_steps))\n",
    "Y = np.zeros((4, training_size * sim_num_steps))\n",
    "U = np.zeros((1, training_size * sim_num_steps))\n",
    "Xlist, Ulist = [], []\n",
    "xycols = [\"x\", \"xdot\", \"theta\", \"thetadot\"]\n",
    "np.random.seed(42)\n",
    "for i in range(training_size):\n",
    "    control_amplitude = 0.1 + 0.9 * np.random.random()\n",
    "    control_frequency = np.pi + 2 * np.pi * np.random.random()\n",
    "    control_phase = 2 * np.pi * np.random.random()\n",
    "    control_func = lambda t, y: control_amplitude * np.sin(\n",
    "        control_frequency * t + control_phase\n",
    "    )\n",
    "    invertedPendulum.reset()\n",
    "    traj = invertedPendulum.trajectory(sim_time_step, sim_num_steps, control_func)\n",
    "    assert (\n",
    "        invertedPendulum.sol.success\n",
    "    ), f\"Divergent solution for amplitude={control_amplitude}, frequency={control_frequency}\"\n",
    "    t = invertedPendulum.sol.t\n",
    "    dfx = pd.DataFrame(data=traj.T, index=t, columns=xycols)\n",
    "    dfx[\"u\"] = 0.0\n",
    "    Xlist.append(dfx)\n",
    "    control_input = control_func(t, traj)\n",
    "    dfu = pd.DataFrame(data=control_input, index=t, columns=(\"u\",))\n",
    "    for col in xycols:\n",
    "        dfu[col] = 0.0\n",
    "    dfu = dfu[xycols + [\"u\"]]\n",
    "    Ulist.append(dfu)\n",
    "\n",
    "    X[:, i * sim_num_steps : (i + 1) * sim_num_steps] = traj[:, :-1]\n",
    "    Y[:, i * sim_num_steps : (i + 1) * sim_num_steps] = traj[:, 1:]\n",
    "    U[:, i * sim_num_steps : (i + 1) * sim_num_steps] = control_func(\n",
    "        invertedPendulum.sol.t[:-1], traj[:, :-1]\n",
    "    )\n",
    "\n",
    "XU = TSCDataFrame.from_frame_list(Xlist + Ulist)"
   ]
  },
  {
   "cell_type": "code",
   "execution_count": null,
   "id": "86b935eb",
   "metadata": {},
   "outputs": [],
   "source": [
    "XU"
   ]
  },
  {
   "cell_type": "code",
   "execution_count": null,
   "id": "f974b268",
   "metadata": {},
   "outputs": [],
   "source": [
    "plt.figure(figsize=(16, 3))\n",
    "plt.plot(X[0].ravel())"
   ]
  },
  {
   "cell_type": "code",
   "execution_count": null,
   "id": "106414b4",
   "metadata": {},
   "outputs": [],
   "source": [
    "plt.figure(figsize=(16, 3))\n",
    "plt.plot(U[0].ravel())"
   ]
  },
  {
   "cell_type": "code",
   "execution_count": null,
   "id": "0147bbbc",
   "metadata": {},
   "outputs": [],
   "source": [
    "X_tsc = TSCDataFrame.from_frame_list(Xlist)[[\"x\", \"xdot\", \"theta\", \"thetadot\"]]\n",
    "X_tsc[\"u\"] = TSCDataFrame.from_frame_list(Ulist)[[\"u\"]]\n",
    "X_tsc"
   ]
  },
  {
   "cell_type": "markdown",
   "id": "cf40d9c3",
   "metadata": {},
   "source": [
    "## DMD only"
   ]
  },
  {
   "cell_type": "code",
   "execution_count": null,
   "id": "d9ebeec4",
   "metadata": {},
   "outputs": [],
   "source": [
    "dmd = DMDFull()\n",
    "dmd.fit(X_tsc, store_system_matrix=True)\n",
    "plt.imshow(dmd.koopman_matrix_)"
   ]
  },
  {
   "cell_type": "markdown",
   "id": "a7ad6ba6",
   "metadata": {},
   "source": [
    "## EDMD Predictor"
   ]
  },
  {
   "cell_type": "code",
   "execution_count": null,
   "id": "a56bb145",
   "metadata": {},
   "outputs": [],
   "source": [
    "num_rbfs = 100"
   ]
  },
  {
   "cell_type": "code",
   "execution_count": null,
   "id": "5a17d928",
   "metadata": {},
   "outputs": [],
   "source": [
    "from datafold.utils.kmpc import InverseQuadraticKernel"
   ]
  },
  {
   "cell_type": "code",
   "execution_count": null,
   "id": "f545701e",
   "metadata": {},
   "outputs": [],
   "source": [
    "EDMD()"
   ]
  }
 ],
 "metadata": {
  "kernelspec": {
   "display_name": "Python 3 (ipykernel)",
   "language": "python",
   "name": "python3"
  },
  "language_info": {
   "codemirror_mode": {
    "name": "ipython",
    "version": 3
   },
   "file_extension": ".py",
   "mimetype": "text/x-python",
   "name": "python",
   "nbconvert_exporter": "python",
   "pygments_lexer": "ipython3",
   "version": "3.9.7"
  }
 },
 "nbformat": 4,
 "nbformat_minor": 5
}
