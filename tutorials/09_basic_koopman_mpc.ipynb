{
 "cells": [
  {
   "cell_type": "code",
   "execution_count": null,
   "id": "0284aad7",
   "metadata": {},
   "outputs": [],
   "source": [
    "%load_ext autoreload\n",
    "%autoreload 2"
   ]
  },
  {
   "cell_type": "code",
   "execution_count": null,
   "id": "e3f465f6",
   "metadata": {},
   "outputs": [],
   "source": [
    "import matplotlib.pyplot as plt\n",
    "import numpy as np\n",
    "import pandas as pd\n",
    "import scipy as sp"
   ]
  },
  {
   "cell_type": "code",
   "execution_count": null,
   "id": "307120ff",
   "metadata": {},
   "outputs": [],
   "source": [
    "from datafold.appfold import EDMD, EDMDControl\n",
    "from datafold.dynfold import DMDControl, DMDFull\n",
    "from datafold.dynfold.transform import TSCIdentity, TSCRadialBasis\n",
    "from datafold.pcfold import (\n",
    "    InitialCondition,\n",
    "    InverseMultiquadricKernel,\n",
    "    PCManifold,\n",
    "    TSCDataFrame,\n",
    ")"
   ]
  },
  {
   "cell_type": "markdown",
   "id": "8a9678e4",
   "metadata": {},
   "source": [
    "## Inverted pendulum Physics"
   ]
  },
  {
   "cell_type": "code",
   "execution_count": null,
   "id": "1a500174",
   "metadata": {},
   "outputs": [],
   "source": [
    "from datafold.utils.kmpc import InvertedPendulum"
   ]
  },
  {
   "cell_type": "markdown",
   "id": "ac5b0931",
   "metadata": {},
   "source": [
    "## Data generation"
   ]
  },
  {
   "cell_type": "code",
   "execution_count": null,
   "id": "b19e42fb",
   "metadata": {},
   "outputs": [],
   "source": [
    "# Data generation parameters\n",
    "sim_time_step = 0.01  # s\n",
    "sim_num_steps = 1000  # -\n",
    "training_size = 20  # -"
   ]
  },
  {
   "cell_type": "markdown",
   "id": "1589f81d",
   "metadata": {},
   "source": [
    "Different options exist about stacking the trajectories. We start with stacking them into one very long trajectory. (Also to consider reusing the final states, currently resetting to 0)."
   ]
  },
  {
   "cell_type": "code",
   "execution_count": null,
   "id": "064d2901",
   "metadata": {},
   "outputs": [],
   "source": [
    "invertedPendulum = InvertedPendulum()\n",
    "\n",
    "X = np.zeros((4, training_size * sim_num_steps))\n",
    "Y = np.zeros((4, training_size * sim_num_steps))\n",
    "U = np.zeros((1, training_size * sim_num_steps))\n",
    "Xlist, Ulist = [], []\n",
    "xycols = [\"x\", \"xdot\", \"theta\", \"thetadot\"]\n",
    "np.random.seed(42)\n",
    "for i in range(training_size):\n",
    "    control_amplitude = 0.1 + 0.9 * np.random.random()\n",
    "    control_frequency = np.pi + 2 * np.pi * np.random.random()\n",
    "    control_phase = 2 * np.pi * np.random.random()\n",
    "    control_func = lambda t, y: control_amplitude * np.sin(\n",
    "        control_frequency * t + control_phase\n",
    "    )\n",
    "    invertedPendulum.reset()\n",
    "    traj = invertedPendulum.trajectory(sim_time_step, sim_num_steps, control_func)\n",
    "    assert (\n",
    "        invertedPendulum.sol.success\n",
    "    ), f\"Divergent solution for amplitude={control_amplitude}, frequency={control_frequency}\"\n",
    "    t = invertedPendulum.sol.t\n",
    "    dfx = pd.DataFrame(data=traj.T, index=t, columns=xycols)\n",
    "    dfx[\"u\"] = 0.0\n",
    "    Xlist.append(dfx)\n",
    "    control_input = control_func(t, traj)\n",
    "    dfu = pd.DataFrame(data=control_input, index=t, columns=(\"u\",))\n",
    "    for col in xycols:\n",
    "        dfu[col] = 0.0\n",
    "    dfu = dfu[xycols + [\"u\"]]\n",
    "    Ulist.append(dfu)\n",
    "\n",
    "    X[:, i * sim_num_steps : (i + 1) * sim_num_steps] = traj[:, :-1]\n",
    "    Y[:, i * sim_num_steps : (i + 1) * sim_num_steps] = traj[:, 1:]\n",
    "    U[:, i * sim_num_steps : (i + 1) * sim_num_steps] = control_func(\n",
    "        invertedPendulum.sol.t[:-1], traj[:, :-1]\n",
    "    )\n",
    "\n",
    "XU = TSCDataFrame.from_frame_list(Xlist + Ulist)"
   ]
  },
  {
   "cell_type": "code",
   "execution_count": null,
   "id": "f974b268",
   "metadata": {},
   "outputs": [],
   "source": [
    "plt.figure(figsize=(16, 3))\n",
    "plt.plot(X[0].ravel())"
   ]
  },
  {
   "cell_type": "code",
   "execution_count": null,
   "id": "106414b4",
   "metadata": {},
   "outputs": [],
   "source": [
    "plt.figure(figsize=(16, 3))\n",
    "plt.plot(U[0].ravel())"
   ]
  },
  {
   "cell_type": "code",
   "execution_count": null,
   "id": "0147bbbc",
   "metadata": {},
   "outputs": [],
   "source": [
    "X_tsc = TSCDataFrame.from_frame_list(Xlist)[[\"x\", \"xdot\", \"theta\", \"thetadot\"]]\n",
    "X_tsc[\"u\"] = TSCDataFrame.from_frame_list(Ulist)[[\"u\"]]\n",
    "X_tsc"
   ]
  },
  {
   "cell_type": "markdown",
   "id": "cf40d9c3",
   "metadata": {},
   "source": [
    "## DMD only"
   ]
  },
  {
   "cell_type": "code",
   "execution_count": null,
   "id": "a564895a",
   "metadata": {},
   "outputs": [],
   "source": [
    "dmdc = DMDControl(\n",
    "    state_columns=[\"x\", \"xdot\", \"theta\", \"thetadot\"], control_columns=[\"u\"]\n",
    ")"
   ]
  },
  {
   "cell_type": "code",
   "execution_count": null,
   "id": "61b5d660",
   "metadata": {},
   "outputs": [],
   "source": [
    "dmdc.fit(X_tsc)"
   ]
  },
  {
   "cell_type": "code",
   "execution_count": null,
   "id": "d9ebeec4",
   "metadata": {},
   "outputs": [],
   "source": [
    "dmdc = DMDControl(\n",
    "    state_columns=[\"x\", \"xdot\", \"theta\", \"thetadot\"], control_columns=[\"u\"]\n",
    ")\n",
    "dmdc.fit(X_tsc, store_system_matrix=True)\n",
    "plt.subplot(121)\n",
    "plt.imshow(dmdc.sys_matrix_)\n",
    "plt.colorbar()\n",
    "plt.subplot(122)\n",
    "plt.imshow(dmdc.control_matrix_)\n",
    "plt.colorbar()"
   ]
  },
  {
   "cell_type": "code",
   "execution_count": null,
   "id": "9d79b831",
   "metadata": {},
   "outputs": [],
   "source": [
    "prediction = dmdc.predict(\n",
    "    np.atleast_2d(np.array([0, 0, np.pi, 0])),\n",
    "    control_input=np.atleast_2d(control_input).T,\n",
    "    time_values=t,\n",
    ")"
   ]
  },
  {
   "cell_type": "code",
   "execution_count": null,
   "id": "af130c27",
   "metadata": {},
   "outputs": [],
   "source": [
    "plt.plot(prediction[\"x\"].values)\n",
    "plt.plot(dfx[\"x\"].values)"
   ]
  },
  {
   "cell_type": "markdown",
   "id": "a7ad6ba6",
   "metadata": {},
   "source": [
    "## EDMD Predictor"
   ]
  },
  {
   "cell_type": "code",
   "execution_count": null,
   "id": "be0926a1",
   "metadata": {},
   "outputs": [],
   "source": [
    "state_cols = [\"x\", \"xdot\", \"theta\", \"thetadot\"]\n",
    "control_cols = [\"u\"]\n",
    "ic = InitialCondition.from_array(\n",
    "    np.array([0, 0, np.pi, 0]), columns=[\"x\", \"xdot\", \"theta\", \"thetadot\"]\n",
    ")"
   ]
  },
  {
   "cell_type": "markdown",
   "id": "baecc37b",
   "metadata": {},
   "source": [
    "### Using Identity dictionary"
   ]
  },
  {
   "cell_type": "code",
   "execution_count": null,
   "id": "242ac8d3",
   "metadata": {},
   "outputs": [],
   "source": [
    "edmdid = EDMDControl(dict_steps=[(\"id\", TSCIdentity()),], include_id_state=False).fit(\n",
    "    X_tsc,\n",
    "    split_by=\"name\",\n",
    "    state=state_cols,\n",
    "    control=control_cols,\n",
    ")\n",
    "idprediction = edmdid.predict(\n",
    "    ic, control_input=np.atleast_2d(control_input).T, time_values=t\n",
    ")\n",
    "plt.plot(idprediction[\"x\"].values)\n",
    "plt.plot(dfx[\"x\"].values)"
   ]
  },
  {
   "cell_type": "markdown",
   "id": "cd0097b9",
   "metadata": {},
   "source": [
    "### Using dictinoary as per thesis\n",
    "100 randomly selected RBF centers from a inverse quadratic kernel"
   ]
  },
  {
   "cell_type": "code",
   "execution_count": null,
   "id": "a56bb145",
   "metadata": {},
   "outputs": [],
   "source": [
    "num_rbfs = 100\n",
    "seed = 42\n",
    "eps = 10\n",
    "\n",
    "\n",
    "def find_unique_center_ids(num_centers, seed=42, last_choice=None):\n",
    "    # needed to deal with a bug in the TSCDataFrame code\n",
    "    assert num_centers < sim_num_steps\n",
    "    rng = np.random.default_rng(seed)\n",
    "    center_ids = (\n",
    "        last_choice\n",
    "        if last_choice is not None\n",
    "        else rng.choice(\n",
    "            range(0, sim_num_steps * training_size), size=num_centers, replace=False\n",
    "        )\n",
    "    )\n",
    "    uniques = np.unique(center_ids % sim_num_steps)\n",
    "    if len(uniques) == num_centers:\n",
    "        return center_ids\n",
    "    else:\n",
    "        new_choice = np.hstack(\n",
    "            [\n",
    "                uniques,\n",
    "                rng.choice(\n",
    "                    range(0, sim_num_steps * training_size),\n",
    "                    size=num_centers - len(uniques),\n",
    "                    replace=False,\n",
    "                ),\n",
    "            ]\n",
    "        )\n",
    "        return find_unique_center_ids(num_centers, seed + 1, new_choice)\n",
    "\n",
    "\n",
    "from datafold.utils.kmpc import InverseQuadraticKernel\n",
    "\n",
    "rbf = TSCRadialBasis(\n",
    "    kernel=InverseQuadraticKernel(epsilon=eps), center_type=\"fit_params\"\n",
    ")\n",
    "center_ids = sorted(find_unique_center_ids(num_rbfs, seed=seed))\n",
    "centers = X_tsc.iloc[center_ids].values"
   ]
  },
  {
   "cell_type": "code",
   "execution_count": null,
   "id": "5a17d928",
   "metadata": {},
   "outputs": [],
   "source": [
    "edmdrbf = EDMDControl(dict_steps=[(\"rbf\", rbf),], include_id_state=True).fit(\n",
    "    X_tsc,\n",
    "    split_by=\"name\",\n",
    "    state=state_cols,\n",
    "    control=control_cols,\n",
    "    rbf__centers=centers[:, :-1],\n",
    ")\n",
    "rbfprediction = edmdrbf.predict(\n",
    "    ic, control_input=np.atleast_2d(control_input).T, time_values=t\n",
    ")\n",
    "plt.plot(rbfprediction[\"x\"].values)\n",
    "plt.plot(dfx[\"x\"].values)"
   ]
  },
  {
   "cell_type": "code",
   "execution_count": null,
   "id": "893c8b88",
   "metadata": {},
   "outputs": [],
   "source": [
    "plt.plot(rbfprediction[\"theta\"].values[:100])\n",
    "plt.plot(dfx[\"theta\"].values[:100])"
   ]
  },
  {
   "cell_type": "code",
   "execution_count": null,
   "id": "4690837b",
   "metadata": {},
   "outputs": [],
   "source": [
    "from datafold.appfold import KoopmanMPC"
   ]
  },
  {
   "cell_type": "code",
   "execution_count": null,
   "id": "3ef94baa",
   "metadata": {},
   "outputs": [],
   "source": [
    "kmpc = KoopmanMPC(\n",
    "    edmdrbf,\n",
    "    10,\n",
    "    np.array([[1, -1], [2 * np.pi, -2 * np.pi]]),\n",
    "    np.array([[5, -5]]),\n",
    "    [\"x\", \"theta\"],\n",
    "    cost_running=np.array([1, 10]),\n",
    ")"
   ]
  },
  {
   "cell_type": "code",
   "execution_count": null,
   "id": "5022940e",
   "metadata": {},
   "outputs": [],
   "source": [
    "kmpc.H.shape, kmpc.h.shape, kmpc.G.shape, kmpc.L.shape, kmpc.M.shape, kmpc.c.shape"
   ]
  },
  {
   "cell_type": "code",
   "execution_count": null,
   "id": "08e6eefb",
   "metadata": {},
   "outputs": [],
   "source": [
    "kmpc.lifted_state_size, kmpc.horizon, kmpc.input_size, kmpc.output_size"
   ]
  },
  {
   "cell_type": "code",
   "execution_count": null,
   "id": "a72f99f3",
   "metadata": {},
   "outputs": [],
   "source": []
  }
 ],
 "metadata": {
  "kernelspec": {
   "display_name": "Python 3 (ipykernel)",
   "language": "python",
   "name": "python3"
  },
  "language_info": {
   "codemirror_mode": {
    "name": "ipython",
    "version": 3
   },
   "file_extension": ".py",
   "mimetype": "text/x-python",
   "name": "python",
   "nbconvert_exporter": "python",
   "pygments_lexer": "ipython3",
   "version": "3.9.7"
  }
 },
 "nbformat": 4,
 "nbformat_minor": 5
}
