{
 "cells": [
  {
   "cell_type": "markdown",
   "metadata": {},
   "source": [
    "# Subsampling of PCManifold data\n",
    "\n",
    "We use the PCManifold class to subsample a massive data set, so that the new sampling is smaller in size and uniform."
   ]
  },
  {
   "cell_type": "code",
   "execution_count": null,
   "metadata": {},
   "outputs": [],
   "source": [
    "# import all necessary packages\n",
    "import numpy as np\n",
    "\n",
    "import matplotlib.pyplot as plt\n",
    "import mpl_toolkits.mplot3d.axes3d as p3\n",
    "\n",
    "%matplotlib inline\n",
    "\n",
    "from sklearn.datasets import make_swiss_roll, make_s_curve\n",
    "\n",
    "import datafold.pcfold as pfold"
   ]
  },
  {
   "cell_type": "code",
   "execution_count": null,
   "metadata": {},
   "outputs": [],
   "source": [
    "# create large data set with nonuniform sampling\n",
    "np.random.seed(5)\n",
    "\n",
    "n_pts = int(1e5)\n",
    "\n",
    "data = np.random.rand(n_pts,2)\n",
    "data[:,0] = np.sin(4*data[:,0])**2/5+data[:,0]\n",
    "data[:,1] = np.cos(2*data[:,0])**2/5+data[:,1]\n",
    "\n",
    "plot_idx = np.random.permutation(n_pts)[0:5000]\n",
    "\n",
    "fig = plt.figure(figsize=(4,4))\n",
    "plt.scatter(*data[plot_idx,:].T, s=1)\n",
    "plt.title(\"Full dataset, only showing %g points\" % (len(plot_idx)));"
   ]
  },
  {
   "cell_type": "code",
   "execution_count": null,
   "metadata": {},
   "outputs": [],
   "source": [
    "# subsample it with given minimal distance.\n",
    "# default is 1/2 the cutoff computed by the optimization, which already reduces the data size significantly.\n",
    "\n",
    "pcm0 = pfold.PCManifold(data)\n",
    "pcm0.optimize_parameters(n_subsample=100) # only use 100 samples to estimate scales\n",
    "pcm1, indices = pfold.subsample(pcm0);"
   ]
  },
  {
   "cell_type": "code",
   "execution_count": null,
   "metadata": {},
   "outputs": [],
   "source": [
    "fig,ax = plt.subplots(1,3,figsize=(12,4))\n",
    "ax[0].scatter(*pcm1.T, s=.5)\n",
    "ax[0].set_title(\"#pts: %g\" % pcm1.shape[0])\n",
    "\n",
    "# subsample again\n",
    "pcm1.optimize_parameters(n_subsample=100)\n",
    "pcm2,indices = pfold.subsample(pcm1)\n",
    "\n",
    "ax[1].scatter(*pcm2.T, s=.5)\n",
    "ax[1].set_title(\"#pts: %g\" % pcm2.shape[0])\n",
    "\n",
    "# subsample again\n",
    "pcm2.optimize_parameters(n_subsample=100)\n",
    "pcm3,indices = pfold.subsample(pcm2)\n",
    "\n",
    "ax[2].scatter(*pcm3.T, s=.5)\n",
    "ax[2].set_title(\"#pts: %g\" % pcm3.shape[0])"
   ]
  },
  {
   "cell_type": "code",
   "execution_count": null,
   "metadata": {},
   "outputs": [],
   "source": [
    "# The subsampling is more uniform (and faster) when we directly subsample to the desired minimal distance between points.\n",
    "# This distance can be set directly.\n",
    "\n",
    "pcm0 = pfold.PCManifold(data, verbosity_level=2)\n",
    "pcmx,indices = pfold.subsample(pcm0, min_distance=0.02)\n",
    "\n",
    "fig,ax = plt.subplots(1,2,figsize=(8,4))\n",
    "ax[0].scatter(*data[plot_idx,:].T, s=1)\n",
    "ax[0].set_title(\"#pts: %g, showing %g\" % (data.shape[0], len(plot_idx)))\n",
    "\n",
    "ax[1].scatter(*pcmx.T, s=1)\n",
    "ax[1].set_title(\"#pts: %g\" % pcmx.shape[0]);\n"
   ]
  },
  {
   "cell_type": "code",
   "execution_count": null,
   "metadata": {},
   "outputs": [],
   "source": []
  }
 ],
 "metadata": {
  "kernelspec": {
   "display_name": "Python 3",
   "language": "python",
   "name": "python3"
  },
  "language_info": {
   "codemirror_mode": {
    "name": "ipython",
    "version": 3
   },
   "file_extension": ".py",
   "mimetype": "text/x-python",
   "name": "python",
   "nbconvert_exporter": "python",
   "pygments_lexer": "ipython3",
   "version": "3.6.5"
  }
 },
 "nbformat": 4,
 "nbformat_minor": 2
}
