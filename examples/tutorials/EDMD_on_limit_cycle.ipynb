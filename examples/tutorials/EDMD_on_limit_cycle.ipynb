{
 "cells": [
  {
   "cell_type": "code",
   "execution_count": null,
   "metadata": {},
   "outputs": [],
   "source": [
    "import numpy as np\n",
    "import matplotlib.pyplot as plt\n",
    "\n",
    "from paths import add_paths_to_sys\n",
    "add_paths_to_sys()\n",
    "\n",
    "from datafold.pcfold.timeseries import TSCDataFrame\n",
    "from datafold.dynfold.dmd import DMDFull\n",
    "\n",
    "from limit_cycle import LimitCycle"
   ]
  },
  {
   "cell_type": "markdown",
   "metadata": {},
   "source": [
    "# Set up mesh"
   ]
  },
  {
   "cell_type": "code",
   "execution_count": null,
   "metadata": {},
   "outputs": [],
   "source": [
    "nr_time_steps = 30\n",
    "dt = 0.01\n",
    "\n",
    "x_nr_points = 11\n",
    "y_nr_points = 11\n",
    "mesh_x1, mesh_x2 = np.meshgrid(\n",
    "    np.linspace(-2, 2, x_nr_points), np.linspace(-2, 2, y_nr_points)\n",
    ")"
   ]
  },
  {
   "cell_type": "markdown",
   "metadata": {},
   "source": [
    "# Sample time series from limit cycle"
   ]
  },
  {
   "cell_type": "code",
   "execution_count": null,
   "metadata": {},
   "outputs": [],
   "source": [
    "tsc_data = None\n",
    "for i in range(x_nr_points):\n",
    "    for j in range(y_nr_points):\n",
    "        generate_data = LimitCycle(eps=1, analytical=True).run(\n",
    "            x1=mesh_x1[i, j], x2=mesh_x2[i, j], dt=dt, nr_steps=nr_time_steps\n",
    "        )\n",
    "\n",
    "        if tsc_data is None:\n",
    "            tsc_data = TSCDataFrame.from_single_timeseries(generate_data)\n",
    "        else:\n",
    "            tsc_data = tsc_data.insert_ts(df=generate_data)"
   ]
  },
  {
   "cell_type": "markdown",
   "metadata": {},
   "source": [
    "# Compute DMD model (dictionary is identity)"
   ]
  },
  {
   "cell_type": "code",
   "execution_count": null,
   "metadata": {},
   "outputs": [],
   "source": [
    "tsc_dmd = tsc_data.copy(deep=True)\n",
    "dmd = DMDFull().fit(X=tsc_dmd)\n",
    "dmd_values = dmd.predict(tsc_dmd.initial_states_df())"
   ]
  },
  {
   "cell_type": "markdown",
   "metadata": {},
   "source": [
    "# Compute E-DMD model (dictionary: add squared and cubed data)"
   ]
  },
  {
   "cell_type": "code",
   "execution_count": null,
   "metadata": {},
   "outputs": [],
   "source": [
    "tsc_edmd = tsc_data.copy(deep=True)\n",
    "tsc_edmd[\"radius_squared\"] = np.square(tsc_edmd[\"radius\"])\n",
    "tsc_edmd[\"radius_cubed\"] = np.power(tsc_edmd[\"radius\"], 3)"
   ]
  },
  {
   "cell_type": "code",
   "execution_count": null,
   "metadata": {},
   "outputs": [],
   "source": [
    "edmd = DMDFull().fit(X=tsc_edmd)  # Note that the \"extended\" part is in the transformations\n",
    "edmd_values = edmd.predict(tsc_edmd.initial_states_df())"
   ]
  },
  {
   "cell_type": "markdown",
   "metadata": {},
   "source": [
    "# Visually compare original data with DMD and EDMD model"
   ]
  },
  {
   "cell_type": "code",
   "execution_count": null,
   "metadata": {},
   "outputs": [],
   "source": [
    "plt.figure(figsize=[15,9])\n",
    "for _, df in tsc_data.itertimeseries():\n",
    "    plt.polar(df[\"alpha\"], df[\"radius\"], c=\"b\", linewidth=1)\n",
    "plt.title(\"Original data\")\n",
    "\n",
    "plt.figure(figsize=[15,9])\n",
    "for _, df in dmd_values.itertimeseries():\n",
    "    plt.polar(df[\"alpha\"], df[\"radius\"], c=\"k\", linewidth=1)\n",
    "plt.title(\"DMD model evaluation\")\n",
    "    \n",
    "plt.figure(figsize=[15,9])\n",
    "for _, df in edmd_values.itertimeseries():\n",
    "    plt.polar(df[\"alpha\"], df[\"radius\"], c=\"r\", linewidth=1)\n",
    "plt.title(\"EDMD model evaluation\");\n",
    "    "
   ]
  },
  {
   "cell_type": "code",
   "execution_count": null,
   "metadata": {},
   "outputs": [],
   "source": []
  }
 ],
 "metadata": {
  "kernelspec": {
   "display_name": "Python 3",
   "language": "python",
   "name": "python3"
  },
  "language_info": {
   "codemirror_mode": {
    "name": "ipython",
    "version": 3
   },
   "file_extension": ".py",
   "mimetype": "text/x-python",
   "name": "python",
   "nbconvert_exporter": "python",
   "pygments_lexer": "ipython3",
   "version": "3.6.5"
  }
 },
 "nbformat": 4,
 "nbformat_minor": 2
}
