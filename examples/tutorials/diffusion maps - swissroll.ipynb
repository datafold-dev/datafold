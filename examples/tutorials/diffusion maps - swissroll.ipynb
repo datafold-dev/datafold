{
 "cells": [
  {
   "cell_type": "markdown",
   "metadata": {},
   "source": [
    "# PCManifold class tutorial: Diffusion Maps\n",
    "\n",
    "We use the PCManifold class to compute a diffusion map of the swissroll manifold."
   ]
  },
  {
   "cell_type": "code",
   "execution_count": null,
   "metadata": {},
   "outputs": [],
   "source": [
    "# import all necessary packages\n",
    "import numpy as np\n",
    "\n",
    "import matplotlib.pyplot as plt\n",
    "import mpl_toolkits.mplot3d.axes3d as p3\n",
    "\n",
    "%matplotlib inline\n",
    "\n",
    "from sklearn.datasets import make_swiss_roll, make_s_curve\n",
    "from sklearn.decomposition import PCA\n",
    "import sklearn.manifold as manifold\n",
    "\n",
    "import datafold.dynfold as dfold\n",
    "import datafold.pcfold as pfold\n",
    "\n",
    "np.random.seed(5)"
   ]
  },
  {
   "cell_type": "code",
   "execution_count": null,
   "metadata": {},
   "outputs": [],
   "source": [
    "nr_samples = 20000\n",
    "\n",
    "fig = plt.figure(figsize=(8, 8))\n",
    "\n",
    "# generating the nonlinear dataset \n",
    "nonlinear_data, color_nonlinear = make_s_curve(nr_samples, noise=0)  # using scikit learn package\n",
    "\n",
    "\n",
    "plot_idx= np.random.permutation(nr_samples)[0:2000]\n",
    "ax = fig.add_subplot(111, projection=\"3d\")\n",
    "ax.scatter(nonlinear_data[plot_idx, 0], nonlinear_data[plot_idx, 1], nonlinear_data[plot_idx, 2],\n",
    "           c=color_nonlinear[plot_idx], cmap=plt.cm.Spectral) \n",
    "ax.set_xlabel(\"x\"); ax.set_ylabel(\"y\"); ax.set_zlabel(\"z\")\n",
    "ax.set_title(\"nonlinear data point cloud\");\n",
    "ax.view_init(10,70)\n"
   ]
  },
  {
   "cell_type": "code",
   "execution_count": null,
   "metadata": {},
   "outputs": [],
   "source": [
    "# Construct the PCManifold, estimate parameters, run diffusion maps.\n",
    "\n",
    "pcm = pfold.PCManifold(nonlinear_data)\n",
    "pcm.optimize_parameters()\n",
    "\n",
    "print(pcm.kernel.epsilon)\n",
    "print(pcm.cut_off)\n",
    "\n",
    "dmap = dfold.DiffusionMaps(epsilon=pcm.kernel.epsilon, cut_off=pcm.cut_off, num_eigenpairs=10)\n",
    "dmap = dmap.fit(pcm)\n",
    "evecs, evals = dmap.eigenvectors_.T, dmap.eigenvalues_\n",
    "\n",
    "fig,ax = plt.subplots(1,5,figsize=(12, 3),sharey=True)\n",
    "for k in range(len(ax)):\n",
    "    ax[k].scatter(evecs[plot_idx, 1], evecs[plot_idx,2+k],s=5, c=color_nonlinear[plot_idx], cmap=plt.cm.Spectral) \n",
    "    ax[k].set_xlabel(r\"$\\phi_1$\"); ax[k].set_ylabel(r\"$\\phi_%g$\" % (k+2));\n",
    "fig.tight_layout()"
   ]
  },
  {
   "cell_type": "code",
   "execution_count": null,
   "metadata": {},
   "outputs": [],
   "source": []
  }
 ],
 "metadata": {
  "kernelspec": {
   "display_name": "Python 3",
   "language": "python",
   "name": "python3"
  },
  "language_info": {
   "codemirror_mode": {
    "name": "ipython",
    "version": 3
   },
   "file_extension": ".py",
   "mimetype": "text/x-python",
   "name": "python",
   "nbconvert_exporter": "python",
   "pygments_lexer": "ipython3",
   "version": "3.6.5"
  }
 },
 "nbformat": 4,
 "nbformat_minor": 2
}
