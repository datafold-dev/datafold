{
 "cells": [
  {
   "cell_type": "markdown",
   "metadata": {},
   "source": [
    "# PCManifold class tutorial: Gaussian Process Regression\n",
    "\n",
    "We approximate functions on the swissroll manifold through a Gaussian Process.\n",
    "The functions will be maps from Diffusion Map coordinates back to the x,y,z coordinates."
   ]
  },
  {
   "cell_type": "code",
   "execution_count": null,
   "metadata": {},
   "outputs": [],
   "source": [
    "# import all necessary packages\n",
    "import numpy as np\n",
    "\n",
    "import matplotlib.pyplot as plt\n",
    "import mpl_toolkits.mplot3d.axes3d as p3\n",
    "\n",
    "%matplotlib inline\n",
    "\n",
    "from sklearn.datasets import make_swiss_roll, make_s_curve\n",
    "from sklearn.decomposition import PCA\n",
    "import sklearn.manifold as manifold\n",
    "\n",
    "import datafold.pcfold as pfold\n",
    "import datafold.dynfold as dfold\n",
    "from datafold.pcfold.kernels import RadialBasisKernel, OUKernel"
   ]
  },
  {
   "cell_type": "code",
   "execution_count": null,
   "metadata": {},
   "outputs": [],
   "source": [
    "nr_samples = 20000\n",
    "np.random.seed(5)\n",
    "\n",
    "fig = plt.figure(figsize=(8, 8))\n",
    "\n",
    "# generating the nonlinear dataset\n",
    "nonlinear_data, color_nonlinear = make_s_curve(nr_samples, noise=0)  # using scikit learn package\n",
    "\n",
    "plot_idx = np.random.permutation(nr_samples)[0:2000]\n",
    "\n",
    "# Construct the PCManifold, estimate parameters, run diffusion maps (see dmaps tutorial)\n",
    "\n",
    "pcm = pfold.PCManifold(nonlinear_data, dist_backend=\"scipy.kdtree\")\n",
    "pcm.optimize_parameters()\n",
    "\n",
    "dmap = dfold.DiffusionMaps(epsilon=pcm.kernel.epsilon, cut_off=pcm.cut_off, num_eigenpairs=10)\n",
    "dmap = dmap.fit(pcm)\n",
    "evecs, evals = dmap.eigenvectors_.T, dmap.eigenvalues_\n",
    "\n",
    "fig = plt.figure(figsize=(8, 8));\n",
    "\n",
    "fig, ax = plt.subplots(1, 5, figsize=(12, 3), sharey=True);\n",
    "for k in range(len(ax)):\n",
    "    ax[k].scatter(evecs[plot_idx, 1], evecs[plot_idx, 2 + k], s=5, c=color_nonlinear[plot_idx],\n",
    "                  cmap=plt.cm.Spectral);\n",
    "    ax[k].set_xlabel(r\"$\\phi_1$\");\n",
    "    ax[k].set_ylabel(r\"$\\phi_%g$\" % (k + 2));\n",
    "fig.tight_layout()\n"
   ]
  },
  {
   "cell_type": "code",
   "execution_count": null,
   "metadata": {},
   "outputs": [],
   "source": [
    "# construct a gaussian process on the dmap coordinates 1 and 5\n",
    "\n",
    "subsample_indices = np.arange(evecs.shape[0])[0::2]\n",
    "ev_indices = [1,5]\n",
    "in_data = evecs[subsample_indices,:]\n",
    "pcm_dmaps = pfold.PCManifold(in_data[:,ev_indices], dist_backend=\"scipy.kdtree\")\n",
    "pcm_dmaps.optimize_parameters(result_scaling=1)  # you can scale the optimization results a little to get a smoother gp result\n",
    "#pcm_dmaps.cut_off = .005\n",
    "print(pcm_dmaps.cut_off)\n",
    "#pcm_dmaps.kernel = RadialBasisKernel(epsilon=.1)\n",
    "\n",
    "# TODO this option is currently not supported by the distance\n",
    "# pcm_dmaps.setup_metric('kmin',25)\n",
    "gp = dfold.PCMGPRegression(pcm=pcm_dmaps)\n",
    "\n",
    "solver_tolerance = 1e-2  # tolerance for the eigensolver of the GP. can be pretty large, >1e-4\n",
    "\n",
    "# compute the GP parameters for the map back to the xyz coordinates\n",
    "gp.regression(fx=nonlinear_data[subsample_indices,:], regression_scale=pcm_dmaps.kernel.epsilon,\n",
    "              solver_tolerance=solver_tolerance);"
   ]
  },
  {
   "cell_type": "code",
   "execution_count": null,
   "metadata": {},
   "outputs": [],
   "source": [
    "# now, evaluate the gp on new data\n",
    "new_phis = evecs[:,ev_indices]\n",
    "new_phis = new_phis[0:10000, :] * .95\n",
    "new_phis += (np.random.rand(new_phis.shape[0], new_phis.shape[1]) - .5) / 80000\n",
    "\n",
    "new_data = gp.evaluate(new_phis)\n",
    "\n",
    "print(new_data.shape)"
   ]
  },
  {
   "cell_type": "code",
   "execution_count": null,
   "metadata": {},
   "outputs": [],
   "source": [
    "fig = plt.figure(figsize=(10, 5))\n",
    "\n",
    "ax = fig.add_subplot(121)\n",
    "ax.scatter(new_phis[:, 0], new_phis[:, 1], s=.1, c='k')\n",
    "ax.scatter(evecs[plot_idx, 1], evecs[plot_idx, 5], s=1, c=color_nonlinear[plot_idx])\n",
    "ax.set_title(\"original and new dmap points\");\n",
    "\n",
    "ax = fig.add_subplot(122, projection='3d')\n",
    "ax.scatter(*new_data.T, s=1, c=color_nonlinear[0:new_data.shape[0]])\n",
    "ax.view_init(10, 70)\n",
    "ax.set_title(\"generated manifold\");"
   ]
  },
  {
   "cell_type": "markdown",
   "metadata": {},
   "source": [
    "# Gaussian Processes function sampling\n",
    "\n",
    "We can sample random functions on arbitrary point clouds, with specific smoothness properties (e.g., $C^\\infty$ or $W^{2,p}$).\n",
    "The properties are set by choosing a kernel."
   ]
  },
  {
   "cell_type": "code",
   "execution_count": null,
   "metadata": {},
   "outputs": [],
   "source": [
    "# use a simple line as a point cloud\n",
    "x = np.linspace(0, 1, 1000).reshape(-1, 1)\n",
    "\n",
    "# different scales means functions with different Dirichlet energies (i.e. \"more or less oscillatory\")\n",
    "scales = [0.01, 0.1, 1]\n",
    "n_functions = 10\n",
    "\n",
    "# choosing the gaussian kernel means all sampled functions are smooth, C^\\infty\n",
    "pcm = pfold.PCManifold(x, kernel=RadialBasisKernel(epsilon=1.0), dist_backend=\"brute\")  # set it to a relatively large value for very smooth functions\n",
    "\n",
    "fig, ax = plt.subplots(1, 3, figsize=(12, 4), sharey=True)\n",
    "\n",
    "for i in range(len(ax)):\n",
    "    # this is to align with previous results that have another definition of the RBF kernel (differnt length scale)\n",
    "    pcm.kernel.epsilon = 0.5 * scales[i]**2\n",
    "    f_new = dfold.PCMGPRegression.sample(pcm, n_functions=n_functions)\n",
    "    for k in range(f_new.shape[1]):\n",
    "        ax[i].plot(x, f_new[:, k], lw=.5)\n",
    "    ax[i].set_title(\"Kernel scale: %.2f\" % (pcm.kernel.epsilon ))\n",
    "\n",
    "# choosing the Ohrenstein-Uhlenbeck kernel means all sampled functions are no-where differentiable\n",
    "pcm.kernel = OUKernel(epsilon=1)\n",
    "\n",
    "fig, ax = plt.subplots(1, 3, figsize=(12, 4), sharey=True)\n",
    "\n",
    "for i in range(len(ax)):\n",
    "    pcm.kernel.epsilon = scales[i]\n",
    "    f_new = dfold.PCMGPRegression.sample(pcm, n_functions=n_functions)\n",
    "    for k in range(f_new.shape[1]):\n",
    "        ax[i].plot(x, f_new[:, k], lw=.5)\n",
    "    ax[i].set_title(\"Kernel scale: %.2f\" % scales[i])"
   ]
  },
  {
   "cell_type": "code",
   "execution_count": null,
   "metadata": {},
   "outputs": [],
   "source": []
  }
 ],
 "metadata": {
  "kernelspec": {
   "display_name": "Python 3",
   "language": "python",
   "name": "python3"
  },
  "language_info": {
   "codemirror_mode": {
    "name": "ipython",
    "version": 3
   },
   "file_extension": ".py",
   "mimetype": "text/x-python",
   "name": "python",
   "nbconvert_exporter": "python",
   "pygments_lexer": "ipython3",
   "version": "3.6.5"
  }
 },
 "nbformat": 4,
 "nbformat_minor": 2
}
